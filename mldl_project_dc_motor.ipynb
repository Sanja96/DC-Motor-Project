{
 "cells": [
  {
   "cell_type": "markdown",
   "metadata": {
    "colab_type": "text",
    "id": "04ZwfMal3QiD"
   },
   "source": [
    "# #MLDL19 Projekt\n",
    "\n",
    "## Clustering und Klassifikation dc_motor_data\n",
    "\n",
    "Ausarbeitung von Caroline Kayser, Andreas Mangold, Daniel Eberhardt und Alexander Wittmann\n",
    "\n",
    "#### *Inhaltsverzeichnis*\n",
    "0. Daten und Bibliotheken laden\n",
    "1. Data Exploration and Preparation\n",
    "    - Daten betrachten\n",
    "    - Deskriptive Statistik und Korrelationsmatrix\n",
    "    - Bereinigung von NULL Values und Duplikaten\n",
    "    - Visualisierung\n",
    "2. Feature Selection / Feature Engineering\n",
    "    - Aufteilung in Trainings- und Testset\n",
    "    - Normalisierung\n",
    "    - Outlier/Ausreißer entfernen\n",
    "    - Principal Component Analysis (Dimensionality Reduction)\n",
    "    - Chi²-Test (Feature Elimination)\n",
    "3. Clustering Verfahren\n",
    "    - KMeans Verfahren\n",
    "    - Hierarchisches Clustern\n",
    "4. Klassifikation\n",
    "    - 1 Nearest Neighbor\n",
    "    - k Nearest Neighbor\n",
    "    - Naive Bayes Classifier\n",
    "    - Desicion Tree\n",
    "        - Desicion Tree\n",
    "        - Random Forrest\n",
    "    - Support Vector Machines\n",
    "5. Artificial Neural Networks\n",
    "6. Auswertung und Bewertung der Classifier und Ergebnisse\n",
    "     "
   ]
  },
  {
   "cell_type": "markdown",
   "metadata": {
    "colab_type": "text",
    "id": "ucnyPM-p3QiE"
   },
   "source": [
    "### 0. Bibliotheken und Daten laden\n",
    "\n",
    "Zu Beginn des Projektes werden die wichtigsten Bibliotheken geladen, die benötigt werden, um die Daten zu laden und erste Schritte zu tätigen. Weitere Bibliotheken, die für einzele Aufgaben relevant sind, werden auch im weiteren Verlauf noch eingelesen.\n",
    "Hierfür wird der Standard Python Data Science Stack verwendet.\n",
    "\n",
    "Zudem wird bereits ein DataFrame initialisiert, welches später die Ergebnisse der Modelle beinhaltet."
   ]
  },
  {
   "cell_type": "code",
   "execution_count": 1,
   "metadata": {
    "colab": {},
    "colab_type": "code",
    "id": "2NiWIkzr3QiF"
   },
   "outputs": [],
   "source": [
    "#Import of libs\n",
    "import sys\n",
    "import numpy as np\n",
    "import pandas as pd\n",
    "import matplotlib.pyplot as plt\n",
    "import seaborn as sns\n",
    "from sklearn import preprocessing\n",
    "from sklearn.model_selection import train_test_split"
   ]
  },
  {
   "cell_type": "code",
   "execution_count": 2,
   "metadata": {
    "colab": {
     "base_uri": "https://localhost:8080/",
     "height": 51
    },
    "colab_type": "code",
    "id": "GhwQUSSC3QiI",
    "outputId": "0c58feae-2373-4a52-859d-6797cc950fed"
   },
   "outputs": [
    {
     "name": "stdout",
     "output_type": "stream",
     "text": [
      "Load Dataset into Pandas Dataframe....\n",
      "Dataset was succesfully loaded in \"df\"\n"
     ]
    }
   ],
   "source": [
    "#Import der Daten in ein Pandas Dataframe\n",
    "# Dieser baut auf Numpy Arrays auf und wird von den \n",
    "# gängigen ML Bibliotheken unterstützt.\n",
    "\n",
    "#Laden des Datensatzes aus einem csv-File in ein Pandas Dataframe\n",
    "\n",
    "print('Load Dataset into Pandas Dataframe....')\n",
    "try :\n",
    "    df = pd.read_csv('dc_motor_data.csv', delimiter=',')\n",
    "    print('Dataset was succesfully loaded in \"df\"')\n",
    "except:\n",
    "    print('Failure durring loading phase!')\n",
    "   "
   ]
  },
  {
   "cell_type": "markdown",
   "metadata": {
    "colab_type": "text",
    "id": "6Iy7gc9ono7j"
   },
   "source": [
    "#### Result vorbereiten (für die Auswertung)\n",
    "\n",
    "Hier wird ein DataFrame mit den später angegangenen Klassifikatoren als Index initialisiert."
   ]
  },
  {
   "cell_type": "code",
   "execution_count": 3,
   "metadata": {
    "colab": {
     "base_uri": "https://localhost:8080/",
     "height": 351
    },
    "colab_type": "code",
    "id": "rm-iHUrbno7j",
    "outputId": "4af22c7e-fa4c-4ee3-944b-812316be7940"
   },
   "outputs": [
    {
     "data": {
      "text/html": [
       "<div>\n",
       "<style scoped>\n",
       "    .dataframe tbody tr th:only-of-type {\n",
       "        vertical-align: middle;\n",
       "    }\n",
       "\n",
       "    .dataframe tbody tr th {\n",
       "        vertical-align: top;\n",
       "    }\n",
       "\n",
       "    .dataframe thead th {\n",
       "        text-align: right;\n",
       "    }\n",
       "</style>\n",
       "<table border=\"1\" class=\"dataframe\">\n",
       "  <thead>\n",
       "    <tr style=\"text-align: right;\">\n",
       "      <th></th>\n",
       "      <th>Runtime Training</th>\n",
       "      <th>Runtime Prediction</th>\n",
       "      <th>Score Trainings-Set</th>\n",
       "      <th>Score Test-Set</th>\n",
       "      <th>Runtime Training without Outliers</th>\n",
       "      <th>Runtime Prediction without Outliers</th>\n",
       "      <th>Score Trainings-Set without Outliers</th>\n",
       "      <th>Score Test-Set without Outliers</th>\n",
       "      <th>Runtime Training PCA Features</th>\n",
       "      <th>Runtime Prediction PCA Features</th>\n",
       "      <th>Score Trainings-Set PCA Features</th>\n",
       "      <th>Score Test-Set PCA Features</th>\n",
       "      <th>Runtime Training KBest Features</th>\n",
       "      <th>Runtime Prediction KBest Features</th>\n",
       "      <th>Score Trainings-Set KBest Features</th>\n",
       "      <th>Score Test-Set KBest Features</th>\n",
       "    </tr>\n",
       "  </thead>\n",
       "  <tbody>\n",
       "    <tr>\n",
       "      <th>1-NN</th>\n",
       "      <td>NaN</td>\n",
       "      <td>NaN</td>\n",
       "      <td>NaN</td>\n",
       "      <td>NaN</td>\n",
       "      <td>NaN</td>\n",
       "      <td>NaN</td>\n",
       "      <td>NaN</td>\n",
       "      <td>NaN</td>\n",
       "      <td>NaN</td>\n",
       "      <td>NaN</td>\n",
       "      <td>NaN</td>\n",
       "      <td>NaN</td>\n",
       "      <td>NaN</td>\n",
       "      <td>NaN</td>\n",
       "      <td>NaN</td>\n",
       "      <td>NaN</td>\n",
       "    </tr>\n",
       "    <tr>\n",
       "      <th>K-NN</th>\n",
       "      <td>NaN</td>\n",
       "      <td>NaN</td>\n",
       "      <td>NaN</td>\n",
       "      <td>NaN</td>\n",
       "      <td>NaN</td>\n",
       "      <td>NaN</td>\n",
       "      <td>NaN</td>\n",
       "      <td>NaN</td>\n",
       "      <td>NaN</td>\n",
       "      <td>NaN</td>\n",
       "      <td>NaN</td>\n",
       "      <td>NaN</td>\n",
       "      <td>NaN</td>\n",
       "      <td>NaN</td>\n",
       "      <td>NaN</td>\n",
       "      <td>NaN</td>\n",
       "    </tr>\n",
       "    <tr>\n",
       "      <th>Bayes</th>\n",
       "      <td>NaN</td>\n",
       "      <td>NaN</td>\n",
       "      <td>NaN</td>\n",
       "      <td>NaN</td>\n",
       "      <td>NaN</td>\n",
       "      <td>NaN</td>\n",
       "      <td>NaN</td>\n",
       "      <td>NaN</td>\n",
       "      <td>NaN</td>\n",
       "      <td>NaN</td>\n",
       "      <td>NaN</td>\n",
       "      <td>NaN</td>\n",
       "      <td>NaN</td>\n",
       "      <td>NaN</td>\n",
       "      <td>NaN</td>\n",
       "      <td>NaN</td>\n",
       "    </tr>\n",
       "    <tr>\n",
       "      <th>Decision Tree</th>\n",
       "      <td>NaN</td>\n",
       "      <td>NaN</td>\n",
       "      <td>NaN</td>\n",
       "      <td>NaN</td>\n",
       "      <td>NaN</td>\n",
       "      <td>NaN</td>\n",
       "      <td>NaN</td>\n",
       "      <td>NaN</td>\n",
       "      <td>NaN</td>\n",
       "      <td>NaN</td>\n",
       "      <td>NaN</td>\n",
       "      <td>NaN</td>\n",
       "      <td>NaN</td>\n",
       "      <td>NaN</td>\n",
       "      <td>NaN</td>\n",
       "      <td>NaN</td>\n",
       "    </tr>\n",
       "    <tr>\n",
       "      <th>Random Forrest</th>\n",
       "      <td>NaN</td>\n",
       "      <td>NaN</td>\n",
       "      <td>NaN</td>\n",
       "      <td>NaN</td>\n",
       "      <td>NaN</td>\n",
       "      <td>NaN</td>\n",
       "      <td>NaN</td>\n",
       "      <td>NaN</td>\n",
       "      <td>NaN</td>\n",
       "      <td>NaN</td>\n",
       "      <td>NaN</td>\n",
       "      <td>NaN</td>\n",
       "      <td>NaN</td>\n",
       "      <td>NaN</td>\n",
       "      <td>NaN</td>\n",
       "      <td>NaN</td>\n",
       "    </tr>\n",
       "    <tr>\n",
       "      <th>SVM</th>\n",
       "      <td>NaN</td>\n",
       "      <td>NaN</td>\n",
       "      <td>NaN</td>\n",
       "      <td>NaN</td>\n",
       "      <td>NaN</td>\n",
       "      <td>NaN</td>\n",
       "      <td>NaN</td>\n",
       "      <td>NaN</td>\n",
       "      <td>NaN</td>\n",
       "      <td>NaN</td>\n",
       "      <td>NaN</td>\n",
       "      <td>NaN</td>\n",
       "      <td>NaN</td>\n",
       "      <td>NaN</td>\n",
       "      <td>NaN</td>\n",
       "      <td>NaN</td>\n",
       "    </tr>\n",
       "    <tr>\n",
       "      <th>ANN</th>\n",
       "      <td>NaN</td>\n",
       "      <td>NaN</td>\n",
       "      <td>NaN</td>\n",
       "      <td>NaN</td>\n",
       "      <td>NaN</td>\n",
       "      <td>NaN</td>\n",
       "      <td>NaN</td>\n",
       "      <td>NaN</td>\n",
       "      <td>NaN</td>\n",
       "      <td>NaN</td>\n",
       "      <td>NaN</td>\n",
       "      <td>NaN</td>\n",
       "      <td>NaN</td>\n",
       "      <td>NaN</td>\n",
       "      <td>NaN</td>\n",
       "      <td>NaN</td>\n",
       "    </tr>\n",
       "  </tbody>\n",
       "</table>\n",
       "</div>"
      ],
      "text/plain": [
       "               Runtime Training Runtime Prediction Score Trainings-Set  \\\n",
       "1-NN                        NaN                NaN                 NaN   \n",
       "K-NN                        NaN                NaN                 NaN   \n",
       "Bayes                       NaN                NaN                 NaN   \n",
       "Decision Tree               NaN                NaN                 NaN   \n",
       "Random Forrest              NaN                NaN                 NaN   \n",
       "SVM                         NaN                NaN                 NaN   \n",
       "ANN                         NaN                NaN                 NaN   \n",
       "\n",
       "               Score Test-Set Runtime Training without Outliers  \\\n",
       "1-NN                      NaN                               NaN   \n",
       "K-NN                      NaN                               NaN   \n",
       "Bayes                     NaN                               NaN   \n",
       "Decision Tree             NaN                               NaN   \n",
       "Random Forrest            NaN                               NaN   \n",
       "SVM                       NaN                               NaN   \n",
       "ANN                       NaN                               NaN   \n",
       "\n",
       "               Runtime Prediction without Outliers  \\\n",
       "1-NN                                           NaN   \n",
       "K-NN                                           NaN   \n",
       "Bayes                                          NaN   \n",
       "Decision Tree                                  NaN   \n",
       "Random Forrest                                 NaN   \n",
       "SVM                                            NaN   \n",
       "ANN                                            NaN   \n",
       "\n",
       "               Score Trainings-Set without Outliers  \\\n",
       "1-NN                                            NaN   \n",
       "K-NN                                            NaN   \n",
       "Bayes                                           NaN   \n",
       "Decision Tree                                   NaN   \n",
       "Random Forrest                                  NaN   \n",
       "SVM                                             NaN   \n",
       "ANN                                             NaN   \n",
       "\n",
       "               Score Test-Set without Outliers Runtime Training PCA Features  \\\n",
       "1-NN                                       NaN                           NaN   \n",
       "K-NN                                       NaN                           NaN   \n",
       "Bayes                                      NaN                           NaN   \n",
       "Decision Tree                              NaN                           NaN   \n",
       "Random Forrest                             NaN                           NaN   \n",
       "SVM                                        NaN                           NaN   \n",
       "ANN                                        NaN                           NaN   \n",
       "\n",
       "               Runtime Prediction PCA Features  \\\n",
       "1-NN                                       NaN   \n",
       "K-NN                                       NaN   \n",
       "Bayes                                      NaN   \n",
       "Decision Tree                              NaN   \n",
       "Random Forrest                             NaN   \n",
       "SVM                                        NaN   \n",
       "ANN                                        NaN   \n",
       "\n",
       "               Score Trainings-Set PCA Features Score Test-Set PCA Features  \\\n",
       "1-NN                                        NaN                         NaN   \n",
       "K-NN                                        NaN                         NaN   \n",
       "Bayes                                       NaN                         NaN   \n",
       "Decision Tree                               NaN                         NaN   \n",
       "Random Forrest                              NaN                         NaN   \n",
       "SVM                                         NaN                         NaN   \n",
       "ANN                                         NaN                         NaN   \n",
       "\n",
       "               Runtime Training KBest Features  \\\n",
       "1-NN                                       NaN   \n",
       "K-NN                                       NaN   \n",
       "Bayes                                      NaN   \n",
       "Decision Tree                              NaN   \n",
       "Random Forrest                             NaN   \n",
       "SVM                                        NaN   \n",
       "ANN                                        NaN   \n",
       "\n",
       "               Runtime Prediction KBest Features  \\\n",
       "1-NN                                         NaN   \n",
       "K-NN                                         NaN   \n",
       "Bayes                                        NaN   \n",
       "Decision Tree                                NaN   \n",
       "Random Forrest                               NaN   \n",
       "SVM                                          NaN   \n",
       "ANN                                          NaN   \n",
       "\n",
       "               Score Trainings-Set KBest Features  \\\n",
       "1-NN                                          NaN   \n",
       "K-NN                                          NaN   \n",
       "Bayes                                         NaN   \n",
       "Decision Tree                                 NaN   \n",
       "Random Forrest                                NaN   \n",
       "SVM                                           NaN   \n",
       "ANN                                           NaN   \n",
       "\n",
       "               Score Test-Set KBest Features  \n",
       "1-NN                                     NaN  \n",
       "K-NN                                     NaN  \n",
       "Bayes                                    NaN  \n",
       "Decision Tree                            NaN  \n",
       "Random Forrest                           NaN  \n",
       "SVM                                      NaN  \n",
       "ANN                                      NaN  "
      ]
     },
     "execution_count": 3,
     "metadata": {},
     "output_type": "execute_result"
    }
   ],
   "source": [
    "# Initialisierung der Results\n",
    "results = pd.DataFrame(columns=[\n",
    "    \"Runtime Training\",\n",
    "    \"Runtime Prediction\",\n",
    "    \"Score Trainings-Set\",\n",
    "    \"Score Test-Set\",\n",
    "    \"Runtime Training without Outliers\",\n",
    "    \"Runtime Prediction without Outliers\",\n",
    "    \"Score Trainings-Set without Outliers\",\n",
    "    \"Score Test-Set without Outliers\",\n",
    "    \"Runtime Training PCA Features\",\n",
    "    \"Runtime Prediction PCA Features\",\n",
    "    \"Score Trainings-Set PCA Features\",\"Score Test-Set PCA Features\",\n",
    "    \"Runtime Training KBest Features\",\n",
    "    \"Runtime Prediction KBest Features\",\n",
    "    \"Score Trainings-Set KBest Features\",\"Score Test-Set KBest Features\"],\n",
    "    index= [\"1-NN\", \"K-NN\", \"Bayes\", \"Decision Tree\",\"Random Forrest\", \"SVM\", \"ANN\"])\n",
    "\n",
    "results"
   ]
  },
  {
   "cell_type": "markdown",
   "metadata": {
    "colab_type": "text",
    "id": "e2g8tTJL3QiL"
   },
   "source": [
    "### 1 Data Exploration und Preparation\n",
    "\n",
    "#### 1.1 Daten betrachten\n",
    "\n",
    "*Know Your Data*\n",
    "\n",
    "Bevor Machine Learning Algorithmen auf die Daten angewandt werden können, ist es wichtig die Daten zu verstehen. Hierfür eignen sich u.a. Methoden der deskriptiven Statistik, da dadurch bereits Auffälligkeiten betrachtet werden können. Diese Auffälligkeiten und Ergebnisse sind wichtig, um später die Ergebnisse besser zu verstehen und die Daten entsprechend aufbereiten zu können."
   ]
  },
  {
   "cell_type": "code",
   "execution_count": 4,
   "metadata": {
    "colab": {
     "base_uri": "https://localhost:8080/",
     "height": 326
    },
    "colab_type": "code",
    "id": "xv0ks0-g3QiL",
    "outputId": "397f0d1d-ff49-43cd-9b39-b12c8ef8c61d"
   },
   "outputs": [
    {
     "name": "stdout",
     "output_type": "stream",
     "text": [
      "Return the first 5 Feature Vectors\n"
     ]
    },
    {
     "data": {
      "text/html": [
       "<div>\n",
       "<style scoped>\n",
       "    .dataframe tbody tr th:only-of-type {\n",
       "        vertical-align: middle;\n",
       "    }\n",
       "\n",
       "    .dataframe tbody tr th {\n",
       "        vertical-align: top;\n",
       "    }\n",
       "\n",
       "    .dataframe thead th {\n",
       "        text-align: right;\n",
       "    }\n",
       "</style>\n",
       "<table border=\"1\" class=\"dataframe\">\n",
       "  <thead>\n",
       "    <tr style=\"text-align: right;\">\n",
       "      <th></th>\n",
       "      <th>V1</th>\n",
       "      <th>V2</th>\n",
       "      <th>V3</th>\n",
       "      <th>V4</th>\n",
       "      <th>V5</th>\n",
       "      <th>V6</th>\n",
       "      <th>V7</th>\n",
       "      <th>V8</th>\n",
       "      <th>V9</th>\n",
       "      <th>V10</th>\n",
       "      <th>...</th>\n",
       "      <th>V40</th>\n",
       "      <th>V41</th>\n",
       "      <th>V42</th>\n",
       "      <th>V43</th>\n",
       "      <th>V44</th>\n",
       "      <th>V45</th>\n",
       "      <th>V46</th>\n",
       "      <th>V47</th>\n",
       "      <th>V48</th>\n",
       "      <th>class</th>\n",
       "    </tr>\n",
       "  </thead>\n",
       "  <tbody>\n",
       "    <tr>\n",
       "      <th>0</th>\n",
       "      <td>2.913200e-06</td>\n",
       "      <td>-5.247700e-06</td>\n",
       "      <td>0.000003</td>\n",
       "      <td>-6.056100e-06</td>\n",
       "      <td>2.778900e-06</td>\n",
       "      <td>-3.752400e-06</td>\n",
       "      <td>0.030804</td>\n",
       "      <td>0.030810</td>\n",
       "      <td>0.030806</td>\n",
       "      <td>-0.033520</td>\n",
       "      <td>...</td>\n",
       "      <td>-0.59314</td>\n",
       "      <td>7.6252</td>\n",
       "      <td>6.1690</td>\n",
       "      <td>-1.4967</td>\n",
       "      <td>-1.4967</td>\n",
       "      <td>-1.4967</td>\n",
       "      <td>-1.5005</td>\n",
       "      <td>-1.5005</td>\n",
       "      <td>-1.5005</td>\n",
       "      <td>1</td>\n",
       "    </tr>\n",
       "    <tr>\n",
       "      <th>1</th>\n",
       "      <td>-9.584900e-07</td>\n",
       "      <td>5.214300e-08</td>\n",
       "      <td>-0.000047</td>\n",
       "      <td>6.453700e-07</td>\n",
       "      <td>-2.304100e-06</td>\n",
       "      <td>5.499900e-05</td>\n",
       "      <td>0.031154</td>\n",
       "      <td>0.031154</td>\n",
       "      <td>0.031201</td>\n",
       "      <td>-0.032789</td>\n",
       "      <td>...</td>\n",
       "      <td>-0.61124</td>\n",
       "      <td>5.8337</td>\n",
       "      <td>18.6970</td>\n",
       "      <td>-1.4956</td>\n",
       "      <td>-1.4956</td>\n",
       "      <td>-1.4956</td>\n",
       "      <td>-1.4973</td>\n",
       "      <td>-1.4972</td>\n",
       "      <td>-1.4973</td>\n",
       "      <td>1</td>\n",
       "    </tr>\n",
       "    <tr>\n",
       "      <th>2</th>\n",
       "      <td>-2.566600e-06</td>\n",
       "      <td>-1.679500e-07</td>\n",
       "      <td>0.000015</td>\n",
       "      <td>-1.598400e-06</td>\n",
       "      <td>8.709200e-07</td>\n",
       "      <td>1.496100e-05</td>\n",
       "      <td>0.031071</td>\n",
       "      <td>0.031071</td>\n",
       "      <td>0.031056</td>\n",
       "      <td>-0.029695</td>\n",
       "      <td>...</td>\n",
       "      <td>-0.63618</td>\n",
       "      <td>12.8380</td>\n",
       "      <td>4.9079</td>\n",
       "      <td>-1.4990</td>\n",
       "      <td>-1.4990</td>\n",
       "      <td>-1.4990</td>\n",
       "      <td>-1.4968</td>\n",
       "      <td>-1.4968</td>\n",
       "      <td>-1.4968</td>\n",
       "      <td>1</td>\n",
       "    </tr>\n",
       "    <tr>\n",
       "      <th>3</th>\n",
       "      <td>2.825600e-06</td>\n",
       "      <td>6.067600e-06</td>\n",
       "      <td>0.000118</td>\n",
       "      <td>-4.347500e-06</td>\n",
       "      <td>1.492300e-06</td>\n",
       "      <td>-2.917100e-06</td>\n",
       "      <td>0.030947</td>\n",
       "      <td>0.030941</td>\n",
       "      <td>0.030823</td>\n",
       "      <td>-0.032171</td>\n",
       "      <td>...</td>\n",
       "      <td>-0.58170</td>\n",
       "      <td>2.0511</td>\n",
       "      <td>8.8939</td>\n",
       "      <td>-1.4963</td>\n",
       "      <td>-1.4963</td>\n",
       "      <td>-1.4963</td>\n",
       "      <td>-1.4943</td>\n",
       "      <td>-1.4943</td>\n",
       "      <td>-1.4943</td>\n",
       "      <td>1</td>\n",
       "    </tr>\n",
       "    <tr>\n",
       "      <th>4</th>\n",
       "      <td>-6.573800e-07</td>\n",
       "      <td>-3.951900e-07</td>\n",
       "      <td>0.000032</td>\n",
       "      <td>-5.296100e-06</td>\n",
       "      <td>-1.605800e-06</td>\n",
       "      <td>7.566000e-07</td>\n",
       "      <td>0.029416</td>\n",
       "      <td>0.029416</td>\n",
       "      <td>0.029385</td>\n",
       "      <td>-0.028420</td>\n",
       "      <td>...</td>\n",
       "      <td>-0.59578</td>\n",
       "      <td>5.3394</td>\n",
       "      <td>13.3550</td>\n",
       "      <td>-1.4984</td>\n",
       "      <td>-1.4984</td>\n",
       "      <td>-1.4984</td>\n",
       "      <td>-1.4970</td>\n",
       "      <td>-1.4970</td>\n",
       "      <td>-1.4970</td>\n",
       "      <td>1</td>\n",
       "    </tr>\n",
       "  </tbody>\n",
       "</table>\n",
       "<p>5 rows × 49 columns</p>\n",
       "</div>"
      ],
      "text/plain": [
       "             V1            V2        V3            V4            V5  \\\n",
       "0  2.913200e-06 -5.247700e-06  0.000003 -6.056100e-06  2.778900e-06   \n",
       "1 -9.584900e-07  5.214300e-08 -0.000047  6.453700e-07 -2.304100e-06   \n",
       "2 -2.566600e-06 -1.679500e-07  0.000015 -1.598400e-06  8.709200e-07   \n",
       "3  2.825600e-06  6.067600e-06  0.000118 -4.347500e-06  1.492300e-06   \n",
       "4 -6.573800e-07 -3.951900e-07  0.000032 -5.296100e-06 -1.605800e-06   \n",
       "\n",
       "             V6        V7        V8        V9       V10  ...        V40  \\\n",
       "0 -3.752400e-06  0.030804  0.030810  0.030806 -0.033520  ...   -0.59314   \n",
       "1  5.499900e-05  0.031154  0.031154  0.031201 -0.032789  ...   -0.61124   \n",
       "2  1.496100e-05  0.031071  0.031071  0.031056 -0.029695  ...   -0.63618   \n",
       "3 -2.917100e-06  0.030947  0.030941  0.030823 -0.032171  ...   -0.58170   \n",
       "4  7.566000e-07  0.029416  0.029416  0.029385 -0.028420  ...   -0.59578   \n",
       "\n",
       "       V41      V42     V43     V44     V45     V46     V47     V48  class  \n",
       "0   7.6252   6.1690 -1.4967 -1.4967 -1.4967 -1.5005 -1.5005 -1.5005      1  \n",
       "1   5.8337  18.6970 -1.4956 -1.4956 -1.4956 -1.4973 -1.4972 -1.4973      1  \n",
       "2  12.8380   4.9079 -1.4990 -1.4990 -1.4990 -1.4968 -1.4968 -1.4968      1  \n",
       "3   2.0511   8.8939 -1.4963 -1.4963 -1.4963 -1.4943 -1.4943 -1.4943      1  \n",
       "4   5.3394  13.3550 -1.4984 -1.4984 -1.4984 -1.4970 -1.4970 -1.4970      1  \n",
       "\n",
       "[5 rows x 49 columns]"
      ]
     },
     "execution_count": 4,
     "metadata": {},
     "output_type": "execute_result"
    }
   ],
   "source": [
    "#Datensatz mit der function head() ansehen. Gibt die ersten 5 feature vectors zurück und die Feature-Namen\n",
    "print('Return the first 5 Feature Vectors')\n",
    "df.head()"
   ]
  },
  {
   "cell_type": "code",
   "execution_count": 5,
   "metadata": {
    "colab": {
     "base_uri": "https://localhost:8080/",
     "height": 136
    },
    "colab_type": "code",
    "id": "yz7U5sCY3QiO",
    "outputId": "b99623b1-7a8f-4614-d322-376d9f178fac"
   },
   "outputs": [
    {
     "name": "stdout",
     "output_type": "stream",
     "text": [
      "All available Features:\n"
     ]
    },
    {
     "data": {
      "text/plain": [
       "Index(['V1', 'V2', 'V3', 'V4', 'V5', 'V6', 'V7', 'V8', 'V9', 'V10', 'V11',\n",
       "       'V12', 'V13', 'V14', 'V15', 'V16', 'V17', 'V18', 'V19', 'V20', 'V21',\n",
       "       'V22', 'V23', 'V24', 'V25', 'V26', 'V27', 'V28', 'V29', 'V30', 'V31',\n",
       "       'V32', 'V33', 'V34', 'V35', 'V36', 'V37', 'V38', 'V39', 'V40', 'V41',\n",
       "       'V42', 'V43', 'V44', 'V45', 'V46', 'V47', 'V48', 'class'],\n",
       "      dtype='object')"
      ]
     },
     "execution_count": 5,
     "metadata": {},
     "output_type": "execute_result"
    }
   ],
   "source": [
    "#Ausgabe aller Features in einem Index Object\n",
    "print('All available Features:')\n",
    "df.columns"
   ]
  },
  {
   "cell_type": "code",
   "execution_count": 6,
   "metadata": {
    "colab": {
     "base_uri": "https://localhost:8080/",
     "height": 34
    },
    "colab_type": "code",
    "id": "sx3LJzPe3QiQ",
    "outputId": "13a661bf-89f5-4e9e-86b9-b0e328a51334"
   },
   "outputs": [
    {
     "name": "stdout",
     "output_type": "stream",
     "text": [
      "The dataset contains 49 Features and 29255 Feature Vectors\n"
     ]
    }
   ],
   "source": [
    "#Größe und Struktur des Dataframes über shape erkunden\n",
    "#Ausgabe der Anzahl von Feature Vectors und Features\n",
    "shape = df.shape\n",
    "print(\"The dataset contains {0} Features and {1} Feature Vectors\".format(shape[1],shape[0]))"
   ]
  },
  {
   "cell_type": "code",
   "execution_count": 7,
   "metadata": {
    "colab": {
     "base_uri": "https://localhost:8080/",
     "height": 1000
    },
    "colab_type": "code",
    "id": "XKVJSHIT3QiT",
    "outputId": "bc5f6914-bc0e-4f39-d030-977a010a42da"
   },
   "outputs": [
    {
     "name": "stdout",
     "output_type": "stream",
     "text": [
      "\n",
      "Standard Information about the dataset and the data types of the features.\n",
      "\n",
      "<class 'pandas.core.frame.DataFrame'>\n",
      "RangeIndex: 29255 entries, 0 to 29254\n",
      "Data columns (total 49 columns):\n",
      "V1       29255 non-null float64\n",
      "V2       29255 non-null float64\n",
      "V3       29255 non-null float64\n",
      "V4       29255 non-null float64\n",
      "V5       29255 non-null float64\n",
      "V6       29255 non-null float64\n",
      "V7       29255 non-null float64\n",
      "V8       29255 non-null float64\n",
      "V9       29255 non-null float64\n",
      "V10      29255 non-null float64\n",
      "V11      29255 non-null float64\n",
      "V12      29255 non-null float64\n",
      "V13      29255 non-null float64\n",
      "V14      29255 non-null float64\n",
      "V15      29255 non-null float64\n",
      "V16      29255 non-null float64\n",
      "V17      29255 non-null float64\n",
      "V18      29255 non-null float64\n",
      "V19      29255 non-null float64\n",
      "V20      29255 non-null float64\n",
      "V21      29255 non-null float64\n",
      "V22      29255 non-null float64\n",
      "V23      29255 non-null float64\n",
      "V24      29255 non-null float64\n",
      "V25      29255 non-null float64\n",
      "V26      29255 non-null float64\n",
      "V27      29255 non-null float64\n",
      "V28      29255 non-null float64\n",
      "V29      29255 non-null float64\n",
      "V30      29255 non-null float64\n",
      "V31      29255 non-null float64\n",
      "V32      29255 non-null float64\n",
      "V33      29255 non-null float64\n",
      "V34      29255 non-null float64\n",
      "V35      29255 non-null float64\n",
      "V36      29255 non-null float64\n",
      "V37      29255 non-null float64\n",
      "V38      29255 non-null float64\n",
      "V39      29255 non-null float64\n",
      "V40      29255 non-null float64\n",
      "V41      29255 non-null float64\n",
      "V42      29255 non-null float64\n",
      "V43      29255 non-null float64\n",
      "V44      29255 non-null float64\n",
      "V45      29255 non-null float64\n",
      "V46      29255 non-null float64\n",
      "V47      29255 non-null float64\n",
      "V48      29255 non-null float64\n",
      "class    29255 non-null int64\n",
      "dtypes: float64(48), int64(1)\n",
      "memory usage: 10.9 MB\n",
      "None\n"
     ]
    }
   ],
   "source": [
    "#Infos über das Data Frame auslesen. Vor allem Datentypen ermitteln\n",
    "print(\"\"\"\n",
    "Standard Information about the dataset and the data types of the features.\n",
    "\"\"\")\n",
    "print(df.info())"
   ]
  },
  {
   "cell_type": "markdown",
   "metadata": {
    "colab_type": "text",
    "id": "-5_wfZ0j3QiV"
   },
   "source": [
    "#### 1.2 Deskriptive Statistik\n",
    "\n",
    "Berechnung und Darstellung von diversen Statisitischen Messgrößen, um den Datensatz / die Features besser einschätzen zu können.\n",
    "Die Ergebnisse werden auch in einer separaten Datei gesichert."
   ]
  },
  {
   "cell_type": "code",
   "execution_count": 8,
   "metadata": {
    "colab": {
     "base_uri": "https://localhost:8080/",
     "height": 867
    },
    "colab_type": "code",
    "id": "JXKjpwSU3QiW",
    "outputId": "a17a98ad-8fb4-461a-82bc-2231bbb435c5"
   },
   "outputs": [
    {
     "name": "stdout",
     "output_type": "stream",
     "text": [
      "Ranges of Values in the Feature Vectors\n",
      "V1 : values in range from -0.0085477 till 0.005783600000000001. Mean: -3.109736869290385e-06. Standard deviation 6.118180444424403e-05\n",
      "V2 : values in range from -0.0054144 till 0.0045253. Mean: 1.4523883623975248e-06. Standard deviation 5.872839437949977e-05\n",
      "V3 : values in range from -0.0060557 till 0.0033304000000000003. Mean: 1.1824358711533177e-06. Standard deviation 0.00022774107314962872\n",
      "V4 : values in range from -0.012787 till 0.0014531. Mean: -1.6536181392541433e-06. Standard deviation 8.789335238475313e-05\n",
      "V5 : values in range from -0.0083559 till 0.00082451. Mean: 1.2819713858109966e-06. Standard deviation 6.828195086704047e-05\n",
      "V6 : values in range from -0.0097413 till 0.0027535999999999997. Mean: -9.390808433429867e-07. Standard deviation 0.00023335416458202513\n",
      "V7 : values in range from -0.13063 till 0.06851499999999999. Mean: 0.0017744121312664475. Standard deviation 0.036424564868514225\n",
      "V8 : values in range from -0.13055999999999998 till 0.06851499999999999. Mean: 0.0017729619130371014. Standard deviation 0.036422664752041756\n",
      "V9 : values in range from -0.13062 till 0.068509. Mean: 0.0017717793094069257. Standard deviation 0.03642750327236872\n",
      "V10 : values in range from -0.21864 till 0.16435. Mean: -0.012276192685106798. Standard deviation 0.06656705021567562\n",
      "V11 : values in range from -0.2186 till 0.16824. Mean: -0.012277471461059978. Standard deviation 0.06656443886033725\n",
      "V12 : values in range from -0.21863000000000002 till 0.16548. Mean: -0.012276543121138211. Standard deviation 0.06656074228492789\n",
      "V13 : values in range from 0.00075105 till 0.07104400000000001. Mean: 0.0018788915276021353. Standard deviation 0.0009204913153136433\n",
      "V14 : values in range from 0.00018844 till 0.045704. Mean: 0.0010850807308152473. Standard deviation 0.0006581950422357209\n",
      "V15 : values in range from 0.00037129 till 0.045633. Mean: 0.0030928857244915103. Standard deviation 0.002111243817533187\n",
      "V16 : values in range from 0.00074652 till 0.10877. Mean: 0.0018716877371389423. Standard deviation 0.0010794195552534548\n",
      "V17 : values in range from 0.0001889 till 0.064764. Mean: 0.0010809397593573797. Standard deviation 0.0007050339141752608\n",
      "V18 : values in range from 0.00035701 till 0.07852999999999999. Mean: 0.0030780359073662535. Standard deviation 0.002146649272411833\n",
      "V19 : values in range from 0.79938 till 2.377. Mean: 1.6195013054178815. Standard deviation 0.4001439459668967\n",
      "V20 : values in range from 0.79938 till 2.3769. Mean: 1.6194404300119756. Standard deviation 0.40011638401351174\n",
      "V21 : values in range from 0.7994 till 2.3758. Mean: 1.6189700546915198. Standard deviation 0.3999678947011946\n",
      "V22 : values in range from 0.80145 till 2.3728. Mean: 1.6189788313108855. Standard deviation 0.39854766947436127\n",
      "V23 : values in range from 0.8014399999999999 till 2.3726. Mean: 1.6189210387967858. Standard deviation 0.39852141832423493\n",
      "V24 : values in range from 0.80142 till 2.3715. Mean: 1.618453845154672. Standard deviation 0.3983630003441667\n",
      "V25 : values in range from -15.796 till 28.285. Mean: 0.0024962586989495834. Standard deviation 0.21735220437309732\n",
      "V26 : values in range from -11.7 till 12.437000000000001. Mean: 0.009322962393334367. Standard deviation 0.7694543181970142\n",
      "V27 : values in range from -7.959 till 7.7066. Mean: 0.00012161015141000431. Standard deviation 0.8709703868957523\n",
      "V28 : values in range from -11.902999999999999 till 18.294. Mean: -0.0003547293480027314. Standard deviation 0.17718067320489647\n",
      "V29 : values in range from -12.508 till 10.977. Mean: 0.0167918168287814. Standard deviation 0.7532790886883742\n",
      "V30 : values in range from -9.9766 till 7.977. Mean: -0.009740334079651415. Standard deviation 0.8579259877952282\n",
      "V31 : values in range from -0.050235 till 0.086378. Mean: -4.4098922227895996e-05. Standard deviation 0.0078053473190908265\n",
      "V32 : values in range from -0.051891 till 0.086457. Mean: -4.6268366478555136e-05. Standard deviation 0.007800077654263828\n",
      "V33 : values in range from -0.052791 till 0.08655299999999999. Mean: -4.222765833088373e-05. Standard deviation 0.007799782232841037\n",
      "V34 : values in range from -0.080952 till 0.19482. Mean: -4.812748730233667e-05. Standard deviation 0.009824318899923978\n",
      "V35 : values in range from -0.086004 till 0.1902. Mean: -5.178430062040242e-05. Standard deviation 0.009813810613292305\n",
      "V36 : values in range from -0.081447 till 0.18503. Mean: -4.540895987352912e-05. Standard deviation 0.009802949239190749\n",
      "V37 : values in range from -0.9123 till 1949.4. Mean: -0.48627113085284396. Standard deviation 14.44972617045606\n",
      "V38 : values in range from -0.58123 till 312.52. Mean: 7.417750319539158. Standard deviation 12.113144335038774\n",
      "V39 : values in range from 0.60701 till 265.33. Mean: 8.394804434113723. Standard deviation 6.9556599788101945\n",
      "V40 : values in range from -0.8909999999999999 till 3126.1. Mean: -0.4821022371560378. Standard deviation 18.90221136456449\n",
      "V41 : values in range from -0.59683 till 219.26. Mean: 7.2333593776534295. Standard deviation 11.752694169145418\n",
      "V42 : values in range from 0.60614 till 106.14. Mean: 8.265587677661912. Standard deviation 6.51871398271863\n",
      "V43 : values in range from -1.5255 till -1.4576. Mean: -1.5009080293966883. Standard deviation 0.003680837463408887\n",
      "V44 : values in range from -1.5262 till -1.4561. Mean: -1.5009318851478406. Standard deviation 0.0036891041210997096\n",
      "V45 : values in range from -1.5237 till -1.4555. Mean: -1.5008249598359211. Standard deviation 0.0036489533677250903\n",
      "V46 : values in range from -1.5199 till -1.4489. Mean: -1.4977460639207196. Standard deviation 0.003112613823415345\n",
      "V47 : values in range from -1.52 till -1.4515. Mean: -1.4977685113656043. Standard deviation 0.003111796466664812\n",
      "V48 : values in range from -1.5195 till -1.4471. Mean: -1.4976606050248047. Standard deviation 0.0031253581857542644\n",
      "class : values in range from 1 till 11. Mean: 6.015347803794223. Standard deviation 3.16391009590455\n"
     ]
    }
   ],
   "source": [
    "#Berechnung der Ranges für jedes Feature und den Mittelwert.\n",
    "#Könnte Hinweis auf Outliers etc. geben\n",
    "print(\"Ranges of Values in the Feature Vectors\")\n",
    "for feat in df.columns:\n",
    "    print(feat,': values in range from {0} till {1}. Mean: {2}. Standard deviation {3}'.format(df[feat].min(),df[feat].max(),df[feat].mean(),df[feat].std()))"
   ]
  },
  {
   "cell_type": "code",
   "execution_count": 9,
   "metadata": {
    "colab": {
     "base_uri": "https://localhost:8080/",
     "height": 221
    },
    "colab_type": "code",
    "id": "-rJcqgBk3QiY",
    "outputId": "ac80743e-e590-4610-80ae-64b7caa618bd"
   },
   "outputs": [
    {
     "name": "stdout",
     "output_type": "stream",
     "text": [
      "Basic descriptive statistic:\n",
      "                 V1            V2            V3            V4            V5  \\\n",
      "count  29255.000000  2.925500e+04  2.925500e+04  29255.000000  2.925500e+04   \n",
      "mean      -0.000003  1.452388e-06  1.182436e-06     -0.000002  1.281971e-06   \n",
      "std        0.000061  5.872839e-05  2.277411e-04      0.000088  6.828195e-05   \n",
      "min       -0.008548 -5.414400e-03 -6.055700e-03     -0.012787 -8.355900e-03   \n",
      "25%       -0.000007 -1.450950e-05 -7.369750e-05     -0.000005 -1.476350e-05   \n",
      "50%       -0.000003  8.100600e-07  7.743100e-07     -0.000001  9.111200e-07   \n",
      "75%        0.000002  1.890750e-05  7.569250e-05      0.000004  1.934700e-05   \n",
      "max        0.005784  4.525300e-03  3.330400e-03      0.001453  8.245100e-04   \n",
      "\n",
      "                 V6            V7            V8            V9           V10  \\\n",
      "count  2.925500e+04  29255.000000  29255.000000  29255.000000  29255.000000   \n",
      "mean  -9.390808e-07      0.001774      0.001773      0.001772     -0.012276   \n",
      "std    2.333542e-04      0.036425      0.036423      0.036428      0.066567   \n",
      "min   -9.741300e-03     -0.130630     -0.130560     -0.130620     -0.218640   \n",
      "25%   -7.475650e-05     -0.020205     -0.020220     -0.020179     -0.032074   \n",
      "50%    1.478800e-07      0.013157      0.013168      0.013179     -0.015648   \n",
      "75%    7.159350e-05      0.024576      0.024576      0.024602      0.020342   \n",
      "max    2.753600e-03      0.068515      0.068515      0.068509      0.164350   \n",
      "\n",
      "           ...                V40           V41           V42           V43  \\\n",
      "count      ...       29255.000000  29255.000000  29255.000000  29255.000000   \n",
      "mean       ...          -0.482102      7.233359      8.265588     -1.500908   \n",
      "std        ...          18.902211     11.752694      6.518714      0.003681   \n",
      "min        ...          -0.891000     -0.596830      0.606140     -1.525500   \n",
      "25%        ...          -0.715280      1.458650      4.437200     -1.503400   \n",
      "50%        ...          -0.661390      3.308200      6.461400     -1.500300   \n",
      "75%        ...          -0.575050      8.320550      9.854150     -1.498200   \n",
      "max        ...        3126.100000    219.260000    106.140000     -1.457600   \n",
      "\n",
      "                V44           V45           V46           V47           V48  \\\n",
      "count  29255.000000  29255.000000  29255.000000  29255.000000  29255.000000   \n",
      "mean      -1.500932     -1.500825     -1.497746     -1.497769     -1.497661   \n",
      "std        0.003689      0.003649      0.003113      0.003112      0.003125   \n",
      "min       -1.526200     -1.523700     -1.519900     -1.520000     -1.519500   \n",
      "25%       -1.503400     -1.503200     -1.499600     -1.499600     -1.499500   \n",
      "50%       -1.500400     -1.500300     -1.498100     -1.498100     -1.498000   \n",
      "75%       -1.498300     -1.498200     -1.496200     -1.496200     -1.496100   \n",
      "max       -1.456100     -1.455500     -1.448900     -1.451500     -1.447100   \n",
      "\n",
      "              class  \n",
      "count  29255.000000  \n",
      "mean       6.015348  \n",
      "std        3.163910  \n",
      "min        1.000000  \n",
      "25%        3.000000  \n",
      "50%        6.000000  \n",
      "75%        9.000000  \n",
      "max       11.000000  \n",
      "\n",
      "[8 rows x 49 columns]\n"
     ]
    }
   ],
   "source": [
    "print('Basic descriptive statistic:')\n",
    "print(df.describe())"
   ]
  },
  {
   "cell_type": "code",
   "execution_count": 10,
   "metadata": {
    "colab": {},
    "colab_type": "code",
    "id": "-GlvvmUA3Qic"
   },
   "outputs": [],
   "source": [
    "#Manuelle Berechnung von weiteren Messgrößen für jedes Feature\n",
    "#Die Ergebnisse werden in einem csv File gespeichert und sind\n",
    "#für weitere Zwecke wiederverwendbar.\n",
    "#Datei einlesen\n",
    "with open('dc_motor_data.csv') as input_file:\n",
    "    line = input_file.readline()\n",
    "    line = input_file.readline()\n",
    "    list_data = [] \n",
    "    list_label = []\n",
    "    while line:\n",
    "        \n",
    "        list_Datensatz = line.split(',')\n",
    "        list_floats = []\n",
    "        \n",
    "        for i in list_Datensatz:\n",
    "            i = float(i)\n",
    "            list_floats.append(i)\n",
    "        list_label.append(list_floats[48])\n",
    "        \n",
    "        del list_floats[48]\n",
    "        list_data.append(list_floats)\n",
    "        line = input_file.readline()\n",
    "input_file.close()\n",
    "\n",
    "#Liste der Datensätze umwandeln in ein Np Array   \n",
    "list_data = np.asarray(list_data)\n",
    "\n",
    "list_max = []\n",
    "list_min = []\n",
    "list_mean = []\n",
    "list_median = []\n",
    "list_std = []\n",
    "str_max = \"max;\"\n",
    "str_min = \"min;\"\n",
    "str_mean = \"mean;\"\n",
    "str_median = \"median;\"\n",
    "str_std = \"std;\"\n",
    "\n",
    "for i in range(48):\n",
    "    list_max.append(max(list_data[:, i]))\n",
    "    str_max = str_max + str(\"%1.11f\"% max(list_data[:, i])) + \";\"\n",
    "    str_max = str_max.replace(\".\", \",\")\n",
    "    list_min.append(min(list_data[:, i]))\n",
    "    str_min = str_min + str(\"%1.11f\"% min(list_data[:, i])) + \";\"\n",
    "    str_min = str_min.replace(\".\", \",\")\n",
    "    list_mean.append(np.mean(list_data[:, i]))\n",
    "    str_mean = str_mean + str(\"%1.11f\"% np.mean(list_data[:, i])) + \";\"\n",
    "    str_mean = str_mean.replace(\".\", \",\")\n",
    "    list_median.append(np.median(list_data[:, i]))\n",
    "    str_median = str_median + str(\"%1.11f\"% np.median(list_data[:, i])) + \";\"\n",
    "    str_median = str_median.replace(\".\", \",\")\n",
    "    list_std.append(np.std(list_data[:, i]))\n",
    "    str_std = str_std + str(\"%1.11f\"% np.std(list_data[:, i])) + \";\"\n",
    "    str_std = str_std.replace(\".\", \",\")\n",
    "\n",
    "#String aus Listen(min, max, median, mean, std) aufbereiten\n",
    "\n",
    "#Strings korekt ausgeben um Daten zu analysieren\n",
    "with open('descriptive_stat_table.csv', \"w\") as ausgabe_file:\n",
    "    str_max_all = str(max(list_max))\n",
    "    str_max_all = str_max_all.replace(\".\", \",\")\n",
    "    str_min_all = str(min(list_min))\n",
    "    str_min_all = str_min_all.replace(\".\", \",\")\n",
    "    ausgabe_file.write(\"Max_over_all;\" + str_max_all + \"\\n\")\n",
    "    ausgabe_file.write(\"Min_over_all;\" + str_min_all + \"\\n\")\n",
    "    ausgabe_file.write(str_max + \"\\n\")\n",
    "    ausgabe_file.write(str_min + \"\\n\")\n",
    "    ausgabe_file.write(str_mean + \"\\n\")\n",
    "    ausgabe_file.write(str_median + \"\\n\")\n",
    "    ausgabe_file.write(str_std + \"\\n\")\n",
    "ausgabe_file.close()"
   ]
  },
  {
   "cell_type": "code",
   "execution_count": 11,
   "metadata": {
    "colab": {
     "base_uri": "https://localhost:8080/",
     "height": 466
    },
    "colab_type": "code",
    "id": "mQTq2T-y3Qif",
    "outputId": "5533e380-1cc4-4580-acc3-cfebd9e3b62f"
   },
   "outputs": [
    {
     "data": {
      "image/png": "[encoded data removed]",
      "text/plain": [
       "<Figure size 576x576 with 2 Axes>"
      ]
     },
     "metadata": {
      "needs_background": "light"
     },
     "output_type": "display_data"
    }
   ],
   "source": [
    "#Berechnung einer Korrelationsmatrix zwischen einzelnen Features\n",
    "#Abhängigkeiten bereits durch die Heatmap identifizieren. Nicht nur zum Attribut 'class',\n",
    "#sondern auch zwischen Features.\n",
    "plt.figure(figsize=(8,8))\n",
    "corr = df.corr() #Korrelationen zwischen den features und label\n",
    "mask = np.zeros_like(corr)\n",
    "mask[np.triu_indices_from(mask)] = True\n",
    "plt.title('Correlation Matrix between the features and label')\n",
    "sns_plot = sns.heatmap(data=corr,square=True,center=0,mask=mask); #Erstelle Korrelations Heatmap\n",
    "fig = sns_plot.get_figure()\n",
    "fig.savefig('corr_heatmap_dc_motor.png')"
   ]
  },
  {
   "cell_type": "markdown",
   "metadata": {
    "colab_type": "text",
    "id": "hA4r_KMc3Qih"
   },
   "source": [
    "**Zwischenfazit**:\n",
    "\n",
    "- Bei allen Features handelt es sich um float Datentypen, also kardinale Merkmale\n",
    "- Die Daten bewegen z.T. in sehr unterschiedlichen ranges (oft um den Null-Bereich): eine Normalisierung wird im weiteren Verlauf deshalb auf jeden Fall empfohlen.\n",
    "- Min und Max- Werte weichen teilweise sehr stark von dem Mittelwert ab, weshalb Ausreißer untersucht und ggf. bereinigt werden sollten.\n",
    "- Korrelationen zwischen einigen Features sehr stark. Dieser Faktor kann beim Feature Engineering mit einbezogen werden.\n",
    "- Keine starken Korrelationen zwischen der Fehlerklasse und einem bestimmten Feature erkennbar.\n",
    "\n",
    "\n",
    "#### 1.3 Bereinigung von Null-Values und Duplikaten\n",
    "\n",
    "Im Folgenden wird der Datensatz auf fehlende Werte und Duplikate untersucht.\n",
    "Diese können u.a. auf Fehler bei der Messung hinweisen und Ergebnisse verzehren/verfälschen. Im Rahmen dieser Arbeit werden solche Werte, falls existent, aus dem DataFrame entfernt."
   ]
  },
  {
   "cell_type": "code",
   "execution_count": 12,
   "metadata": {
    "colab": {
     "base_uri": "https://localhost:8080/",
     "height": 34
    },
    "colab_type": "code",
    "id": "6Q_eJtuW3Qii",
    "outputId": "164ec863-7e83-4b07-c78d-ce0762381e9a"
   },
   "outputs": [
    {
     "name": "stdout",
     "output_type": "stream",
     "text": [
      "No Duplicates\n"
     ]
    }
   ],
   "source": [
    "#Duplikatte entfernen, da diese auf einen möglichen Messfehler hindeuten können\n",
    "df.drop_duplicates()\n",
    "if shape == df.shape:\n",
    "    print('No Duplicates')\n",
    "else:\n",
    "    print(shape[1]-df.shape[1],' Duplicates deleted!')"
   ]
  },
  {
   "cell_type": "code",
   "execution_count": 13,
   "metadata": {
    "colab": {
     "base_uri": "https://localhost:8080/",
     "height": 34
    },
    "colab_type": "code",
    "id": "v9xU2yzq3Qik",
    "outputId": "68f41b4a-11b5-4a4e-a6d4-33158c3c209e"
   },
   "outputs": [
    {
     "name": "stdout",
     "output_type": "stream",
     "text": [
      "There is no missing data!\n"
     ]
    }
   ],
   "source": [
    "#Überpruefen auf Null Values, also auf fehlende Daten\n",
    "#Falls solche exisiteren wird für dieses Projekt der ganze feature vector gelöscht.\n",
    "#Eine Ersetzung mit diveresen Methoden wäre auch denkbar.\n",
    "\n",
    "null_values = df.isna().sum()\n",
    "if sum(null_values) == 0:\n",
    "    print('There is no missing data!')\n",
    "else:\n",
    "    for i in range(len(null_values)):\n",
    "        print('Das Feature {0} contains {1} missing data points.'.format(null_values.index[i],null_values[i]))\n",
    "        df.dropna()\n",
    "        print(\"All Feature Vectors with missing data points are deleted\")\n",
    "        print(\"After that the dataset contains {0} Feature Vectors\".format(df.shape[1]))"
   ]
  },
  {
   "cell_type": "markdown",
   "metadata": {
    "colab_type": "text",
    "id": "u-sKPghH3Qim"
   },
   "source": [
    "Der Datensatz enthält 49 columns. Man erkennt, dass aber nur die ersten 48 Columns 'V*' Features sind. Da es sich um eine gelabelten Datensatz handelt, stellt die letzte Spalte die tatsächlich gemessene Fehlerklasse dar. Diese wird im Folgenden von den Daten getrennt und in einem separaten Dataframe gespeichert.\n",
    "\n",
    " - df (Pandas Dataframe) für nativ eingelesene Daten Format: (V1...V48, Class)\n",
    " - df_data\n",
    " - df_labels"
   ]
  },
  {
   "cell_type": "code",
   "execution_count": 14,
   "metadata": {
    "colab": {},
    "colab_type": "code",
    "id": "mFb0vJbz3Qin"
   },
   "outputs": [],
   "source": [
    "df_data = df.iloc[:,0:48] #Nur Features Rohformat\n",
    "df_labels = df.iloc[:,-1] #Nur Label 'class'"
   ]
  },
  {
   "cell_type": "markdown",
   "metadata": {
    "colab_type": "text",
    "id": "wBQqHfFO3Qip"
   },
   "source": [
    "#### 1.4 Visualisierung\n",
    "\n",
    "Neben der Berechnung diverser Größen etc. sind vor allem Methoden der Daten-Visualisierung ein wichtiges Werkzeug, um die Daten mit wenig Aufwand zu verstehen und zu interpretieren. Die Korrelationsmatrix war bereits ein Einblick in die Methodik.\n",
    "Im Folgenden werden vor allem Verteilungen visualisiert, um die Daten bezüglich möglichen Ausreißer und anderen Defiziten besser einschätzen zu können.\n",
    "\n",
    "Verwendete Methoden:\n",
    "- Histogram\n",
    "- Boxplots\n",
    "- Scatterplots"
   ]
  },
  {
   "cell_type": "code",
   "execution_count": 15,
   "metadata": {
    "colab": {
     "base_uri": "https://localhost:8080/",
     "height": 397
    },
    "colab_type": "code",
    "id": "3WBN62HB3Qiq",
    "outputId": "ece82aba-e373-42ca-e0d8-2dcf40ba65e7"
   },
   "outputs": [
    {
     "name": "stdout",
     "output_type": "stream",
     "text": [
      "\n",
      "      Labels are stored in the Feature 'class'\n",
      "      The following labels are stored in the dataset\n",
      "      \n",
      "[ 1  2  3  4  5  6  7  8  9 10 11]\n",
      "Distribution of the different labels in the dataste:\n"
     ]
    },
    {
     "data": {
      "image/png": "[encoded data removed]",
      "text/plain": [
       "<Figure size 432x288 with 1 Axes>"
      ]
     },
     "metadata": {
      "needs_background": "light"
     },
     "output_type": "display_data"
    }
   ],
   "source": [
    "#Hierbei handelt es sich um einen gelabelten Datensatz. Die Labels befinden sich\n",
    "#im Feature 'class'. Welche Werte tauchen auf und wie sind diese im Datensatz verteilt?\n",
    "print(\"\"\"\n",
    "      Labels are stored in the Feature 'class'\n",
    "      The following labels are stored in the dataset\n",
    "      \"\"\")    \n",
    "print(df['class'].unique())\n",
    "\n",
    "#Verteilung der Fehlerklassen mittels eines Histograms\n",
    "print('Distribution of the different labels in the dataste:')\n",
    "plt.hist(df['class'],color='orange',bins=len(df['class'].unique()), edgecolor = 'black',align='mid')\n",
    "plt.xlabel('Class')\n",
    "plt.ylabel('frequency')\n",
    "plt.title('Histogramm for class')\n",
    "plt.savefig('histogram_class_label.png')\n",
    "plt.show()"
   ]
  },
  {
   "cell_type": "markdown",
   "metadata": {
    "colab_type": "text",
    "id": "G3R7eHOe3Qis"
   },
   "source": [
    "Die Fehlerklassen sind weitesgehend gleich verteilt. Zumindest ist kein maßgeblicher Unterschied erkennbar. \n",
    "In Punkt 3 'Clustering' wird, falls das Verfahren geeignet ist, eine ähnliche Verteilung erwartet."
   ]
  },
  {
   "cell_type": "code",
   "execution_count": 16,
   "metadata": {
    "colab": {
     "base_uri": "https://localhost:8080/",
     "height": 281
    },
    "colab_type": "code",
    "id": "5JzRkySj3Qit",
    "outputId": "38ffe2e7-2af0-483f-941a-ce9b29577fb6"
   },
   "outputs": [
    {
     "data": {
      "image/png": "[encoded data removed]",
      "text/plain": [
       "<Figure size 432x288 with 1 Axes>"
      ]
     },
     "metadata": {
      "needs_background": "light"
     },
     "output_type": "display_data"
    }
   ],
   "source": [
    "#Hier werden Plots erzeugt zwischen 2 Features auf Unterscheidlichen Eingabe Dataframes.\n",
    "#Plot noch auf Rohdaten durchgeführt. Das jeweilige Label wird farblich hervorgehoben.\n",
    "\n",
    "#Für plots normalisieren des df_data_z\n",
    "np_array_data = df_data.values #returns a numpy array\n",
    "min_max_scaler = preprocessing.MinMaxScaler()\n",
    "df_data_norm = pd.DataFrame(min_max_scaler.fit_transform(np_array_data))\n",
    "plt.scatter(df_data_norm.iloc[:,0], df_data_norm.iloc[:,2], c = df_labels.iloc[:], cmap=plt.cm.coolwarm)\n",
    "\n",
    "plt.title('Scatterplot raw data feature 1 & 3')\n",
    "plt.savefig('scatter_V1_and_V3_raw.png')\n",
    "plt.show();"
   ]
  },
  {
   "cell_type": "markdown",
   "metadata": {
    "colab_type": "text",
    "id": "L3cxx0XW3Qiv"
   },
   "source": [
    "Bereits dieser plot zeigt bereits, dass es gewisse Extrem-Werte in dem Datensatz gibt. Diese Outliers gilt es genauer zu betrachten. Mit Boxplots werden die Verteilung innerhalb eines Features visualisiert."
   ]
  },
  {
   "cell_type": "code",
   "execution_count": 17,
   "metadata": {
    "colab": {
     "base_uri": "https://localhost:8080/",
     "height": 1000
    },
    "colab_type": "code",
    "id": "KdulzdKw3Qiw",
    "outputId": "736bf345-58ce-4ca5-c0a2-b0055a9ab315"
   },
   "outputs": [
    {
     "data": {
      "image/png": "[encoded data removed]",
      "text/plain": [
       "<Figure size 720x720 with 1 Axes>"
      ]
     },
     "metadata": {
      "needs_background": "light"
     },
     "output_type": "display_data"
    },
    {
     "data": {
      "image/png": "[encoded data removed]",
      "text/plain": [
       "<Figure size 720x720 with 1 Axes>"
      ]
     },
     "metadata": {
      "needs_background": "light"
     },
     "output_type": "display_data"
    }
   ],
   "source": [
    "#BoxPlots für jedes Feature\n",
    "column_list = list(df_data.columns) #Speichere Columns in einer Liste\n",
    "\n",
    "plt.figure(figsize=(10,10)) #Größe des Plots\n",
    "plt.title('Boxplot for every Feature')\n",
    "boxplot_1 = df_data.boxplot(column_list[:int(len(column_list)/2)]) #Plot Boxplots für die Hälfte der Features\n",
    "plt.savefig('boxplots_features_raw1.png')\n",
    "plt.figure(figsize=(10,10))\n",
    "boxplot_2 = df_data.boxplot(column_list[int(len(column_list)/2):]) #Boxplots der anderen Hälfte der Features\n",
    "plt.savefig('boxplots_features_raw2.png')\n",
    "plt.show()"
   ]
  },
  {
   "cell_type": "markdown",
   "metadata": {
    "colab_type": "text",
    "id": "mihhnP_D3Qiz"
   },
   "source": [
    "Vor allem bei den Features V37-V40 gibt es auffällige Werte. Vereinzelt weichen einzelne Werte sehr stark von den Messwerten ab. Diese können entweder so gewollt sein, oder aber weisen auf mögliche Fehler in der Datenerfassung hin. Falls dies so ist, können diverse ML-Algorithmen zu verzerrten Ergebnissen kommen.\n",
    "\n",
    "### 2 Feature Selection and Feature Engineering\n",
    "\n",
    "Obwohl die Qualität des Datensatzes bereits sehr gut ist, hat das vorangegangene Kapitel gezeigt, dass u.a. durch Ausreißer, weitere Maßnahmen erfoderlich sind um den Datensatz für die ML Verfahren vorzubereiten. Diese müssen auch nicht zwingend was mit der Qualität der Daten zu tun haben, sondern können den ML Prozess verbessern und verschlanken.\n"
   ]
  },
  {
   "cell_type": "markdown",
   "metadata": {
    "colab_type": "text",
    "id": "ESccoBl6kEuN"
   },
   "source": [
    "#### 2.1 Normalisierung\n",
    "\n",
    "Auf Grund dessen, dass sich die Feature Werte in unterschiedlichen Ranges befinden und bei den meisten Verfahren mit Distanzmetriken gearbeitet wird, ist eine Normalisierung des Datensatzes erforlderlich. Normalisiert wird über den Trainingssatz. Deshalb erfolgt auch eine Aufteilung in Test und Trainings Datensatz.\n",
    "Anschließend wird über das MinMax-Vefahren normalisiert. Die Skalierung wird am Train-Datensatz gefitted und der Wertebereich begrenzt sich auf Werte von 0-1"
   ]
  },
  {
   "cell_type": "code",
   "execution_count": 18,
   "metadata": {
    "colab": {},
    "colab_type": "code",
    "id": "kylXj-Mt3Qiz"
   },
   "outputs": [],
   "source": [
    "from sklearn.preprocessing import MinMaxScaler\n",
    "\n",
    "scaler = MinMaxScaler()\n",
    "df_data_train,df_data_test,df_labels_train,df_labels_test = train_test_split(df_data, df_labels, test_size=0.33, random_state=42)\n",
    "\n",
    "scaler.fit(df_data_train)\n",
    "\n",
    "df_data_train_norm = pd.DataFrame(scaler.transform(df_data_train),columns=df_data.columns)\n",
    "df_data_test_norm = pd.DataFrame(scaler.transform(df_data_test),columns=df_data.columns)"
   ]
  },
  {
   "cell_type": "markdown",
   "metadata": {
    "colab_type": "text",
    "id": "UKd-3oi63Qi3"
   },
   "source": [
    "**Verfügbare Datensatz**:\n",
    "- df_data_train_norm *Normaliserte Features im Testdatensatz*\n",
    "- df_data_test_norm *Normaliserte Features im Trainingsdatensatz*\n",
    "\n",
    "Die Labels befinden sich in:\n",
    "- df_labels_train\n",
    "- df_labels_test\n",
    "\n",
    "#### 2.2 Außreiser / Outlier entfernen\n",
    "\n",
    "Da einige Features z.T. sehr starke Ausreißer beinhalten, wie in den Boxplots zu sehen ist, werden weitere Dataframes erstellt, in denen die Ausreißer in beide Richtungen herausgefilter wurden. Dies wird über den Z-Score gesteuert. Daten Punkte mit einem Z-Score über 4 sind in einer Normalverteilung sehr selten anzutreffen und können auf irgendwelche Fehler schließen. Deshalb werden alle Datenpunkte mit einem Z-Score größer als 4, als Outlier deklariert und der Feature Vector in dem er sich befindet aus dem Trainingsdatensatz gelöscht. Die Normalisierung für diesen Datensatz erfogt erst nach der Entfernung der Ausreißer, da es bei dem MinMax-Verfahren sonst zu Verzerrungen führen würde."
   ]
  },
  {
   "cell_type": "code",
   "execution_count": 19,
   "metadata": {
    "colab": {
     "base_uri": "https://localhost:8080/",
     "height": 204
    },
    "colab_type": "code",
    "id": "_UyBRKdObT3j",
    "outputId": "0b6ce5f5-6512-4afb-c6ae-b19e68cca75e"
   },
   "outputs": [
    {
     "name": "stdout",
     "output_type": "stream",
     "text": [
      "(18294, 48)\n",
      "(19600, 49)\n",
      "(18294, 49)\n",
      "   class            V1            V2        V3            V4            V5  \\\n",
      "0      1  2.913200e-06 -5.247700e-06  0.000003 -6.056100e-06  2.778900e-06   \n",
      "1      1 -9.584900e-07  5.214300e-08 -0.000047  6.453700e-07 -2.304100e-06   \n",
      "2      1 -2.566600e-06 -1.679500e-07  0.000015 -1.598400e-06  8.709200e-07   \n",
      "4      1 -6.573800e-07 -3.951900e-07  0.000032 -5.296100e-06 -1.605800e-06   \n",
      "5      1 -2.236600e-06 -1.799500e-06  0.000008 -4.673700e-06  2.821600e-06   \n",
      "\n",
      "             V6        V7        V8        V9   ...       V39      V40  \\\n",
      "0 -3.752400e-06  0.030804  0.030810  0.030806   ...    3.6048 -0.59314   \n",
      "1  5.499900e-05  0.031154  0.031154  0.031201   ...    3.9757 -0.61124   \n",
      "2  1.496100e-05  0.031071  0.031071  0.031056   ...    9.8584 -0.63618   \n",
      "4  7.566000e-07  0.029416  0.029416  0.029385   ...    3.3788 -0.59578   \n",
      "5  3.826600e-07  0.027720  0.027722  0.027713   ...    6.6790 -0.41223   \n",
      "\n",
      "       V41      V42     V43     V44     V45     V46     V47     V48  \n",
      "0   7.6252   6.1690 -1.4967 -1.4967 -1.4967 -1.5005 -1.5005 -1.5005  \n",
      "1   5.8337  18.6970 -1.4956 -1.4956 -1.4956 -1.4973 -1.4972 -1.4973  \n",
      "2  12.8380   4.9079 -1.4990 -1.4990 -1.4990 -1.4968 -1.4968 -1.4968  \n",
      "4   5.3394  13.3550 -1.4984 -1.4984 -1.4984 -1.4970 -1.4970 -1.4970  \n",
      "5   8.9549   2.9775 -1.4968 -1.4968 -1.4968 -1.4960 -1.4960 -1.4960  \n",
      "\n",
      "[5 rows x 49 columns]\n"
     ]
    }
   ],
   "source": [
    "from scipy import stats\n",
    "\n",
    "#Berechne Z-Score für Trainingsdatensatz\n",
    "z = np.abs(stats.zscore(df_data_train))\n",
    "\n",
    "df_data_train_z = df_data_train[(z < 4).all(axis=1)] #Entferne alle Outlier mit einem Z-Score größer als 4\n",
    "print(df_data_train_z.shape) #Falls welche vorhanden, weniger Feature Vectoren\n",
    "\n",
    "#Join mit den ursprünglichen Labels\n",
    "df_data_z = pd.concat([df_labels_train,df_data_train_z],axis=1)\n",
    "\n",
    "print(df_data_z.shape)\n",
    "df_data_z.dropna(inplace=True) #Labels ohne Feature Vector werden gedroppt\n",
    "print(df_data_z.shape)\n",
    "print(df_data_z.head())\n",
    "\n",
    "df_data_train_z = df_data_z.iloc[:,1:49] #Nur Features\n",
    "df_labels_train_z = df_data_z.iloc[:,0] #Nur label 'class'\n",
    "\n",
    "#Normalisierung erst nach der Outlier Entfernung\n",
    "df_data_train_norm_z = pd.DataFrame(scaler.transform(df_data_train_z),columns=df_data.columns)\n",
    "\n",
    "#Keine Änderungen am Test Set - nur kopiert\n",
    "df_labels_test_z = df_labels_test.copy()\n",
    "df_data_test_norm_z = df_data_test_norm.copy()"
   ]
  },
  {
   "cell_type": "code",
   "execution_count": 20,
   "metadata": {
    "colab": {
     "base_uri": "https://localhost:8080/",
     "height": 298
    },
    "colab_type": "code",
    "id": "4i6GdF9t3Qi-",
    "outputId": "79f838b6-c40a-4305-e686-3d9ccaa46cac"
   },
   "outputs": [
    {
     "name": "stdout",
     "output_type": "stream",
     "text": [
      "Scatterplot after filtering out outliers.\n"
     ]
    },
    {
     "data": {
      "image/png": "[encoded data removed]",
      "text/plain": [
       "<Figure size 432x288 with 1 Axes>"
      ]
     },
     "metadata": {
      "needs_background": "light"
     },
     "output_type": "display_data"
    }
   ],
   "source": [
    "plt.scatter(df_data_train_norm_z.iloc[:,0], df_data_train_norm_z.iloc[:,2], c = df_labels_train_z.iloc[:], cmap=plt.cm.coolwarm)\n",
    "print('Scatterplot after filtering out outliers.')\n",
    "plt.title('Scatterplot Filtered Data Feature 1 & 3')\n",
    "plt.savefig('scatter_V1_and_V3_filterd.png')"
   ]
  },
  {
   "cell_type": "markdown",
   "metadata": {
    "colab_type": "text",
    "id": "dpWqRZ4MM1H_"
   },
   "source": [
    "Der gleiche Plot, wie in einem Kapitel zu vor zeigt, dass die Datenpunkte näher beianander liegen und es keine verzeinzelten Datenpunkte mehr gibt, die extrem weit weg liegen."
   ]
  },
  {
   "cell_type": "code",
   "execution_count": 21,
   "metadata": {
    "colab": {
     "base_uri": "https://localhost:8080/",
     "height": 1000
    },
    "colab_type": "code",
    "id": "leZ2x5cq3QjA",
    "outputId": "8ae03c0c-64d9-4cc6-de83-fe55f13b9379"
   },
   "outputs": [
    {
     "data": {
      "image/png": "[encoded data removed]",
      "text/plain": [
       "<Figure size 720x720 with 1 Axes>"
      ]
     },
     "metadata": {
      "needs_background": "light"
     },
     "output_type": "display_data"
    },
    {
     "data": {
      "image/png": "[encoded data removed]",
      "text/plain": [
       "<Figure size 720x720 with 1 Axes>"
      ]
     },
     "metadata": {
      "needs_background": "light"
     },
     "output_type": "display_data"
    }
   ],
   "source": [
    "#BoxPlots für jedes Feature\n",
    "column_list = list(df_data_train_z.columns) #Speichere Columns in einer Liste\n",
    "\n",
    "plt.figure(figsize=(10,10)) #Größe des Plots\n",
    "plt.title('Boxplots for every feature after filtering out outliers')\n",
    "boxplot_1 = df_data_train_z.boxplot(column_list[:int(len(column_list)/2)]) #Plot Boxplots für die Hälfte der Features\n",
    "plt.savefig('boxplots_features_filt1.png')\n",
    "plt.figure(figsize=(10,10))\n",
    "boxplot_2 = df_data_train_z.boxplot(column_list[int(len(column_list)/2):]) #Boxplots der anderen Hälfte der Features\n",
    "plt.savefig('boxplots_features_filt2.png')\n",
    "plt.show()"
   ]
  },
  {
   "cell_type": "markdown",
   "metadata": {
    "colab_type": "text",
    "id": "I_vzi-IM3QjG"
   },
   "source": [
    "Durch das entfernen einer gewissen Anzahl von Extremwerten konnten die Daten, wie in den Plots erkennbar, näher zusammengerückt werden. Dies kann bei einigen ML Verfahren extreme Verbesserungen herbeiführen.\n",
    "\n",
    "**Verfügbare Datensätze**:\n",
    "- df_data_train_norm_z\n",
    "- df_data_test_norm_z\n",
    "\n",
    "\n",
    "Die Labels befinden sich in:\n",
    "- df_labels_test_z\n",
    "- df_labels_train_z\n"
   ]
  },
  {
   "cell_type": "markdown",
   "metadata": {
    "colab_type": "text",
    "id": "NVcMlEf03QjI"
   },
   "source": [
    "#### 2.3 Principal Component Analysis (PCA)\n"
   ]
  },
  {
   "cell_type": "code",
   "execution_count": 22,
   "metadata": {
    "colab": {
     "base_uri": "https://localhost:8080/",
     "height": 335
    },
    "colab_type": "code",
    "id": "B9RDws3I3QjJ",
    "outputId": "4fd02d50-ddbb-447a-c2f8-7b20e80cb384"
   },
   "outputs": [
    {
     "name": "stdout",
     "output_type": "stream",
     "text": [
      "Anzahl der Komponenten, um 95% der Varianz in den Daten/Features zu erhalten: 6\n",
      "Anzahl der Komponenten, um 99% der Varianz in den Daten/Features zu erhalten: 13\n",
      "Anzahl der Komponenten, um 99,9% der Varianz in den Daten/Features zu erhalten: 19\n"
     ]
    },
    {
     "name": "stderr",
     "output_type": "stream",
     "text": [
      "C:\\Users\\alewi\\Anaconda3\\lib\\site-packages\\matplotlib\\figure.py:2299: UserWarning: This figure includes Axes that are not compatible with tight_layout, so results might be incorrect.\n",
      "  warnings.warn(\"This figure includes Axes that are not compatible \"\n"
     ]
    },
    {
     "data": {
      "image/png": "[encoded data removed]",
      "text/plain": [
       "<Figure size 1063.38x288 with 2 Axes>"
      ]
     },
     "metadata": {
      "needs_background": "light"
     },
     "output_type": "display_data"
    }
   ],
   "source": [
    "from sklearn.decomposition import PCA\n",
    "\n",
    "\n",
    "# Model wird initialisiert, mit einer Varianz von 95%/99%/99,9%\n",
    "pca95 = PCA(.95)\n",
    "pca95.fit(df_data_train_norm)\n",
    "\n",
    "pca99 = PCA(.99)\n",
    "pca99.fit(df_data_train_norm)\n",
    "\n",
    "pca999 = PCA(.999)\n",
    "pca999.fit(df_data_train_norm)\n",
    "\n",
    "print(\"Anzahl der Komponenten, um 95% der Varianz in den Daten/Features zu erhalten: \" + str(pca95.n_components_))\n",
    "print(\"Anzahl der Komponenten, um 99% der Varianz in den Daten/Features zu erhalten: \" + str(pca99.n_components_))\n",
    "print(\"Anzahl der Komponenten, um 99,9% der Varianz in den Daten/Features zu erhalten: \" + str(pca999.n_components_))\n",
    "\n",
    "\n",
    "# Das gelernte Mapping wird auf Test- und Trainings-Set angewendet\n",
    "df_data_train_norm_pca = pd.DataFrame(pca99.transform(df_data_train_norm),index=df_data_train_norm.index)\n",
    "df_data_test_norm_pca = pd.DataFrame(pca99.transform(df_data_test_norm),index=df_data_test_norm.index)\n",
    "\n",
    "df_labels_train_pca = df_labels_train.copy()\n",
    "df_labels_test_pca = df_labels_test.copy()\n",
    "\n",
    "plt.matshow(pca99.components_,cmap='viridis')\n",
    "components = [0] * 14\n",
    "i = 0\n",
    "while i < 14:\n",
    "    components[i] = 'Comp ' + str(i)\n",
    "    i += 1\n",
    "    \n",
    "amountComponents = [0] * 14\n",
    "i = 0\n",
    "while i < 14:\n",
    "    amountComponents[i] = i\n",
    "    i += 1\n",
    "\n",
    "\n",
    "plt.yticks(amountComponents,components,fontsize=8)\n",
    "plt.colorbar()\n",
    "plt.xticks(range(len(df.columns)),df.columns,rotation=65,ha='left')\n",
    "plt.tight_layout()\n",
    "plt.savefig('pca_analysis_99_variance.png')\n",
    "plt.show()# "
   ]
  },
  {
   "cell_type": "markdown",
   "metadata": {
    "colab_type": "text",
    "id": "1KLHaDWa3QjL"
   },
   "source": [
    "#### 2.4 Feature Elimination\n",
    "\n",
    "Auch zu viele Features können bei der Modellbildung mehr negativ, als positiv wirken. Bei zu vielen, vor allem unnötige, Features besteht die Gefahr des Overfittings. Das Modell ist zu gut an die Trainingsdaten angepasst und weist schlechte Ergebnisse mit Testdaten auf. Außerdem kann dadurch Zeit und Ineffizienz reduziert werden:\n",
    "\n",
    "- Overfitting vermeiden\n",
    "- Garbage In - Garbage Out --> sinnlose Information rauswerfen\n",
    "- Erklärbarkeit beibehalten - weniger Features = interpretierbarer\n",
    "\n",
    "Eine Möglichkeit ist die Selektion von Features mit dem **Chi²-Test**. Hierbei wird bestimmt, wie abhängig bzw. unabhängig zwei Features von einander sind. Dies kann man für jede Feature-Label Konstellation druchführen und sich die x-besten Features aussuchen. \n",
    "\n",
    "Im Folgenden erfolgt ein Chi²-Test, der die 20 besten Features raussucht. Das Ergebnis wird in dem Dataframe df_selected gesichert und kann später im Vergleich mit dem ursprünglichen Dataframe verwendet werden."
   ]
  },
  {
   "cell_type": "code",
   "execution_count": 23,
   "metadata": {
    "colab": {
     "base_uri": "https://localhost:8080/",
     "height": 204
    },
    "colab_type": "code",
    "id": "BQnndtQ73QjL",
    "outputId": "725689bc-8f6c-4f2f-b3cb-97ed05af969c"
   },
   "outputs": [
    {
     "name": "stdout",
     "output_type": "stream",
     "text": [
      "Index(['V7', 'V8', 'V9', 'V10', 'V11', 'V12', 'V19', 'V20', 'V21', 'V22',\n",
      "       'V23', 'V24', 'V31', 'V32', 'V33', 'V34', 'V35', 'V36', 'V43', 'V45'],\n",
      "      dtype='object')\n",
      "         V7        V8        V9       V10  ...       V35       V36     V43     V45\n",
      "0  0.030804  0.030810  0.030806 -0.033520  ... -0.001342 -0.001375 -1.4967 -1.4967\n",
      "1  0.031154  0.031154  0.031201 -0.032789  ... -0.001519 -0.001410 -1.4956 -1.4956\n",
      "2  0.031071  0.031071  0.031056 -0.029695  ... -0.003324 -0.003319 -1.4990 -1.4990\n",
      "3  0.030947  0.030941  0.030823 -0.032171  ... -0.001606 -0.001518 -1.4963 -1.4963\n",
      "4  0.029416  0.029416  0.029385 -0.028420  ... -0.004594 -0.004609 -1.4984 -1.4984\n",
      "\n",
      "[5 rows x 20 columns]\n"
     ]
    }
   ],
   "source": [
    "from sklearn.feature_selection import SelectKBest,chi2\n",
    "\n",
    "#CHI²-Test auf normalisierten Datensatz\n",
    "# Die Selektion kann auf den ganzen Datensatz angewendet werden, da keine \n",
    "# Datenpunkte sondern komplette Features entfernt werden.\n",
    "\n",
    "selector = SelectKBest(k=20,score_func=chi2) #Chi²-Test und Selektion der 20 besten Features\n",
    "selector.fit_transform(df_data_norm,df_labels) #Wende diese Merkmalsselektionsfunktion auf x und das label y an\n",
    "\n",
    "#Extrahiere die bool Werte zu den columns und erstelle neues Dataframe, mit cols=True\n",
    "cols = selector.get_support()\n",
    "selected_features = []\n",
    "\n",
    "feature_names = df.columns\n",
    "\n",
    "for bool, feature in zip(cols, feature_names):\n",
    "    if bool:\n",
    "        selected_features.append(feature)\n",
    "#Speicher Ergebnisse in dem Dataframe df_selected\n",
    "df_selected = df[selected_features]\n",
    "print(df_selected.columns)\n",
    "print(df_selected.head())"
   ]
  },
  {
   "cell_type": "code",
   "execution_count": 0,
   "metadata": {
    "colab": {},
    "colab_type": "code",
    "id": "rGG1cj4UZvpz"
   },
   "outputs": [],
   "source": [
    "#Kopiere bestehende Train und Test Set in neues Dataframes, aber nur mit den besten Chi²-Features\n",
    "\n",
    "df_data_train_norm_chi = df_data_train_norm[selected_features].copy()\n",
    "df_data_test_norm_chi = df_data_test_norm[selected_features].copy()\n",
    "\n",
    "df_labels_train_chi = df_labels_train.copy()\n",
    "df_labels_test_chi = df_labels_test.copy()"
   ]
  },
  {
   "cell_type": "code",
   "execution_count": 25,
   "metadata": {
    "colab": {
     "base_uri": "https://localhost:8080/",
     "height": 224
    },
    "colab_type": "code",
    "id": "YwqCgURL3QjQ",
    "outputId": "fe063e3b-88c6-4a78-8231-819e48cf9a6e"
   },
   "outputs": [
    {
     "data": {
      "text/html": [
       "<div>\n",
       "<style scoped>\n",
       "    .dataframe tbody tr th:only-of-type {\n",
       "        vertical-align: middle;\n",
       "    }\n",
       "\n",
       "    .dataframe tbody tr th {\n",
       "        vertical-align: top;\n",
       "    }\n",
       "\n",
       "    .dataframe thead th {\n",
       "        text-align: right;\n",
       "    }\n",
       "</style>\n",
       "<table border=\"1\" class=\"dataframe\">\n",
       "  <thead>\n",
       "    <tr style=\"text-align: right;\">\n",
       "      <th></th>\n",
       "      <th>V7</th>\n",
       "      <th>V8</th>\n",
       "      <th>V9</th>\n",
       "      <th>V10</th>\n",
       "      <th>V11</th>\n",
       "      <th>V12</th>\n",
       "      <th>V19</th>\n",
       "      <th>V20</th>\n",
       "      <th>V21</th>\n",
       "      <th>V22</th>\n",
       "      <th>V23</th>\n",
       "      <th>V24</th>\n",
       "      <th>V31</th>\n",
       "      <th>V32</th>\n",
       "      <th>V33</th>\n",
       "      <th>V34</th>\n",
       "      <th>V35</th>\n",
       "      <th>V36</th>\n",
       "      <th>V43</th>\n",
       "      <th>V45</th>\n",
       "    </tr>\n",
       "  </thead>\n",
       "  <tbody>\n",
       "    <tr>\n",
       "      <th>0</th>\n",
       "      <td>0.725733</td>\n",
       "      <td>0.725596</td>\n",
       "      <td>0.725886</td>\n",
       "      <td>0.687702</td>\n",
       "      <td>0.680771</td>\n",
       "      <td>0.685666</td>\n",
       "      <td>0.534660</td>\n",
       "      <td>0.534764</td>\n",
       "      <td>0.534972</td>\n",
       "      <td>0.534804</td>\n",
       "      <td>0.534838</td>\n",
       "      <td>0.534925</td>\n",
       "      <td>0.401280</td>\n",
       "      <td>0.408064</td>\n",
       "      <td>0.411846</td>\n",
       "      <td>0.512522</td>\n",
       "      <td>0.531479</td>\n",
       "      <td>0.515845</td>\n",
       "      <td>0.402062</td>\n",
       "      <td>0.373900</td>\n",
       "    </tr>\n",
       "    <tr>\n",
       "      <th>1</th>\n",
       "      <td>0.941324</td>\n",
       "      <td>0.941530</td>\n",
       "      <td>0.941219</td>\n",
       "      <td>0.813787</td>\n",
       "      <td>0.805584</td>\n",
       "      <td>0.810847</td>\n",
       "      <td>0.889721</td>\n",
       "      <td>0.889764</td>\n",
       "      <td>0.889645</td>\n",
       "      <td>0.894059</td>\n",
       "      <td>0.894052</td>\n",
       "      <td>0.893553</td>\n",
       "      <td>0.475848</td>\n",
       "      <td>0.482334</td>\n",
       "      <td>0.484477</td>\n",
       "      <td>0.496194</td>\n",
       "      <td>0.515720</td>\n",
       "      <td>0.503806</td>\n",
       "      <td>0.315169</td>\n",
       "      <td>0.284457</td>\n",
       "    </tr>\n",
       "    <tr>\n",
       "      <th>2</th>\n",
       "      <td>0.774099</td>\n",
       "      <td>0.774140</td>\n",
       "      <td>0.773770</td>\n",
       "      <td>0.731900</td>\n",
       "      <td>0.724540</td>\n",
       "      <td>0.729048</td>\n",
       "      <td>0.815398</td>\n",
       "      <td>0.815555</td>\n",
       "      <td>0.815905</td>\n",
       "      <td>0.814954</td>\n",
       "      <td>0.814942</td>\n",
       "      <td>0.815169</td>\n",
       "      <td>0.391944</td>\n",
       "      <td>0.399125</td>\n",
       "      <td>0.402663</td>\n",
       "      <td>0.515434</td>\n",
       "      <td>0.534234</td>\n",
       "      <td>0.516730</td>\n",
       "      <td>0.354934</td>\n",
       "      <td>0.328446</td>\n",
       "    </tr>\n",
       "    <tr>\n",
       "      <th>3</th>\n",
       "      <td>0.796721</td>\n",
       "      <td>0.796650</td>\n",
       "      <td>0.796750</td>\n",
       "      <td>0.443914</td>\n",
       "      <td>0.439417</td>\n",
       "      <td>0.442642</td>\n",
       "      <td>0.074297</td>\n",
       "      <td>0.074317</td>\n",
       "      <td>0.074349</td>\n",
       "      <td>0.075338</td>\n",
       "      <td>0.075343</td>\n",
       "      <td>0.075386</td>\n",
       "      <td>0.360042</td>\n",
       "      <td>0.367426</td>\n",
       "      <td>0.371293</td>\n",
       "      <td>0.472236</td>\n",
       "      <td>0.491847</td>\n",
       "      <td>0.475498</td>\n",
       "      <td>0.459499</td>\n",
       "      <td>0.431085</td>\n",
       "    </tr>\n",
       "    <tr>\n",
       "      <th>4</th>\n",
       "      <td>0.622986</td>\n",
       "      <td>0.622866</td>\n",
       "      <td>0.622985</td>\n",
       "      <td>0.601516</td>\n",
       "      <td>0.595432</td>\n",
       "      <td>0.599717</td>\n",
       "      <td>0.328751</td>\n",
       "      <td>0.328817</td>\n",
       "      <td>0.328984</td>\n",
       "      <td>0.328149</td>\n",
       "      <td>0.328170</td>\n",
       "      <td>0.328346</td>\n",
       "      <td>0.368057</td>\n",
       "      <td>0.375399</td>\n",
       "      <td>0.379107</td>\n",
       "      <td>0.512335</td>\n",
       "      <td>0.531148</td>\n",
       "      <td>0.515593</td>\n",
       "      <td>0.425626</td>\n",
       "      <td>0.398827</td>\n",
       "    </tr>\n",
       "  </tbody>\n",
       "</table>\n",
       "</div>"
      ],
      "text/plain": [
       "         V7        V8        V9  ...       V36       V43       V45\n",
       "0  0.725733  0.725596  0.725886  ...  0.515845  0.402062  0.373900\n",
       "1  0.941324  0.941530  0.941219  ...  0.503806  0.315169  0.284457\n",
       "2  0.774099  0.774140  0.773770  ...  0.516730  0.354934  0.328446\n",
       "3  0.796721  0.796650  0.796750  ...  0.475498  0.459499  0.431085\n",
       "4  0.622986  0.622866  0.622985  ...  0.515593  0.425626  0.398827\n",
       "\n",
       "[5 rows x 20 columns]"
      ]
     },
     "execution_count": 25,
     "metadata": {
      "tags": []
     },
     "output_type": "execute_result"
    }
   ],
   "source": [
    "df_data_train_norm_chi.head()"
   ]
  },
  {
   "cell_type": "markdown",
   "metadata": {
    "colab_type": "text",
    "id": "KNEBsIY83QjS"
   },
   "source": [
    "Verwendbare Dataframes:\n",
    "\n",
    "- **df_data_train_norm_chi** *Trainings DataFrame mit 20 besten Features*\n",
    "- **df_data_test_norm_chi** *Test DataFrame mit 20 besten Features*\n",
    "\n",
    "Die Labels dazu befinden sich in:\n",
    "- **df_labels_train_chi** *Training Labels*\n",
    "- **df_labels_test_chi** *Test Labels*"
   ]
  },
  {
   "cell_type": "markdown",
   "metadata": {
    "colab_type": "text",
    "id": "nocLZX-k3QjT"
   },
   "source": [
    "### 3 Clustering\n",
    "\n",
    "Bei Clustering handelt es sich um unsupervised learning (=unüberwachtes Lernen / ohne Labels)\n",
    "Dazu gehören zum Beispiel die Algorithmen KMeans und HierarchicalClustering\n",
    "\n",
    "#### 3.1 KMeans\n",
    "\n",
    "Kmeans braucht als Vorgabe eine Anzahl von k Clustern, die er suchen soll. Es ist bekannt, dass der Datensatz 11 Klassen enthält und somit mit k=11 begonnen wird. Anschließend wird die Verteilung der KMeans Cluster angzeigt. Die Verteilung sollte im optimal Fall ähnlich sein."
   ]
  },
  {
   "cell_type": "code",
   "execution_count": 26,
   "metadata": {
    "colab": {
     "base_uri": "https://localhost:8080/",
     "height": 289
    },
    "colab_type": "code",
    "id": "hMSQgNEI3QjU",
    "outputId": "15dc0e81-c47f-4392-a6aa-45c5a5740ddf"
   },
   "outputs": [
    {
     "name": "stdout",
     "output_type": "stream",
     "text": [
      "the dataset contains just float datatypes. so it  is possibile to normalize over every feature.\n",
      "There are 11 different classes.\n",
      "      Initialize the model with 11 clusters.\n",
      "Train model with n_cluster=11 ....\n",
      "Training finished!\n",
      "\n",
      "      Return of the results\n",
      "      KMeans are named the classes / clusters out of the KMean Algorithm,\n",
      "      where as class_org are the orgininal classes.\n",
      "      \n",
      "   KMeans  class_org\n",
      "0       5          1\n",
      "1       5          1\n",
      "2       5          1\n",
      "3       5          1\n",
      "4       5          1\n"
     ]
    }
   ],
   "source": [
    "from sklearn.cluster import KMeans\n",
    "\n",
    "print('the dataset contains just float datatypes. so it  is possibile to normalize over every feature.')\n",
    "#Keine Aufteilung in train und test erforderlich, da wir train und Model nicht\n",
    "#überrprüfen können.\n",
    "\n",
    "scaler_kmeans = preprocessing.MinMaxScaler()\n",
    "norm_df = pd.DataFrame(scaler.fit_transform(df_data))\n",
    "\n",
    "print(\"\"\"There are 11 different classes.\n",
    "      Initialize the model with 11 clusters.\"\"\")\n",
    "\n",
    "model_11k = KMeans(n_clusters=11,max_iter=1000)\n",
    "print('Train model with n_cluster=11 ....')\n",
    "model_11k.fit(norm_df)\n",
    "print('Training finished!')\n",
    "\n",
    "erg = pd.DataFrame(columns=['KMeans'],data=model_11k.labels_)\n",
    "erg['class_org'] = df['class']\n",
    "\n",
    "print(\"\"\"\n",
    "      Return of the results\n",
    "      KMeans are named the classes / clusters out of the KMean Algorithm,\n",
    "      where as class_org are the orgininal classes.\n",
    "      \"\"\")\n",
    "print(erg.head())"
   ]
  },
  {
   "cell_type": "code",
   "execution_count": 27,
   "metadata": {
    "colab": {
     "base_uri": "https://localhost:8080/",
     "height": 312
    },
    "colab_type": "code",
    "id": "8_zsJF5h3QjW",
    "outputId": "330eacc7-3ff6-4f43-c3b8-f261647a90a5"
   },
   "outputs": [
    {
     "name": "stdout",
     "output_type": "stream",
     "text": [
      "frequency distribution of the learned classes in the dataset:\n"
     ]
    },
    {
     "data": {
      "image/png": "[encoded data removed]",
      "text/plain": [
       "<Figure size 432x288 with 1 Axes>"
      ]
     },
     "metadata": {
      "tags": []
     },
     "output_type": "display_data"
    }
   ],
   "source": [
    "print('frequency distribution of the learned classes in the dataset:')\n",
    "plt.hist(erg['KMeans'],color='green',bins=len(erg['KMeans'].unique()), edgecolor = 'black',align='mid')\n",
    "plt.xlabel('class')\n",
    "plt.ylabel('frequency')\n",
    "plt.title('Histogramm class from KMeans')\n",
    "plt.savefig('hist_kmeans_filt_df_11k.png')\n",
    "plt.show()"
   ]
  },
  {
   "cell_type": "markdown",
   "metadata": {
    "colab_type": "text",
    "id": "bm2c-dVA3QjY"
   },
   "source": [
    "**Ergebnis:** Man keine genaue Zuordnung der Klassen tätigen. Jedoch erkennt man an der Verteilung der KMeans Kluster deutliche Unterschiede zu der orginalen Klassenverteilung."
   ]
  },
  {
   "cell_type": "code",
   "execution_count": 28,
   "metadata": {
    "colab": {
     "base_uri": "https://localhost:8080/",
     "height": 313
    },
    "colab_type": "code",
    "id": "6m89KYYr3QjZ",
    "outputId": "84e3d940-4311-4d95-d78e-9a65da2712ec"
   },
   "outputs": [
    {
     "name": "stdout",
     "output_type": "stream",
     "text": [
      "Pick n_cluster with \"Elbow Method\":\n"
     ]
    },
    {
     "data": {
      "image/png": "[encoded data removed]",
      "text/plain": [
       "<Figure size 432x288 with 1 Axes>"
      ]
     },
     "metadata": {
      "tags": []
     },
     "output_type": "display_data"
    }
   ],
   "source": [
    "#Auswahl der optimalen Kluster über wcss Verfahren.\n",
    "#WCSS ist die sum der quadrierten Distanzen eines Punktes im Kluster und\n",
    "#seinem Centroid. Auswahl von n_cluster über dieses Verfahren.\n",
    "\n",
    "print('Pick n_cluster with \"Elbow Method\":')\n",
    "\n",
    "wcss = []\n",
    "\n",
    "for i in range(1,15):\n",
    "    model = KMeans(n_clusters=i,init='k-means++',max_iter=200,random_state=0)\n",
    "    model.fit(norm_df)\n",
    "    wcss.append(model.inertia_)\n",
    "    \n",
    "\n",
    "plt.plot(range(1,15),wcss,'o')\n",
    "plt.plot(range(1,15),wcss,'-')\n",
    "plt.xlabel('N_Cluster')\n",
    "plt.ylabel('wcss')\n",
    "plt.title('Elbow Method')\n",
    "plt.savefig('elbow_method_plot.png')\n",
    "plt.show()"
   ]
  },
  {
   "cell_type": "markdown",
   "metadata": {
    "colab_type": "text",
    "id": "z0oYOM213Qja"
   },
   "source": [
    "Nach der Elbow-Method, wird er Grafik zufolge der Paramter n_cluster auf 5 Kluster gesetzt"
   ]
  },
  {
   "cell_type": "code",
   "execution_count": 29,
   "metadata": {
    "colab": {
     "base_uri": "https://localhost:8080/",
     "height": 329
    },
    "colab_type": "code",
    "id": "C5hunUbO3Qjb",
    "outputId": "b4f01e97-fe64-4ee4-f692-80704ddf4fdb"
   },
   "outputs": [
    {
     "name": "stdout",
     "output_type": "stream",
     "text": [
      "[3 3 3 ... 4 4 4]\n",
      "frequency distribution of the learned classes in the dataset:\n"
     ]
    },
    {
     "data": {
      "image/png": "[encoded data removed]",
      "text/plain": [
       "<Figure size 432x288 with 1 Axes>"
      ]
     },
     "metadata": {
      "tags": []
     },
     "output_type": "display_data"
    }
   ],
   "source": [
    "model_5k = KMeans(n_clusters=5,init='k-means++',max_iter=200,random_state=0)\n",
    "labels_5k = model_5k.fit_predict(norm_df)\n",
    "\n",
    "print(labels_5k)\n",
    "\n",
    "print('frequency distribution of the learned classes in the dataset:')\n",
    "plt.hist(labels_5k,color='blue',bins=5, edgecolor = 'black',align='mid')\n",
    "plt.xlabel('class')\n",
    "plt.ylabel('frequency')\n",
    "plt.title('Histogramm for class out of KMeans')\n",
    "plt.savefig('hist_kmeans_filt_df_5k.png')\n",
    "plt.show()"
   ]
  },
  {
   "cell_type": "markdown",
   "metadata": {
    "colab_type": "text",
    "id": "a980KYe73Qjc"
   },
   "source": [
    "Zu diesem Clustering kann keine Wertung abgegeben werden. Hier werden rein basierend auf der Berechnungen 5 Klassen zusammengeführt. Diese können unabhängig von den Fehlerklassen andere Gemeinsamkeiten aufweisen. Die Untersuchung dieser ist nicht Bestandteil der Arbeit.\n",
    "\n",
    "#### 3.2 Hierarchisches Clustern\n",
    "\n",
    "In diesem Projekt wird das Verfahren gewählt, wo zu Beginn der Modellbildung jeder Datenpunkt einem Cluster hinzugefügt.\n",
    "Durch die geringsten Distanzen, werden einzelne Cluster zusammengeführt. --> AgglomerativeClustering\n",
    "\n",
    "Wie und welche Distanzberechnung verwendet wird, wird im weiteren Vorgehen erläutert.\n",
    "\n",
    "Das Dendrogram visualisiert, wie die Datenpunkte Schritt für Schritt zusammengeführt werden und wie groß die Distanzen zwischen den Datenpunkten/Klustern jeweils ist."
   ]
  },
  {
   "cell_type": "code",
   "execution_count": 30,
   "metadata": {
    "colab": {
     "base_uri": "https://localhost:8080/",
     "height": 282
    },
    "colab_type": "code",
    "id": "vkTq88wb3Qjd",
    "outputId": "a7c33a5a-9d65-44d8-e7ee-d664f7ca782b"
   },
   "outputs": [
    {
     "data": {
      "image/png": "[encoded data removed]",
      "text/plain": [
       "<Figure size 432x288 with 1 Axes>"
      ]
     },
     "metadata": {
      "tags": []
     },
     "output_type": "display_data"
    }
   ],
   "source": [
    "#Plot Dendrogram for AgglomerativeClusterin\n",
    "from sklearn.cluster import AgglomerativeClustering\n",
    "from scipy.cluster.hierarchy import dendrogram, linkage\n",
    "from matplotlib import pyplot as plt\n",
    "\n",
    "z = linkage(norm_df.values.T, method='complete', metric='correlation')\n",
    "dendrogram = dendrogram(z, labels=norm_df.columns)\n",
    "plt.title('Dendrogram for DataFrame with Complete Linkage')\n",
    "plt.savefig('dendrogram_hclust.png')\n",
    "plt.show()"
   ]
  },
  {
   "cell_type": "code",
   "execution_count": 31,
   "metadata": {
    "colab": {
     "base_uri": "https://localhost:8080/",
     "height": 312
    },
    "colab_type": "code",
    "id": "hY-7sJiqYc59",
    "outputId": "122f7c47-431d-43ec-8fc9-b5ebb6d99c8e"
   },
   "outputs": [
    {
     "name": "stdout",
     "output_type": "stream",
     "text": [
      "frequency distribution of the learned classes in the dataset:\n"
     ]
    },
    {
     "data": {
      "image/png": "[encoded data removed]",
      "text/plain": [
       "<Figure size 432x288 with 1 Axes>"
      ]
     },
     "metadata": {
      "tags": []
     },
     "output_type": "display_data"
    }
   ],
   "source": [
    "linkage = 'complete' #Die Distanzen zwischen zwei Clustern werden zwischen allen Datenpunkten berechnet.\n",
    "\n",
    "# Aus dem Dendrogram können wir entnehmen, dass es anscheinend 4 Cluster gibt.\n",
    "# Diese haben auf den ersten Blick auch nichts mit den Fehlerklassen zu tun,\n",
    "# sondern basieren rein auf den Ergebnissen des Dendrogramms\n",
    "hclust = AgglomerativeClustering(linkage=linkage,n_clusters=4) \n",
    "hclust.fit(norm_df)\n",
    "\n",
    "hclust.labels_\n",
    "\n",
    "print('frequency distribution of the learned classes in the dataset:')\n",
    "plt.hist(hclust.labels_,color='blue',bins=11, edgecolor = 'black',align='mid')\n",
    "plt.xlabel('class')\n",
    "plt.ylabel('frequency')\n",
    "plt.title('Histogramm class out of HClust')\n",
    "plt.savefig('hist_hclust_4_clust.png')\n",
    "plt.show()"
   ]
  },
  {
   "cell_type": "code",
   "execution_count": 32,
   "metadata": {
    "colab": {
     "base_uri": "https://localhost:8080/",
     "height": 312
    },
    "colab_type": "code",
    "id": "77S3Rty83Qjf",
    "outputId": "ac0dc3f4-a8a0-44d9-9d26-1c9732aee773"
   },
   "outputs": [
    {
     "name": "stdout",
     "output_type": "stream",
     "text": [
      "frequency distribution of the learned classes in the dataset:\n"
     ]
    },
    {
     "data": {
      "image/png": "[encoded data removed]",
      "text/plain": [
       "<Figure size 432x288 with 1 Axes>"
      ]
     },
     "metadata": {
      "tags": []
     },
     "output_type": "display_data"
    }
   ],
   "source": [
    "# Jedoch wissen wir, dass 11 Fehlerklassen existieren. Deshalb wird das ganze \n",
    "# noch mit 11 Clustern durchgeführt. Auch hier sollte, falls es ein sinnvolles\n",
    "# Clusterverfahren für den Anwendungsfall ist, eine ähnliche Verteilung bei den\n",
    "# Fehlerklassen auftauchen\n",
    "\n",
    "hclust = AgglomerativeClustering(linkage=linkage,n_clusters=11) #Da 11 Fehlerklassen exisitieren\n",
    "hclust.fit(norm_df)\n",
    "\n",
    "hclust.labels_\n",
    "\n",
    "print('frequency distribution of the learned classes in the dataset:')\n",
    "plt.hist(hclust.labels_,color='blue',bins=11, edgecolor = 'black',align='mid')\n",
    "plt.xlabel('class')\n",
    "plt.ylabel('frequency')\n",
    "plt.title('Histogramm class out of HClust')\n",
    "plt.savefig('hist_hclust_11_clust.png')\n",
    "plt.show()"
   ]
  },
  {
   "cell_type": "markdown",
   "metadata": {
    "colab_type": "text",
    "id": "XMMHjiN83Qji"
   },
   "source": [
    "### 4. Classification"
   ]
  },
  {
   "cell_type": "markdown",
   "metadata": {
    "colab_type": "text",
    "id": "vkWxzxHA3Qjj"
   },
   "source": [
    "#### 4.1 1-nearest Neighbour \n",
    "\n",
    "Training besteht nur aus Laden der Daten. Keine Berechnungen notwendig.\n",
    "\n",
    "Im Testdatensatz wird jeder Datenpunkt genommen und die Distanz zu jedem Datenpunkt im Trainingsdatensatz berechnet. Der Datenpunkt im Training mit der geringsten Distanz zum neuen Datenpunkt ist ausschlaggebend, welcher Klasse der neue Datenpunkt zugewiesen wird."
   ]
  },
  {
   "cell_type": "code",
   "execution_count": 0,
   "metadata": {
    "colab": {},
    "colab_type": "code",
    "id": "bzax8n2BxBti"
   },
   "outputs": [],
   "source": [
    "from sklearn.neighbors import KNeighborsClassifier\n",
    "from sklearn.metrics import confusion_matrix\n",
    "from timeit import default_timer as timer\n",
    "from datetime import timedelta"
   ]
  },
  {
   "cell_type": "code",
   "execution_count": 0,
   "metadata": {
    "colab": {},
    "colab_type": "code",
    "id": "yik2M9SjxBtt"
   },
   "outputs": [],
   "source": [
    "def KNN_Algo(train_data,test_data,train_labels,test_labels,n):\n",
    "    \"\"\"\n",
    "    KNN Algorithm function. Initializing, training and test.\n",
    "    Returns the model and the result values.\n",
    "    \"\"\"\n",
    "    #Initialisiere KNN Klassifikator\n",
    "    knn = KNeighborsClassifier(n_neighbors=n, metric='euclidean', algorithm='auto')\n",
    "  \n",
    "    #Starte Training\n",
    "    start = timer() #Stoppe Trainingszeit\n",
    "    knn.fit(train_data,train_labels)\n",
    "    end = timer() #Ende Training\n",
    "    train_duration = timedelta(seconds=end-start)\n",
    "    print(\"Training finished. Duration:\")\n",
    "    print(train_duration)\n",
    "    print(\"\\n\")\n",
    "  \n",
    "    # Test des Models auf Trainingsdaten\n",
    "    start = timer() #Stoppe Zeit fuer Prediction\n",
    "    y_pred = knn.predict(train_data)\n",
    "    end = timer() #Ende Prediction\n",
    "    test_duration = timedelta(seconds=end-start)\n",
    "    y_pred_test = knn.predict(test_data)\n",
    "    \n",
    "    print(\"Prediction finished. Duration:\")\n",
    "    print(test_duration)\n",
    "    print(\"\\n\")\n",
    "  \n",
    "    #Predict the response for training dataset\n",
    "    print(\"Model Score of training:\")\n",
    "    train_score = knn.score(train_data, train_labels)\n",
    "    print(train_score)\n",
    "    print(\"\\n\")\n",
    "\n",
    "    #Predict the response for an unseen dataset\n",
    "    print(\"Model Score of unseen test data:\")\n",
    "    test_score = knn.score(test_data, test_labels)\n",
    "    print(test_score)\n",
    "    print(\"\\n\")\n",
    "  \n",
    "    #Print Confusion Matrix for training dataset\n",
    "    print(\"Confusion Matrix of labels and predicted labels in test data:\")\n",
    "    cm = confusion_matrix(test_labels, y_pred_test)\n",
    "    print(cm)\n",
    "\n",
    "    res_list = [train_duration,test_duration,train_score,test_score]\n",
    "\n",
    "    return res_list,cm,knn"
   ]
  },
  {
   "cell_type": "code",
   "execution_count": 35,
   "metadata": {
    "colab": {
     "base_uri": "https://localhost:8080/",
     "height": 544
    },
    "colab_type": "code",
    "id": "LbOw0zKMxBty",
    "outputId": "f047c7f8-69f3-4af3-af92-4322f483190f"
   },
   "outputs": [
    {
     "name": "stdout",
     "output_type": "stream",
     "text": [
      "1-NN Algo with normalized data:\n",
      "\n",
      "\n",
      "Training finished. Duration:\n",
      "0:00:00.053410\n",
      "\n",
      "\n",
      "Prediction finished. Duration:\n",
      "0:00:00.955113\n",
      "\n",
      "\n",
      "Model Score of training:\n",
      "1.0\n",
      "\n",
      "\n",
      "Model Score of unseen test data:\n",
      "0.9751424132573796\n",
      "\n",
      "\n",
      "Confusion Matrix of labels and predicted labels in test data:\n",
      "[[805   0   1   0   0  36   0   0   2   0   0]\n",
      " [  0 838   0   0   0   1   0   0   1  38   0]\n",
      " [  0   0 873   1   5   1   0   1   0   0   0]\n",
      " [  0   0   4 865  13   0   0   2   0   0   0]\n",
      " [  0   0   5   9 867   4   0   8   0   0   0]\n",
      " [ 23   0   1   1   0 832   0   2  21   0   0]\n",
      " [  0   0   0   0   0   0 851   0   0   0   0]\n",
      " [  0   0   0   0   2   8   0 862   0   0   0]\n",
      " [  1   1   1   0   0  21   0   0 901   1   0]\n",
      " [  0  25   0   0   0   0   0   0   0 855   0]\n",
      " [  0   0   0   0   0   0   0   0   0   0 866]]\n"
     ]
    }
   ],
   "source": [
    "#1. Durchführung mit normalisiertem Datensatz.\n",
    "print('1-NN Algo with normalized data:')\n",
    "print('\\n')\n",
    "res_list_onn_norm,cm_onn_norm,onn_norm = KNN_Algo(df_data_train_norm,df_data_test_norm,df_labels_train,df_labels_test,1) #Just 1 n_neighbors"
   ]
  },
  {
   "cell_type": "code",
   "execution_count": 0,
   "metadata": {
    "colab": {},
    "colab_type": "code",
    "id": "GybZgpiysipG"
   },
   "outputs": [],
   "source": [
    "#Protokolliere Ergebnisse fuer 1-NN mit normalisierten Daten\n",
    "results.loc['1-NN','Runtime Training':'Score Test-Set'] = res_list_onn_norm"
   ]
  },
  {
   "cell_type": "code",
   "execution_count": 37,
   "metadata": {
    "colab": {
     "base_uri": "https://localhost:8080/",
     "height": 544
    },
    "colab_type": "code",
    "id": "PP6u_qWzxBt6",
    "outputId": "27161267-604a-4820-822f-1c35cb1a119f"
   },
   "outputs": [
    {
     "name": "stdout",
     "output_type": "stream",
     "text": [
      "1-NN Algo with normalized data without outliers:\n",
      "\n",
      "\n",
      "Training finished. Duration:\n",
      "0:00:00.046426\n",
      "\n",
      "\n",
      "Prediction finished. Duration:\n",
      "0:00:00.927025\n",
      "\n",
      "\n",
      "Model Score of training:\n",
      "1.0\n",
      "\n",
      "\n",
      "Model Score of unseen test data:\n",
      "0.9758674262040393\n",
      "\n",
      "\n",
      "Confusion Matrix of labels and predicted labels in test data:\n",
      "[[812   0   0   0   0  30   0   1   1   0   0]\n",
      " [  1 841   0   0   0   0   0   0   0  35   1]\n",
      " [  0   0 869   2   9   1   0   0   0   0   0]\n",
      " [  0   0   1 872   8   0   0   3   0   0   0]\n",
      " [  0   0   2  12 870   1   0   8   0   0   0]\n",
      " [ 25   0   1   0   0 830   0   2  22   0   0]\n",
      " [  0   0   0   0   0   0 851   0   0   0   0]\n",
      " [  3   0   0   0   3   5   0 861   0   0   0]\n",
      " [  1   1   1   0   0  22   0   0 900   1   0]\n",
      " [  0  30   0   0   0   0   0   0   0 850   0]\n",
      " [  0   0   0   0   0   0   0   0   0   0 866]]\n"
     ]
    }
   ],
   "source": [
    "#2. Durchführung mit normalisiertem Datensatz ohne potenzielle Outliers.\n",
    "print('1-NN Algo with normalized data without outliers:')\n",
    "print('\\n')\n",
    "res_list_onn_z,cm_onn_z,onn_z = KNN_Algo(df_data_train_norm_z,df_data_test_norm_z,df_labels_train_z,df_labels_test_z,1)"
   ]
  },
  {
   "cell_type": "code",
   "execution_count": 0,
   "metadata": {
    "colab": {},
    "colab_type": "code",
    "id": "nggC4yavw2Hf"
   },
   "outputs": [],
   "source": [
    "#Protokolliere Ergebnisse\n",
    "results.loc['1-NN','Runtime Training without Outliers':'Score Test-Set without Outliers'] = res_list_onn_z"
   ]
  },
  {
   "cell_type": "code",
   "execution_count": 39,
   "metadata": {
    "colab": {
     "base_uri": "https://localhost:8080/",
     "height": 544
    },
    "colab_type": "code",
    "id": "GRxS8ui6jWt2",
    "outputId": "3e4719b7-b3b4-48a2-8d31-0246253dc29c"
   },
   "outputs": [
    {
     "name": "stdout",
     "output_type": "stream",
     "text": [
      "1-NN Algo with normalized data with PCA Compoments:\n",
      "\n",
      "\n",
      "Training finished. Duration:\n",
      "0:00:00.025105\n",
      "\n",
      "\n",
      "Prediction finished. Duration:\n",
      "0:00:00.765180\n",
      "\n",
      "\n",
      "Model Score of training:\n",
      "1.0\n",
      "\n",
      "\n",
      "Model Score of unseen test data:\n",
      "0.9807353702744692\n",
      "\n",
      "\n",
      "Confusion Matrix of labels and predicted labels in test data:\n",
      "[[816   0   0   0   0  24   0   0   4   0   0]\n",
      " [  0 852   0   0   0   1   0   0   1  24   0]\n",
      " [  0   0 877   0   3   1   0   0   0   0   0]\n",
      " [  0   0   1 874   8   0   0   1   0   0   0]\n",
      " [  0   0   5   6 871   2   0   9   0   0   0]\n",
      " [ 15   0   0   0   0 843   0   1  21   0   0]\n",
      " [  0   0   0   0   0   0 851   0   0   0   0]\n",
      " [  0   0   0   0   2   5   0 865   0   0   0]\n",
      " [  0   1   1   0   0  25   0   0 898   1   0]\n",
      " [  0  24   0   0   0   0   0   0   0 856   0]\n",
      " [  0   0   0   0   0   0   0   0   0   0 866]]\n"
     ]
    }
   ],
   "source": [
    "#Durchführung mit PCA Ergebnissen\n",
    "print('1-NN Algo with normalized data with PCA Compoments:')\n",
    "print('\\n')\n",
    "res_list_pca_onn,cm_onn_pca,onn_pca = KNN_Algo(df_data_train_norm_pca,df_data_test_norm_pca,df_labels_train_pca,df_labels_test_pca,1)\n",
    "\n",
    "results.loc['1-NN',\"Runtime Training PCA Features\":\"Score Test-Set PCA Features\"] = res_list_pca_onn"
   ]
  },
  {
   "cell_type": "code",
   "execution_count": 40,
   "metadata": {
    "colab": {
     "base_uri": "https://localhost:8080/",
     "height": 544
    },
    "colab_type": "code",
    "id": "Q4BEfYE8xBuA",
    "outputId": "357ccd65-af01-4c52-b2a1-c9e2f6a8b073"
   },
   "outputs": [
    {
     "name": "stdout",
     "output_type": "stream",
     "text": [
      "1-NN Algo with the normalized data, but only the 20 features out of chi square test:\n",
      "\n",
      "\n",
      "Training finished. Duration:\n",
      "0:00:00.035764\n",
      "\n",
      "\n",
      "Prediction finished. Duration:\n",
      "0:00:00.786717\n",
      "\n",
      "\n",
      "Model Score of training:\n",
      "1.0\n",
      "\n",
      "\n",
      "Model Score of unseen test data:\n",
      "0.998342827550492\n",
      "\n",
      "\n",
      "Confusion Matrix of labels and predicted labels in test data:\n",
      "[[842   0   0   0   0   1   0   0   1   0   0]\n",
      " [  0 875   0   0   0   0   0   1   1   1   0]\n",
      " [  0   0 881   0   0   0   0   0   0   0   0]\n",
      " [  0   0   0 884   0   0   0   0   0   0   0]\n",
      " [  0   0   0   0 893   0   0   0   0   0   0]\n",
      " [  2   0   0   0   0 877   0   0   1   0   0]\n",
      " [  0   0   0   0   0   0 851   0   0   0   0]\n",
      " [  0   0   0   0   0   0   0 872   0   0   0]\n",
      " [  0   0   0   0   0   5   0   0 919   2   0]\n",
      " [  0   1   0   0   0   0   0   0   0 879   0]\n",
      " [  0   0   0   0   0   0   0   0   0   0 866]]\n"
     ]
    }
   ],
   "source": [
    "#3. Durchführung mit normalisiertem Datensatz und KBest Features aus Chi²-Test.\n",
    "print('1-NN Algo with the normalized data, but only the 20 features out of chi square test:')\n",
    "print('\\n')\n",
    "res_list_onn_chi,cm_onn_chi,onn_chi = KNN_Algo(df_data_train_norm_chi,df_data_test_norm_chi,df_labels_train_chi,df_labels_test_chi,1)"
   ]
  },
  {
   "cell_type": "code",
   "execution_count": 0,
   "metadata": {
    "colab": {},
    "colab_type": "code",
    "id": "lMa8OFy9wUaS"
   },
   "outputs": [],
   "source": [
    "#Protokolliere Ergebnisse fuer 1-NN mit normalisierten Daten\n",
    "results.loc['1-NN','Runtime Training KBest Features':'Score Test-Set KBest Features'] = res_list_onn_chi"
   ]
  },
  {
   "cell_type": "markdown",
   "metadata": {
    "colab_type": "text",
    "id": "vFy-UKjI3Qjj"
   },
   "source": [
    "#### 4.2. k-nearest Neighbour\n",
    "\n",
    "Hier wird nicht nur der eine nächste Datenpunkt betrachtet, sondern eine Gruppe von Datenpunkten (wird von außen vorgegeben).\n",
    "Die Klasse die überwiegt bei den n nächsten Datenpunkten, wird als Klasse für den neuen Datenpunkt verwendet."
   ]
  },
  {
   "cell_type": "code",
   "execution_count": 0,
   "metadata": {
    "colab": {},
    "colab_type": "code",
    "id": "gOpXlf1x3Qjk"
   },
   "outputs": [],
   "source": [
    "#Funktion für die Berechnung des optimalen n_neigbors. Inklusive kFold-cross-validation\n",
    "from sklearn.model_selection import cross_val_score\n",
    "from sklearn.model_selection import ShuffleSplit\n",
    "\n",
    "def get_best_neighbors(train_data,train_labels,splits,test_size):\n",
    "    \"\"\"\n",
    "    Compute the best number of neighbors for the KNN Algo. Use this for trainings data.\n",
    "    Parameter tuning is done with cross validation. The number of splits in cv has to be an input for the function.\n",
    "    \"\"\"\n",
    "    res = {}\n",
    "\n",
    "    for neighbor in range(3,17,2): #Nehme eine ungerade Zahl, um eine eindeutige Entscheidung treffen zu können.\n",
    "        knn = KNeighborsClassifier(n_neighbors=neighbor, metric='euclidean', algorithm='auto')\n",
    "        cv = ShuffleSplit(n_splits=splits, test_size=test_size, random_state=110)\n",
    "        knn.fit(train_data, train_labels)\n",
    "        scores = cross_val_score(knn,train_data,train_labels,cv=cv)\n",
    "        res[neighbor] = scores.mean()\n",
    "        \n",
    "    return res"
   ]
  },
  {
   "cell_type": "code",
   "execution_count": 43,
   "metadata": {
    "colab": {
     "base_uri": "https://localhost:8080/",
     "height": 51
    },
    "colab_type": "code",
    "id": "biXyiwbzM1I1",
    "outputId": "64dfbec6-6f79-460c-e52b-893ddd18ac77"
   },
   "outputs": [
    {
     "name": "stdout",
     "output_type": "stream",
     "text": [
      "{3: 0.9811734693877551, 5: 0.9811734693877552, 7: 0.9798979591836734, 9: 0.9806122448979592, 11: 0.9806122448979592, 13: 0.9789795918367347, 15: 0.9777040816326531}\n",
      "Best n_neighbor for normalized data with cross val score:  5\n"
     ]
    }
   ],
   "source": [
    "#1. Finde besten n_neighbor Paramter fuer normalisierte Testdaten\n",
    "best_n_df = get_best_neighbors(df_data_train_norm,df_labels_train,splits=5,test_size=0.2)\n",
    "\n",
    "print(best_n_df)\n",
    "\n",
    "n_norm = max(best_n_df, key=best_n_df.get)\n",
    "print('Best n_neighbor for normalized data with cross val score: ',n_norm)"
   ]
  },
  {
   "cell_type": "code",
   "execution_count": 44,
   "metadata": {
    "colab": {
     "base_uri": "https://localhost:8080/",
     "height": 544
    },
    "colab_type": "code",
    "id": "IIey5ZPH3Qjl",
    "outputId": "b966b93a-884c-4bf0-fa74-362335379662"
   },
   "outputs": [
    {
     "name": "stdout",
     "output_type": "stream",
     "text": [
      "KNN Algo with normalized data:\n",
      "\n",
      "\n",
      "Training finished. Duration:\n",
      "0:00:00.056642\n",
      "\n",
      "\n",
      "Prediction finished. Duration:\n",
      "0:00:09.869611\n",
      "\n",
      "\n",
      "Model Score of training:\n",
      "0.9892857142857143\n",
      "\n",
      "\n",
      "Model Score of unseen test data:\n",
      "0.9798032107716209\n",
      "\n",
      "\n",
      "Confusion Matrix of labels and predicted labels in test data:\n",
      "[[809   0   0   0   0  31   0   1   3   0   0]\n",
      " [  0 846   0   0   0   0   0   0   3  28   1]\n",
      " [  0   0 878   1   1   0   0   0   1   0   0]\n",
      " [  0   0   4 878   2   0   0   0   0   0   0]\n",
      " [  0   0   2   7 873   2   0   9   0   0   0]\n",
      " [ 17   1   1   0   0 839   0   1  21   0   0]\n",
      " [  0   0   0   0   0   0 851   0   0   0   0]\n",
      " [  0   0   1   3   2   6   0 860   0   0   0]\n",
      " [  1   1   2   0   0  20   0   0 901   1   0]\n",
      " [  0  21   0   0   0   0   0   0   0 859   0]\n",
      " [  0   0   0   0   0   0   0   0   0   0 866]]\n"
     ]
    }
   ],
   "source": [
    "#1. Durchführung mit normalisiertem Datensatz.\n",
    "print('KNN Algo with normalized data:')\n",
    "print('\\n')\n",
    "res_list_knn_norm,cm_knn_norm,knn_norm = KNN_Algo(df_data_train_norm,df_data_test_norm,df_labels_train,df_labels_test,n_norm)"
   ]
  },
  {
   "cell_type": "code",
   "execution_count": 0,
   "metadata": {
    "colab": {},
    "colab_type": "code",
    "id": "xjvV1j62yxR0"
   },
   "outputs": [],
   "source": [
    "#Protokolliere Ergebnisse fuer 1-NN mit normalisierten Daten\n",
    "results.loc['K-NN','Runtime Training':'Score Test-Set'] = res_list_knn_norm"
   ]
  },
  {
   "cell_type": "code",
   "execution_count": 46,
   "metadata": {
    "colab": {
     "base_uri": "https://localhost:8080/",
     "height": 51
    },
    "colab_type": "code",
    "id": "qEczZPefM1I7",
    "outputId": "33940447-e96a-4fe2-d000-b5e4dc945023"
   },
   "outputs": [
    {
     "name": "stdout",
     "output_type": "stream",
     "text": [
      "{3: 0.9858431265373053, 5: 0.9854605083356109, 7: 0.9847499316753211, 9: 0.9840940147581307, 11: 0.9836020770702378, 13: 0.9832194588685434, 15: 0.9829461601530471}\n",
      "Best n_neighbor for normalized data (without outliers) with cross val score:  3\n"
     ]
    }
   ],
   "source": [
    "best_n_z = get_best_neighbors(df_data_train_norm_z,df_labels_train_z,splits=5,test_size=0.2)\n",
    "print(best_n_z)\n",
    "n_z = max(best_n_z, key=best_n_z.get)\n",
    "\n",
    "print('Best n_neighbor for normalized data (without outliers) with cross val score: ',n_z)"
   ]
  },
  {
   "cell_type": "code",
   "execution_count": 47,
   "metadata": {
    "colab": {
     "base_uri": "https://localhost:8080/",
     "height": 544
    },
    "colab_type": "code",
    "id": "KP_qH-8jNw4c",
    "outputId": "f94f2840-4b92-4735-ad35-7b18d5e1a568"
   },
   "outputs": [
    {
     "name": "stdout",
     "output_type": "stream",
     "text": [
      "KNN Algo normalized and filtered outlier data:\n",
      "\n",
      "\n",
      "Training finished. Duration:\n",
      "0:00:00.043800\n",
      "\n",
      "\n",
      "Prediction finished. Duration:\n",
      "0:00:03.761823\n",
      "\n",
      "\n",
      "Model Score of training:\n",
      "0.9946430523668962\n",
      "\n",
      "\n",
      "Model Score of unseen test data:\n",
      "0.9787674779906784\n",
      "\n",
      "\n",
      "Confusion Matrix of labels and predicted labels in test data:\n",
      "[[818   0   0   0   0  24   0   0   2   0   0]\n",
      " [  1 846   0   0   0   0   0   0   0  30   1]\n",
      " [  0   0 878   0   3   0   0   0   0   0   0]\n",
      " [  0   0   2 876   4   0   0   2   0   0   0]\n",
      " [  1   0   6   7 870   1   0   8   0   0   0]\n",
      " [ 23   0   1   0   1 836   0   0  19   0   0]\n",
      " [  0   0   0   0   0   0 851   0   0   0   0]\n",
      " [  3   0   0   1   5   3   0 860   0   0   0]\n",
      " [  2   1   4   0   1  19   0   0 897   2   0]\n",
      " [  0  28   0   0   0   0   0   0   0 852   0]\n",
      " [  0   0   0   0   0   0   0   0   0   0 866]]\n"
     ]
    }
   ],
   "source": [
    "#2. Durchführung mit normalisiertem Datensatz ohne potenzielle Outliers.\n",
    "print('KNN Algo normalized and filtered outlier data:')\n",
    "print('\\n')\n",
    "res_list_knn_z,cm_knn_z,knn_z = KNN_Algo(df_data_train_norm_z,df_data_test_norm_z,df_labels_train_z,df_labels_test_z,n_z)"
   ]
  },
  {
   "cell_type": "code",
   "execution_count": 0,
   "metadata": {
    "colab": {},
    "colab_type": "code",
    "id": "fCHIQIIWy7lv"
   },
   "outputs": [],
   "source": [
    "results.loc['K-NN','Runtime Training without Outliers':'Score Test-Set without Outliers'] = res_list_knn_z"
   ]
  },
  {
   "cell_type": "code",
   "execution_count": 49,
   "metadata": {
    "colab": {
     "base_uri": "https://localhost:8080/",
     "height": 51
    },
    "colab_type": "code",
    "id": "z8d1HMdYn-PR",
    "outputId": "1d51140e-101b-4146-f50e-931b13b26482"
   },
   "outputs": [
    {
     "name": "stdout",
     "output_type": "stream",
     "text": [
      "{3: 0.983469387755102, 5: 0.9830102040816326, 7: 0.9820918367346938, 9: 0.9816836734693876, 11: 0.981326530612245, 13: 0.9810204081632653, 15: 0.9795408163265306}\n",
      "Best n_neighbor for normalized data (PCA Components) with cross val score:  3\n"
     ]
    }
   ],
   "source": [
    "best_n_pca = get_best_neighbors(df_data_train_norm_pca,df_labels_train_pca,splits=5,test_size=0.2)\n",
    "print(best_n_pca)\n",
    "n_pca = max(best_n_pca, key=best_n_pca.get)\n",
    "\n",
    "print('Best n_neighbor for normalized data (PCA Components) with cross val score: ',n_pca)"
   ]
  },
  {
   "cell_type": "code",
   "execution_count": 50,
   "metadata": {
    "colab": {
     "base_uri": "https://localhost:8080/",
     "height": 544
    },
    "colab_type": "code",
    "id": "a-7zoue2n-f4",
    "outputId": "0ad39473-054f-4bb0-e1cb-45d116798bc5"
   },
   "outputs": [
    {
     "name": "stdout",
     "output_type": "stream",
     "text": [
      "KNN Algo with PCA Components:\n",
      "\n",
      "\n",
      "Training finished. Duration:\n",
      "0:00:00.020597\n",
      "\n",
      "\n",
      "Prediction finished. Duration:\n",
      "0:00:01.491627\n",
      "\n",
      "\n",
      "Model Score of training:\n",
      "0.9941326530612244\n",
      "\n",
      "\n",
      "Model Score of unseen test data:\n",
      "0.9814603832211289\n",
      "\n",
      "\n",
      "Confusion Matrix of labels and predicted labels in test data:\n",
      "[[811   0   0   0   0  29   0   1   3   0   0]\n",
      " [  0 854   0   0   0   1   0   0   2  21   0]\n",
      " [  0   0 878   0   2   1   0   0   0   0   0]\n",
      " [  0   0   2 876   6   0   0   0   0   0   0]\n",
      " [  0   0   7   8 868   1   0   9   0   0   0]\n",
      " [ 10   0   1   1   0 851   0   0  17   0   0]\n",
      " [  0   0   0   0   0   0 851   0   0   0   0]\n",
      " [  0   0   2   1   2   1   0 866   0   0   0]\n",
      " [  2   1   1   0   1  23   0   0 897   1   0]\n",
      " [  0  22   0   0   0   0   0   0   0 858   0]\n",
      " [  0   0   0   0   0   0   0   0   0   0 866]]\n"
     ]
    }
   ],
   "source": [
    "print('KNN Algo with PCA Components:')\n",
    "print('\\n')\n",
    "res_list_knn_pca,cm_knn_pca,knn_pca = KNN_Algo(df_data_train_norm_pca,df_data_test_norm_pca,df_labels_train_pca,df_labels_test_pca,n_pca)"
   ]
  },
  {
   "cell_type": "code",
   "execution_count": 0,
   "metadata": {
    "colab": {},
    "colab_type": "code",
    "id": "SFH7D16vn-sk"
   },
   "outputs": [],
   "source": [
    "results.loc['K-NN','Runtime Training PCA Features':'Score Test-Set PCA Features'] = res_list_knn_pca"
   ]
  },
  {
   "cell_type": "code",
   "execution_count": 52,
   "metadata": {
    "colab": {
     "base_uri": "https://localhost:8080/",
     "height": 51
    },
    "colab_type": "code",
    "id": "K1stpLa-QlD9",
    "outputId": "0dc5f4de-a67f-4364-acc0-c5724b3d6ba1"
   },
   "outputs": [
    {
     "name": "stdout",
     "output_type": "stream",
     "text": [
      "{3: 0.996734693877551, 5: 0.9961734693877553, 7: 0.9952551020408162, 9: 0.9951530612244899, 11: 0.9946428571428572, 13: 0.9940816326530613, 15: 0.9935714285714285}\n",
      "Best n_neighbor for normalized data (20 \"best\" features) with cross val score:  3\n"
     ]
    }
   ],
   "source": [
    "best_n_chi = get_best_neighbors(df_data_train_norm_chi,df_labels_train_chi,splits=5,test_size=0.2)\n",
    "print(best_n_chi)\n",
    "n_chi = max(best_n_chi, key=best_n_chi.get)\n",
    "\n",
    "print('Best n_neighbor for normalized data (20 \"best\" features) with cross val score: ',n_chi)"
   ]
  },
  {
   "cell_type": "code",
   "execution_count": 53,
   "metadata": {
    "colab": {
     "base_uri": "https://localhost:8080/",
     "height": 544
    },
    "colab_type": "code",
    "id": "5H0vad5ENt4n",
    "outputId": "df449f76-9aaf-4578-f7ab-82fee373d628"
   },
   "outputs": [
    {
     "name": "stdout",
     "output_type": "stream",
     "text": [
      "KNN Algo with normalized data, but only 20 features out of chi square test:\n",
      "\n",
      "\n",
      "Training finished. Duration:\n",
      "0:00:00.033750\n",
      "\n",
      "\n",
      "Prediction finished. Duration:\n",
      "0:00:01.119489\n",
      "\n",
      "\n",
      "Model Score of training:\n",
      "0.9989285714285714\n",
      "\n",
      "\n",
      "Model Score of unseen test data:\n",
      "0.9976178146038323\n",
      "\n",
      "\n",
      "Confusion Matrix of labels and predicted labels in test data:\n",
      "[[842   0   0   0   0   1   0   0   1   0   0]\n",
      " [  0 874   0   0   1   0   0   0   1   2   0]\n",
      " [  0   0 881   0   0   0   0   0   0   0   0]\n",
      " [  0   0   0 884   0   0   0   0   0   0   0]\n",
      " [  0   0   0   0 893   0   0   0   0   0   0]\n",
      " [  2   0   0   0   0 876   0   0   2   0   0]\n",
      " [  0   0   0   0   0   0 851   0   0   0   0]\n",
      " [  0   0   0   0   0   0   0 872   0   0   0]\n",
      " [  2   1   0   0   0   7   0   0 914   2   0]\n",
      " [  0   1   0   0   0   0   0   0   0 879   0]\n",
      " [  0   0   0   0   0   0   0   0   0   0 866]]\n"
     ]
    }
   ],
   "source": [
    "#3. Durchführung mit normalisiertem Datensatz und KBest Features aus Chi²-Test.\n",
    "print('KNN Algo with normalized data, but only 20 features out of chi square test:')\n",
    "print('\\n')\n",
    "res_list_knn_chi,cm_knn_chi,knn_chi = KNN_Algo(df_data_train_norm_chi,df_data_test_norm_chi,df_labels_train_chi,df_labels_test_chi,n_chi)"
   ]
  },
  {
   "cell_type": "code",
   "execution_count": 0,
   "metadata": {
    "colab": {},
    "colab_type": "code",
    "id": "zOs8EIbuzNaa"
   },
   "outputs": [],
   "source": [
    "results.loc['K-NN','Runtime Training KBest Features':'Score Test-Set KBest Features'] = res_list_knn_chi"
   ]
  },
  {
   "cell_type": "code",
   "execution_count": 55,
   "metadata": {
    "colab": {
     "base_uri": "https://localhost:8080/",
     "height": 388
    },
    "colab_type": "code",
    "id": "HXB7yXSU0Tj1",
    "outputId": "633a3a24-788d-4e40-ddb6-1634a881cd42"
   },
   "outputs": [
    {
     "data": {
      "text/html": [
       "<div>\n",
       "<style scoped>\n",
       "    .dataframe tbody tr th:only-of-type {\n",
       "        vertical-align: middle;\n",
       "    }\n",
       "\n",
       "    .dataframe tbody tr th {\n",
       "        vertical-align: top;\n",
       "    }\n",
       "\n",
       "    .dataframe thead th {\n",
       "        text-align: right;\n",
       "    }\n",
       "</style>\n",
       "<table border=\"1\" class=\"dataframe\">\n",
       "  <thead>\n",
       "    <tr style=\"text-align: right;\">\n",
       "      <th></th>\n",
       "      <th>Runtime Training</th>\n",
       "      <th>Runtime Prediction</th>\n",
       "      <th>Score Trainings-Set</th>\n",
       "      <th>Score Test-Set</th>\n",
       "      <th>Runtime Training without Outliers</th>\n",
       "      <th>Runtime Prediction without Outliers</th>\n",
       "      <th>Score Trainings-Set without Outliers</th>\n",
       "      <th>Score Test-Set without Outliers</th>\n",
       "      <th>Runtime Training PCA Features</th>\n",
       "      <th>Runtime Prediction PCA Features</th>\n",
       "      <th>Score Trainings-Set PCA Features</th>\n",
       "      <th>Score Test-Set PCA Features</th>\n",
       "      <th>Runtime Training KBest Features</th>\n",
       "      <th>Runtime Prediction KBest Features</th>\n",
       "      <th>Score Trainings-Set KBest Features</th>\n",
       "      <th>Score Test-Set KBest Features</th>\n",
       "    </tr>\n",
       "  </thead>\n",
       "  <tbody>\n",
       "    <tr>\n",
       "      <th>1-NN</th>\n",
       "      <td>0:00:00.053410</td>\n",
       "      <td>0:00:00.955113</td>\n",
       "      <td>1</td>\n",
       "      <td>0.975142</td>\n",
       "      <td>0:00:00.046426</td>\n",
       "      <td>0:00:00.927025</td>\n",
       "      <td>1</td>\n",
       "      <td>0.975867</td>\n",
       "      <td>0:00:00.025105</td>\n",
       "      <td>0:00:00.765180</td>\n",
       "      <td>1</td>\n",
       "      <td>0.980735</td>\n",
       "      <td>0:00:00.035764</td>\n",
       "      <td>0:00:00.786717</td>\n",
       "      <td>1</td>\n",
       "      <td>0.998343</td>\n",
       "    </tr>\n",
       "    <tr>\n",
       "      <th>K-NN</th>\n",
       "      <td>0:00:00.056642</td>\n",
       "      <td>0:00:09.869611</td>\n",
       "      <td>0.989286</td>\n",
       "      <td>0.979803</td>\n",
       "      <td>0:00:00.043800</td>\n",
       "      <td>0:00:03.761823</td>\n",
       "      <td>0.994643</td>\n",
       "      <td>0.978767</td>\n",
       "      <td>0:00:00.020597</td>\n",
       "      <td>0:00:01.491627</td>\n",
       "      <td>0.994133</td>\n",
       "      <td>0.98146</td>\n",
       "      <td>0:00:00.033750</td>\n",
       "      <td>0:00:01.119489</td>\n",
       "      <td>0.998929</td>\n",
       "      <td>0.997618</td>\n",
       "    </tr>\n",
       "    <tr>\n",
       "      <th>Bayes</th>\n",
       "      <td>NaN</td>\n",
       "      <td>NaN</td>\n",
       "      <td>NaN</td>\n",
       "      <td>NaN</td>\n",
       "      <td>NaN</td>\n",
       "      <td>NaN</td>\n",
       "      <td>NaN</td>\n",
       "      <td>NaN</td>\n",
       "      <td>NaN</td>\n",
       "      <td>NaN</td>\n",
       "      <td>NaN</td>\n",
       "      <td>NaN</td>\n",
       "      <td>NaN</td>\n",
       "      <td>NaN</td>\n",
       "      <td>NaN</td>\n",
       "      <td>NaN</td>\n",
       "    </tr>\n",
       "    <tr>\n",
       "      <th>Decision Tree</th>\n",
       "      <td>NaN</td>\n",
       "      <td>NaN</td>\n",
       "      <td>NaN</td>\n",
       "      <td>NaN</td>\n",
       "      <td>NaN</td>\n",
       "      <td>NaN</td>\n",
       "      <td>NaN</td>\n",
       "      <td>NaN</td>\n",
       "      <td>NaN</td>\n",
       "      <td>NaN</td>\n",
       "      <td>NaN</td>\n",
       "      <td>NaN</td>\n",
       "      <td>NaN</td>\n",
       "      <td>NaN</td>\n",
       "      <td>NaN</td>\n",
       "      <td>NaN</td>\n",
       "    </tr>\n",
       "    <tr>\n",
       "      <th>Random Forrest</th>\n",
       "      <td>NaN</td>\n",
       "      <td>NaN</td>\n",
       "      <td>NaN</td>\n",
       "      <td>NaN</td>\n",
       "      <td>NaN</td>\n",
       "      <td>NaN</td>\n",
       "      <td>NaN</td>\n",
       "      <td>NaN</td>\n",
       "      <td>NaN</td>\n",
       "      <td>NaN</td>\n",
       "      <td>NaN</td>\n",
       "      <td>NaN</td>\n",
       "      <td>NaN</td>\n",
       "      <td>NaN</td>\n",
       "      <td>NaN</td>\n",
       "      <td>NaN</td>\n",
       "    </tr>\n",
       "    <tr>\n",
       "      <th>SVM</th>\n",
       "      <td>NaN</td>\n",
       "      <td>NaN</td>\n",
       "      <td>NaN</td>\n",
       "      <td>NaN</td>\n",
       "      <td>NaN</td>\n",
       "      <td>NaN</td>\n",
       "      <td>NaN</td>\n",
       "      <td>NaN</td>\n",
       "      <td>NaN</td>\n",
       "      <td>NaN</td>\n",
       "      <td>NaN</td>\n",
       "      <td>NaN</td>\n",
       "      <td>NaN</td>\n",
       "      <td>NaN</td>\n",
       "      <td>NaN</td>\n",
       "      <td>NaN</td>\n",
       "    </tr>\n",
       "    <tr>\n",
       "      <th>ANN</th>\n",
       "      <td>NaN</td>\n",
       "      <td>NaN</td>\n",
       "      <td>NaN</td>\n",
       "      <td>NaN</td>\n",
       "      <td>NaN</td>\n",
       "      <td>NaN</td>\n",
       "      <td>NaN</td>\n",
       "      <td>NaN</td>\n",
       "      <td>NaN</td>\n",
       "      <td>NaN</td>\n",
       "      <td>NaN</td>\n",
       "      <td>NaN</td>\n",
       "      <td>NaN</td>\n",
       "      <td>NaN</td>\n",
       "      <td>NaN</td>\n",
       "      <td>NaN</td>\n",
       "    </tr>\n",
       "  </tbody>\n",
       "</table>\n",
       "</div>"
      ],
      "text/plain": [
       "               Runtime Training  ... Score Test-Set KBest Features\n",
       "1-NN             0:00:00.053410  ...                      0.998343\n",
       "K-NN             0:00:00.056642  ...                      0.997618\n",
       "Bayes                       NaN  ...                           NaN\n",
       "Decision Tree               NaN  ...                           NaN\n",
       "Random Forrest              NaN  ...                           NaN\n",
       "SVM                         NaN  ...                           NaN\n",
       "ANN                         NaN  ...                           NaN\n",
       "\n",
       "[7 rows x 16 columns]"
      ]
     },
     "execution_count": 55,
     "metadata": {
      "tags": []
     },
     "output_type": "execute_result"
    }
   ],
   "source": [
    "results"
   ]
  },
  {
   "cell_type": "markdown",
   "metadata": {
    "colab_type": "text",
    "id": "-_DQHA8iUwV7"
   },
   "source": [
    "**Fazit:**\n",
    "\n",
    "- Bestes Ergebnis mit KBest Features aus Chi²-Test\n",
    "- Filtern von Outliers (0.1% Quantile) schneidet schlechter ab als  mit Outliers --> Distanzen zwischen den Datenpunkten ist geringer, da diese jetzt alle näher beianander liegen. So kommen womöglich öfter falsche Klassifikation zustande\n",
    "\n",
    "- Sehr schnelle Trainingszeit, da Daten nur geladen werden. Dafür kann die Anwendung auf die Trainingsdaten zeitintensiv sein."
   ]
  },
  {
   "cell_type": "markdown",
   "metadata": {
    "colab_type": "text",
    "id": "A5xMF8L73Qjw"
   },
   "source": [
    "#### 4.3 Naive Bayes Classifier"
   ]
  },
  {
   "cell_type": "code",
   "execution_count": 0,
   "metadata": {
    "colab": {},
    "colab_type": "code",
    "id": "671p6zWW3Qjw"
   },
   "outputs": [],
   "source": [
    "from sklearn.naive_bayes import GaussianNB\n",
    "from sklearn.metrics import confusion_matrix\n",
    "\n",
    "def Bayes_Classifier(train_data,test_data,train_labels,test_labels):\n",
    "    \"\"\"\n",
    "    Naive Bayes Classifier Algorithm function. Initializing, training and test.\n",
    "    \"\"\"\n",
    "\n",
    "    #Create a Gaussian Classifier\n",
    "    gnb = GaussianNB()\n",
    "  \n",
    "    #Starte Training\n",
    "    start = timer() #Stoppe Trainingszeit\n",
    "    gnb.fit(train_data,train_labels)\n",
    "    end = timer() #Ende Training\n",
    "    train_duration = timedelta(seconds=end-start)\n",
    "    print(\"Training finished. Duration:\")\n",
    "    print(train_duration)\n",
    "    print(\"\\n\")\n",
    "\n",
    "    # Test des Models auf Trainingsdaten\n",
    "    start = timer() #Stoppe Zeit fuer Prediction\n",
    "    y_pred = gnb.predict(train_data)\n",
    "    end = timer() #Ende Prediction\n",
    "    y_pred_test = gnb.predict(test_data)\n",
    "  \n",
    "    test_duration = timedelta(seconds=end-start)\n",
    "    print(\"Prediction finished. Duration:\")\n",
    "    print(test_duration)\n",
    "    print(\"\\n\")\n",
    "\n",
    "    #Predict the response for training dataset\n",
    "    print(\"Model Score of training:\")\n",
    "    train_score = gnb.score(train_data, train_labels)\n",
    "    print(train_score)\n",
    "    print(\"\\n\")\n",
    "\n",
    "    #Predict the response for an unseen dataset\n",
    "    print(\"Model Score of unseen test data:\")\n",
    "    test_score = gnb.score(test_data, test_labels)\n",
    "    print(test_score)\n",
    "    print(\"\\n\")\n",
    "\n",
    "    #Print Confusion Matrix for training dataset\n",
    "    print(\"Confusion Matrix of labels and predicted labels in test data:\")\n",
    "    cm = confusion_matrix(test_labels, y_pred_test)\n",
    "    print(cm)\n",
    "\n",
    "    res_list = [train_duration,test_duration,train_score,test_score]\n",
    "    return res_list,cm,gnb"
   ]
  },
  {
   "cell_type": "code",
   "execution_count": 57,
   "metadata": {
    "colab": {
     "base_uri": "https://localhost:8080/",
     "height": 544
    },
    "colab_type": "code",
    "id": "cKzaeRip3Qjy",
    "outputId": "32a2790a-57d2-47f9-ef3e-5526c8571f40"
   },
   "outputs": [
    {
     "name": "stdout",
     "output_type": "stream",
     "text": [
      "Bayes Classifier Algo with normalized data:\n",
      "\n",
      "\n",
      "Training finished. Duration:\n",
      "0:00:00.033778\n",
      "\n",
      "\n",
      "Prediction finished. Duration:\n",
      "0:00:00.179122\n",
      "\n",
      "\n",
      "Model Score of training:\n",
      "0.7059183673469388\n",
      "\n",
      "\n",
      "Model Score of unseen test data:\n",
      "0.6988089073019161\n",
      "\n",
      "\n",
      "Confusion Matrix of labels and predicted labels in test data:\n",
      "[[797   0   0   0   0   1   0   1  45   0   0]\n",
      " [  0 325   0   0   0   2   0   0  31 519   1]\n",
      " [  0   1 854  16   4   0   0   6   0   0   0]\n",
      " [  0   0  72 801   2   0   3   6   0   0   0]\n",
      " [  0   0 287 466   1   0   0 138   1   0   0]\n",
      " [398   0  22   0   0  14   0   1 445   0   0]\n",
      " [  0   0   0  42   0   0 809   0   0   0   0]\n",
      " [  2   0  48 264   5   0   0 550   3   0   0]\n",
      " [ 32   2   0   0   0   7   0   0 884   1   0]\n",
      " [  0  22   0   0   0   0   0   0  11 847   0]\n",
      " [  0   1   0   0   0   0   0   0   0   0 865]]\n"
     ]
    }
   ],
   "source": [
    "#1. Durchführung mit normalisiertem Datensatz.\n",
    "print('Bayes Classifier Algo with normalized data:')\n",
    "print('\\n')\n",
    "res_list_gnb_norm,cm_gnb_norm,gnb_norm = Bayes_Classifier(df_data_train_norm,df_data_test_norm,df_labels_train,df_labels_test)"
   ]
  },
  {
   "cell_type": "code",
   "execution_count": 0,
   "metadata": {
    "colab": {},
    "colab_type": "code",
    "id": "KTSB1iCDHa0O"
   },
   "outputs": [],
   "source": [
    "results.loc['Bayes','Runtime Training':'Score Test-Set'] = res_list_gnb_norm"
   ]
  },
  {
   "cell_type": "code",
   "execution_count": 59,
   "metadata": {
    "colab": {
     "base_uri": "https://localhost:8080/",
     "height": 544
    },
    "colab_type": "code",
    "id": "0gFLwAJgCj9W",
    "outputId": "c616f56c-d16e-48c8-8a65-1c4557137a4a"
   },
   "outputs": [
    {
     "name": "stdout",
     "output_type": "stream",
     "text": [
      "Bayes Classifier normalized and filtered outlier data:\n",
      "\n",
      "\n",
      "Training finished. Duration:\n",
      "0:00:00.020578\n",
      "\n",
      "\n",
      "Prediction finished. Duration:\n",
      "0:00:00.167061\n",
      "\n",
      "\n",
      "Model Score of training:\n",
      "0.8590794796108013\n",
      "\n",
      "\n",
      "Model Score of unseen test data:\n",
      "0.8540652511651994\n",
      "\n",
      "\n",
      "Confusion Matrix of labels and predicted labels in test data:\n",
      "[[718   0   0   0   0 104   0   0  22   0   0]\n",
      " [  0 717   0   0   0   0   0   0   4 156   1]\n",
      " [  0   0 792   8  78   1   0   2   0   0   0]\n",
      " [  0   0  71 801   7   1   0   4   0   0   0]\n",
      " [  0   0  58  59 654   0   0 122   0   0   0]\n",
      " [ 81   0   4   0   1 692   0   0 102   0   0]\n",
      " [  0   0   0   0   0   0 851   0   0   0   0]\n",
      " [  0   0   0  13 110   0   0 749   0   0   0]\n",
      " [  5   3   0   0   0 269   0   0 649   0   0]\n",
      " [  0 122   0   0   0   0   0   0   0 758   0]\n",
      " [  0   0   0   0   1   0   0   0   0   0 865]]\n"
     ]
    }
   ],
   "source": [
    "#2. Durchführung mit normalisiertem Datensatz ohne potenzielle Outliers.\n",
    "print('Bayes Classifier normalized and filtered outlier data:')\n",
    "print('\\n')\n",
    "res_list_gnb_z,cm_gnb_z,gnb_z = Bayes_Classifier(df_data_train_norm_z,df_data_test_norm_z,df_labels_train_z,df_labels_test_z)"
   ]
  },
  {
   "cell_type": "code",
   "execution_count": 0,
   "metadata": {
    "colab": {},
    "colab_type": "code",
    "id": "GiixcCy8H2jY"
   },
   "outputs": [],
   "source": [
    "results.loc['Bayes','Runtime Training without Outliers':'Score Test-Set without Outliers'] = res_list_gnb_z"
   ]
  },
  {
   "cell_type": "code",
   "execution_count": 61,
   "metadata": {
    "colab": {
     "base_uri": "https://localhost:8080/",
     "height": 544
    },
    "colab_type": "code",
    "id": "mQdvQDlK4mbg",
    "outputId": "35537e7e-2095-4931-d074-f25e3c4df5d6"
   },
   "outputs": [
    {
     "name": "stdout",
     "output_type": "stream",
     "text": [
      "Bayes Classifier normalized PCA Features:\n",
      "\n",
      "\n",
      "Training finished. Duration:\n",
      "0:00:00.016644\n",
      "\n",
      "\n",
      "Prediction finished. Duration:\n",
      "0:00:00.026949\n",
      "\n",
      "\n",
      "Model Score of training:\n",
      "0.7805102040816326\n",
      "\n",
      "\n",
      "Model Score of unseen test data:\n",
      "0.7727602278612118\n",
      "\n",
      "\n",
      "Confusion Matrix of labels and predicted labels in test data:\n",
      "[[706   0  12   0   7  88   0  16  15   0   0]\n",
      " [  0 714   0   0   0   1   0   0  14 148   1]\n",
      " [  0   0 729  30  94  15   0   5   8   0   0]\n",
      " [  0   0  71 730  48   0   7  28   0   0   0]\n",
      " [  0   0  83  71 566   0   1 172   0   0   0]\n",
      " [218   0  30   0   7 473   0   4 148   0   0]\n",
      " [  0   0   0  27   0   0 824   0   0   0   0]\n",
      " [  9   0   0  45 231   0   2 585   0   0   0]\n",
      " [ 83   4  11   0   9 256   0   0 563   0   0]\n",
      " [  0 174   0   0   0   0   0   0   1 705   0]\n",
      " [  0   0   0   0   0   0   0   0   0   0 866]]\n"
     ]
    }
   ],
   "source": [
    "print('Bayes Classifier normalized PCA Features:')\n",
    "print('\\n')\n",
    "res_list_gnb_pca,cm_gnb_pca,gnb_pca = Bayes_Classifier(df_data_train_norm_pca,df_data_test_norm_pca,df_labels_train_pca,df_labels_test_pca)"
   ]
  },
  {
   "cell_type": "code",
   "execution_count": 0,
   "metadata": {
    "colab": {},
    "colab_type": "code",
    "id": "8lJVCi6y40yO"
   },
   "outputs": [],
   "source": [
    "results.loc['Bayes','Runtime Training PCA Features':'Score Test-Set PCA Features'] = res_list_gnb_pca"
   ]
  },
  {
   "cell_type": "code",
   "execution_count": 63,
   "metadata": {
    "colab": {
     "base_uri": "https://localhost:8080/",
     "height": 544
    },
    "colab_type": "code",
    "id": "9c0tLmyAno9w",
    "outputId": "bd4833b3-e01c-4068-9910-4639c5790f2f"
   },
   "outputs": [
    {
     "name": "stdout",
     "output_type": "stream",
     "text": [
      "Bayes Classifier Algo with normalized data, but only 20 features out of chi square test:\n",
      "\n",
      "\n",
      "Training finished. Duration:\n",
      "0:00:00.018869\n",
      "\n",
      "\n",
      "Prediction finished. Duration:\n",
      "0:00:00.030698\n",
      "\n",
      "\n",
      "Model Score of training:\n",
      "0.8270918367346939\n",
      "\n",
      "\n",
      "Model Score of unseen test data:\n",
      "0.8264111859140342\n",
      "\n",
      "\n",
      "Confusion Matrix of labels and predicted labels in test data:\n",
      "[[696   0   0   0   0 137   0   0  11   0   0]\n",
      " [  0 714   0   0   0   0   0   0   8 155   1]\n",
      " [  0   0 773  15  93   0   0   0   0   0   0]\n",
      " [  0   0  72 805   7   0   0   0   0   0   0]\n",
      " [  0   0  90  52 638   0   0 113   0   0   0]\n",
      " [ 92   0   5   0   0 615   0   3 165   0   0]\n",
      " [  0   0   0   0   0   0 851   0   0   0   0]\n",
      " [  0   0   4  16 128   0   0 724   0   0   0]\n",
      " [ 41   5   0   0   0 345   0   0 535   0   0]\n",
      " [  0 118   0   0   0   0   0   0   0 762   0]\n",
      " [  0   0   0   0   0   0   0   0   0   0 866]]\n"
     ]
    }
   ],
   "source": [
    "#3. Durchführung mit normalisiertem Datensatz und KBest Features aus Chi²-Test.\n",
    "print('Bayes Classifier Algo with normalized data, but only 20 features out of chi square test:')\n",
    "print('\\n')\n",
    "res_list_gnb_chi,cm_gnb_chi,gnb_chi = Bayes_Classifier(df_data_train_norm_chi,df_data_test_norm_chi,df_labels_train_chi,df_labels_test_chi)"
   ]
  },
  {
   "cell_type": "code",
   "execution_count": 0,
   "metadata": {
    "colab": {},
    "colab_type": "code",
    "id": "I-6qqnblILNc"
   },
   "outputs": [],
   "source": [
    "results.loc['Bayes','Runtime Training KBest Features':'Score Test-Set KBest Features'] = res_list_gnb_chi"
   ]
  },
  {
   "cell_type": "code",
   "execution_count": 65,
   "metadata": {
    "colab": {
     "base_uri": "https://localhost:8080/",
     "height": 388
    },
    "colab_type": "code",
    "id": "ODKTxIHJIU7-",
    "outputId": "872c2524-3c19-401c-9402-be02b57ec9f7"
   },
   "outputs": [
    {
     "data": {
      "text/html": [
       "<div>\n",
       "<style scoped>\n",
       "    .dataframe tbody tr th:only-of-type {\n",
       "        vertical-align: middle;\n",
       "    }\n",
       "\n",
       "    .dataframe tbody tr th {\n",
       "        vertical-align: top;\n",
       "    }\n",
       "\n",
       "    .dataframe thead th {\n",
       "        text-align: right;\n",
       "    }\n",
       "</style>\n",
       "<table border=\"1\" class=\"dataframe\">\n",
       "  <thead>\n",
       "    <tr style=\"text-align: right;\">\n",
       "      <th></th>\n",
       "      <th>Runtime Training</th>\n",
       "      <th>Runtime Prediction</th>\n",
       "      <th>Score Trainings-Set</th>\n",
       "      <th>Score Test-Set</th>\n",
       "      <th>Runtime Training without Outliers</th>\n",
       "      <th>Runtime Prediction without Outliers</th>\n",
       "      <th>Score Trainings-Set without Outliers</th>\n",
       "      <th>Score Test-Set without Outliers</th>\n",
       "      <th>Runtime Training PCA Features</th>\n",
       "      <th>Runtime Prediction PCA Features</th>\n",
       "      <th>Score Trainings-Set PCA Features</th>\n",
       "      <th>Score Test-Set PCA Features</th>\n",
       "      <th>Runtime Training KBest Features</th>\n",
       "      <th>Runtime Prediction KBest Features</th>\n",
       "      <th>Score Trainings-Set KBest Features</th>\n",
       "      <th>Score Test-Set KBest Features</th>\n",
       "    </tr>\n",
       "  </thead>\n",
       "  <tbody>\n",
       "    <tr>\n",
       "      <th>1-NN</th>\n",
       "      <td>0:00:00.053410</td>\n",
       "      <td>0:00:00.955113</td>\n",
       "      <td>1</td>\n",
       "      <td>0.975142</td>\n",
       "      <td>0:00:00.046426</td>\n",
       "      <td>0:00:00.927025</td>\n",
       "      <td>1</td>\n",
       "      <td>0.975867</td>\n",
       "      <td>0:00:00.025105</td>\n",
       "      <td>0:00:00.765180</td>\n",
       "      <td>1</td>\n",
       "      <td>0.980735</td>\n",
       "      <td>0:00:00.035764</td>\n",
       "      <td>0:00:00.786717</td>\n",
       "      <td>1</td>\n",
       "      <td>0.998343</td>\n",
       "    </tr>\n",
       "    <tr>\n",
       "      <th>K-NN</th>\n",
       "      <td>0:00:00.056642</td>\n",
       "      <td>0:00:09.869611</td>\n",
       "      <td>0.989286</td>\n",
       "      <td>0.979803</td>\n",
       "      <td>0:00:00.043800</td>\n",
       "      <td>0:00:03.761823</td>\n",
       "      <td>0.994643</td>\n",
       "      <td>0.978767</td>\n",
       "      <td>0:00:00.020597</td>\n",
       "      <td>0:00:01.491627</td>\n",
       "      <td>0.994133</td>\n",
       "      <td>0.98146</td>\n",
       "      <td>0:00:00.033750</td>\n",
       "      <td>0:00:01.119489</td>\n",
       "      <td>0.998929</td>\n",
       "      <td>0.997618</td>\n",
       "    </tr>\n",
       "    <tr>\n",
       "      <th>Bayes</th>\n",
       "      <td>0:00:00.033778</td>\n",
       "      <td>0:00:00.179122</td>\n",
       "      <td>0.705918</td>\n",
       "      <td>0.698809</td>\n",
       "      <td>0:00:00.020578</td>\n",
       "      <td>0:00:00.167061</td>\n",
       "      <td>0.859079</td>\n",
       "      <td>0.854065</td>\n",
       "      <td>0:00:00.016644</td>\n",
       "      <td>0:00:00.026949</td>\n",
       "      <td>0.78051</td>\n",
       "      <td>0.77276</td>\n",
       "      <td>0:00:00.018869</td>\n",
       "      <td>0:00:00.030698</td>\n",
       "      <td>0.827092</td>\n",
       "      <td>0.826411</td>\n",
       "    </tr>\n",
       "    <tr>\n",
       "      <th>Decision Tree</th>\n",
       "      <td>NaN</td>\n",
       "      <td>NaN</td>\n",
       "      <td>NaN</td>\n",
       "      <td>NaN</td>\n",
       "      <td>NaN</td>\n",
       "      <td>NaN</td>\n",
       "      <td>NaN</td>\n",
       "      <td>NaN</td>\n",
       "      <td>NaN</td>\n",
       "      <td>NaN</td>\n",
       "      <td>NaN</td>\n",
       "      <td>NaN</td>\n",
       "      <td>NaN</td>\n",
       "      <td>NaN</td>\n",
       "      <td>NaN</td>\n",
       "      <td>NaN</td>\n",
       "    </tr>\n",
       "    <tr>\n",
       "      <th>Random Forrest</th>\n",
       "      <td>NaN</td>\n",
       "      <td>NaN</td>\n",
       "      <td>NaN</td>\n",
       "      <td>NaN</td>\n",
       "      <td>NaN</td>\n",
       "      <td>NaN</td>\n",
       "      <td>NaN</td>\n",
       "      <td>NaN</td>\n",
       "      <td>NaN</td>\n",
       "      <td>NaN</td>\n",
       "      <td>NaN</td>\n",
       "      <td>NaN</td>\n",
       "      <td>NaN</td>\n",
       "      <td>NaN</td>\n",
       "      <td>NaN</td>\n",
       "      <td>NaN</td>\n",
       "    </tr>\n",
       "    <tr>\n",
       "      <th>SVM</th>\n",
       "      <td>NaN</td>\n",
       "      <td>NaN</td>\n",
       "      <td>NaN</td>\n",
       "      <td>NaN</td>\n",
       "      <td>NaN</td>\n",
       "      <td>NaN</td>\n",
       "      <td>NaN</td>\n",
       "      <td>NaN</td>\n",
       "      <td>NaN</td>\n",
       "      <td>NaN</td>\n",
       "      <td>NaN</td>\n",
       "      <td>NaN</td>\n",
       "      <td>NaN</td>\n",
       "      <td>NaN</td>\n",
       "      <td>NaN</td>\n",
       "      <td>NaN</td>\n",
       "    </tr>\n",
       "    <tr>\n",
       "      <th>ANN</th>\n",
       "      <td>NaN</td>\n",
       "      <td>NaN</td>\n",
       "      <td>NaN</td>\n",
       "      <td>NaN</td>\n",
       "      <td>NaN</td>\n",
       "      <td>NaN</td>\n",
       "      <td>NaN</td>\n",
       "      <td>NaN</td>\n",
       "      <td>NaN</td>\n",
       "      <td>NaN</td>\n",
       "      <td>NaN</td>\n",
       "      <td>NaN</td>\n",
       "      <td>NaN</td>\n",
       "      <td>NaN</td>\n",
       "      <td>NaN</td>\n",
       "      <td>NaN</td>\n",
       "    </tr>\n",
       "  </tbody>\n",
       "</table>\n",
       "</div>"
      ],
      "text/plain": [
       "               Runtime Training  ... Score Test-Set KBest Features\n",
       "1-NN             0:00:00.053410  ...                      0.998343\n",
       "K-NN             0:00:00.056642  ...                      0.997618\n",
       "Bayes            0:00:00.033778  ...                      0.826411\n",
       "Decision Tree               NaN  ...                           NaN\n",
       "Random Forrest              NaN  ...                           NaN\n",
       "SVM                         NaN  ...                           NaN\n",
       "ANN                         NaN  ...                           NaN\n",
       "\n",
       "[7 rows x 16 columns]"
      ]
     },
     "execution_count": 65,
     "metadata": {
      "tags": []
     },
     "output_type": "execute_result"
    }
   ],
   "source": [
    "results"
   ]
  },
  {
   "cell_type": "markdown",
   "metadata": {
    "colab_type": "text",
    "id": "IDBcLE4vC3J0"
   },
   "source": [
    "#### 4.4 Decision Trees\n",
    "\n",
    "Bei Desicion Trees handelt es sich um ein Klassifikationsverfahren. Hierbei wird der Datensatz rekursiv nach einem Feature aufgeteilt. Die Aufteilung erfolgt nach dem Feature, bei dem die Aufteilung die meisten Information über das Label/die Klasse gibt.\n",
    "\n",
    "Wie entscheidet ein Tree wie er die Daten aufteilt? Für die Berechnung des Informationsgehaltes einer Aufsplittung wird 'entropy' verwendet und versucht mit jeder Aufteilung diese zu maximieren. Entropy kann Werte zwischen 0 und 1 (oder auch höher) enthalten. Je höher der Wert, umso weniger Informationsgehalt.\n",
    "\n",
    "Dies geschieht solange bis eine Stop-Bedingung erfüllt ist. Im Falle dieses Projektes wird es die maximale Tiefe des Baumes sein, der später errechnet wird."
   ]
  },
  {
   "cell_type": "markdown",
   "metadata": {
    "colab_type": "text",
    "id": "525l9HmUw8q1"
   },
   "source": [
    "##### 4.4.1 Decision Tree"
   ]
  },
  {
   "cell_type": "code",
   "execution_count": 0,
   "metadata": {
    "colab": {},
    "colab_type": "code",
    "id": "_Kpu3_HISuvI"
   },
   "outputs": [],
   "source": [
    "from sklearn.tree import DecisionTreeClassifier as DecisionTree\n",
    "import operator\n",
    "\n",
    "def get_maxdepth(train_data,train_labels):\n",
    "    ''' \n",
    "    Get the best max_depth parameter for decision trees.\n",
    "    Computation is done in a loop for values between 1 and 30.\n",
    "    '''\n",
    "    res_dt = {}\n",
    "    for depth in range(1,30): #Probiere verschieden maxdepth Parameter\n",
    "        #Initialisiere DescisionTree Classifier\n",
    "        dt = DecisionTree(criterion='entropy',max_depth=depth,min_samples_split=2,min_samples_leaf=1)\n",
    "        cv = ShuffleSplit(n_splits=5, test_size=0.2, random_state=110)\n",
    "        dt.fit(train_data,train_labels)\n",
    "        scores = cross_val_score(dt,train_data,train_labels,cv=cv)\n",
    "        res_dt[depth] = scores.mean()\n",
    "\n",
    "    res_val = list(res_dt.values())\n",
    "    print(res_dt)\n",
    "    print('Maxdepth with max score for input data: ',max(res_dt.items(), key=operator.itemgetter(1))[0])\n",
    "\n",
    "    plt.plot(range(1,30),res_val,'o')\n",
    "    plt.plot(range(1,30),res_val,'-')\n",
    "    plt.plot()\n",
    "  \n",
    "    return max(res_dt.items(), key=operator.itemgetter(1))[0]"
   ]
  },
  {
   "cell_type": "code",
   "execution_count": 0,
   "metadata": {
    "colab": {},
    "colab_type": "code",
    "id": "pnOyFZK1Cxqn"
   },
   "outputs": [],
   "source": [
    "def DecisionTree_Algo(train_data,test_data,train_labels,test_labels,max_depth=3):\n",
    "    \"\"\"\n",
    "    Initialization, Training and testing a Decision Tree Classification with training and test data.\n",
    "    Default value for max_depth=3\n",
    "\n",
    "    \"\"\"\n",
    "    #Initialisiere DescisionTree Klassifikator\n",
    "    dt = DecisionTree(criterion='entropy',max_depth=max_depth,min_samples_split=2,min_samples_leaf=1,random_state=110)\n",
    "    #Starte Training\n",
    "    start = timer() #Stoppe Trainingszeit\n",
    "    dt.fit(train_data,train_labels)\n",
    "    end = timer() #Ende Training\n",
    "    train_duration = timedelta(seconds=end-start)\n",
    "    print(\"Training finished. Duration:\")\n",
    "    print(train_duration)\n",
    "    print(\"\\n\")\n",
    "\n",
    "    # Test des Models auf Trainingsdaten\n",
    "    start = timer() #Stoppe Zeit fuer Prediction\n",
    "    y_pred = dt.predict(train_data)\n",
    "    end = timer() #Ende Prediction\n",
    "    y_pred_test = dt.predict(test_data)\n",
    "  \n",
    "    test_duration = timedelta(seconds=end-start)\n",
    "    print(\"Prediction finished. Duration:\")\n",
    "    print(test_duration)\n",
    "    print(\"\\n\")\n",
    "\n",
    "    #Predict the response for training dataset\n",
    "    print(\"Model Score of training:\")\n",
    "    train_score = dt.score(train_data, train_labels)\n",
    "    print(train_score)\n",
    "    print(\"\\n\")\n",
    "\n",
    "    #Predict the response for an unseen dataset\n",
    "    print(\"Model Score of unseen test data:\")\n",
    "    test_score = dt.score(test_data, test_labels)\n",
    "    print(test_score)\n",
    "    print(\"\\n\")\n",
    "\n",
    "    #Print Confusion Matrix for training dataset\n",
    "    print(\"Confusion Matrix of labels and predicted labels in test data:\")\n",
    "    cm = confusion_matrix(test_labels, y_pred_test)\n",
    "    print(cm)\n",
    "    \n",
    "    res_list = train_duration,test_duration,train_score,test_score\n",
    "  \n",
    "    return res_list,cm,dt"
   ]
  },
  {
   "cell_type": "code",
   "execution_count": 68,
   "metadata": {
    "colab": {
     "base_uri": "https://localhost:8080/",
     "height": 337
    },
    "colab_type": "code",
    "id": "5jxn1PSvEaAg",
    "outputId": "a8825332-6843-4b4b-8ccc-96aa544b6720"
   },
   "outputs": [
    {
     "name": "stdout",
     "output_type": "stream",
     "text": [
      "list of score for different max_depth parameters for normalized data:\n",
      "{1: 0.17147959183673467, 2: 0.365969387755102, 3: 0.670969387755102, 4: 0.8093367346938776, 5: 0.8479591836734695, 6: 0.8935714285714285, 7: 0.9264795918367346, 8: 0.9479081632653061, 9: 0.9596428571428571, 10: 0.9694897959183674, 11: 0.9727040816326532, 12: 0.9739795918367348, 13: 0.9736734693877551, 14: 0.9737244897959183, 15: 0.9747959183673469, 16: 0.9740816326530612, 17: 0.9745918367346939, 18: 0.9745408163265307, 19: 0.9740816326530612, 20: 0.9737244897959185, 21: 0.9744897959183673, 22: 0.974438775510204, 23: 0.9741836734693878, 24: 0.9730612244897958, 25: 0.9738775510204082, 26: 0.9735204081632652, 27: 0.9741836734693878, 28: 0.9741326530612244, 29: 0.9740816326530612}\n",
      "Maxdepth with max score for input data:  15\n"
     ]
    },
    {
     "data": {
      "image/png": "[encoded data removed]",
      "text/plain": [
       "<Figure size 432x288 with 1 Axes>"
      ]
     },
     "metadata": {
      "tags": []
     },
     "output_type": "display_data"
    }
   ],
   "source": [
    "#1. get_maxdeoth für DecisionTree mit normalisiertem Datensatz\n",
    "print('list of score for different max_depth parameters for normalized data:')\n",
    "max_depth = get_maxdepth(df_data_train_norm,df_labels_train)"
   ]
  },
  {
   "cell_type": "code",
   "execution_count": 69,
   "metadata": {
    "colab": {
     "base_uri": "https://localhost:8080/",
     "height": 544
    },
    "colab_type": "code",
    "id": "XHsOsGcdfzoC",
    "outputId": "0c1f4cb0-96c9-4a2d-8017-8534c7e816dd"
   },
   "outputs": [
    {
     "name": "stdout",
     "output_type": "stream",
     "text": [
      "DecisionTree Algo with normalized data:\n",
      "\n",
      "\n",
      "Training finished. Duration:\n",
      "0:00:02.125919\n",
      "\n",
      "\n",
      "Prediction finished. Duration:\n",
      "0:00:00.005740\n",
      "\n",
      "\n",
      "Model Score of training:\n",
      "1.0\n",
      "\n",
      "\n",
      "Model Score of unseen test data:\n",
      "0.9815639564992232\n",
      "\n",
      "\n",
      "Confusion Matrix of labels and predicted labels in test data:\n",
      "[[834   0   0   0   0   8   0   0   2   0   0]\n",
      " [  0 846   1   1   0   0   0   0   3  26   1]\n",
      " [  0   0 876   0   4   1   0   0   0   0   0]\n",
      " [  0   0   2 876   2   0   0   4   0   0   0]\n",
      " [  0   0  12   4 860   0   0  17   0   0   0]\n",
      " [ 15   0   0   0   0 850   0   0  15   0   0]\n",
      " [  0   0   0   0   0   0 851   0   0   0   0]\n",
      " [  0   0   1   2   8   2   0 859   0   0   0]\n",
      " [  4   1   0   0   0  23   0   0 896   2   0]\n",
      " [  0  16   0   0   0   0   0   0   1 863   0]\n",
      " [  0   0   0   0   0   0   0   0   0   0 866]]\n"
     ]
    }
   ],
   "source": [
    "#1.Klassifikation mit Decision Tree\n",
    "print('DecisionTree Algo with normalized data:')\n",
    "print('\\n')\n",
    "res_list_dt_norm,cm_dt_norm,dt_norm = DecisionTree_Algo(df_data_train_norm,df_data_test_norm,df_labels_train,df_labels_test,15)"
   ]
  },
  {
   "cell_type": "code",
   "execution_count": 0,
   "metadata": {
    "colab": {},
    "colab_type": "code",
    "id": "GUbnuZy_M4tf"
   },
   "outputs": [],
   "source": [
    "results.loc['Decision Tree','Runtime Training':'Score Test-Set'] = res_list_dt_norm"
   ]
  },
  {
   "cell_type": "code",
   "execution_count": 71,
   "metadata": {
    "colab": {
     "base_uri": "https://localhost:8080/",
     "height": 336
    },
    "colab_type": "code",
    "id": "KXO2quxqYa_2",
    "outputId": "14653253-0021-46a3-f8cf-3d9932ae52e7"
   },
   "outputs": [
    {
     "name": "stdout",
     "output_type": "stream",
     "text": [
      "list of score for different max_depth parameters for normalized data without outlier:\n",
      "{1: 0.17305274665209072, 2: 0.3580759770429079, 3: 0.6726974583219458, 4: 0.8129543591145122, 5: 0.8534025690079258, 6: 0.8969663842579939, 7: 0.9264279857884669, 8: 0.9492210986608363, 9: 0.9632139928942334, 10: 0.9703744192402297, 11: 0.9738726427985789, 12: 0.9761136922656464, 13: 0.9760043727794478, 14: 0.9757857338070511, 15: 0.9757857338070511, 16: 0.9755670948346543, 17: 0.9755124350915552, 18: 0.9761136922656464, 19: 0.9756217545777535, 20: 0.9752937961191581, 21: 0.9750751571467615, 22: 0.9755124350915549, 23: 0.9759497130363487, 24: 0.9751298168898608, 25: 0.9753484558622574, 26: 0.9749111779174638, 27: 0.9756217545777535, 28: 0.9749111779174638, 29: 0.9756217545777535}\n",
      "Maxdepth with max score for input data:  12\n"
     ]
    },
    {
     "data": {
      "image/png": "[encoded data removed]",
      "text/plain": [
       "<Figure size 432x288 with 1 Axes>"
      ]
     },
     "metadata": {
      "tags": []
     },
     "output_type": "display_data"
    }
   ],
   "source": [
    "#2. DecisionTree mit normalisierten Daten ohne Outlier\n",
    "print('list of score for different max_depth parameters for normalized data without outlier:')\n",
    "max_depth_z = get_maxdepth(df_data_train_norm_z,df_labels_train_z)"
   ]
  },
  {
   "cell_type": "code",
   "execution_count": 72,
   "metadata": {
    "colab": {
     "base_uri": "https://localhost:8080/",
     "height": 544
    },
    "colab_type": "code",
    "id": "j1-rKV7kgVXo",
    "outputId": "bb7faf5a-a46c-46c8-b3f1-2feea95e3243"
   },
   "outputs": [
    {
     "name": "stdout",
     "output_type": "stream",
     "text": [
      "DecisionTree Algo with normalized data without outlier:\n",
      "\n",
      "\n",
      "Training finished. Duration:\n",
      "0:00:01.947541\n",
      "\n",
      "\n",
      "Prediction finished. Duration:\n",
      "0:00:00.004834\n",
      "\n",
      "\n",
      "Model Score of training:\n",
      "0.9980321416857986\n",
      "\n",
      "\n",
      "Model Score of unseen test data:\n",
      "0.9808389435525634\n",
      "\n",
      "\n",
      "Confusion Matrix of labels and predicted labels in test data:\n",
      "[[831   0   0   0   0  13   0   0   0   0   0]\n",
      " [  0 852   0   1   0   2   0   0   3  19   1]\n",
      " [  0   0 864   0  15   0   0   2   0   0   0]\n",
      " [  0   0   2 876   5   0   0   1   0   0   0]\n",
      " [  0   0  12   3 860   0   0  18   0   0   0]\n",
      " [ 12   1   0   0   0 849   0   0  18   0   0]\n",
      " [  0   0   0   0   0   0 851   0   0   0   0]\n",
      " [  0   0   1   1  13   0   0 857   0   0   0]\n",
      " [  5   1   0   0   0  15   0   0 903   2   0]\n",
      " [  0  19   0   0   0   0   0   0   0 861   0]\n",
      " [  0   0   0   0   0   0   0   0   0   0 866]]\n"
     ]
    }
   ],
   "source": [
    "#2. Decision Tree Klassifikation für normalisierte Daten ohne Outlier\n",
    "print('DecisionTree Algo with normalized data without outlier:')\n",
    "print('\\n')\n",
    "res_list_dt_z,cm_dt_z,dt_z = DecisionTree_Algo(df_data_train_norm_z,df_data_test_norm_z,df_labels_train_z,df_labels_test_z,max_depth_z)"
   ]
  },
  {
   "cell_type": "code",
   "execution_count": 0,
   "metadata": {
    "colab": {},
    "colab_type": "code",
    "id": "kTcydHZ2NVd1"
   },
   "outputs": [],
   "source": [
    "results.loc['Decision Tree','Runtime Training without Outliers':'Score Test-Set without Outliers'] = res_list_dt_z"
   ]
  },
  {
   "cell_type": "code",
   "execution_count": 74,
   "metadata": {
    "colab": {
     "base_uri": "https://localhost:8080/",
     "height": 337
    },
    "colab_type": "code",
    "id": "FL501_OXMeyP",
    "outputId": "93564b6a-e677-49b8-cf28-ccebbf7e02ae"
   },
   "outputs": [
    {
     "name": "stdout",
     "output_type": "stream",
     "text": [
      "list of score for different max_depth parameters for normalized data with pca features:\n",
      "{1: 0.18214285714285713, 2: 0.3618877551020408, 3: 0.5449489795918367, 4: 0.7098979591836734, 5: 0.7506122448979591, 6: 0.7914795918367347, 7: 0.8411734693877552, 8: 0.8904591836734694, 9: 0.9096428571428572, 10: 0.929030612244898, 11: 0.952295918367347, 12: 0.9641836734693877, 13: 0.9684183673469388, 14: 0.9724489795918366, 15: 0.971938775510204, 16: 0.9729081632653062, 17: 0.9723979591836734, 18: 0.9733673469387755, 19: 0.9722959183673471, 20: 0.9721938775510204, 21: 0.9720408163265306, 22: 0.9720408163265306, 23: 0.9724489795918367, 24: 0.9726020408163265, 25: 0.9735714285714285, 26: 0.972091836734694, 27: 0.9728061224489796, 28: 0.9719897959183672, 29: 0.9722959183673471}\n",
      "Maxdepth with max score for input data:  25\n"
     ]
    },
    {
     "data": {
      "image/png": "[encoded data removed]",
      "text/plain": [
       "<Figure size 432x288 with 1 Axes>"
      ]
     },
     "metadata": {
      "tags": []
     },
     "output_type": "display_data"
    }
   ],
   "source": [
    "print('list of score for different max_depth parameters for normalized data with pca features:')\n",
    "max_depth_pca = get_maxdepth(df_data_train_norm_pca,df_labels_train_pca)"
   ]
  },
  {
   "cell_type": "code",
   "execution_count": 75,
   "metadata": {
    "colab": {
     "base_uri": "https://localhost:8080/",
     "height": 544
    },
    "colab_type": "code",
    "id": "NTL07Pz6giky",
    "outputId": "062f16cc-fe71-4216-fde0-1573399d7bee"
   },
   "outputs": [
    {
     "name": "stdout",
     "output_type": "stream",
     "text": [
      "DecisionTree Algo with normalized data and PCA Features:\n",
      "\n",
      "\n",
      "Training finished. Duration:\n",
      "0:00:00.914355\n",
      "\n",
      "\n",
      "Prediction finished. Duration:\n",
      "0:00:00.004235\n",
      "\n",
      "\n",
      "Model Score of training:\n",
      "1.0\n",
      "\n",
      "\n",
      "Model Score of unseen test data:\n",
      "0.9781460383221129\n",
      "\n",
      "\n",
      "Confusion Matrix of labels and predicted labels in test data:\n",
      "[[820   0   0   0   0   9   0   2  13   0   0]\n",
      " [  0 859   0   0   0   1   0   0   2  15   1]\n",
      " [  0   0 870   5   4   2   0   0   0   0   0]\n",
      " [  0   0   3 876   4   0   1   0   0   0   0]\n",
      " [  0   0  12   5 857   0   0  18   1   0   0]\n",
      " [ 19   0   3   0   1 836   0   0  21   0   0]\n",
      " [  0   0   0   1   0   0 850   0   0   0   0]\n",
      " [  1   1   0   0  19   0   0 851   0   0   0]\n",
      " [  9   2   1   0   0  15   0   0 898   1   0]\n",
      " [  0  18   0   0   0   0   0   0   1 861   0]\n",
      " [  0   0   0   0   0   0   0   0   0   0 866]]\n"
     ]
    }
   ],
   "source": [
    "print('DecisionTree Algo with normalized data and PCA Features:')\n",
    "print('\\n')\n",
    "res_list_dt_pca,cm_dt_pca,dt_pca = DecisionTree_Algo(df_data_train_norm_pca,df_data_test_norm_pca,df_labels_train_pca,df_labels_test_pca,max_depth_pca)"
   ]
  },
  {
   "cell_type": "code",
   "execution_count": 0,
   "metadata": {
    "colab": {},
    "colab_type": "code",
    "id": "D1aSrIbdMfN4"
   },
   "outputs": [],
   "source": [
    "results.loc['Decision Tree','Runtime Training PCA Features':'Score Test-Set PCA Features'] = res_list_dt_pca"
   ]
  },
  {
   "cell_type": "code",
   "execution_count": 77,
   "metadata": {
    "colab": {
     "base_uri": "https://localhost:8080/",
     "height": 336
    },
    "colab_type": "code",
    "id": "wqwsAeN8Yrj-",
    "outputId": "7b964297-6391-4726-ad2b-7f6097a81a55"
   },
   "outputs": [
    {
     "name": "stdout",
     "output_type": "stream",
     "text": [
      "list of score for different max_depth parameters for normalized data with 20 features:\n",
      "{1: 0.17147959183673467, 2: 0.365969387755102, 3: 0.6710204081632652, 4: 0.7886734693877552, 5: 0.8324489795918367, 6: 0.8652040816326532, 7: 0.8970918367346938, 8: 0.9231122448979591, 9: 0.9404081632653062, 10: 0.9602551020408164, 11: 0.9680102040816326, 12: 0.9736224489795917, 13: 0.9781632653061225, 14: 0.9804591836734693, 15: 0.9802551020408163, 16: 0.9808163265306122, 17: 0.9803571428571429, 18: 0.9816836734693878, 19: 0.981326530612245, 20: 0.980561224489796, 21: 0.9815816326530612, 22: 0.9807142857142859, 23: 0.9811734693877551, 24: 0.9815306122448979, 25: 0.9817857142857143, 26: 0.9815816326530612, 27: 0.9804591836734693, 28: 0.980765306122449, 29: 0.9807142857142856}\n",
      "Maxdepth with max score for input data:  25\n"
     ]
    },
    {
     "data": {
      "image/png": "[encoded data removed]",
      "text/plain": [
       "<Figure size 432x288 with 1 Axes>"
      ]
     },
     "metadata": {
      "tags": []
     },
     "output_type": "display_data"
    }
   ],
   "source": [
    "#3. DecisionTree mit normalisiertem Datensatz und 20 besten Features\n",
    "print('list of score for different max_depth parameters for normalized data with 20 features:')\n",
    "max_depth_chi = get_maxdepth(df_data_train_norm_chi,df_labels_train_chi)"
   ]
  },
  {
   "cell_type": "code",
   "execution_count": 78,
   "metadata": {
    "colab": {
     "base_uri": "https://localhost:8080/",
     "height": 544
    },
    "colab_type": "code",
    "id": "fDCSd1nhMfAK",
    "outputId": "e76b53b4-973a-4dd5-a25c-46de86a3304a"
   },
   "outputs": [
    {
     "name": "stdout",
     "output_type": "stream",
     "text": [
      "DecisionTree Algo with normalized data and 20 Features:\n",
      "\n",
      "\n",
      "Training finished. Duration:\n",
      "0:00:00.964574\n",
      "\n",
      "\n",
      "Prediction finished. Duration:\n",
      "0:00:00.004302\n",
      "\n",
      "\n",
      "Model Score of training:\n",
      "1.0\n",
      "\n",
      "\n",
      "Model Score of unseen test data:\n",
      "0.9841532884515795\n",
      "\n",
      "\n",
      "Confusion Matrix of labels and predicted labels in test data:\n",
      "[[829   0   0   0   0   7   0   0   8   0   0]\n",
      " [  0 856   0   0   2   1   0   0   0  18   1]\n",
      " [  0   0 871   1   9   0   0   0   0   0   0]\n",
      " [  0   0   3 878   1   0   0   2   0   0   0]\n",
      " [  0   0   3   3 878   0   0   9   0   0   0]\n",
      " [ 15   0   0   0   0 854   0   0  11   0   0]\n",
      " [  0   0   0   0   0   0 851   0   0   0   0]\n",
      " [  0   0   1   2  13   0   0 856   0   0   0]\n",
      " [  7   1   0   0   0  15   0   0 900   3   0]\n",
      " [  0  16   1   0   0   0   0   0   0 863   0]\n",
      " [  0   0   0   0   0   0   0   0   0   0 866]]\n"
     ]
    }
   ],
   "source": [
    "print('DecisionTree Algo with normalized data and 20 Features:')\n",
    "print('\\n')\n",
    "res_list_dt_chi,cm_dt_chi,dt_chi = DecisionTree_Algo(df_data_train_norm_chi,df_data_test_norm_chi,df_labels_train_chi,df_labels_test_chi,max_depth_chi)"
   ]
  },
  {
   "cell_type": "code",
   "execution_count": 0,
   "metadata": {
    "colab": {},
    "colab_type": "code",
    "id": "7HAcOI0ONvN5"
   },
   "outputs": [],
   "source": [
    "results.loc['Decision Tree','Runtime Training KBest Features':'Score Test-Set KBest Features'] = res_list_dt_chi"
   ]
  },
  {
   "cell_type": "markdown",
   "metadata": {
    "colab_type": "text",
    "id": "JRFS2IVVY9GR"
   },
   "source": [
    "**Fazit:**\n",
    "\n",
    "- Mit normalisiertem Datensatz ohne Outlier kann im Training ein Ergebnis von 1.0 erzielt werden.\n",
    "- Im Test auf die ungesehenen Daten schneidet jedoch der KBest Datensatz besser ab, der vorher ein schlechteres Ergebnisse hatte im Training.\n",
    "\n",
    "- Ein gutes Beispiel dafür, dass zu viele Feature zu Overfitting führen können. Mit weniger Features, kann im Test ein besseres Ergebnis erzielt werden."
   ]
  },
  {
   "cell_type": "code",
   "execution_count": 80,
   "metadata": {
    "colab": {
     "base_uri": "https://localhost:8080/",
     "height": 71
    },
    "colab_type": "code",
    "id": "zU7DaguamyFh",
    "outputId": "9e75a415-b02a-4000-dba9-09ce24f9e187"
   },
   "outputs": [
    {
     "name": "stderr",
     "output_type": "stream",
     "text": [
      "/usr/local/lib/python3.6/dist-packages/sklearn/externals/six.py:31: DeprecationWarning: The module is deprecated in version 0.21 and will be removed in version 0.23 since we've dropped support for Python 2.7. Please rely on the official version of six (https://pypi.org/project/six/).\n",
      "  \"(https://pypi.org/project/six/).\", DeprecationWarning)\n"
     ]
    }
   ],
   "source": [
    "from sklearn.externals.six import StringIO  \n",
    "from sklearn.tree import export_graphviz\n",
    "import pydotplus"
   ]
  },
  {
   "cell_type": "code",
   "execution_count": 81,
   "metadata": {
    "colab": {
     "base_uri": "https://localhost:8080/",
     "height": 68
    },
    "colab_type": "code",
    "id": "W6QM0_x_m1bL",
    "outputId": "975bd0f0-fcbd-40c6-d635-f0f52e8beeab"
   },
   "outputs": [
    {
     "name": "stdout",
     "output_type": "stream",
     "text": [
      "dot: graph is too large for cairo-renderer bitmaps. Scaling by 0.677774 to fit\n",
      "\n"
     ]
    },
    {
     "data": {
      "text/plain": [
       "True"
      ]
     },
     "execution_count": 81,
     "metadata": {
      "tags": []
     },
     "output_type": "execute_result"
    }
   ],
   "source": [
    "dotfile = StringIO()\n",
    "export_graphviz(dt_norm, out_file=dotfile,feature_names=df_data.columns)\n",
    "pydotplus.graph_from_dot_data(dotfile.getvalue()).write_png(\"dtree_norm.png\")"
   ]
  },
  {
   "cell_type": "code",
   "execution_count": 82,
   "metadata": {
    "colab": {
     "base_uri": "https://localhost:8080/",
     "height": 68
    },
    "colab_type": "code",
    "id": "mbwjP7sPl300",
    "outputId": "9020c748-8c33-43ad-8702-e4a6fcb989d3"
   },
   "outputs": [
    {
     "name": "stdout",
     "output_type": "stream",
     "text": [
      "dot: graph is too large for cairo-renderer bitmaps. Scaling by 0.780557 to fit\n",
      "\n"
     ]
    },
    {
     "data": {
      "text/plain": [
       "True"
      ]
     },
     "execution_count": 82,
     "metadata": {
      "tags": []
     },
     "output_type": "execute_result"
    }
   ],
   "source": [
    "dotfile = StringIO()\n",
    "export_graphviz(dt_z, out_file=dotfile)\n",
    "pydotplus.graph_from_dot_data(dotfile.getvalue()).write_png(\"dtree_z.png\")"
   ]
  },
  {
   "cell_type": "code",
   "execution_count": 83,
   "metadata": {
    "colab": {
     "base_uri": "https://localhost:8080/",
     "height": 68
    },
    "colab_type": "code",
    "id": "xI5xR50VlT_l",
    "outputId": "ca23c97c-2339-4298-fd36-cc00eee9620d"
   },
   "outputs": [
    {
     "name": "stdout",
     "output_type": "stream",
     "text": [
      "dot: graph is too large for cairo-renderer bitmaps. Scaling by 0.830322 to fit\n",
      "\n"
     ]
    },
    {
     "data": {
      "text/plain": [
       "True"
      ]
     },
     "execution_count": 83,
     "metadata": {
      "tags": []
     },
     "output_type": "execute_result"
    }
   ],
   "source": [
    "dotfile = StringIO()\n",
    "export_graphviz(dt_chi, out_file=dotfile)\n",
    "pydotplus.graph_from_dot_data(dotfile.getvalue()).write_png(\"dtree_chi.png\")"
   ]
  },
  {
   "cell_type": "markdown",
   "metadata": {
    "colab_type": "text",
    "id": "opHzIMcZZ52i"
   },
   "source": [
    "##### 4.4.2 Random Forrest\n",
    "\n",
    "Der Random Forrest ist ein Klassifikator, der aus mehreren einzelnen Decision Trees zusammengeführt wird. Hierfür wird der Datensatz in verschiedene, zufällige Samples unterteilt und durch diverse Decision Trees klassifiziert. Das Ergebnis aller Bäume wird zu einem Random Forrest Ergebnis zusammengeführt."
   ]
  },
  {
   "cell_type": "code",
   "execution_count": 0,
   "metadata": {
    "colab": {},
    "colab_type": "code",
    "id": "GJ-T9qFoaVdM"
   },
   "outputs": [],
   "source": [
    "from sklearn.ensemble import RandomForestClassifier as RandomForest\n",
    "from sklearn.model_selection import GridSearchCV\n",
    "\n",
    "\n",
    "def grid_params_rf(train_data,train_labels):\n",
    "    estimator = RandomForest()\n",
    "    param_grid = { \n",
    "            \"n_estimators\"      : range(10,34,3),\n",
    "            \"bootstrap\": [True, False],\n",
    "            }\n",
    "    cv = ShuffleSplit(n_splits=5, test_size=0.4, random_state=110)\n",
    "    grid = GridSearchCV(estimator, param_grid, n_jobs=-1, cv=cv)\n",
    "\n",
    "    grid.fit(train_data,train_labels)\n",
    "\n",
    "    return grid.best_score_ , grid.best_params_\n",
    "\n",
    "\n",
    "def RandomForrest_Algo(train_data,test_data,train_labels,test_labels,max_depth,n_estimators):\n",
    "    \"\"\"  \n",
    "    Initialization, training and test of Random Forrest Classification.\n",
    "    Default Value max_depth=3 and n_estimators=10\n",
    "    \"\"\"\n",
    "    #Initialisiere RandomForrest Klassifikators\n",
    "    rf = RandomForest(n_estimators=n_estimators,criterion='entropy',max_depth=max_depth,min_samples_split=2,min_samples_leaf=1,random_state=110,bootstrap=False)\n",
    "  \n",
    "    #Starte Training\n",
    "    start = timer() #Stoppe Trainingszeit\n",
    "    rf.fit(train_data,train_labels)\n",
    "    end = timer() #Ende Training\n",
    "  \n",
    "    print(\"Training finished. Duration:\")\n",
    "    train_duration = timedelta(seconds=end-start)\n",
    "    print(train_duration)\n",
    "    print(\"\\n\")\n",
    "  \n",
    "    # Test des Models auf Trainingsdaten\n",
    "    start = timer() #Stoppe Trainingszeit\n",
    "    y_pred = rf.predict(train_data)\n",
    "    end = timer() #Ende Training\n",
    "    test_duration = timedelta(seconds=end-start)\n",
    "    y_pred_test = rf.predict(test_data)\n",
    "  \n",
    "    #Predict the response for test dataset\n",
    "    print(\"Model Score of training data:\")\n",
    "    train_score = rf.score(train_data, train_labels)\n",
    "    print(train_score)\n",
    "    print(\"\\n\")\n",
    "\n",
    "    #Predict the response for an unseen dataset\n",
    "    print(\"Model Score of unseen test data:\")\n",
    "    test_score = rf.score(test_data, test_labels)\n",
    "    print(test_score)\n",
    "    print(\"\\n\")\n",
    "   \n",
    "    #Print Confusion Matrix for training dataset\n",
    "    print(\"Confusion Matrix of test labels und predicted for training data:\")\n",
    "    cm = confusion_matrix(test_labels, y_pred_test)\n",
    "    print(cm)\n",
    "    \n",
    "    res_list = [train_duration,test_duration,train_score,test_score]\n",
    "  \n",
    "    return res_list,cm,rf"
   ]
  },
  {
   "cell_type": "code",
   "execution_count": 85,
   "metadata": {
    "colab": {
     "base_uri": "https://localhost:8080/",
     "height": 51
    },
    "colab_type": "code",
    "id": "n6XzYXCHplrF",
    "outputId": "05c127c8-4b50-4002-e9d5-157ea8a35d66"
   },
   "outputs": [
    {
     "name": "stdout",
     "output_type": "stream",
     "text": [
      "0.9959183673469387\n",
      "{'bootstrap': False, 'n_estimators': 22}\n"
     ]
    }
   ],
   "source": [
    "score_rf_norm,params_rf_norm = grid_params_rf(df_data_train_norm,df_labels_train)\n",
    "\n",
    "print(score_rf_norm)\n",
    "\n",
    "print(params_rf_norm)"
   ]
  },
  {
   "cell_type": "code",
   "execution_count": 0,
   "metadata": {
    "colab": {},
    "colab_type": "code",
    "id": "AmnHwszHcS-6"
   },
   "outputs": [],
   "source": [
    "pl_norm = list(params_rf_norm.values())\n",
    "bootstrap_norm = pl_norm[0]\n",
    "n_estimators_norm = pl_norm[1]"
   ]
  },
  {
   "cell_type": "code",
   "execution_count": 87,
   "metadata": {
    "colab": {
     "base_uri": "https://localhost:8080/",
     "height": 476
    },
    "colab_type": "code",
    "id": "Vwr8zrizmSil",
    "outputId": "e92ee648-a848-430d-bdeb-626bcc097ec0"
   },
   "outputs": [
    {
     "name": "stdout",
     "output_type": "stream",
     "text": [
      "Random Forrest with normalized data:\n",
      "\n",
      "\n",
      "Training finished. Duration:\n",
      "0:00:07.801740\n",
      "\n",
      "\n",
      "Model Score of training data:\n",
      "1.0\n",
      "\n",
      "\n",
      "Model Score of unseen test data:\n",
      "0.9982392542723977\n",
      "\n",
      "\n",
      "Confusion Matrix of test labels und predicted for training data:\n",
      "[[843   0   0   0   0   1   0   0   0   0   0]\n",
      " [  0 874   0   0   0   0   0   0   1   2   1]\n",
      " [  0   0 880   0   1   0   0   0   0   0   0]\n",
      " [  0   0   0 884   0   0   0   0   0   0   0]\n",
      " [  0   0   1   1 890   0   0   1   0   0   0]\n",
      " [  0   0   0   0   0 879   0   0   1   0   0]\n",
      " [  0   0   0   0   0   0 851   0   0   0   0]\n",
      " [  0   0   0   0   0   0   0 872   0   0   0]\n",
      " [  1   0   0   0   0   1   0   0 921   3   0]\n",
      " [  0   2   0   0   0   0   0   0   0 878   0]\n",
      " [  0   0   0   0   0   0   0   0   0   0 866]]\n"
     ]
    }
   ],
   "source": [
    "#1. RandomForrest Klassifikation für normalisierte Daten\n",
    "print('Random Forrest with normalized data:')\n",
    "print('\\n')\n",
    "res_list_rf_norm,cm_rf_norm,rf = RandomForrest_Algo(df_data_train_norm,df_data_test_norm,df_labels_train,df_labels_test,max_depth,n_estimators_norm)"
   ]
  },
  {
   "cell_type": "code",
   "execution_count": 0,
   "metadata": {
    "colab": {},
    "colab_type": "code",
    "id": "L9yjldv_RHnA"
   },
   "outputs": [],
   "source": [
    "results.loc['Random Forrest','Runtime Training':'Score Test-Set'] = res_list_rf_norm"
   ]
  },
  {
   "cell_type": "code",
   "execution_count": 89,
   "metadata": {
    "colab": {
     "base_uri": "https://localhost:8080/",
     "height": 51
    },
    "colab_type": "code",
    "id": "MbQr_dXHrpwd",
    "outputId": "e6c19f07-daa3-4dd0-cfa7-fa1a19e34ae2"
   },
   "outputs": [
    {
     "name": "stdout",
     "output_type": "stream",
     "text": [
      "0.99655643618475\n",
      "{'bootstrap': False, 'n_estimators': 28}\n"
     ]
    }
   ],
   "source": [
    "score_z,params_z = grid_params_rf(df_data_train_norm_z,df_labels_train_z)\n",
    "\n",
    "print(score_z)\n",
    "\n",
    "print(params_z)\n",
    "\n",
    "pl_z = list(params_z.values())\n",
    "n_estimators_z = pl_z[1]"
   ]
  },
  {
   "cell_type": "code",
   "execution_count": 90,
   "metadata": {
    "colab": {
     "base_uri": "https://localhost:8080/",
     "height": 476
    },
    "colab_type": "code",
    "id": "L4n0PQMcn6lv",
    "outputId": "ef6a530b-68ca-4b06-f4c3-173bb28b0235"
   },
   "outputs": [
    {
     "name": "stdout",
     "output_type": "stream",
     "text": [
      "RandomForrest Algo with normalized data and without outlier:\n",
      "\n",
      "\n",
      "Training finished. Duration:\n",
      "0:00:08.708004\n",
      "\n",
      "\n",
      "Model Score of training data:\n",
      "0.99994533726905\n",
      "\n",
      "\n",
      "Model Score of unseen test data:\n",
      "0.9969963749352667\n",
      "\n",
      "\n",
      "Confusion Matrix of test labels und predicted for training data:\n",
      "[[842   0   0   0   0   2   0   0   0   0   0]\n",
      " [  0 870   0   0   0   0   0   0   1   6   1]\n",
      " [  0   0 879   0   2   0   0   0   0   0   0]\n",
      " [  0   0   0 884   0   0   0   0   0   0   0]\n",
      " [  0   0   3   1 886   0   0   3   0   0   0]\n",
      " [  1   0   0   0   0 878   0   0   1   0   0]\n",
      " [  0   0   0   0   0   0 851   0   0   0   0]\n",
      " [  0   0   0   0   1   0   0 871   0   0   0]\n",
      " [  1   1   0   0   0   0   0   0 922   2   0]\n",
      " [  0   3   0   0   0   0   0   0   0 877   0]\n",
      " [  0   0   0   0   0   0   0   0   0   0 866]]\n"
     ]
    }
   ],
   "source": [
    "#2. RandomForrest Klassifikation für normalisierte Daten ohne Outlier\n",
    "print('RandomForrest Algo with normalized data and without outlier:')\n",
    "print('\\n')\n",
    "res_list_rf_z,cm_rf_z,rf_z = RandomForrest_Algo(df_data_train_norm_z,df_data_test_norm_z,df_labels_train_z,df_labels_test_z,max_depth_z,n_estimators_z)"
   ]
  },
  {
   "cell_type": "code",
   "execution_count": 0,
   "metadata": {
    "colab": {},
    "colab_type": "code",
    "id": "Zs8Z5r2jRqfp"
   },
   "outputs": [],
   "source": [
    "results.loc['Random Forrest','Runtime Training without Outliers':'Score Test-Set without Outliers'] = res_list_rf_z"
   ]
  },
  {
   "cell_type": "code",
   "execution_count": 92,
   "metadata": {
    "colab": {
     "base_uri": "https://localhost:8080/",
     "height": 51
    },
    "colab_type": "code",
    "id": "rmKQU34hNpNp",
    "outputId": "216445d7-5c4d-4612-80c4-a948e58c8145"
   },
   "outputs": [
    {
     "name": "stdout",
     "output_type": "stream",
     "text": [
      "0.9857908163265307\n",
      "{'bootstrap': False, 'n_estimators': 25}\n"
     ]
    }
   ],
   "source": [
    "score_pca,params_pca = grid_params_rf(df_data_train_norm_pca,df_labels_train_pca)\n",
    "\n",
    "print(score_pca)\n",
    "\n",
    "print(params_pca)\n",
    "\n",
    "pl_pca = list(params_pca.values())\n",
    "n_estimators_pca = pl_pca[1]"
   ]
  },
  {
   "cell_type": "code",
   "execution_count": 93,
   "metadata": {
    "colab": {
     "base_uri": "https://localhost:8080/",
     "height": 476
    },
    "colab_type": "code",
    "id": "2GhAe1iFNpgF",
    "outputId": "016e7afa-ca44-4110-bf3d-e83c2d5a97c5"
   },
   "outputs": [
    {
     "name": "stdout",
     "output_type": "stream",
     "text": [
      "RandomForrest Algo with normalized data and PCA Features:\n",
      "\n",
      "\n",
      "Training finished. Duration:\n",
      "0:00:07.547263\n",
      "\n",
      "\n",
      "Model Score of training data:\n",
      "1.0\n",
      "\n",
      "\n",
      "Model Score of unseen test data:\n",
      "0.9923355774210254\n",
      "\n",
      "\n",
      "Confusion Matrix of test labels und predicted for training data:\n",
      "[[838   0   0   0   0   3   0   0   3   0   0]\n",
      " [  0 865   0   0   0   0   0   0   1  11   1]\n",
      " [  0   0 879   0   2   0   0   0   0   0   0]\n",
      " [  0   0   2 880   2   0   0   0   0   0   0]\n",
      " [  0   0   6   0 879   0   0   8   0   0   0]\n",
      " [  4   0   0   0   0 870   0   0   6   0   0]\n",
      " [  0   0   0   0   0   0 851   0   0   0   0]\n",
      " [  0   0   0   0   7   0   0 865   0   0   0]\n",
      " [  1   2   1   0   0   8   0   0 913   1   0]\n",
      " [  0   5   0   0   0   0   0   0   0 875   0]\n",
      " [  0   0   0   0   0   0   0   0   0   0 866]]\n"
     ]
    }
   ],
   "source": [
    "print('RandomForrest Algo with normalized data and PCA Features:')\n",
    "print('\\n')\n",
    "res_list_rf_pca,cm_rf_pca,rf_pca = RandomForrest_Algo(df_data_train_norm_pca,df_data_test_norm_pca,df_labels_train_pca,df_labels_test_pca,max_depth_pca,n_estimators_pca)"
   ]
  },
  {
   "cell_type": "code",
   "execution_count": 0,
   "metadata": {
    "colab": {},
    "colab_type": "code",
    "id": "BDCCHTuhNpuJ"
   },
   "outputs": [],
   "source": [
    "results.loc['Random Forrest','Runtime Training PCA Features':'Score Test-Set PCA Features'] = res_list_rf_pca"
   ]
  },
  {
   "cell_type": "code",
   "execution_count": 95,
   "metadata": {
    "colab": {
     "base_uri": "https://localhost:8080/",
     "height": 51
    },
    "colab_type": "code",
    "id": "MDZaybFUrzlK",
    "outputId": "66cceff9-10f8-47eb-ea35-0c6e7f2607fe"
   },
   "outputs": [
    {
     "name": "stdout",
     "output_type": "stream",
     "text": [
      "0.9949489795918367\n",
      "{'bootstrap': False, 'n_estimators': 31}\n"
     ]
    }
   ],
   "source": [
    "score_chi,params_chi = grid_params_rf(df_data_train_norm_chi,df_labels_train_chi)\n",
    "\n",
    "print(score_chi)\n",
    "\n",
    "print(params_chi)\n",
    "\n",
    "pl_chi = list(params_chi.values())\n",
    "n_estimators_chi = pl_chi[1]"
   ]
  },
  {
   "cell_type": "code",
   "execution_count": 96,
   "metadata": {
    "colab": {
     "base_uri": "https://localhost:8080/",
     "height": 476
    },
    "colab_type": "code",
    "id": "GouAYQ0woOqg",
    "outputId": "e2c4626f-a69f-4265-b392-7825719dc3a4"
   },
   "outputs": [
    {
     "name": "stdout",
     "output_type": "stream",
     "text": [
      "RandomForrest Algo mit normalisierten Daten und KBest Features:\n",
      "\n",
      "\n",
      "Training finished. Duration:\n",
      "0:00:06.574279\n",
      "\n",
      "\n",
      "Model Score of training data:\n",
      "1.0\n",
      "\n",
      "\n",
      "Model Score of unseen test data:\n",
      "0.9967892283790782\n",
      "\n",
      "\n",
      "Confusion Matrix of test labels und predicted for training data:\n",
      "[[839   0   0   0   0   0   0   0   5   0   0]\n",
      " [  0 869   0   0   2   0   0   0   1   5   1]\n",
      " [  0   0 881   0   0   0   0   0   0   0   0]\n",
      " [  0   0   1 883   0   0   0   0   0   0   0]\n",
      " [  0   0   1   2 889   0   0   1   0   0   0]\n",
      " [  1   0   0   0   0 879   0   0   0   0   0]\n",
      " [  0   0   0   0   0   0 851   0   0   0   0]\n",
      " [  0   0   0   0   1   0   0 871   0   0   0]\n",
      " [  3   1   0   0   0   2   0   0 917   3   0]\n",
      " [  0   1   0   0   0   0   0   0   0 879   0]\n",
      " [  0   0   0   0   0   0   0   0   0   0 866]]\n"
     ]
    }
   ],
   "source": [
    "print('RandomForrest Algo mit normalisierten Daten und KBest Features:')\n",
    "print('\\n')\n",
    "res_list_rf_chi,cm_rf_chi,rf_chi = RandomForrest_Algo(df_data_train_norm_chi,df_data_test_norm_chi,df_labels_train_chi,df_labels_test_chi,max_depth_chi,n_estimators_chi)"
   ]
  },
  {
   "cell_type": "code",
   "execution_count": 0,
   "metadata": {
    "colab": {},
    "colab_type": "code",
    "id": "oQThqHzxSH0e"
   },
   "outputs": [],
   "source": [
    "results.loc['Random Forrest','Runtime Training KBest Features':'Score Test-Set KBest Features'] = res_list_rf_chi"
   ]
  },
  {
   "cell_type": "code",
   "execution_count": 0,
   "metadata": {
    "colab": {},
    "colab_type": "code",
    "id": "d6wVpoEXLjwp"
   },
   "outputs": [],
   "source": [
    "from sklearn.model_selection import cross_val_score\n",
    "from sklearn.model_selection import ShuffleSplit\n",
    "\n",
    "def rf_cross_val(features,labels,splits,max_depth,n_estimators):\n",
    "    \"\"\"\n",
    "    Random Forrest Classification with Cross Validation\n",
    "    \"\"\"\n",
    "    #Initialisiere RandomForrest Klassifikators\n",
    "    random_forest = RandomForest(n_estimators=n_estimators,criterion='entropy',max_depth=max_depth,min_samples_split=2,min_samples_leaf=1,random_state=110,bootstrap=False)\n",
    "  \n",
    "    cv = ShuffleSplit(n_splits=splits, test_size=0.2, random_state=110)\n",
    "\n",
    "    scores = cross_val_score(random_forest,features,labels,cv=cv)\n",
    "\n",
    "    #print(\"Die durchschnittle Genauigkeit mit {0} Splits für die Cross Validation beträgt {1}\".format(splits,scores.mean())\n",
    "    return random_forest,scores"
   ]
  },
  {
   "cell_type": "code",
   "execution_count": 0,
   "metadata": {
    "colab": {},
    "colab_type": "code",
    "id": "sT6NGhkgN2We"
   },
   "outputs": [],
   "source": [
    "rf_kf,score = rf_cross_val(df_data_norm,df_labels,3,23,20)"
   ]
  },
  {
   "cell_type": "code",
   "execution_count": 100,
   "metadata": {
    "colab": {
     "base_uri": "https://localhost:8080/",
     "height": 34
    },
    "colab_type": "code",
    "id": "BliGu0QjUv5w",
    "outputId": "66b418ce-d082-43f8-aa0d-cc57ef3dec04"
   },
   "outputs": [
    {
     "data": {
      "text/plain": [
       "0.9984618014014699"
      ]
     },
     "execution_count": 100,
     "metadata": {
      "tags": []
     },
     "output_type": "execute_result"
    }
   ],
   "source": [
    "score.mean()"
   ]
  },
  {
   "cell_type": "code",
   "execution_count": 101,
   "metadata": {
    "colab": {
     "base_uri": "https://localhost:8080/",
     "height": 388
    },
    "colab_type": "code",
    "id": "chpbyeipTEwP",
    "outputId": "54402329-20ba-4ad5-df4b-65378342ad27"
   },
   "outputs": [
    {
     "data": {
      "text/html": [
       "<div>\n",
       "<style scoped>\n",
       "    .dataframe tbody tr th:only-of-type {\n",
       "        vertical-align: middle;\n",
       "    }\n",
       "\n",
       "    .dataframe tbody tr th {\n",
       "        vertical-align: top;\n",
       "    }\n",
       "\n",
       "    .dataframe thead th {\n",
       "        text-align: right;\n",
       "    }\n",
       "</style>\n",
       "<table border=\"1\" class=\"dataframe\">\n",
       "  <thead>\n",
       "    <tr style=\"text-align: right;\">\n",
       "      <th></th>\n",
       "      <th>Runtime Training</th>\n",
       "      <th>Runtime Prediction</th>\n",
       "      <th>Score Trainings-Set</th>\n",
       "      <th>Score Test-Set</th>\n",
       "      <th>Runtime Training without Outliers</th>\n",
       "      <th>Runtime Prediction without Outliers</th>\n",
       "      <th>Score Trainings-Set without Outliers</th>\n",
       "      <th>Score Test-Set without Outliers</th>\n",
       "      <th>Runtime Training PCA Features</th>\n",
       "      <th>Runtime Prediction PCA Features</th>\n",
       "      <th>Score Trainings-Set PCA Features</th>\n",
       "      <th>Score Test-Set PCA Features</th>\n",
       "      <th>Runtime Training KBest Features</th>\n",
       "      <th>Runtime Prediction KBest Features</th>\n",
       "      <th>Score Trainings-Set KBest Features</th>\n",
       "      <th>Score Test-Set KBest Features</th>\n",
       "    </tr>\n",
       "  </thead>\n",
       "  <tbody>\n",
       "    <tr>\n",
       "      <th>1-NN</th>\n",
       "      <td>0:00:00.053410</td>\n",
       "      <td>0:00:00.955113</td>\n",
       "      <td>1</td>\n",
       "      <td>0.975142</td>\n",
       "      <td>0:00:00.046426</td>\n",
       "      <td>0:00:00.927025</td>\n",
       "      <td>1</td>\n",
       "      <td>0.975867</td>\n",
       "      <td>0:00:00.025105</td>\n",
       "      <td>0:00:00.765180</td>\n",
       "      <td>1</td>\n",
       "      <td>0.980735</td>\n",
       "      <td>0:00:00.035764</td>\n",
       "      <td>0:00:00.786717</td>\n",
       "      <td>1</td>\n",
       "      <td>0.998343</td>\n",
       "    </tr>\n",
       "    <tr>\n",
       "      <th>K-NN</th>\n",
       "      <td>0:00:00.056642</td>\n",
       "      <td>0:00:09.869611</td>\n",
       "      <td>0.989286</td>\n",
       "      <td>0.979803</td>\n",
       "      <td>0:00:00.043800</td>\n",
       "      <td>0:00:03.761823</td>\n",
       "      <td>0.994643</td>\n",
       "      <td>0.978767</td>\n",
       "      <td>0:00:00.020597</td>\n",
       "      <td>0:00:01.491627</td>\n",
       "      <td>0.994133</td>\n",
       "      <td>0.98146</td>\n",
       "      <td>0:00:00.033750</td>\n",
       "      <td>0:00:01.119489</td>\n",
       "      <td>0.998929</td>\n",
       "      <td>0.997618</td>\n",
       "    </tr>\n",
       "    <tr>\n",
       "      <th>Bayes</th>\n",
       "      <td>0:00:00.033778</td>\n",
       "      <td>0:00:00.179122</td>\n",
       "      <td>0.705918</td>\n",
       "      <td>0.698809</td>\n",
       "      <td>0:00:00.020578</td>\n",
       "      <td>0:00:00.167061</td>\n",
       "      <td>0.859079</td>\n",
       "      <td>0.854065</td>\n",
       "      <td>0:00:00.016644</td>\n",
       "      <td>0:00:00.026949</td>\n",
       "      <td>0.78051</td>\n",
       "      <td>0.77276</td>\n",
       "      <td>0:00:00.018869</td>\n",
       "      <td>0:00:00.030698</td>\n",
       "      <td>0.827092</td>\n",
       "      <td>0.826411</td>\n",
       "    </tr>\n",
       "    <tr>\n",
       "      <th>Decision Tree</th>\n",
       "      <td>0:00:02.125919</td>\n",
       "      <td>0:00:00.005740</td>\n",
       "      <td>1</td>\n",
       "      <td>0.981564</td>\n",
       "      <td>0:00:01.947541</td>\n",
       "      <td>0:00:00.004834</td>\n",
       "      <td>0.998032</td>\n",
       "      <td>0.980839</td>\n",
       "      <td>0:00:00.914355</td>\n",
       "      <td>0:00:00.004235</td>\n",
       "      <td>1</td>\n",
       "      <td>0.978146</td>\n",
       "      <td>0:00:00.964574</td>\n",
       "      <td>0:00:00.004302</td>\n",
       "      <td>1</td>\n",
       "      <td>0.984153</td>\n",
       "    </tr>\n",
       "    <tr>\n",
       "      <th>Random Forrest</th>\n",
       "      <td>0:00:07.801740</td>\n",
       "      <td>0:00:00.325690</td>\n",
       "      <td>1</td>\n",
       "      <td>0.998239</td>\n",
       "      <td>0:00:08.708004</td>\n",
       "      <td>0:00:00.341515</td>\n",
       "      <td>0.999945</td>\n",
       "      <td>0.996996</td>\n",
       "      <td>0:00:07.547263</td>\n",
       "      <td>0:00:00.344194</td>\n",
       "      <td>1</td>\n",
       "      <td>0.992336</td>\n",
       "      <td>0:00:06.574279</td>\n",
       "      <td>0:00:00.403455</td>\n",
       "      <td>1</td>\n",
       "      <td>0.996789</td>\n",
       "    </tr>\n",
       "    <tr>\n",
       "      <th>SVM</th>\n",
       "      <td>NaN</td>\n",
       "      <td>NaN</td>\n",
       "      <td>NaN</td>\n",
       "      <td>NaN</td>\n",
       "      <td>NaN</td>\n",
       "      <td>NaN</td>\n",
       "      <td>NaN</td>\n",
       "      <td>NaN</td>\n",
       "      <td>NaN</td>\n",
       "      <td>NaN</td>\n",
       "      <td>NaN</td>\n",
       "      <td>NaN</td>\n",
       "      <td>NaN</td>\n",
       "      <td>NaN</td>\n",
       "      <td>NaN</td>\n",
       "      <td>NaN</td>\n",
       "    </tr>\n",
       "    <tr>\n",
       "      <th>ANN</th>\n",
       "      <td>NaN</td>\n",
       "      <td>NaN</td>\n",
       "      <td>NaN</td>\n",
       "      <td>NaN</td>\n",
       "      <td>NaN</td>\n",
       "      <td>NaN</td>\n",
       "      <td>NaN</td>\n",
       "      <td>NaN</td>\n",
       "      <td>NaN</td>\n",
       "      <td>NaN</td>\n",
       "      <td>NaN</td>\n",
       "      <td>NaN</td>\n",
       "      <td>NaN</td>\n",
       "      <td>NaN</td>\n",
       "      <td>NaN</td>\n",
       "      <td>NaN</td>\n",
       "    </tr>\n",
       "  </tbody>\n",
       "</table>\n",
       "</div>"
      ],
      "text/plain": [
       "               Runtime Training  ... Score Test-Set KBest Features\n",
       "1-NN             0:00:00.053410  ...                      0.998343\n",
       "K-NN             0:00:00.056642  ...                      0.997618\n",
       "Bayes            0:00:00.033778  ...                      0.826411\n",
       "Decision Tree    0:00:02.125919  ...                      0.984153\n",
       "Random Forrest   0:00:07.801740  ...                      0.996789\n",
       "SVM                         NaN  ...                           NaN\n",
       "ANN                         NaN  ...                           NaN\n",
       "\n",
       "[7 rows x 16 columns]"
      ]
     },
     "execution_count": 101,
     "metadata": {
      "tags": []
     },
     "output_type": "execute_result"
    }
   ],
   "source": [
    "results"
   ]
  },
  {
   "cell_type": "markdown",
   "metadata": {
    "colab_type": "text",
    "id": "ajaNGBoRxBvC"
   },
   "source": [
    "#### 4.5 Support Vector Machines"
   ]
  },
  {
   "cell_type": "code",
   "execution_count": 0,
   "metadata": {
    "colab": {},
    "colab_type": "code",
    "id": "ANz97urq1oOG"
   },
   "outputs": [],
   "source": [
    "from sklearn import svm\n",
    "def SVM_Algo(df_train,df_test,df_labels_train,df_labels_test,C,gamma):\n",
    "    \"\"\"\n",
    "    Suppor Vector Machines Classification Algorithm.\n",
    "    Input of parameters C and Gamma is necessary.\n",
    "    Standard Kernel ist RBF.\n",
    "    \n",
    "    \"\"\"\n",
    "    #Initialisiere SVM Klassifikator\n",
    "    svm_ = svm.SVC(kernel='rbf', C = C, gamma=gamma)\n",
    "    \n",
    "    #Starte Training\n",
    "    start = timer() #Stoppe Trainingszeit\n",
    "    svm_.fit(df_train,df_labels_train)\n",
    "    end = timer() #Ende Training\n",
    "    train_duration = timedelta(seconds=end-start)\n",
    "    print(\"Training finished. Duration:\")\n",
    "    print(train_duration)\n",
    "    print(\"\\n\")\n",
    "    \n",
    "    # Test des Models auf Trainingsdaten\n",
    "    start = timer() #Stoppe Zeit fuer Prediction\n",
    "    y_pred = svm_.predict(df_train)\n",
    "    end = timer() #Ende Prediction\n",
    "    y_pred_test = svm_.predict(df_test)\n",
    "      \n",
    "    test_duration = timedelta(seconds=end-start)\n",
    "    print(\"Prediction finished. Duration:\")\n",
    "    print(test_duration)\n",
    "    print(\"\\n\")\n",
    "    \n",
    "    #Predict the response for training dataset\n",
    "    print(\"Model Score of training:\")\n",
    "    train_score = svm_.score(df_train, df_labels_train)\n",
    "    print(train_score)\n",
    "    print(\"\\n\")\n",
    "  \n",
    "    #Predict the response for test dataset\n",
    "    print(\"Model Score of unseen test data:\")\n",
    "    test_score = svm_.score(df_test, df_labels_test)\n",
    "    print(test_score)\n",
    "    print(\"\\n\")\n",
    "    \n",
    "    #Print Confusion Matrix for training dataset\n",
    "    print(\"Confusion Matrix of labels and predicted labels for test data:\")\n",
    "    cm = confusion_matrix(df_labels_test, y_pred_test)\n",
    "    print(cm)\n",
    "    \n",
    "    res_list = [train_duration,test_duration,train_score,test_score]\n",
    "\n",
    "    return res_list,cm,svm_  "
   ]
  },
  {
   "cell_type": "code",
   "execution_count": 0,
   "metadata": {
    "colab": {},
    "colab_type": "code",
    "id": "d5r03mXZZvsz"
   },
   "outputs": [],
   "source": [
    "from sklearn.model_selection import StratifiedShuffleSplit\n",
    "from sklearn.model_selection import GridSearchCV\n",
    "from sklearn.svm import SVC\n",
    "\n",
    "def get_best_svm_params(train_data,train_labels):\n",
    "    start = timer() #Stoppe Trainingszeit\n",
    "\n",
    "    C_range = [1,10,100,1000]\n",
    "    gamma_range  = [0.1,1,10,50,100]\n",
    "    param_grid = dict(gamma=gamma_range, C=C_range)\n",
    "    cv = ShuffleSplit(n_splits=5, test_size=0.4, random_state=110)\n",
    "    grid = GridSearchCV(SVC(), param_grid=param_grid, cv=cv,refit=False)\n",
    "    grid.fit(train_data, train_labels)\n",
    "  \n",
    "    print(\"The best parameters are %s with a score of %0.2f\"% (grid.best_params_, grid.best_score_))\n",
    "\n",
    "    end = timer()\n",
    "    print(\"Duration:\")\n",
    "    print(timedelta(seconds=end-start))\n",
    "    print(\"\\n\")\n",
    "    return grid.best_params_['C'],grid.best_params_['gamma']"
   ]
  },
  {
   "cell_type": "code",
   "execution_count": 104,
   "metadata": {
    "colab": {
     "base_uri": "https://localhost:8080/",
     "height": 102
    },
    "colab_type": "code",
    "id": "YpLZ18DE0Mrg",
    "outputId": "3b1486a1-da54-4883-a096-7dbbfa444b07"
   },
   "outputs": [
    {
     "name": "stdout",
     "output_type": "stream",
     "text": [
      "The best parameters are {'C': 10, 'gamma': 10} with a score of 0.99\n",
      "Duration:\n",
      "0:25:35.139297\n",
      "\n",
      "\n"
     ]
    }
   ],
   "source": [
    "best_C_norm,best_gamma_norm = get_best_svm_params(df_data_train_norm,df_labels_train)"
   ]
  },
  {
   "cell_type": "code",
   "execution_count": 105,
   "metadata": {
    "colab": {
     "base_uri": "https://localhost:8080/",
     "height": 544
    },
    "colab_type": "code",
    "id": "yi-SKyPb22Qr",
    "outputId": "7e4e2278-34fd-4c78-c9c5-3a76da0b5e50"
   },
   "outputs": [
    {
     "name": "stdout",
     "output_type": "stream",
     "text": [
      "Support Vector Machine with normalized data:\n",
      "\n",
      "\n",
      "Training finished. Duration:\n",
      "0:00:07.757429\n",
      "\n",
      "\n",
      "Prediction finished. Duration:\n",
      "0:00:07.853223\n",
      "\n",
      "\n",
      "Model Score of training:\n",
      "0.9998469387755102\n",
      "\n",
      "\n",
      "Model Score of unseen test data:\n",
      "0.9938891765924391\n",
      "\n",
      "\n",
      "Confusion Matrix of labels and predicted labels for test data:\n",
      "[[834   0   0   0   0   7   0   0   3   0   0]\n",
      " [  0 871   0   0   0   0   0   0   1   4   2]\n",
      " [  0   0 879   0   1   0   0   0   1   0   0]\n",
      " [  0   0   2 879   2   0   0   1   0   0   0]\n",
      " [  0   0   3   1 882   0   0   6   0   0   1]\n",
      " [  2   0   0   0   0 873   0   1   4   0   0]\n",
      " [  0   0   0   0   0   0 850   0   0   0   1]\n",
      " [  0   0   0   0   0   3   0 869   0   0   0]\n",
      " [  0   0   0   0   0   7   0   0 917   2   0]\n",
      " [  0   4   0   0   0   0   0   0   0 876   0]\n",
      " [  0   0   0   0   0   0   0   0   0   0 866]]\n"
     ]
    }
   ],
   "source": [
    "#1. Support Vector Machine Klassifikation für normalisierte Daten\n",
    "print('Support Vector Machine with normalized data:')\n",
    "print('\\n')\n",
    "res_list_svm_norm,cm_svm_norm,svm_norm = SVM_Algo(df_data_train_norm,df_data_test_norm,df_labels_train,df_labels_test,best_C_norm,best_gamma_norm)"
   ]
  },
  {
   "cell_type": "code",
   "execution_count": 0,
   "metadata": {
    "colab": {},
    "colab_type": "code",
    "id": "HAWuqCnBUDwx"
   },
   "outputs": [],
   "source": [
    "results.loc['SVM','Runtime Training':'Score Test-Set'] = res_list_svm_norm"
   ]
  },
  {
   "cell_type": "code",
   "execution_count": 107,
   "metadata": {
    "colab": {
     "base_uri": "https://localhost:8080/",
     "height": 102
    },
    "colab_type": "code",
    "id": "XgdU9QwI2pCy",
    "outputId": "af0d0698-4ee8-480a-cd46-ed9a76a4e3c0"
   },
   "outputs": [
    {
     "name": "stdout",
     "output_type": "stream",
     "text": [
      "The best parameters are {'C': 100, 'gamma': 10} with a score of 1.00\n",
      "Duration:\n",
      "0:21:21.404238\n",
      "\n",
      "\n"
     ]
    }
   ],
   "source": [
    "best_C_z,best_gamma_z = get_best_svm_params(df_data_train_norm_z,df_labels_train_z)"
   ]
  },
  {
   "cell_type": "code",
   "execution_count": 108,
   "metadata": {
    "colab": {
     "base_uri": "https://localhost:8080/",
     "height": 544
    },
    "colab_type": "code",
    "id": "X7kiJH_Zno-a",
    "outputId": "0dbc763a-f07b-4dab-fe7a-ed8e109d18cd"
   },
   "outputs": [
    {
     "name": "stdout",
     "output_type": "stream",
     "text": [
      "Support Vector Machine with normalized data without Outliers:\n",
      "\n",
      "\n",
      "Training finished. Duration:\n",
      "0:00:05.046071\n",
      "\n",
      "\n",
      "Prediction finished. Duration:\n",
      "0:00:06.542725\n",
      "\n",
      "\n",
      "Model Score of training:\n",
      "1.0\n",
      "\n",
      "\n",
      "Model Score of unseen test data:\n",
      "0.9907819782496116\n",
      "\n",
      "\n",
      "Confusion Matrix of labels and predicted labels for test data:\n",
      "[[828   0   0   0   1   4   0   0  11   0   0]\n",
      " [  0 870   0   0   0   0   0   0   6   2   0]\n",
      " [  0   0 873   0   5   0   0   0   3   0   0]\n",
      " [  0   0   1 876   1   0   0   1   5   0   0]\n",
      " [  0   0   0   1 885   0   0   5   2   0   0]\n",
      " [  7   0   0   0   1 858   0   0  14   0   0]\n",
      " [  0   0   0   0   0   0 849   0   2   0   0]\n",
      " [  0   0   0   0   2   0   0 865   5   0   0]\n",
      " [  0   0   0   0   0   4   0   0 920   2   0]\n",
      " [  0   3   0   0   0   0   0   0   1 876   0]\n",
      " [  0   0   0   0   0   0   0   0   0   0 866]]\n"
     ]
    }
   ],
   "source": [
    "#2. Support Vector Machine Klassifikation für normalisierte Daten ohne Outlier\n",
    "print('Support Vector Machine with normalized data without Outliers:')\n",
    "print('\\n')\n",
    "res_list_svm_z,cm_svm_z,svm_z = SVM_Algo(df_data_train_norm_z,df_data_test_norm_z,df_labels_train_z,df_labels_test_z,best_C_z,best_gamma_z)"
   ]
  },
  {
   "cell_type": "code",
   "execution_count": 0,
   "metadata": {
    "colab": {},
    "colab_type": "code",
    "id": "Yv3EsMLLUVaI"
   },
   "outputs": [],
   "source": [
    "results.loc['SVM','Runtime Training without Outliers':'Score Test-Set without Outliers'] = res_list_svm_z"
   ]
  },
  {
   "cell_type": "code",
   "execution_count": 110,
   "metadata": {
    "colab": {
     "base_uri": "https://localhost:8080/",
     "height": 102
    },
    "colab_type": "code",
    "id": "tJvXhMvY3UJY",
    "outputId": "1f286acd-dbfe-4bb1-e1eb-ab197e2aa001"
   },
   "outputs": [
    {
     "name": "stdout",
     "output_type": "stream",
     "text": [
      "The best parameters are {'C': 10, 'gamma': 10} with a score of 0.99\n",
      "Duration:\n",
      "0:14:13.268438\n",
      "\n",
      "\n"
     ]
    }
   ],
   "source": [
    "#SVM fuer Datensatz mit PCA Komponenten\n",
    "best_C_pca,best_gamma_pca = get_best_svm_params(df_data_train_norm_pca,df_labels_train_pca)"
   ]
  },
  {
   "cell_type": "code",
   "execution_count": 111,
   "metadata": {
    "colab": {
     "base_uri": "https://localhost:8080/",
     "height": 544
    },
    "colab_type": "code",
    "id": "dZQ6OR0o3UZf",
    "outputId": "3f4455bf-d0f4-4dce-91c3-2f274d1d65ad"
   },
   "outputs": [
    {
     "name": "stdout",
     "output_type": "stream",
     "text": [
      "Support Vector Machine with PCA Features:\n",
      "\n",
      "\n",
      "Training finished. Duration:\n",
      "0:00:04.121934\n",
      "\n",
      "\n",
      "Prediction finished. Duration:\n",
      "0:00:03.771420\n",
      "\n",
      "\n",
      "Model Score of training:\n",
      "0.9995918367346939\n",
      "\n",
      "\n",
      "Model Score of unseen test data:\n",
      "0.9952356292076644\n",
      "\n",
      "\n",
      "Confusion Matrix of labels and predicted labels for test data:\n",
      "[[834   0   0   0   0   7   0   0   3   0   0]\n",
      " [  0 872   0   0   0   0   0   0   3   3   0]\n",
      " [  0   0 879   0   1   0   0   0   1   0   0]\n",
      " [  0   0   1 883   0   0   0   0   0   0   0]\n",
      " [  0   0   2   1 885   0   0   4   1   0   0]\n",
      " [  0   0   0   0   0 877   0   0   3   0   0]\n",
      " [  0   0   0   0   0   0 850   0   1   0   0]\n",
      " [  0   0   0   1   0   1   0 870   0   0   0]\n",
      " [  0   0   0   0   0   9   0   0 915   2   0]\n",
      " [  0   2   0   0   0   0   0   0   0 878   0]\n",
      " [  0   0   0   0   0   0   0   0   0   0 866]]\n"
     ]
    }
   ],
   "source": [
    "#2. Support Vector Machine Klassifikation für normalisierte Daten ohne Outlier\n",
    "print('Support Vector Machine with PCA Features:')\n",
    "print('\\n')\n",
    "res_list_svm_pca,cm_svm_pca,svm_pca = SVM_Algo(df_data_train_norm_pca,df_data_test_norm_pca,df_labels_train_pca,df_labels_test_pca,best_C_pca,best_gamma_pca)"
   ]
  },
  {
   "cell_type": "code",
   "execution_count": 0,
   "metadata": {
    "colab": {},
    "colab_type": "code",
    "id": "AXARt80n3Un4"
   },
   "outputs": [],
   "source": [
    "results.loc['SVM','Runtime Training PCA Features':'Score Test-Set PCA Features'] = res_list_svm_pca"
   ]
  },
  {
   "cell_type": "code",
   "execution_count": 113,
   "metadata": {
    "colab": {
     "base_uri": "https://localhost:8080/",
     "height": 102
    },
    "colab_type": "code",
    "id": "M96DEP9n36dT",
    "outputId": "37e0df4d-f9a5-497f-f6ef-4c24839acd9b"
   },
   "outputs": [
    {
     "name": "stdout",
     "output_type": "stream",
     "text": [
      "The best parameters are {'C': 10, 'gamma': 50} with a score of 1.00\n",
      "Duration:\n",
      "0:06:21.097387\n",
      "\n",
      "\n"
     ]
    }
   ],
   "source": [
    "best_C_chi,best_gamma_chi = get_best_svm_params(df_data_train_norm_chi,df_labels_train_chi)"
   ]
  },
  {
   "cell_type": "code",
   "execution_count": 114,
   "metadata": {
    "colab": {
     "base_uri": "https://localhost:8080/",
     "height": 544
    },
    "colab_type": "code",
    "id": "a1c1VZnlno-d",
    "outputId": "2abce6fc-a05f-454a-920b-71321a46e71a"
   },
   "outputs": [
    {
     "name": "stdout",
     "output_type": "stream",
     "text": [
      "Support Vector Machine with normalized data and KBest Features:\n",
      "\n",
      "\n",
      "Training finished. Duration:\n",
      "0:00:05.749654\n",
      "\n",
      "\n",
      "Prediction finished. Duration:\n",
      "0:00:02.577181\n",
      "\n",
      "\n",
      "Model Score of training:\n",
      "0.9999489795918367\n",
      "\n",
      "\n",
      "Model Score of unseen test data:\n",
      "0.999171413775246\n",
      "\n",
      "\n",
      "Confusion Matrix of labels and predicted labels for test data:\n",
      "[[842   0   0   0   0   1   0   0   1   0   0]\n",
      " [  0 876   0   0   0   0   0   0   2   0   0]\n",
      " [  0   0 881   0   0   0   0   0   0   0   0]\n",
      " [  0   0   0 884   0   0   0   0   0   0   0]\n",
      " [  0   0   0   0 893   0   0   0   0   0   0]\n",
      " [  1   0   0   0   0 879   0   0   0   0   0]\n",
      " [  0   0   0   0   0   0 851   0   0   0   0]\n",
      " [  0   0   0   0   0   0   0 872   0   0   0]\n",
      " [  0   0   0   0   0   1   0   0 923   2   0]\n",
      " [  0   0   0   0   0   0   0   0   0 880   0]\n",
      " [  0   0   0   0   0   0   0   0   0   0 866]]\n"
     ]
    }
   ],
   "source": [
    "#3. Support Vector Machine Klassifikation für normalisierte Daten und KBest Features\n",
    "print('Support Vector Machine with normalized data and KBest Features:')\n",
    "print('\\n')\n",
    "res_list_svm_chi,cm_svm_chi,svm_chi = SVM_Algo(df_data_train_norm_chi,df_data_test_norm_chi,df_labels_train_chi,df_labels_test_chi,best_C_chi,best_gamma_chi)"
   ]
  },
  {
   "cell_type": "code",
   "execution_count": 0,
   "metadata": {
    "colab": {},
    "colab_type": "code",
    "id": "taaa0T3zUmEc"
   },
   "outputs": [],
   "source": [
    "results.loc['SVM','Runtime Training KBest Features':'Score Test-Set KBest Features'] = res_list_svm_chi"
   ]
  },
  {
   "cell_type": "markdown",
   "metadata": {
    "colab_type": "text",
    "id": "NkttuS4IXzfA"
   },
   "source": [
    "### 5. Artificial Neural Network"
   ]
  },
  {
   "cell_type": "code",
   "execution_count": 116,
   "metadata": {
    "colab": {
     "base_uri": "https://localhost:8080/",
     "height": 63
    },
    "colab_type": "code",
    "id": "cXtth_12fjok",
    "outputId": "5b8d79a9-5888-4c67-aca4-73ea11e94278"
   },
   "outputs": [
    {
     "data": {
      "text/html": [
       "<p style=\"color: red;\">\n",
       "The default version of TensorFlow in Colab will soon switch to TensorFlow 2.x.<br>\n",
       "We recommend you <a href=\"https://www.tensorflow.org/guide/migrate\" target=\"_blank\">upgrade</a> now \n",
       "or ensure your notebook will continue to use TensorFlow 1.x via the <code>%tensorflow_version 1.x</code> magic:\n",
       "<a href=\"https://colab.research.google.com/notebooks/tensorflow_version.ipynb\" target=\"_blank\">more info</a>.</p>\n"
      ],
      "text/plain": [
       "<IPython.core.display.HTML object>"
      ]
     },
     "metadata": {
      "tags": []
     },
     "output_type": "display_data"
    }
   ],
   "source": [
    "# TensorFlow and tf.keras\n",
    "import tensorflow as tf\n",
    "from tensorflow import keras"
   ]
  },
  {
   "cell_type": "code",
   "execution_count": 0,
   "metadata": {
    "colab": {},
    "colab_type": "code",
    "id": "G-nnrLB2e2lR"
   },
   "outputs": [],
   "source": [
    "def encoder(labels):\n",
    "    encoder = preprocessing.LabelEncoder()\n",
    "    encoder.fit(labels)\n",
    "    \n",
    "    labels_enc = encoder.transform(labels)\n",
    "    labels_one = keras.utils.to_categorical(labels_enc)\n",
    "\n",
    "    return labels_one\n",
    "\n",
    "labels_onehot = encoder(df_labels)\n",
    "\n",
    "train_data,test_data,train_labels,test_labels = train_test_split(df_data_norm,labels_onehot,test_size=0.2)\n"
   ]
  },
  {
   "cell_type": "code",
   "execution_count": 118,
   "metadata": {
    "colab": {
     "base_uri": "https://localhost:8080/",
     "height": 88
    },
    "colab_type": "code",
    "id": "uzdFH6Y4aYVo",
    "outputId": "20266508-5138-42c9-ac20-2573ab233fe5"
   },
   "outputs": [
    {
     "name": "stdout",
     "output_type": "stream",
     "text": [
      "WARNING:tensorflow:From /usr/local/lib/python3.6/dist-packages/tensorflow_core/python/ops/resource_variable_ops.py:1630: calling BaseResourceVariable.__init__ (from tensorflow.python.ops.resource_variable_ops) with constraint is deprecated and will be removed in a future version.\n",
      "Instructions for updating:\n",
      "If using Keras pass *_constraint arguments to layers.\n"
     ]
    }
   ],
   "source": [
    "#Framework for ANN\n",
    "model = keras.Sequential([\n",
    "    keras.layers.Dense(input_dim=48,units=100,activation='relu'),\n",
    "    keras.layers.Dense(128,activation='relu'),\n",
    "    keras.layers.Dense(64,activation='relu'),\n",
    "    keras.layers.Dense(32,activation='relu'),\n",
    "    keras.layers.Dense(16,activation='relu'),\n",
    "    keras.layers.Dense(11, activation='softmax')\n",
    "])"
   ]
  },
  {
   "cell_type": "code",
   "execution_count": 0,
   "metadata": {
    "colab": {},
    "colab_type": "code",
    "id": "zxZj6r2tbf8P"
   },
   "outputs": [],
   "source": [
    "#Stochastic Gradient Descent as optimization function\n",
    "sgd = keras.optimizers.SGD(lr=0.05,momentum=0.6)\n",
    "\n",
    "model.compile(loss='categorical_crossentropy',optimizer=sgd,metrics=['accuracy'])"
   ]
  },
  {
   "cell_type": "code",
   "execution_count": 120,
   "metadata": {
    "colab": {
     "base_uri": "https://localhost:8080/",
     "height": 1000
    },
    "colab_type": "code",
    "id": "1tGcesxkc_tI",
    "outputId": "7322ac7c-d0ff-434f-fe81-3a680ee662ed"
   },
   "outputs": [
    {
     "name": "stdout",
     "output_type": "stream",
     "text": [
      "Train on 23404 samples\n",
      "Epoch 1/800\n",
      "23404/23404 [==============================] - 2s 83us/sample - loss: 2.1698 - acc: 0.2050\n",
      "Epoch 2/800\n",
      "23404/23404 [==============================] - 1s 53us/sample - loss: 1.5515 - acc: 0.3900\n",
      "Epoch 3/800\n",
      "23404/23404 [==============================] - 1s 53us/sample - loss: 1.1840 - acc: 0.5065\n",
      "Epoch 4/800\n",
      "23404/23404 [==============================] - 1s 52us/sample - loss: 1.0767 - acc: 0.5429\n",
      "Epoch 5/800\n",
      "23404/23404 [==============================] - 1s 53us/sample - loss: 0.9747 - acc: 0.5931\n",
      "Epoch 6/800\n",
      "23404/23404 [==============================] - 1s 52us/sample - loss: 0.7700 - acc: 0.6798\n",
      "Epoch 7/800\n",
      "23404/23404 [==============================] - 1s 53us/sample - loss: 0.6030 - acc: 0.7441\n",
      "Epoch 8/800\n",
      "23404/23404 [==============================] - 1s 52us/sample - loss: 0.5282 - acc: 0.7768\n",
      "Epoch 9/800\n",
      "23404/23404 [==============================] - 1s 54us/sample - loss: 0.4855 - acc: 0.7950\n",
      "Epoch 10/800\n",
      "23404/23404 [==============================] - 1s 53us/sample - loss: 0.4768 - acc: 0.8057\n",
      "Epoch 11/800\n",
      "23404/23404 [==============================] - 1s 55us/sample - loss: 0.4209 - acc: 0.8241\n",
      "Epoch 12/800\n",
      "23404/23404 [==============================] - 1s 53us/sample - loss: 0.3849 - acc: 0.8393\n",
      "Epoch 13/800\n",
      "23404/23404 [==============================] - 1s 54us/sample - loss: 0.3459 - acc: 0.8544\n",
      "Epoch 14/800\n",
      "23404/23404 [==============================] - 1s 53us/sample - loss: 0.3420 - acc: 0.8555\n",
      "Epoch 15/800\n",
      "23404/23404 [==============================] - 1s 52us/sample - loss: 0.3286 - acc: 0.8594\n",
      "Epoch 16/800\n",
      "23404/23404 [==============================] - 1s 53us/sample - loss: 0.3281 - acc: 0.8620\n",
      "Epoch 17/800\n",
      "23404/23404 [==============================] - 1s 54us/sample - loss: 0.3297 - acc: 0.8678\n",
      "Epoch 18/800\n",
      "23404/23404 [==============================] - 1s 53us/sample - loss: 0.2858 - acc: 0.8801\n",
      "Epoch 19/800\n",
      "23404/23404 [==============================] - 1s 54us/sample - loss: 0.2995 - acc: 0.8779\n",
      "Epoch 20/800\n",
      "23404/23404 [==============================] - 1s 53us/sample - loss: 0.2783 - acc: 0.8869\n",
      "Epoch 21/800\n",
      "23404/23404 [==============================] - 1s 52us/sample - loss: 0.2531 - acc: 0.8965\n",
      "Epoch 22/800\n",
      "23404/23404 [==============================] - 1s 52us/sample - loss: 0.2463 - acc: 0.9010\n",
      "Epoch 23/800\n",
      "23404/23404 [==============================] - 1s 54us/sample - loss: 0.2470 - acc: 0.8991\n",
      "Epoch 24/800\n",
      "23404/23404 [==============================] - 1s 54us/sample - loss: 0.2345 - acc: 0.9083\n",
      "Epoch 25/800\n",
      "23404/23404 [==============================] - 1s 52us/sample - loss: 0.2264 - acc: 0.9100\n",
      "Epoch 26/800\n",
      "23404/23404 [==============================] - 1s 53us/sample - loss: 0.2124 - acc: 0.9161\n",
      "Epoch 27/800\n",
      "23404/23404 [==============================] - 1s 54us/sample - loss: 0.1919 - acc: 0.9266\n",
      "Epoch 28/800\n",
      "23404/23404 [==============================] - 1s 52us/sample - loss: 0.2024 - acc: 0.9229\n",
      "Epoch 29/800\n",
      "23404/23404 [==============================] - 1s 54us/sample - loss: 0.1972 - acc: 0.9234\n",
      "Epoch 30/800\n",
      "23404/23404 [==============================] - 1s 52us/sample - loss: 0.1646 - acc: 0.9370\n",
      "Epoch 31/800\n",
      "23404/23404 [==============================] - 1s 52us/sample - loss: 0.1750 - acc: 0.9323\n",
      "Epoch 32/800\n",
      "23404/23404 [==============================] - 1s 53us/sample - loss: 0.1628 - acc: 0.9360\n",
      "Epoch 33/800\n",
      "23404/23404 [==============================] - 1s 54us/sample - loss: 0.1631 - acc: 0.9383\n",
      "Epoch 34/800\n",
      "23404/23404 [==============================] - 1s 53us/sample - loss: 0.1724 - acc: 0.9351\n",
      "Epoch 35/800\n",
      "23404/23404 [==============================] - 1s 54us/sample - loss: 0.1426 - acc: 0.9467\n",
      "Epoch 36/800\n",
      "23404/23404 [==============================] - 1s 52us/sample - loss: 0.1849 - acc: 0.9322\n",
      "Epoch 37/800\n",
      "23404/23404 [==============================] - 1s 52us/sample - loss: 0.1445 - acc: 0.9451\n",
      "Epoch 38/800\n",
      "23404/23404 [==============================] - 1s 54us/sample - loss: 0.1389 - acc: 0.9488\n",
      "Epoch 39/800\n",
      "23404/23404 [==============================] - 1s 53us/sample - loss: 0.1478 - acc: 0.9431\n",
      "Epoch 40/800\n",
      "23404/23404 [==============================] - 1s 54us/sample - loss: 0.1197 - acc: 0.9549\n",
      "Epoch 41/800\n",
      "23404/23404 [==============================] - 1s 54us/sample - loss: 0.1102 - acc: 0.9581\n",
      "Epoch 42/800\n",
      "23404/23404 [==============================] - 1s 53us/sample - loss: 0.1205 - acc: 0.9557\n",
      "Epoch 43/800\n",
      "23404/23404 [==============================] - 1s 54us/sample - loss: 0.1139 - acc: 0.9569\n",
      "Epoch 44/800\n",
      "23404/23404 [==============================] - 1s 57us/sample - loss: 0.1063 - acc: 0.9613\n",
      "Epoch 45/800\n",
      "23404/23404 [==============================] - 1s 55us/sample - loss: 0.1169 - acc: 0.9568\n",
      "Epoch 46/800\n",
      "23404/23404 [==============================] - 1s 57us/sample - loss: 0.1317 - acc: 0.9568\n",
      "Epoch 47/800\n",
      "23404/23404 [==============================] - 1s 54us/sample - loss: 0.0977 - acc: 0.9637\n",
      "Epoch 48/800\n",
      "23404/23404 [==============================] - 1s 53us/sample - loss: 0.0824 - acc: 0.9700\n",
      "Epoch 49/800\n",
      "23404/23404 [==============================] - 1s 53us/sample - loss: 0.1217 - acc: 0.9568\n",
      "Epoch 50/800\n",
      "23404/23404 [==============================] - 1s 53us/sample - loss: 0.0912 - acc: 0.9672\n",
      "Epoch 51/800\n",
      "23404/23404 [==============================] - 1s 53us/sample - loss: 0.0897 - acc: 0.9667\n",
      "Epoch 52/800\n",
      "23404/23404 [==============================] - 1s 54us/sample - loss: 0.0871 - acc: 0.9689\n",
      "Epoch 53/800\n",
      "23404/23404 [==============================] - 1s 52us/sample - loss: 0.0861 - acc: 0.9669\n",
      "Epoch 54/800\n",
      "23404/23404 [==============================] - 1s 53us/sample - loss: 0.0739 - acc: 0.9740\n",
      "Epoch 55/800\n",
      "23404/23404 [==============================] - 1s 54us/sample - loss: 0.0866 - acc: 0.9690\n",
      "Epoch 56/800\n",
      "23404/23404 [==============================] - 1s 53us/sample - loss: 0.0906 - acc: 0.9675\n",
      "Epoch 57/800\n",
      "23404/23404 [==============================] - 1s 52us/sample - loss: 0.0763 - acc: 0.9724\n",
      "Epoch 58/800\n",
      "23404/23404 [==============================] - 1s 52us/sample - loss: 0.0981 - acc: 0.9665\n",
      "Epoch 59/800\n",
      "23404/23404 [==============================] - 1s 52us/sample - loss: 0.0636 - acc: 0.9758\n",
      "Epoch 60/800\n",
      "23404/23404 [==============================] - 1s 55us/sample - loss: 0.0710 - acc: 0.9741\n",
      "Epoch 61/800\n",
      "23404/23404 [==============================] - 1s 52us/sample - loss: 0.0822 - acc: 0.9718\n",
      "Epoch 62/800\n",
      "23404/23404 [==============================] - 1s 53us/sample - loss: 0.0695 - acc: 0.9739\n",
      "Epoch 63/800\n",
      "23404/23404 [==============================] - 1s 53us/sample - loss: 0.0627 - acc: 0.9757\n",
      "Epoch 64/800\n",
      "23404/23404 [==============================] - 1s 53us/sample - loss: 0.0731 - acc: 0.9752\n",
      "Epoch 65/800\n",
      "23404/23404 [==============================] - 1s 54us/sample - loss: 0.0579 - acc: 0.9783\n",
      "Epoch 66/800\n",
      "23404/23404 [==============================] - 1s 54us/sample - loss: 0.0735 - acc: 0.9731\n",
      "Epoch 67/800\n",
      "23404/23404 [==============================] - 1s 52us/sample - loss: 0.0676 - acc: 0.9755\n",
      "Epoch 68/800\n",
      "23404/23404 [==============================] - 1s 54us/sample - loss: 0.0574 - acc: 0.9791\n",
      "Epoch 69/800\n",
      "23404/23404 [==============================] - 1s 54us/sample - loss: 0.0684 - acc: 0.9748\n",
      "Epoch 70/800\n",
      "23404/23404 [==============================] - 1s 52us/sample - loss: 0.0658 - acc: 0.9766\n",
      "Epoch 71/800\n",
      "23404/23404 [==============================] - 1s 54us/sample - loss: 0.0571 - acc: 0.9799\n",
      "Epoch 72/800\n",
      "23404/23404 [==============================] - 1s 53us/sample - loss: 0.0544 - acc: 0.9799\n",
      "Epoch 73/800\n",
      "23404/23404 [==============================] - 1s 54us/sample - loss: 0.0678 - acc: 0.9774\n",
      "Epoch 74/800\n",
      "23404/23404 [==============================] - 1s 52us/sample - loss: 0.0478 - acc: 0.9825\n",
      "Epoch 75/800\n",
      "23404/23404 [==============================] - 1s 54us/sample - loss: 0.0556 - acc: 0.9792\n",
      "Epoch 76/800\n",
      "23404/23404 [==============================] - 1s 53us/sample - loss: 0.0567 - acc: 0.9788\n",
      "Epoch 77/800\n",
      "23404/23404 [==============================] - 1s 54us/sample - loss: 0.0573 - acc: 0.9794\n",
      "Epoch 78/800\n",
      "23404/23404 [==============================] - 1s 53us/sample - loss: 0.0524 - acc: 0.9809\n",
      "Epoch 79/800\n",
      "23404/23404 [==============================] - 1s 54us/sample - loss: 0.0571 - acc: 0.9796\n",
      "Epoch 80/800\n",
      "23404/23404 [==============================] - 1s 52us/sample - loss: 0.0505 - acc: 0.9821\n",
      "Epoch 81/800\n",
      "23404/23404 [==============================] - 1s 53us/sample - loss: 0.0569 - acc: 0.9806\n",
      "Epoch 82/800\n",
      "23404/23404 [==============================] - 1s 53us/sample - loss: 0.0531 - acc: 0.9808\n",
      "Epoch 83/800\n",
      "23404/23404 [==============================] - 1s 53us/sample - loss: 0.0474 - acc: 0.9835\n",
      "Epoch 84/800\n",
      "23404/23404 [==============================] - 1s 52us/sample - loss: 0.0654 - acc: 0.9772\n",
      "Epoch 85/800\n",
      "23404/23404 [==============================] - 1s 53us/sample - loss: 0.0357 - acc: 0.9870\n",
      "Epoch 86/800\n",
      "23404/23404 [==============================] - 1s 53us/sample - loss: 0.0473 - acc: 0.9823\n",
      "Epoch 87/800\n",
      "23404/23404 [==============================] - 1s 52us/sample - loss: 0.0485 - acc: 0.9831\n",
      "Epoch 88/800\n",
      "23404/23404 [==============================] - 1s 54us/sample - loss: 0.0433 - acc: 0.9844\n",
      "Epoch 89/800\n",
      "23404/23404 [==============================] - 1s 57us/sample - loss: 0.0375 - acc: 0.9865\n",
      "Epoch 90/800\n",
      "23404/23404 [==============================] - 1s 57us/sample - loss: 0.0490 - acc: 0.9833\n",
      "Epoch 91/800\n",
      "23404/23404 [==============================] - 1s 57us/sample - loss: 0.0528 - acc: 0.9815\n",
      "Epoch 92/800\n",
      "23404/23404 [==============================] - 1s 56us/sample - loss: 0.0357 - acc: 0.9879\n",
      "Epoch 93/800\n",
      "23404/23404 [==============================] - 1s 56us/sample - loss: 0.0400 - acc: 0.9858\n",
      "Epoch 94/800\n",
      "23404/23404 [==============================] - 1s 56us/sample - loss: 0.0391 - acc: 0.9859\n",
      "Epoch 95/800\n",
      "23404/23404 [==============================] - 1s 55us/sample - loss: 0.0368 - acc: 0.9877\n",
      "Epoch 96/800\n",
      "23404/23404 [==============================] - 1s 53us/sample - loss: 0.0454 - acc: 0.9840\n",
      "Epoch 97/800\n",
      "23404/23404 [==============================] - 1s 52us/sample - loss: 0.0357 - acc: 0.9870\n",
      "Epoch 98/800\n",
      "23404/23404 [==============================] - 1s 52us/sample - loss: 0.0423 - acc: 0.9854\n",
      "Epoch 99/800\n",
      "23404/23404 [==============================] - 1s 54us/sample - loss: 0.0423 - acc: 0.9845\n",
      "Epoch 100/800\n",
      "23404/23404 [==============================] - 1s 53us/sample - loss: 0.0346 - acc: 0.9877\n",
      "Epoch 101/800\n",
      "23404/23404 [==============================] - 1s 55us/sample - loss: 0.0341 - acc: 0.9877\n",
      "Epoch 102/800\n",
      "23404/23404 [==============================] - 1s 52us/sample - loss: 0.0489 - acc: 0.9841\n",
      "Epoch 103/800\n",
      "23404/23404 [==============================] - 1s 52us/sample - loss: 0.0379 - acc: 0.9863\n",
      "Epoch 104/800\n",
      "23404/23404 [==============================] - 1s 53us/sample - loss: 0.0329 - acc: 0.9885\n",
      "Epoch 105/800\n",
      "23404/23404 [==============================] - 1s 53us/sample - loss: 0.0432 - acc: 0.9849\n",
      "Epoch 106/800\n",
      "23404/23404 [==============================] - 1s 53us/sample - loss: 0.0374 - acc: 0.9872\n",
      "Epoch 107/800\n",
      "23404/23404 [==============================] - 1s 53us/sample - loss: 0.0383 - acc: 0.9880\n",
      "Epoch 108/800\n",
      "23404/23404 [==============================] - 1s 53us/sample - loss: 0.0326 - acc: 0.9886\n",
      "Epoch 109/800\n",
      "23404/23404 [==============================] - 1s 55us/sample - loss: 0.0315 - acc: 0.9888\n",
      "Epoch 110/800\n",
      "23404/23404 [==============================] - 1s 52us/sample - loss: 0.0287 - acc: 0.9901\n",
      "Epoch 111/800\n",
      "23404/23404 [==============================] - 1s 52us/sample - loss: 0.0379 - acc: 0.9871\n",
      "Epoch 112/800\n",
      "23404/23404 [==============================] - 1s 53us/sample - loss: 0.0319 - acc: 0.9888\n",
      "Epoch 113/800\n",
      "23404/23404 [==============================] - 1s 52us/sample - loss: 0.0326 - acc: 0.9878\n",
      "Epoch 114/800\n",
      "23404/23404 [==============================] - 1s 53us/sample - loss: 0.0656 - acc: 0.9812\n",
      "Epoch 115/800\n",
      "23404/23404 [==============================] - 1s 52us/sample - loss: 0.0330 - acc: 0.9885\n",
      "Epoch 116/800\n",
      "23404/23404 [==============================] - 1s 52us/sample - loss: 0.0271 - acc: 0.9907\n",
      "Epoch 117/800\n",
      "23404/23404 [==============================] - 1s 52us/sample - loss: 0.0338 - acc: 0.9882\n",
      "Epoch 118/800\n",
      "23404/23404 [==============================] - 1s 53us/sample - loss: 0.0324 - acc: 0.9890\n",
      "Epoch 119/800\n",
      "23404/23404 [==============================] - 1s 54us/sample - loss: 0.0363 - acc: 0.9871\n",
      "Epoch 120/800\n",
      "23404/23404 [==============================] - 1s 53us/sample - loss: 0.0394 - acc: 0.9868\n",
      "Epoch 121/800\n",
      "23404/23404 [==============================] - 1s 53us/sample - loss: 0.0220 - acc: 0.9924\n",
      "Epoch 122/800\n",
      "23404/23404 [==============================] - 1s 52us/sample - loss: 0.0384 - acc: 0.9872\n",
      "Epoch 123/800\n",
      "23404/23404 [==============================] - 1s 52us/sample - loss: 0.0323 - acc: 0.9890\n",
      "Epoch 124/800\n",
      "23404/23404 [==============================] - 1s 53us/sample - loss: 0.0246 - acc: 0.9912\n",
      "Epoch 125/800\n",
      "23404/23404 [==============================] - 1s 53us/sample - loss: 0.0314 - acc: 0.9891\n",
      "Epoch 126/800\n",
      "23404/23404 [==============================] - 1s 52us/sample - loss: 0.0346 - acc: 0.9888\n",
      "Epoch 127/800\n",
      "23404/23404 [==============================] - 1s 55us/sample - loss: 0.0325 - acc: 0.9883\n",
      "Epoch 128/800\n",
      "23404/23404 [==============================] - 1s 54us/sample - loss: 0.0820 - acc: 0.9770\n",
      "Epoch 129/800\n",
      "23404/23404 [==============================] - 1s 53us/sample - loss: 0.0278 - acc: 0.9907\n",
      "Epoch 130/800\n",
      "23404/23404 [==============================] - 1s 54us/sample - loss: 0.0350 - acc: 0.9875\n",
      "Epoch 131/800\n",
      "23404/23404 [==============================] - 1s 53us/sample - loss: 0.0329 - acc: 0.9885\n",
      "Epoch 132/800\n",
      "23404/23404 [==============================] - 1s 54us/sample - loss: 0.0334 - acc: 0.9883\n",
      "Epoch 133/800\n",
      "23404/23404 [==============================] - 1s 55us/sample - loss: 0.0321 - acc: 0.9895\n",
      "Epoch 134/800\n",
      "23404/23404 [==============================] - 1s 54us/sample - loss: 0.0272 - acc: 0.9907\n",
      "Epoch 135/800\n",
      "23404/23404 [==============================] - 1s 55us/sample - loss: 0.0294 - acc: 0.9902\n",
      "Epoch 136/800\n",
      "23404/23404 [==============================] - 1s 54us/sample - loss: 0.0260 - acc: 0.9909\n",
      "Epoch 137/800\n",
      "23404/23404 [==============================] - 1s 55us/sample - loss: 0.0260 - acc: 0.9911\n",
      "Epoch 138/800\n",
      "23404/23404 [==============================] - 1s 52us/sample - loss: 0.0316 - acc: 0.9895\n",
      "Epoch 139/800\n",
      "23404/23404 [==============================] - 1s 55us/sample - loss: 0.0234 - acc: 0.9919\n",
      "Epoch 140/800\n",
      "23404/23404 [==============================] - 1s 53us/sample - loss: 0.0270 - acc: 0.9907\n",
      "Epoch 141/800\n",
      "23404/23404 [==============================] - 1s 53us/sample - loss: 0.0261 - acc: 0.9909\n",
      "Epoch 142/800\n",
      "23404/23404 [==============================] - 1s 52us/sample - loss: 0.0273 - acc: 0.9905\n",
      "Epoch 143/800\n",
      "23404/23404 [==============================] - 1s 53us/sample - loss: 0.0353 - acc: 0.9878\n",
      "Epoch 144/800\n",
      "23404/23404 [==============================] - 1s 53us/sample - loss: 0.0199 - acc: 0.9935\n",
      "Epoch 145/800\n",
      "23404/23404 [==============================] - 1s 54us/sample - loss: 0.0268 - acc: 0.9902\n",
      "Epoch 146/800\n",
      "23404/23404 [==============================] - 1s 53us/sample - loss: 0.0387 - acc: 0.9873\n",
      "Epoch 147/800\n",
      "23404/23404 [==============================] - 1s 53us/sample - loss: 0.0216 - acc: 0.9925\n",
      "Epoch 148/800\n",
      "23404/23404 [==============================] - 1s 52us/sample - loss: 0.0227 - acc: 0.9927\n",
      "Epoch 149/800\n",
      "23404/23404 [==============================] - 1s 52us/sample - loss: 0.0308 - acc: 0.9895\n",
      "Epoch 150/800\n",
      "23404/23404 [==============================] - 1s 53us/sample - loss: 0.0150 - acc: 0.9949\n",
      "Epoch 151/800\n",
      "23404/23404 [==============================] - 1s 53us/sample - loss: 0.0208 - acc: 0.9929\n",
      "Epoch 152/800\n",
      "23404/23404 [==============================] - 1s 53us/sample - loss: 0.0283 - acc: 0.9902\n",
      "Epoch 153/800\n",
      "23404/23404 [==============================] - 1s 54us/sample - loss: 0.0196 - acc: 0.9931\n",
      "Epoch 154/800\n",
      "23404/23404 [==============================] - 1s 54us/sample - loss: 0.0360 - acc: 0.9888\n",
      "Epoch 155/800\n",
      "23404/23404 [==============================] - 1s 52us/sample - loss: 0.0230 - acc: 0.9914\n",
      "Epoch 156/800\n",
      "23404/23404 [==============================] - 1s 54us/sample - loss: 0.0231 - acc: 0.9923\n",
      "Epoch 157/800\n",
      "23404/23404 [==============================] - 1s 52us/sample - loss: 0.0255 - acc: 0.9912\n",
      "Epoch 158/800\n",
      "23404/23404 [==============================] - 1s 53us/sample - loss: 0.0191 - acc: 0.9933\n",
      "Epoch 159/800\n",
      "23404/23404 [==============================] - 1s 55us/sample - loss: 0.0196 - acc: 0.9932\n",
      "Epoch 160/800\n",
      "23404/23404 [==============================] - 1s 52us/sample - loss: 0.0245 - acc: 0.9914\n",
      "Epoch 161/800\n",
      "23404/23404 [==============================] - 1s 55us/sample - loss: 0.0155 - acc: 0.9950\n",
      "Epoch 162/800\n",
      "23404/23404 [==============================] - 1s 53us/sample - loss: 0.0198 - acc: 0.9935\n",
      "Epoch 163/800\n",
      "23404/23404 [==============================] - 1s 52us/sample - loss: 0.0170 - acc: 0.9938\n",
      "Epoch 164/800\n",
      "23404/23404 [==============================] - 1s 53us/sample - loss: 0.0521 - acc: 0.9862\n",
      "Epoch 165/800\n",
      "23404/23404 [==============================] - 1s 53us/sample - loss: 0.0227 - acc: 0.9918\n",
      "Epoch 166/800\n",
      "23404/23404 [==============================] - 1s 52us/sample - loss: 0.0171 - acc: 0.9936\n",
      "Epoch 167/800\n",
      "23404/23404 [==============================] - 1s 54us/sample - loss: 0.0351 - acc: 0.9887\n",
      "Epoch 168/800\n",
      "23404/23404 [==============================] - 1s 54us/sample - loss: 0.0205 - acc: 0.9929\n",
      "Epoch 169/800\n",
      "23404/23404 [==============================] - 1s 53us/sample - loss: 0.0184 - acc: 0.9934\n",
      "Epoch 170/800\n",
      "23404/23404 [==============================] - 1s 53us/sample - loss: 0.0219 - acc: 0.9930\n",
      "Epoch 171/800\n",
      "23404/23404 [==============================] - 1s 54us/sample - loss: 0.0202 - acc: 0.9930\n",
      "Epoch 172/800\n",
      "23404/23404 [==============================] - 1s 52us/sample - loss: 0.0232 - acc: 0.9921\n",
      "Epoch 173/800\n",
      "23404/23404 [==============================] - 1s 53us/sample - loss: 0.0187 - acc: 0.9932\n",
      "Epoch 174/800\n",
      "23404/23404 [==============================] - 1s 53us/sample - loss: 0.0169 - acc: 0.9940\n",
      "Epoch 175/800\n",
      "23404/23404 [==============================] - 1s 52us/sample - loss: 0.0200 - acc: 0.9931\n",
      "Epoch 176/800\n",
      "23404/23404 [==============================] - 1s 52us/sample - loss: 0.0284 - acc: 0.9904\n",
      "Epoch 177/800\n",
      "23404/23404 [==============================] - 1s 53us/sample - loss: 0.0151 - acc: 0.9951\n",
      "Epoch 178/800\n",
      "23404/23404 [==============================] - 1s 53us/sample - loss: 0.0160 - acc: 0.9940\n",
      "Epoch 179/800\n",
      "23404/23404 [==============================] - 1s 54us/sample - loss: 0.0203 - acc: 0.9928\n",
      "Epoch 180/800\n",
      "23404/23404 [==============================] - 1s 53us/sample - loss: 0.0142 - acc: 0.9954\n",
      "Epoch 181/800\n",
      "23404/23404 [==============================] - 1s 54us/sample - loss: 0.0307 - acc: 0.9900\n",
      "Epoch 182/800\n",
      "23404/23404 [==============================] - 1s 53us/sample - loss: 0.0186 - acc: 0.9935\n",
      "Epoch 183/800\n",
      "23404/23404 [==============================] - 1s 52us/sample - loss: 0.0241 - acc: 0.9918\n",
      "Epoch 184/800\n",
      "23404/23404 [==============================] - 1s 54us/sample - loss: 0.0138 - acc: 0.9952\n",
      "Epoch 185/800\n",
      "23404/23404 [==============================] - 1s 53us/sample - loss: 0.0270 - acc: 0.9916\n",
      "Epoch 186/800\n",
      "23404/23404 [==============================] - 1s 53us/sample - loss: 0.0189 - acc: 0.9938\n",
      "Epoch 187/800\n",
      "23404/23404 [==============================] - 1s 53us/sample - loss: 0.0165 - acc: 0.9944\n",
      "Epoch 188/800\n",
      "23404/23404 [==============================] - 1s 52us/sample - loss: 0.0188 - acc: 0.9936\n",
      "Epoch 189/800\n",
      "23404/23404 [==============================] - 1s 54us/sample - loss: 0.0176 - acc: 0.9946\n",
      "Epoch 190/800\n",
      "23404/23404 [==============================] - 1s 53us/sample - loss: 0.0166 - acc: 0.9946\n",
      "Epoch 191/800\n",
      "23404/23404 [==============================] - 1s 52us/sample - loss: 0.0203 - acc: 0.9933\n",
      "Epoch 192/800\n",
      "23404/23404 [==============================] - 1s 53us/sample - loss: 0.0229 - acc: 0.9921\n",
      "Epoch 193/800\n",
      "23404/23404 [==============================] - 1s 53us/sample - loss: 0.0218 - acc: 0.9922\n",
      "Epoch 194/800\n",
      "23404/23404 [==============================] - 1s 53us/sample - loss: 0.0248 - acc: 0.9918\n",
      "Epoch 195/800\n",
      "23404/23404 [==============================] - 1s 55us/sample - loss: 0.0144 - acc: 0.9947\n",
      "Epoch 196/800\n",
      "23404/23404 [==============================] - 1s 52us/sample - loss: 0.0239 - acc: 0.9924\n",
      "Epoch 197/800\n",
      "23404/23404 [==============================] - 1s 53us/sample - loss: 0.0159 - acc: 0.9945\n",
      "Epoch 198/800\n",
      "23404/23404 [==============================] - 1s 53us/sample - loss: 0.0155 - acc: 0.9947\n",
      "Epoch 199/800\n",
      "23404/23404 [==============================] - 1s 52us/sample - loss: 0.0146 - acc: 0.9948\n",
      "Epoch 200/800\n",
      "23404/23404 [==============================] - 1s 51us/sample - loss: 0.0209 - acc: 0.9925\n",
      "Epoch 201/800\n",
      "23404/23404 [==============================] - 1s 53us/sample - loss: 0.0142 - acc: 0.9949\n",
      "Epoch 202/800\n",
      "23404/23404 [==============================] - 1s 51us/sample - loss: 0.0157 - acc: 0.9948\n",
      "Epoch 203/800\n",
      "23404/23404 [==============================] - 1s 52us/sample - loss: 0.0175 - acc: 0.9941\n",
      "Epoch 204/800\n",
      "23404/23404 [==============================] - 1s 53us/sample - loss: 0.0165 - acc: 0.9944\n",
      "Epoch 205/800\n",
      "23404/23404 [==============================] - 1s 53us/sample - loss: 0.0130 - acc: 0.9957\n",
      "Epoch 206/800\n",
      "23404/23404 [==============================] - 1s 53us/sample - loss: 0.0223 - acc: 0.9927\n",
      "Epoch 207/800\n",
      "23404/23404 [==============================] - 1s 52us/sample - loss: 0.0182 - acc: 0.9934\n",
      "Epoch 208/800\n",
      "23404/23404 [==============================] - 1s 52us/sample - loss: 0.0154 - acc: 0.9955\n",
      "Epoch 209/800\n",
      "23404/23404 [==============================] - 1s 57us/sample - loss: 0.0156 - acc: 0.9948\n",
      "Epoch 210/800\n",
      "23404/23404 [==============================] - 1s 52us/sample - loss: 0.0236 - acc: 0.9920\n",
      "Epoch 211/800\n",
      "23404/23404 [==============================] - 1s 53us/sample - loss: 0.0170 - acc: 0.9940\n",
      "Epoch 212/800\n",
      "23404/23404 [==============================] - 1s 52us/sample - loss: 0.0145 - acc: 0.9953\n",
      "Epoch 213/800\n",
      "23404/23404 [==============================] - 1s 51us/sample - loss: 0.0244 - acc: 0.9928\n",
      "Epoch 214/800\n",
      "23404/23404 [==============================] - 1s 52us/sample - loss: 0.0119 - acc: 0.9959\n",
      "Epoch 215/800\n",
      "23404/23404 [==============================] - 1s 53us/sample - loss: 0.0225 - acc: 0.9927\n",
      "Epoch 216/800\n",
      "23404/23404 [==============================] - 1s 54us/sample - loss: 0.0166 - acc: 0.9946\n",
      "Epoch 217/800\n",
      "23404/23404 [==============================] - 1s 54us/sample - loss: 0.0183 - acc: 0.9935\n",
      "Epoch 218/800\n",
      "23404/23404 [==============================] - 1s 52us/sample - loss: 0.0153 - acc: 0.9953\n",
      "Epoch 219/800\n",
      "23404/23404 [==============================] - 1s 51us/sample - loss: 0.0211 - acc: 0.9931\n",
      "Epoch 220/800\n",
      "23404/23404 [==============================] - 1s 52us/sample - loss: 0.0188 - acc: 0.9930\n",
      "Epoch 221/800\n",
      "23404/23404 [==============================] - 1s 54us/sample - loss: 0.0132 - acc: 0.9952\n",
      "Epoch 222/800\n",
      "23404/23404 [==============================] - 1s 53us/sample - loss: 0.0182 - acc: 0.9938\n",
      "Epoch 223/800\n",
      "23404/23404 [==============================] - 1s 51us/sample - loss: 0.0211 - acc: 0.9931\n",
      "Epoch 224/800\n",
      "23404/23404 [==============================] - 1s 51us/sample - loss: 0.0177 - acc: 0.9943\n",
      "Epoch 225/800\n",
      "23404/23404 [==============================] - 1s 54us/sample - loss: 0.0135 - acc: 0.9956\n",
      "Epoch 226/800\n",
      "23404/23404 [==============================] - 1s 53us/sample - loss: 0.0093 - acc: 0.9971\n",
      "Epoch 227/800\n",
      "23404/23404 [==============================] - 1s 53us/sample - loss: 0.0120 - acc: 0.9962\n",
      "Epoch 228/800\n",
      "23404/23404 [==============================] - 1s 52us/sample - loss: 0.0098 - acc: 0.9966\n",
      "Epoch 229/800\n",
      "23404/23404 [==============================] - 1s 54us/sample - loss: 0.0144 - acc: 0.9949\n",
      "Epoch 230/800\n",
      "23404/23404 [==============================] - 1s 54us/sample - loss: 0.0249 - acc: 0.9918\n",
      "Epoch 231/800\n",
      "23404/23404 [==============================] - 1s 53us/sample - loss: 0.0123 - acc: 0.9958\n",
      "Epoch 232/800\n",
      "23404/23404 [==============================] - 1s 52us/sample - loss: 0.0138 - acc: 0.9955\n",
      "Epoch 233/800\n",
      "23404/23404 [==============================] - 1s 54us/sample - loss: 0.0089 - acc: 0.9971\n",
      "Epoch 234/800\n",
      "23404/23404 [==============================] - 1s 53us/sample - loss: 0.0454 - acc: 0.9872\n",
      "Epoch 235/800\n",
      "23404/23404 [==============================] - 1s 53us/sample - loss: 0.0164 - acc: 0.9948\n",
      "Epoch 236/800\n",
      "23404/23404 [==============================] - 1s 53us/sample - loss: 0.0153 - acc: 0.9951\n",
      "Epoch 237/800\n",
      "23404/23404 [==============================] - 1s 52us/sample - loss: 0.0171 - acc: 0.9938\n",
      "Epoch 238/800\n",
      "23404/23404 [==============================] - 1s 52us/sample - loss: 0.0259 - acc: 0.9923\n",
      "Epoch 239/800\n",
      "23404/23404 [==============================] - 1s 51us/sample - loss: 0.0126 - acc: 0.9954\n",
      "Epoch 240/800\n",
      "23404/23404 [==============================] - 1s 54us/sample - loss: 0.0096 - acc: 0.9968\n",
      "Epoch 241/800\n",
      "23404/23404 [==============================] - 1s 53us/sample - loss: 0.0097 - acc: 0.9966\n",
      "Epoch 242/800\n",
      "23404/23404 [==============================] - 1s 54us/sample - loss: 0.0104 - acc: 0.9963\n",
      "Epoch 243/800\n",
      "23404/23404 [==============================] - 1s 53us/sample - loss: 0.0134 - acc: 0.9958\n",
      "Epoch 244/800\n",
      "23404/23404 [==============================] - 1s 52us/sample - loss: 0.0139 - acc: 0.9955\n",
      "Epoch 245/800\n",
      "23404/23404 [==============================] - 1s 54us/sample - loss: 0.0102 - acc: 0.9966\n",
      "Epoch 246/800\n",
      "23404/23404 [==============================] - 1s 53us/sample - loss: 0.0193 - acc: 0.9934\n",
      "Epoch 247/800\n",
      "23404/23404 [==============================] - 1s 53us/sample - loss: 0.0112 - acc: 0.9963\n",
      "Epoch 248/800\n",
      "23404/23404 [==============================] - 1s 53us/sample - loss: 0.0127 - acc: 0.9957\n",
      "Epoch 249/800\n",
      "23404/23404 [==============================] - 1s 53us/sample - loss: 0.0135 - acc: 0.9954\n",
      "Epoch 250/800\n",
      "23404/23404 [==============================] - 1s 54us/sample - loss: 0.0184 - acc: 0.9938\n",
      "Epoch 251/800\n",
      "23404/23404 [==============================] - 1s 52us/sample - loss: 0.0169 - acc: 0.9955\n",
      "Epoch 252/800\n",
      "23404/23404 [==============================] - 1s 52us/sample - loss: 0.0124 - acc: 0.9961\n",
      "Epoch 253/800\n",
      "23404/23404 [==============================] - 1s 52us/sample - loss: 0.0164 - acc: 0.9950\n",
      "Epoch 254/800\n",
      "23404/23404 [==============================] - 1s 53us/sample - loss: 0.0145 - acc: 0.9949\n",
      "Epoch 255/800\n",
      "23404/23404 [==============================] - 1s 54us/sample - loss: 0.0118 - acc: 0.9962\n",
      "Epoch 256/800\n",
      "23404/23404 [==============================] - 1s 52us/sample - loss: 0.0154 - acc: 0.9952\n",
      "Epoch 257/800\n",
      "23404/23404 [==============================] - 1s 53us/sample - loss: 0.0381 - acc: 0.9887\n",
      "Epoch 258/800\n",
      "23404/23404 [==============================] - 1s 52us/sample - loss: 0.0160 - acc: 0.9946\n",
      "Epoch 259/800\n",
      "23404/23404 [==============================] - 1s 54us/sample - loss: 0.0146 - acc: 0.9953\n",
      "Epoch 260/800\n",
      "23404/23404 [==============================] - 1s 53us/sample - loss: 0.0130 - acc: 0.9957\n",
      "Epoch 261/800\n",
      "23404/23404 [==============================] - 1s 53us/sample - loss: 0.0103 - acc: 0.9961\n",
      "Epoch 262/800\n",
      "23404/23404 [==============================] - 1s 52us/sample - loss: 0.0163 - acc: 0.9945\n",
      "Epoch 263/800\n",
      "23404/23404 [==============================] - 1s 53us/sample - loss: 0.0079 - acc: 0.9973\n",
      "Epoch 264/800\n",
      "23404/23404 [==============================] - 1s 55us/sample - loss: 0.0151 - acc: 0.9949\n",
      "Epoch 265/800\n",
      "23404/23404 [==============================] - 1s 52us/sample - loss: 0.0173 - acc: 0.9945\n",
      "Epoch 266/800\n",
      "23404/23404 [==============================] - 1s 54us/sample - loss: 0.0137 - acc: 0.9956\n",
      "Epoch 267/800\n",
      "23404/23404 [==============================] - 1s 53us/sample - loss: 0.0100 - acc: 0.9964\n",
      "Epoch 268/800\n",
      "23404/23404 [==============================] - 1s 52us/sample - loss: 0.0100 - acc: 0.9968\n",
      "Epoch 269/800\n",
      "23404/23404 [==============================] - 1s 52us/sample - loss: 0.0063 - acc: 0.9979\n",
      "Epoch 270/800\n",
      "23404/23404 [==============================] - 1s 53us/sample - loss: 0.0091 - acc: 0.9968\n",
      "Epoch 271/800\n",
      "23404/23404 [==============================] - 1s 52us/sample - loss: 0.0048 - acc: 0.9985\n",
      "Epoch 272/800\n",
      "23404/23404 [==============================] - 1s 52us/sample - loss: 0.0343 - acc: 0.9912\n",
      "Epoch 273/800\n",
      "23404/23404 [==============================] - 1s 54us/sample - loss: 0.0152 - acc: 0.9951\n",
      "Epoch 274/800\n",
      "23404/23404 [==============================] - 1s 52us/sample - loss: 0.0081 - acc: 0.9971\n",
      "Epoch 275/800\n",
      "23404/23404 [==============================] - 1s 52us/sample - loss: 0.0112 - acc: 0.9968\n",
      "Epoch 276/800\n",
      "23404/23404 [==============================] - 1s 53us/sample - loss: 0.0163 - acc: 0.9943\n",
      "Epoch 277/800\n",
      "23404/23404 [==============================] - 1s 53us/sample - loss: 0.0125 - acc: 0.9963\n",
      "Epoch 278/800\n",
      "23404/23404 [==============================] - 1s 53us/sample - loss: 0.0100 - acc: 0.9967\n",
      "Epoch 279/800\n",
      "23404/23404 [==============================] - 1s 53us/sample - loss: 0.0158 - acc: 0.9951\n",
      "Epoch 280/800\n",
      "23404/23404 [==============================] - 1s 53us/sample - loss: 0.0116 - acc: 0.9959\n",
      "Epoch 281/800\n",
      "23404/23404 [==============================] - 1s 52us/sample - loss: 0.0159 - acc: 0.9948\n",
      "Epoch 282/800\n",
      "23404/23404 [==============================] - 1s 53us/sample - loss: 0.0128 - acc: 0.9958\n",
      "Epoch 283/800\n",
      "23404/23404 [==============================] - 1s 52us/sample - loss: 0.0104 - acc: 0.9959\n",
      "Epoch 284/800\n",
      "23404/23404 [==============================] - 1s 53us/sample - loss: 0.0131 - acc: 0.9958\n",
      "Epoch 285/800\n",
      "23404/23404 [==============================] - 1s 52us/sample - loss: 0.0066 - acc: 0.9976\n",
      "Epoch 286/800\n",
      "23404/23404 [==============================] - 1s 52us/sample - loss: 0.0080 - acc: 0.9973\n",
      "Epoch 287/800\n",
      "23404/23404 [==============================] - 1s 52us/sample - loss: 0.0159 - acc: 0.9944\n",
      "Epoch 288/800\n",
      "23404/23404 [==============================] - 1s 54us/sample - loss: 0.0223 - acc: 0.9927\n",
      "Epoch 289/800\n",
      "23404/23404 [==============================] - 1s 55us/sample - loss: 0.0224 - acc: 0.9938\n",
      "Epoch 290/800\n",
      "23404/23404 [==============================] - 1s 55us/sample - loss: 0.0044 - acc: 0.9988\n",
      "Epoch 291/800\n",
      "23404/23404 [==============================] - 1s 56us/sample - loss: 0.0119 - acc: 0.9960\n",
      "Epoch 292/800\n",
      "23404/23404 [==============================] - 1s 54us/sample - loss: 0.0106 - acc: 0.9961\n",
      "Epoch 293/800\n",
      "23404/23404 [==============================] - 1s 53us/sample - loss: 0.0090 - acc: 0.9971\n",
      "Epoch 294/800\n",
      "23404/23404 [==============================] - 1s 53us/sample - loss: 0.0083 - acc: 0.9972\n",
      "Epoch 295/800\n",
      "23404/23404 [==============================] - 1s 52us/sample - loss: 0.0045 - acc: 0.9985\n",
      "Epoch 296/800\n",
      "23404/23404 [==============================] - 1s 52us/sample - loss: 0.0143 - acc: 0.9956\n",
      "Epoch 297/800\n",
      "23404/23404 [==============================] - 1s 54us/sample - loss: 0.0171 - acc: 0.9939\n",
      "Epoch 298/800\n",
      "23404/23404 [==============================] - 1s 54us/sample - loss: 0.0045 - acc: 0.9989\n",
      "Epoch 299/800\n",
      "23404/23404 [==============================] - 1s 54us/sample - loss: 0.0102 - acc: 0.9966\n",
      "Epoch 300/800\n",
      "23404/23404 [==============================] - 1s 52us/sample - loss: 0.0084 - acc: 0.9969\n",
      "Epoch 301/800\n",
      "23404/23404 [==============================] - 1s 53us/sample - loss: 0.0082 - acc: 0.9974\n",
      "Epoch 302/800\n",
      "23404/23404 [==============================] - 1s 52us/sample - loss: 0.0068 - acc: 0.9980\n",
      "Epoch 303/800\n",
      "23404/23404 [==============================] - 1s 52us/sample - loss: 0.0080 - acc: 0.9970\n",
      "Epoch 304/800\n",
      "23404/23404 [==============================] - 1s 53us/sample - loss: 0.0149 - acc: 0.9952\n",
      "Epoch 305/800\n",
      "23404/23404 [==============================] - 1s 51us/sample - loss: 0.0110 - acc: 0.9961\n",
      "Epoch 306/800\n",
      "23404/23404 [==============================] - 1s 53us/sample - loss: 0.0162 - acc: 0.9946\n",
      "Epoch 307/800\n",
      "23404/23404 [==============================] - 1s 52us/sample - loss: 0.0142 - acc: 0.9952\n",
      "Epoch 308/800\n",
      "23404/23404 [==============================] - 1s 52us/sample - loss: 0.0086 - acc: 0.9975\n",
      "Epoch 309/800\n",
      "23404/23404 [==============================] - 1s 54us/sample - loss: 0.0062 - acc: 0.9979\n",
      "Epoch 310/800\n",
      "23404/23404 [==============================] - 1s 52us/sample - loss: 0.0158 - acc: 0.9944\n",
      "Epoch 311/800\n",
      "23404/23404 [==============================] - 1s 52us/sample - loss: 0.0079 - acc: 0.9976\n",
      "Epoch 312/800\n",
      "23404/23404 [==============================] - 1s 53us/sample - loss: 0.0123 - acc: 0.9960\n",
      "Epoch 313/800\n",
      "23404/23404 [==============================] - 1s 53us/sample - loss: 0.0066 - acc: 0.9977\n",
      "Epoch 314/800\n",
      "23404/23404 [==============================] - 1s 53us/sample - loss: 0.0053 - acc: 0.9985\n",
      "Epoch 315/800\n",
      "23404/23404 [==============================] - 1s 51us/sample - loss: 0.0095 - acc: 0.9970\n",
      "Epoch 316/800\n",
      "23404/23404 [==============================] - 1s 53us/sample - loss: 0.0106 - acc: 0.9963\n",
      "Epoch 317/800\n",
      "23404/23404 [==============================] - 1s 53us/sample - loss: 0.0187 - acc: 0.9940\n",
      "Epoch 318/800\n",
      "23404/23404 [==============================] - 1s 53us/sample - loss: 0.0089 - acc: 0.9971\n",
      "Epoch 319/800\n",
      "23404/23404 [==============================] - 1s 51us/sample - loss: 0.0079 - acc: 0.9973\n",
      "Epoch 320/800\n",
      "23404/23404 [==============================] - 1s 52us/sample - loss: 0.0115 - acc: 0.9964\n",
      "Epoch 321/800\n",
      "23404/23404 [==============================] - 1s 52us/sample - loss: 0.0100 - acc: 0.9967\n",
      "Epoch 322/800\n",
      "23404/23404 [==============================] - 1s 52us/sample - loss: 0.0096 - acc: 0.9967\n",
      "Epoch 323/800\n",
      "23404/23404 [==============================] - 1s 52us/sample - loss: 0.0379 - acc: 0.9900\n",
      "Epoch 324/800\n",
      "23404/23404 [==============================] - 1s 52us/sample - loss: 0.0121 - acc: 0.9960\n",
      "Epoch 325/800\n",
      "23404/23404 [==============================] - 1s 53us/sample - loss: 0.0063 - acc: 0.9979\n",
      "Epoch 326/800\n",
      "23404/23404 [==============================] - 1s 53us/sample - loss: 0.0080 - acc: 0.9970\n",
      "Epoch 327/800\n",
      "23404/23404 [==============================] - 1s 53us/sample - loss: 0.0074 - acc: 0.9978\n",
      "Epoch 328/800\n",
      "23404/23404 [==============================] - 1s 52us/sample - loss: 0.0075 - acc: 0.9976\n",
      "Epoch 329/800\n",
      "23404/23404 [==============================] - 1s 53us/sample - loss: 0.0164 - acc: 0.9950\n",
      "Epoch 330/800\n",
      "23404/23404 [==============================] - 1s 53us/sample - loss: 0.0052 - acc: 0.9985\n",
      "Epoch 331/800\n",
      "23404/23404 [==============================] - 1s 53us/sample - loss: 0.0077 - acc: 0.9974\n",
      "Epoch 332/800\n",
      "23404/23404 [==============================] - 1s 52us/sample - loss: 0.0092 - acc: 0.9970\n",
      "Epoch 333/800\n",
      "23404/23404 [==============================] - 1s 52us/sample - loss: 0.0100 - acc: 0.9974\n",
      "Epoch 334/800\n",
      "23404/23404 [==============================] - 1s 53us/sample - loss: 0.0094 - acc: 0.9968\n",
      "Epoch 335/800\n",
      "23404/23404 [==============================] - 1s 54us/sample - loss: 0.0046 - acc: 0.9985\n",
      "Epoch 336/800\n",
      "23404/23404 [==============================] - 1s 52us/sample - loss: 0.0130 - acc: 0.9961\n",
      "Epoch 337/800\n",
      "23404/23404 [==============================] - 1s 53us/sample - loss: 0.0062 - acc: 0.9980\n",
      "Epoch 338/800\n",
      "23404/23404 [==============================] - 1s 56us/sample - loss: 0.0136 - acc: 0.9961\n",
      "Epoch 339/800\n",
      "23404/23404 [==============================] - 1s 54us/sample - loss: 0.0049 - acc: 0.9986\n",
      "Epoch 340/800\n",
      "23404/23404 [==============================] - 1s 56us/sample - loss: 0.0037 - acc: 0.9990\n",
      "Epoch 341/800\n",
      "23404/23404 [==============================] - 1s 55us/sample - loss: 0.0130 - acc: 0.9959\n",
      "Epoch 342/800\n",
      "23404/23404 [==============================] - 1s 57us/sample - loss: 0.0064 - acc: 0.9977\n",
      "Epoch 343/800\n",
      "23404/23404 [==============================] - 1s 54us/sample - loss: 0.0051 - acc: 0.9985\n",
      "Epoch 344/800\n",
      "23404/23404 [==============================] - 1s 57us/sample - loss: 0.0121 - acc: 0.9965\n",
      "Epoch 345/800\n",
      "23404/23404 [==============================] - 1s 54us/sample - loss: 0.0151 - acc: 0.9951\n",
      "Epoch 346/800\n",
      "23404/23404 [==============================] - 1s 52us/sample - loss: 0.0046 - acc: 0.9983\n",
      "Epoch 347/800\n",
      "23404/23404 [==============================] - 1s 52us/sample - loss: 0.0033 - acc: 0.9988\n",
      "Epoch 348/800\n",
      "23404/23404 [==============================] - 1s 52us/sample - loss: 0.0156 - acc: 0.9952\n",
      "Epoch 349/800\n",
      "23404/23404 [==============================] - 1s 52us/sample - loss: 0.0040 - acc: 0.9989\n",
      "Epoch 350/800\n",
      "23404/23404 [==============================] - 1s 53us/sample - loss: 0.0076 - acc: 0.9975\n",
      "Epoch 351/800\n",
      "23404/23404 [==============================] - 1s 53us/sample - loss: 0.0041 - acc: 0.9988\n",
      "Epoch 352/800\n",
      "23404/23404 [==============================] - 1s 52us/sample - loss: 0.0063 - acc: 0.9980\n",
      "Epoch 353/800\n",
      "23404/23404 [==============================] - 1s 53us/sample - loss: 0.0116 - acc: 0.9962\n",
      "Epoch 354/800\n",
      "23404/23404 [==============================] - 1s 53us/sample - loss: 0.0081 - acc: 0.9976\n",
      "Epoch 355/800\n",
      "23404/23404 [==============================] - 1s 52us/sample - loss: 0.0079 - acc: 0.9977\n",
      "Epoch 356/800\n",
      "23404/23404 [==============================] - 1s 51us/sample - loss: 0.0100 - acc: 0.9968\n",
      "Epoch 357/800\n",
      "23404/23404 [==============================] - 1s 52us/sample - loss: 0.0059 - acc: 0.9978\n",
      "Epoch 358/800\n",
      "23404/23404 [==============================] - 1s 53us/sample - loss: 0.0071 - acc: 0.9976\n",
      "Epoch 359/800\n",
      "23404/23404 [==============================] - 1s 52us/sample - loss: 0.0072 - acc: 0.9976\n",
      "Epoch 360/800\n",
      "23404/23404 [==============================] - 1s 53us/sample - loss: 0.0057 - acc: 0.9983\n",
      "Epoch 361/800\n",
      "23404/23404 [==============================] - 1s 52us/sample - loss: 0.0128 - acc: 0.9958\n",
      "Epoch 362/800\n",
      "23404/23404 [==============================] - 1s 51us/sample - loss: 0.0056 - acc: 0.9980\n",
      "Epoch 363/800\n",
      "23404/23404 [==============================] - 1s 52us/sample - loss: 0.0065 - acc: 0.9979\n",
      "Epoch 364/800\n",
      "23404/23404 [==============================] - 1s 51us/sample - loss: 0.0030 - acc: 0.9992\n",
      "Epoch 365/800\n",
      "23404/23404 [==============================] - 1s 52us/sample - loss: 0.0156 - acc: 0.9946\n",
      "Epoch 366/800\n",
      "23404/23404 [==============================] - 1s 52us/sample - loss: 0.0069 - acc: 0.9980\n",
      "Epoch 367/800\n",
      "23404/23404 [==============================] - 1s 52us/sample - loss: 0.0089 - acc: 0.9971\n",
      "Epoch 368/800\n",
      "23404/23404 [==============================] - 1s 52us/sample - loss: 0.0054 - acc: 0.9986\n",
      "Epoch 369/800\n",
      "23404/23404 [==============================] - 1s 51us/sample - loss: 0.0622 - acc: 0.9862\n",
      "Epoch 370/800\n",
      "23404/23404 [==============================] - 1s 51us/sample - loss: 0.0118 - acc: 0.9965\n",
      "Epoch 371/800\n",
      "23404/23404 [==============================] - 1s 51us/sample - loss: 0.0086 - acc: 0.9971\n",
      "Epoch 372/800\n",
      "23404/23404 [==============================] - 1s 52us/sample - loss: 0.0054 - acc: 0.9982\n",
      "Epoch 373/800\n",
      "23404/23404 [==============================] - 1s 52us/sample - loss: 0.0049 - acc: 0.9987\n",
      "Epoch 374/800\n",
      "23404/23404 [==============================] - 1s 52us/sample - loss: 0.0271 - acc: 0.9922\n",
      "Epoch 375/800\n",
      "23404/23404 [==============================] - 1s 52us/sample - loss: 0.0041 - acc: 0.9989\n",
      "Epoch 376/800\n",
      "23404/23404 [==============================] - 1s 51us/sample - loss: 0.0109 - acc: 0.9965\n",
      "Epoch 377/800\n",
      "23404/23404 [==============================] - 1s 52us/sample - loss: 0.0081 - acc: 0.9971\n",
      "Epoch 378/800\n",
      "23404/23404 [==============================] - 1s 53us/sample - loss: 0.0070 - acc: 0.9976\n",
      "Epoch 379/800\n",
      "23404/23404 [==============================] - 1s 54us/sample - loss: 0.0060 - acc: 0.9981\n",
      "Epoch 380/800\n",
      "23404/23404 [==============================] - 1s 51us/sample - loss: 0.0058 - acc: 0.9978\n",
      "Epoch 381/800\n",
      "23404/23404 [==============================] - 1s 52us/sample - loss: 0.0043 - acc: 0.9988\n",
      "Epoch 382/800\n",
      "23404/23404 [==============================] - 1s 52us/sample - loss: 0.0036 - acc: 0.9989\n",
      "Epoch 383/800\n",
      "23404/23404 [==============================] - 1s 51us/sample - loss: 0.0057 - acc: 0.9980\n",
      "Epoch 384/800\n",
      "23404/23404 [==============================] - 1s 52us/sample - loss: 0.0059 - acc: 0.9983\n",
      "Epoch 385/800\n",
      "23404/23404 [==============================] - 1s 52us/sample - loss: 0.0069 - acc: 0.9976\n",
      "Epoch 386/800\n",
      "23404/23404 [==============================] - 1s 52us/sample - loss: 0.0107 - acc: 0.9965\n",
      "Epoch 387/800\n",
      "23404/23404 [==============================] - 1s 51us/sample - loss: 0.0095 - acc: 0.9969\n",
      "Epoch 388/800\n",
      "23404/23404 [==============================] - 1s 53us/sample - loss: 0.0146 - acc: 0.9955\n",
      "Epoch 389/800\n",
      "23404/23404 [==============================] - 1s 52us/sample - loss: 0.0213 - acc: 0.9943\n",
      "Epoch 390/800\n",
      "23404/23404 [==============================] - 1s 53us/sample - loss: 0.0029 - acc: 0.9995\n",
      "Epoch 391/800\n",
      "23404/23404 [==============================] - 1s 51us/sample - loss: 0.0092 - acc: 0.9974\n",
      "Epoch 392/800\n",
      "23404/23404 [==============================] - 1s 50us/sample - loss: 0.0091 - acc: 0.9973\n",
      "Epoch 393/800\n",
      "23404/23404 [==============================] - 1s 51us/sample - loss: 0.0048 - acc: 0.9983\n",
      "Epoch 394/800\n",
      "23404/23404 [==============================] - 1s 51us/sample - loss: 0.0104 - acc: 0.9969\n",
      "Epoch 395/800\n",
      "23404/23404 [==============================] - 1s 53us/sample - loss: 0.0140 - acc: 0.9955\n",
      "Epoch 396/800\n",
      "23404/23404 [==============================] - 1s 53us/sample - loss: 0.0071 - acc: 0.9976\n",
      "Epoch 397/800\n",
      "23404/23404 [==============================] - 1s 53us/sample - loss: 0.0026 - acc: 0.9992\n",
      "Epoch 398/800\n",
      "23404/23404 [==============================] - 1s 52us/sample - loss: 0.0069 - acc: 0.9979\n",
      "Epoch 399/800\n",
      "23404/23404 [==============================] - 1s 51us/sample - loss: 0.0072 - acc: 0.9978\n",
      "Epoch 400/800\n",
      "23404/23404 [==============================] - 1s 53us/sample - loss: 0.0065 - acc: 0.9984\n",
      "Epoch 401/800\n",
      "23404/23404 [==============================] - 1s 52us/sample - loss: 0.0018 - acc: 0.9994\n",
      "Epoch 402/800\n",
      "23404/23404 [==============================] - 1s 51us/sample - loss: 0.0106 - acc: 0.9965\n",
      "Epoch 403/800\n",
      "23404/23404 [==============================] - 1s 53us/sample - loss: 0.0153 - acc: 0.9953\n",
      "Epoch 404/800\n",
      "23404/23404 [==============================] - 1s 52us/sample - loss: 0.0038 - acc: 0.9990\n",
      "Epoch 405/800\n",
      "23404/23404 [==============================] - 1s 51us/sample - loss: 0.0045 - acc: 0.9986\n",
      "Epoch 406/800\n",
      "23404/23404 [==============================] - 1s 52us/sample - loss: 0.0124 - acc: 0.9965\n",
      "Epoch 407/800\n",
      "23404/23404 [==============================] - 1s 50us/sample - loss: 0.0069 - acc: 0.9977\n",
      "Epoch 408/800\n",
      "23404/23404 [==============================] - 1s 52us/sample - loss: 0.0034 - acc: 0.9993\n",
      "Epoch 409/800\n",
      "23404/23404 [==============================] - 1s 54us/sample - loss: 0.0032 - acc: 0.9990\n",
      "Epoch 410/800\n",
      "23404/23404 [==============================] - 1s 52us/sample - loss: 0.0015 - acc: 0.9995\n",
      "Epoch 411/800\n",
      "23404/23404 [==============================] - 1s 52us/sample - loss: 0.0058 - acc: 0.9983\n",
      "Epoch 412/800\n",
      "23404/23404 [==============================] - 1s 51us/sample - loss: 0.0172 - acc: 0.9941\n",
      "Epoch 413/800\n",
      "23404/23404 [==============================] - 1s 51us/sample - loss: 0.0084 - acc: 0.9976\n",
      "Epoch 414/800\n",
      "23404/23404 [==============================] - 1s 50us/sample - loss: 0.0073 - acc: 0.9979\n",
      "Epoch 415/800\n",
      "23404/23404 [==============================] - 1s 51us/sample - loss: 0.0054 - acc: 0.9983\n",
      "Epoch 416/800\n",
      "23404/23404 [==============================] - 1s 52us/sample - loss: 0.0039 - acc: 0.9989\n",
      "Epoch 417/800\n",
      "23404/23404 [==============================] - 1s 52us/sample - loss: 0.0056 - acc: 0.9982\n",
      "Epoch 418/800\n",
      "23404/23404 [==============================] - 1s 52us/sample - loss: 0.0069 - acc: 0.9977\n",
      "Epoch 419/800\n",
      "23404/23404 [==============================] - 1s 52us/sample - loss: 0.0165 - acc: 0.9957\n",
      "Epoch 420/800\n",
      "23404/23404 [==============================] - 1s 51us/sample - loss: 0.0738 - acc: 0.9809\n",
      "Epoch 421/800\n",
      "23404/23404 [==============================] - 1s 52us/sample - loss: 0.0132 - acc: 0.9956\n",
      "Epoch 422/800\n",
      "23404/23404 [==============================] - 1s 51us/sample - loss: 0.0102 - acc: 0.9967\n",
      "Epoch 423/800\n",
      "23404/23404 [==============================] - 1s 53us/sample - loss: 0.0067 - acc: 0.9980\n",
      "Epoch 424/800\n",
      "23404/23404 [==============================] - 1s 51us/sample - loss: 0.0082 - acc: 0.9973\n",
      "Epoch 425/800\n",
      "23404/23404 [==============================] - 1s 52us/sample - loss: 0.0222 - acc: 0.9929\n",
      "Epoch 426/800\n",
      "23404/23404 [==============================] - 1s 52us/sample - loss: 0.0095 - acc: 0.9973\n",
      "Epoch 427/800\n",
      "23404/23404 [==============================] - 1s 51us/sample - loss: 0.0147 - acc: 0.9959\n",
      "Epoch 428/800\n",
      "23404/23404 [==============================] - 1s 53us/sample - loss: 0.0051 - acc: 0.9986\n",
      "Epoch 429/800\n",
      "23404/23404 [==============================] - 1s 51us/sample - loss: 0.0113 - acc: 0.9968\n",
      "Epoch 430/800\n",
      "23404/23404 [==============================] - 1s 53us/sample - loss: 0.0062 - acc: 0.9978\n",
      "Epoch 431/800\n",
      "23404/23404 [==============================] - 1s 52us/sample - loss: 0.0103 - acc: 0.9974\n",
      "Epoch 432/800\n",
      "23404/23404 [==============================] - 1s 52us/sample - loss: 0.0090 - acc: 0.9972\n",
      "Epoch 433/800\n",
      "23404/23404 [==============================] - 1s 52us/sample - loss: 0.0060 - acc: 0.9979\n",
      "Epoch 434/800\n",
      "23404/23404 [==============================] - 1s 51us/sample - loss: 0.0034 - acc: 0.9990\n",
      "Epoch 435/800\n",
      "23404/23404 [==============================] - 1s 52us/sample - loss: 0.0096 - acc: 0.9966\n",
      "Epoch 436/800\n",
      "23404/23404 [==============================] - 1s 52us/sample - loss: 0.0093 - acc: 0.9974\n",
      "Epoch 437/800\n",
      "23404/23404 [==============================] - 1s 51us/sample - loss: 0.0078 - acc: 0.9978\n",
      "Epoch 438/800\n",
      "23404/23404 [==============================] - 1s 51us/sample - loss: 0.0116 - acc: 0.9965\n",
      "Epoch 439/800\n",
      "23404/23404 [==============================] - 1s 52us/sample - loss: 0.0061 - acc: 0.9982\n",
      "Epoch 440/800\n",
      "23404/23404 [==============================] - 1s 51us/sample - loss: 0.0088 - acc: 0.9971\n",
      "Epoch 441/800\n",
      "23404/23404 [==============================] - 1s 50us/sample - loss: 0.0019 - acc: 0.9994\n",
      "Epoch 442/800\n",
      "23404/23404 [==============================] - 1s 52us/sample - loss: 0.0190 - acc: 0.9934\n",
      "Epoch 443/800\n",
      "23404/23404 [==============================] - 1s 52us/sample - loss: 0.0144 - acc: 0.9957\n",
      "Epoch 444/800\n",
      "23404/23404 [==============================] - 1s 52us/sample - loss: 0.0068 - acc: 0.9979\n",
      "Epoch 445/800\n",
      "23404/23404 [==============================] - 1s 53us/sample - loss: 0.0076 - acc: 0.9977\n",
      "Epoch 446/800\n",
      "23404/23404 [==============================] - 1s 51us/sample - loss: 0.0020 - acc: 0.9995\n",
      "Epoch 447/800\n",
      "23404/23404 [==============================] - 1s 52us/sample - loss: 0.0063 - acc: 0.9984\n",
      "Epoch 448/800\n",
      "23404/23404 [==============================] - 1s 51us/sample - loss: 0.0118 - acc: 0.9962\n",
      "Epoch 449/800\n",
      "23404/23404 [==============================] - 1s 52us/sample - loss: 0.0038 - acc: 0.9986\n",
      "Epoch 450/800\n",
      "23404/23404 [==============================] - 1s 52us/sample - loss: 0.0086 - acc: 0.9971\n",
      "Epoch 451/800\n",
      "23404/23404 [==============================] - 1s 51us/sample - loss: 0.0234 - acc: 0.9935\n",
      "Epoch 452/800\n",
      "23404/23404 [==============================] - 1s 53us/sample - loss: 0.0057 - acc: 0.9981\n",
      "Epoch 453/800\n",
      "23404/23404 [==============================] - 1s 52us/sample - loss: 0.0081 - acc: 0.9974\n",
      "Epoch 454/800\n",
      "23404/23404 [==============================] - 1s 52us/sample - loss: 0.0141 - acc: 0.9956\n",
      "Epoch 455/800\n",
      "23404/23404 [==============================] - 1s 52us/sample - loss: 0.0101 - acc: 0.9967\n",
      "Epoch 456/800\n",
      "23404/23404 [==============================] - 1s 52us/sample - loss: 0.0112 - acc: 0.9963\n",
      "Epoch 457/800\n",
      "23404/23404 [==============================] - 1s 52us/sample - loss: 0.0110 - acc: 0.9966\n",
      "Epoch 458/800\n",
      "23404/23404 [==============================] - 1s 52us/sample - loss: 0.0079 - acc: 0.9975\n",
      "Epoch 459/800\n",
      "23404/23404 [==============================] - 1s 52us/sample - loss: 0.0065 - acc: 0.9983\n",
      "Epoch 460/800\n",
      "23404/23404 [==============================] - 1s 52us/sample - loss: 0.0130 - acc: 0.9963\n",
      "Epoch 461/800\n",
      "23404/23404 [==============================] - 1s 52us/sample - loss: 0.0055 - acc: 0.9982\n",
      "Epoch 462/800\n",
      "23404/23404 [==============================] - 1s 51us/sample - loss: 0.0050 - acc: 0.9985\n",
      "Epoch 463/800\n",
      "23404/23404 [==============================] - 1s 51us/sample - loss: 0.0066 - acc: 0.9982\n",
      "Epoch 464/800\n",
      "23404/23404 [==============================] - 1s 52us/sample - loss: 0.0038 - acc: 0.9988\n",
      "Epoch 465/800\n",
      "23404/23404 [==============================] - 1s 53us/sample - loss: 0.0043 - acc: 0.9988\n",
      "Epoch 466/800\n",
      "23404/23404 [==============================] - 1s 52us/sample - loss: 0.0109 - acc: 0.9966\n",
      "Epoch 467/800\n",
      "23404/23404 [==============================] - 1s 52us/sample - loss: 0.0068 - acc: 0.9978\n",
      "Epoch 468/800\n",
      "23404/23404 [==============================] - 1s 51us/sample - loss: 0.0122 - acc: 0.9965\n",
      "Epoch 469/800\n",
      "23404/23404 [==============================] - 1s 52us/sample - loss: 0.0045 - acc: 0.9985\n",
      "Epoch 470/800\n",
      "23404/23404 [==============================] - 1s 51us/sample - loss: 0.0063 - acc: 0.9982\n",
      "Epoch 471/800\n",
      "23404/23404 [==============================] - 1s 53us/sample - loss: 0.0035 - acc: 0.9988\n",
      "Epoch 472/800\n",
      "23404/23404 [==============================] - 1s 52us/sample - loss: 0.0042 - acc: 0.9985\n",
      "Epoch 473/800\n",
      "23404/23404 [==============================] - 1s 51us/sample - loss: 0.0107 - acc: 0.9969\n",
      "Epoch 474/800\n",
      "23404/23404 [==============================] - 1s 51us/sample - loss: 0.0024 - acc: 0.9993\n",
      "Epoch 475/800\n",
      "23404/23404 [==============================] - 1s 51us/sample - loss: 0.0064 - acc: 0.9975\n",
      "Epoch 476/800\n",
      "23404/23404 [==============================] - 1s 51us/sample - loss: 0.0121 - acc: 0.9957\n",
      "Epoch 477/800\n",
      "23404/23404 [==============================] - 1s 53us/sample - loss: 0.0096 - acc: 0.9970\n",
      "Epoch 478/800\n",
      "23404/23404 [==============================] - 1s 52us/sample - loss: 0.0022 - acc: 0.9994\n",
      "Epoch 479/800\n",
      "23404/23404 [==============================] - 1s 53us/sample - loss: 0.0105 - acc: 0.9964\n",
      "Epoch 480/800\n",
      "23404/23404 [==============================] - 1s 50us/sample - loss: 0.0054 - acc: 0.9984\n",
      "Epoch 481/800\n",
      "23404/23404 [==============================] - 1s 53us/sample - loss: 0.0054 - acc: 0.9982\n",
      "Epoch 482/800\n",
      "23404/23404 [==============================] - 1s 53us/sample - loss: 0.0033 - acc: 0.9991\n",
      "Epoch 483/800\n",
      "23404/23404 [==============================] - 1s 52us/sample - loss: 0.0095 - acc: 0.9971\n",
      "Epoch 484/800\n",
      "23404/23404 [==============================] - 1s 52us/sample - loss: 0.0057 - acc: 0.9982\n",
      "Epoch 485/800\n",
      "23404/23404 [==============================] - 1s 52us/sample - loss: 0.0077 - acc: 0.9975\n",
      "Epoch 486/800\n",
      "23404/23404 [==============================] - 1s 53us/sample - loss: 0.0088 - acc: 0.9968\n",
      "Epoch 487/800\n",
      "23404/23404 [==============================] - 1s 52us/sample - loss: 0.0029 - acc: 0.9992\n",
      "Epoch 488/800\n",
      "23404/23404 [==============================] - 1s 51us/sample - loss: 0.0073 - acc: 0.9981\n",
      "Epoch 489/800\n",
      "23404/23404 [==============================] - 1s 52us/sample - loss: 0.0055 - acc: 0.9985\n",
      "Epoch 490/800\n",
      "23404/23404 [==============================] - 1s 52us/sample - loss: 0.0017 - acc: 0.9996\n",
      "Epoch 491/800\n",
      "23404/23404 [==============================] - 1s 51us/sample - loss: 0.0036 - acc: 0.9989\n",
      "Epoch 492/800\n",
      "23404/23404 [==============================] - 1s 51us/sample - loss: 0.0059 - acc: 0.9985\n",
      "Epoch 493/800\n",
      "23404/23404 [==============================] - 1s 52us/sample - loss: 0.0077 - acc: 0.9976\n",
      "Epoch 494/800\n",
      "23404/23404 [==============================] - 1s 53us/sample - loss: 9.6678e-04 - acc: 0.9999\n",
      "Epoch 495/800\n",
      "23404/23404 [==============================] - 1s 51us/sample - loss: 0.0038 - acc: 0.9988\n",
      "Epoch 496/800\n",
      "23404/23404 [==============================] - 1s 51us/sample - loss: 0.0041 - acc: 0.9986\n",
      "Epoch 497/800\n",
      "23404/23404 [==============================] - 1s 51us/sample - loss: 0.0088 - acc: 0.9974\n",
      "Epoch 498/800\n",
      "23404/23404 [==============================] - 1s 53us/sample - loss: 0.0047 - acc: 0.9985\n",
      "Epoch 499/800\n",
      "23404/23404 [==============================] - 1s 52us/sample - loss: 0.0066 - acc: 0.9980\n",
      "Epoch 500/800\n",
      "23404/23404 [==============================] - 1s 53us/sample - loss: 0.0114 - acc: 0.9969\n",
      "Epoch 501/800\n",
      "23404/23404 [==============================] - 1s 50us/sample - loss: 0.0033 - acc: 0.9989\n",
      "Epoch 502/800\n",
      "23404/23404 [==============================] - 1s 52us/sample - loss: 0.0017 - acc: 0.9996\n",
      "Epoch 503/800\n",
      "23404/23404 [==============================] - 1s 52us/sample - loss: 0.0077 - acc: 0.9977\n",
      "Epoch 504/800\n",
      "23404/23404 [==============================] - 1s 52us/sample - loss: 0.0033 - acc: 0.9992\n",
      "Epoch 505/800\n",
      "23404/23404 [==============================] - 1s 51us/sample - loss: 0.0022 - acc: 0.9993\n",
      "Epoch 506/800\n",
      "23404/23404 [==============================] - 1s 50us/sample - loss: 0.0038 - acc: 0.9991\n",
      "Epoch 507/800\n",
      "23404/23404 [==============================] - 1s 51us/sample - loss: 0.0122 - acc: 0.9956\n",
      "Epoch 508/800\n",
      "23404/23404 [==============================] - 1s 53us/sample - loss: 0.0133 - acc: 0.9961\n",
      "Epoch 509/800\n",
      "23404/23404 [==============================] - 1s 52us/sample - loss: 0.0052 - acc: 0.9982\n",
      "Epoch 510/800\n",
      "23404/23404 [==============================] - 1s 53us/sample - loss: 0.0037 - acc: 0.9991\n",
      "Epoch 511/800\n",
      "23404/23404 [==============================] - 1s 53us/sample - loss: 9.1282e-04 - acc: 0.9998\n",
      "Epoch 512/800\n",
      "23404/23404 [==============================] - 1s 52us/sample - loss: 0.0082 - acc: 0.9971\n",
      "Epoch 513/800\n",
      "23404/23404 [==============================] - 1s 53us/sample - loss: 0.0058 - acc: 0.9982\n",
      "Epoch 514/800\n",
      "23404/23404 [==============================] - 1s 52us/sample - loss: 0.0054 - acc: 0.9985\n",
      "Epoch 515/800\n",
      "23404/23404 [==============================] - 1s 51us/sample - loss: 0.0175 - acc: 0.9943\n",
      "Epoch 516/800\n",
      "23404/23404 [==============================] - 1s 51us/sample - loss: 0.0028 - acc: 0.9993\n",
      "Epoch 517/800\n",
      "23404/23404 [==============================] - 1s 50us/sample - loss: 0.0083 - acc: 0.9976\n",
      "Epoch 518/800\n",
      "23404/23404 [==============================] - 1s 50us/sample - loss: 0.0013 - acc: 0.9997\n",
      "Epoch 519/800\n",
      "23404/23404 [==============================] - 1s 53us/sample - loss: 0.0038 - acc: 0.9991\n",
      "Epoch 520/800\n",
      "23404/23404 [==============================] - 1s 53us/sample - loss: 0.0123 - acc: 0.9961\n",
      "Epoch 521/800\n",
      "23404/23404 [==============================] - 1s 52us/sample - loss: 0.0063 - acc: 0.9982\n",
      "Epoch 522/800\n",
      "23404/23404 [==============================] - 1s 51us/sample - loss: 0.0030 - acc: 0.9992\n",
      "Epoch 523/800\n",
      "23404/23404 [==============================] - 1s 52us/sample - loss: 0.0011 - acc: 0.9998\n",
      "Epoch 524/800\n",
      "23404/23404 [==============================] - 1s 53us/sample - loss: 0.0043 - acc: 0.9990\n",
      "Epoch 525/800\n",
      "23404/23404 [==============================] - 1s 52us/sample - loss: 0.0020 - acc: 0.9994\n",
      "Epoch 526/800\n",
      "23404/23404 [==============================] - 1s 52us/sample - loss: 0.0072 - acc: 0.9976\n",
      "Epoch 527/800\n",
      "23404/23404 [==============================] - 1s 53us/sample - loss: 0.0025 - acc: 0.9990\n",
      "Epoch 528/800\n",
      "23404/23404 [==============================] - 1s 52us/sample - loss: 0.0126 - acc: 0.9968\n",
      "Epoch 529/800\n",
      "23404/23404 [==============================] - 1s 53us/sample - loss: 0.0181 - acc: 0.9954\n",
      "Epoch 530/800\n",
      "23404/23404 [==============================] - 1s 52us/sample - loss: 0.0067 - acc: 0.9977\n",
      "Epoch 531/800\n",
      "23404/23404 [==============================] - 1s 52us/sample - loss: 0.0012 - acc: 0.9998\n",
      "Epoch 532/800\n",
      "23404/23404 [==============================] - 1s 52us/sample - loss: 0.0048 - acc: 0.9985\n",
      "Epoch 533/800\n",
      "23404/23404 [==============================] - 1s 52us/sample - loss: 0.0013 - acc: 0.9996\n",
      "Epoch 534/800\n",
      "23404/23404 [==============================] - 1s 53us/sample - loss: 0.0072 - acc: 0.9978\n",
      "Epoch 535/800\n",
      "23404/23404 [==============================] - 1s 51us/sample - loss: 0.0115 - acc: 0.9973\n",
      "Epoch 536/800\n",
      "23404/23404 [==============================] - 1s 52us/sample - loss: 0.0029 - acc: 0.9991\n",
      "Epoch 537/800\n",
      "23404/23404 [==============================] - 1s 51us/sample - loss: 0.0050 - acc: 0.9981\n",
      "Epoch 538/800\n",
      "23404/23404 [==============================] - 1s 54us/sample - loss: 0.0034 - acc: 0.9991\n",
      "Epoch 539/800\n",
      "23404/23404 [==============================] - 1s 56us/sample - loss: 0.0059 - acc: 0.9982\n",
      "Epoch 540/800\n",
      "23404/23404 [==============================] - 1s 55us/sample - loss: 0.0037 - acc: 0.9989\n",
      "Epoch 541/800\n",
      "23404/23404 [==============================] - 1s 54us/sample - loss: 0.0013 - acc: 0.9996\n",
      "Epoch 542/800\n",
      "23404/23404 [==============================] - 1s 52us/sample - loss: 0.0052 - acc: 0.9982\n",
      "Epoch 543/800\n",
      "23404/23404 [==============================] - 1s 52us/sample - loss: 0.0049 - acc: 0.9986\n",
      "Epoch 544/800\n",
      "23404/23404 [==============================] - 1s 52us/sample - loss: 0.0070 - acc: 0.9977\n",
      "Epoch 545/800\n",
      "23404/23404 [==============================] - 1s 52us/sample - loss: 0.0042 - acc: 0.9985\n",
      "Epoch 546/800\n",
      "23404/23404 [==============================] - 1s 50us/sample - loss: 0.0024 - acc: 0.9995\n",
      "Epoch 547/800\n",
      "23404/23404 [==============================] - 1s 51us/sample - loss: 0.0031 - acc: 0.9989\n",
      "Epoch 548/800\n",
      "23404/23404 [==============================] - 1s 52us/sample - loss: 0.0013 - acc: 0.9996\n",
      "Epoch 549/800\n",
      "23404/23404 [==============================] - 1s 52us/sample - loss: 0.0104 - acc: 0.9968\n",
      "Epoch 550/800\n",
      "23404/23404 [==============================] - 1s 52us/sample - loss: 0.0089 - acc: 0.9970\n",
      "Epoch 551/800\n",
      "23404/23404 [==============================] - 1s 52us/sample - loss: 0.0042 - acc: 0.9985\n",
      "Epoch 552/800\n",
      "23404/23404 [==============================] - 1s 52us/sample - loss: 0.0069 - acc: 0.9980\n",
      "Epoch 553/800\n",
      "23404/23404 [==============================] - 1s 53us/sample - loss: 0.0030 - acc: 0.9990\n",
      "Epoch 554/800\n",
      "23404/23404 [==============================] - 1s 51us/sample - loss: 0.0012 - acc: 0.9995\n",
      "Epoch 555/800\n",
      "23404/23404 [==============================] - 1s 52us/sample - loss: 0.0013 - acc: 0.9995\n",
      "Epoch 556/800\n",
      "23404/23404 [==============================] - 1s 51us/sample - loss: 0.0013 - acc: 0.9995\n",
      "Epoch 557/800\n",
      "23404/23404 [==============================] - 1s 52us/sample - loss: 0.0014 - acc: 0.9995\n",
      "Epoch 558/800\n",
      "23404/23404 [==============================] - 1s 53us/sample - loss: 0.0028 - acc: 0.9992\n",
      "Epoch 559/800\n",
      "23404/23404 [==============================] - 1s 52us/sample - loss: 0.0054 - acc: 0.9985\n",
      "Epoch 560/800\n",
      "23404/23404 [==============================] - 1s 51us/sample - loss: 0.0014 - acc: 0.9997\n",
      "Epoch 561/800\n",
      "23404/23404 [==============================] - 1s 52us/sample - loss: 0.0076 - acc: 0.9978\n",
      "Epoch 562/800\n",
      "23404/23404 [==============================] - 1s 51us/sample - loss: 0.0022 - acc: 0.9993\n",
      "Epoch 563/800\n",
      "23404/23404 [==============================] - 1s 53us/sample - loss: 0.0040 - acc: 0.9987\n",
      "Epoch 564/800\n",
      "23404/23404 [==============================] - 1s 52us/sample - loss: 0.0035 - acc: 0.9986\n",
      "Epoch 565/800\n",
      "23404/23404 [==============================] - 1s 52us/sample - loss: 0.0122 - acc: 0.9965\n",
      "Epoch 566/800\n",
      "23404/23404 [==============================] - 1s 50us/sample - loss: 0.0082 - acc: 0.9976\n",
      "Epoch 567/800\n",
      "23404/23404 [==============================] - 1s 52us/sample - loss: 0.0023 - acc: 0.9993\n",
      "Epoch 568/800\n",
      "23404/23404 [==============================] - 1s 52us/sample - loss: 0.0097 - acc: 0.9970\n",
      "Epoch 569/800\n",
      "23404/23404 [==============================] - 1s 52us/sample - loss: 0.0044 - acc: 0.9987\n",
      "Epoch 570/800\n",
      "23404/23404 [==============================] - 1s 52us/sample - loss: 6.4691e-04 - acc: 0.9999\n",
      "Epoch 571/800\n",
      "23404/23404 [==============================] - 1s 52us/sample - loss: 0.0031 - acc: 0.9992\n",
      "Epoch 572/800\n",
      "23404/23404 [==============================] - 1s 52us/sample - loss: 0.0055 - acc: 0.9980\n",
      "Epoch 573/800\n",
      "23404/23404 [==============================] - 1s 52us/sample - loss: 0.0034 - acc: 0.9989\n",
      "Epoch 574/800\n",
      "23404/23404 [==============================] - 1s 51us/sample - loss: 0.0055 - acc: 0.9985\n",
      "Epoch 575/800\n",
      "23404/23404 [==============================] - 1s 52us/sample - loss: 0.0049 - acc: 0.9986\n",
      "Epoch 576/800\n",
      "23404/23404 [==============================] - 1s 53us/sample - loss: 8.0765e-04 - acc: 0.9999\n",
      "Epoch 577/800\n",
      "23404/23404 [==============================] - 1s 51us/sample - loss: 0.0025 - acc: 0.9993\n",
      "Epoch 578/800\n",
      "23404/23404 [==============================] - 1s 52us/sample - loss: 0.0155 - acc: 0.9957\n",
      "Epoch 579/800\n",
      "23404/23404 [==============================] - 1s 53us/sample - loss: 0.0078 - acc: 0.9975\n",
      "Epoch 580/800\n",
      "23404/23404 [==============================] - 1s 52us/sample - loss: 0.0014 - acc: 0.9998\n",
      "Epoch 581/800\n",
      "23404/23404 [==============================] - 1s 52us/sample - loss: 0.0033 - acc: 0.9990\n",
      "Epoch 582/800\n",
      "23404/23404 [==============================] - 1s 52us/sample - loss: 0.0016 - acc: 0.9996\n",
      "Epoch 583/800\n",
      "23404/23404 [==============================] - 1s 54us/sample - loss: 0.0042 - acc: 0.9985\n",
      "Epoch 584/800\n",
      "23404/23404 [==============================] - 1s 52us/sample - loss: 0.0043 - acc: 0.9985\n",
      "Epoch 585/800\n",
      "23404/23404 [==============================] - 1s 52us/sample - loss: 0.0016 - acc: 0.9996\n",
      "Epoch 586/800\n",
      "23404/23404 [==============================] - 1s 52us/sample - loss: 0.0038 - acc: 0.9988\n",
      "Epoch 587/800\n",
      "23404/23404 [==============================] - 1s 52us/sample - loss: 0.0121 - acc: 0.9966\n",
      "Epoch 588/800\n",
      "23404/23404 [==============================] - 1s 51us/sample - loss: 0.0100 - acc: 0.9972\n",
      "Epoch 589/800\n",
      "23404/23404 [==============================] - 1s 52us/sample - loss: 0.0023 - acc: 0.9994\n",
      "Epoch 590/800\n",
      "23404/23404 [==============================] - 1s 52us/sample - loss: 0.0010 - acc: 0.9998\n",
      "Epoch 591/800\n",
      "23404/23404 [==============================] - 1s 54us/sample - loss: 0.0017 - acc: 0.9994\n",
      "Epoch 592/800\n",
      "23404/23404 [==============================] - 1s 52us/sample - loss: 0.0015 - acc: 0.9997\n",
      "Epoch 593/800\n",
      "23404/23404 [==============================] - 1s 53us/sample - loss: 0.0044 - acc: 0.9986\n",
      "Epoch 594/800\n",
      "23404/23404 [==============================] - 1s 53us/sample - loss: 0.0030 - acc: 0.9990\n",
      "Epoch 595/800\n",
      "23404/23404 [==============================] - 1s 55us/sample - loss: 0.0055 - acc: 0.9979\n",
      "Epoch 596/800\n",
      "23404/23404 [==============================] - 1s 55us/sample - loss: 0.0013 - acc: 0.9997\n",
      "Epoch 597/800\n",
      "23404/23404 [==============================] - 1s 55us/sample - loss: 0.0026 - acc: 0.9991\n",
      "Epoch 598/800\n",
      "23404/23404 [==============================] - 1s 55us/sample - loss: 0.0110 - acc: 0.9969\n",
      "Epoch 599/800\n",
      "23404/23404 [==============================] - 1s 54us/sample - loss: 0.0098 - acc: 0.9968\n",
      "Epoch 600/800\n",
      "23404/23404 [==============================] - 1s 53us/sample - loss: 0.0012 - acc: 0.9998\n",
      "Epoch 601/800\n",
      "23404/23404 [==============================] - 1s 52us/sample - loss: 5.1195e-04 - acc: 1.0000\n",
      "Epoch 602/800\n",
      "23404/23404 [==============================] - 1s 51us/sample - loss: 0.0060 - acc: 0.9979\n",
      "Epoch 603/800\n",
      "23404/23404 [==============================] - 1s 52us/sample - loss: 0.0118 - acc: 0.9974\n",
      "Epoch 604/800\n",
      "23404/23404 [==============================] - 1s 52us/sample - loss: 0.0020 - acc: 0.9994\n",
      "Epoch 605/800\n",
      "23404/23404 [==============================] - 1s 52us/sample - loss: 4.7201e-04 - acc: 1.0000\n",
      "Epoch 606/800\n",
      "23404/23404 [==============================] - 1s 52us/sample - loss: 0.0044 - acc: 0.9987\n",
      "Epoch 607/800\n",
      "23404/23404 [==============================] - 1s 52us/sample - loss: 0.0087 - acc: 0.9976\n",
      "Epoch 608/800\n",
      "23404/23404 [==============================] - 1s 52us/sample - loss: 0.0044 - acc: 0.9987\n",
      "Epoch 609/800\n",
      "23404/23404 [==============================] - 1s 52us/sample - loss: 0.0023 - acc: 0.9993\n",
      "Epoch 610/800\n",
      "23404/23404 [==============================] - 1s 51us/sample - loss: 7.1359e-04 - acc: 0.9998\n",
      "Epoch 611/800\n",
      "23404/23404 [==============================] - 1s 50us/sample - loss: 0.0075 - acc: 0.9978\n",
      "Epoch 612/800\n",
      "23404/23404 [==============================] - 1s 53us/sample - loss: 0.0046 - acc: 0.9987\n",
      "Epoch 613/800\n",
      "23404/23404 [==============================] - 1s 52us/sample - loss: 0.0135 - acc: 0.9959\n",
      "Epoch 614/800\n",
      "23404/23404 [==============================] - 1s 51us/sample - loss: 0.0021 - acc: 0.9994\n",
      "Epoch 615/800\n",
      "23404/23404 [==============================] - 1s 53us/sample - loss: 4.8300e-04 - acc: 0.9999\n",
      "Epoch 616/800\n",
      "23404/23404 [==============================] - 1s 53us/sample - loss: 8.7625e-04 - acc: 0.9998\n",
      "Epoch 617/800\n",
      "23404/23404 [==============================] - 1s 52us/sample - loss: 0.0051 - acc: 0.9982\n",
      "Epoch 618/800\n",
      "23404/23404 [==============================] - 1s 52us/sample - loss: 6.8576e-04 - acc: 0.9999\n",
      "Epoch 619/800\n",
      "23404/23404 [==============================] - 1s 52us/sample - loss: 8.2276e-04 - acc: 0.9998\n",
      "Epoch 620/800\n",
      "23404/23404 [==============================] - 1s 52us/sample - loss: 0.0075 - acc: 0.9979\n",
      "Epoch 621/800\n",
      "23404/23404 [==============================] - 1s 53us/sample - loss: 0.0017 - acc: 0.9995\n",
      "Epoch 622/800\n",
      "23404/23404 [==============================] - 1s 51us/sample - loss: 0.0052 - acc: 0.9982\n",
      "Epoch 623/800\n",
      "23404/23404 [==============================] - 1s 52us/sample - loss: 0.0132 - acc: 0.9959\n",
      "Epoch 624/800\n",
      "23404/23404 [==============================] - 1s 53us/sample - loss: 0.0094 - acc: 0.9973\n",
      "Epoch 625/800\n",
      "23404/23404 [==============================] - 1s 51us/sample - loss: 0.0080 - acc: 0.9978\n",
      "Epoch 626/800\n",
      "23404/23404 [==============================] - 1s 51us/sample - loss: 0.0042 - acc: 0.9986\n",
      "Epoch 627/800\n",
      "23404/23404 [==============================] - 1s 52us/sample - loss: 0.0038 - acc: 0.9988\n",
      "Epoch 628/800\n",
      "23404/23404 [==============================] - 1s 52us/sample - loss: 0.0102 - acc: 0.9968\n",
      "Epoch 629/800\n",
      "23404/23404 [==============================] - 1s 53us/sample - loss: 0.0028 - acc: 0.9990\n",
      "Epoch 630/800\n",
      "23404/23404 [==============================] - 1s 51us/sample - loss: 0.0039 - acc: 0.9989\n",
      "Epoch 631/800\n",
      "23404/23404 [==============================] - 1s 53us/sample - loss: 0.0049 - acc: 0.9983\n",
      "Epoch 632/800\n",
      "23404/23404 [==============================] - 1s 52us/sample - loss: 0.0010 - acc: 0.9997\n",
      "Epoch 633/800\n",
      "23404/23404 [==============================] - 1s 52us/sample - loss: 0.0037 - acc: 0.9990\n",
      "Epoch 634/800\n",
      "23404/23404 [==============================] - 1s 52us/sample - loss: 0.0020 - acc: 0.9994\n",
      "Epoch 635/800\n",
      "23404/23404 [==============================] - 1s 51us/sample - loss: 0.0013 - acc: 0.9995\n",
      "Epoch 636/800\n",
      "23404/23404 [==============================] - 1s 51us/sample - loss: 0.0099 - acc: 0.9971\n",
      "Epoch 637/800\n",
      "23404/23404 [==============================] - 1s 52us/sample - loss: 0.0037 - acc: 0.9986\n",
      "Epoch 638/800\n",
      "23404/23404 [==============================] - 1s 51us/sample - loss: 0.0046 - acc: 0.9988\n",
      "Epoch 639/800\n",
      "23404/23404 [==============================] - 1s 52us/sample - loss: 5.1572e-04 - acc: 0.9999\n",
      "Epoch 640/800\n",
      "23404/23404 [==============================] - 1s 52us/sample - loss: 0.0022 - acc: 0.9994\n",
      "Epoch 641/800\n",
      "23404/23404 [==============================] - 1s 53us/sample - loss: 0.0021 - acc: 0.9994\n",
      "Epoch 642/800\n",
      "23404/23404 [==============================] - 1s 53us/sample - loss: 9.6834e-04 - acc: 0.9997\n",
      "Epoch 643/800\n",
      "23404/23404 [==============================] - 1s 49us/sample - loss: 3.6092e-04 - acc: 1.0000\n",
      "Epoch 644/800\n",
      "23404/23404 [==============================] - 1s 51us/sample - loss: 0.0051 - acc: 0.9983\n",
      "Epoch 645/800\n",
      "23404/23404 [==============================] - 1s 51us/sample - loss: 0.0012 - acc: 0.9997\n",
      "Epoch 646/800\n",
      "23404/23404 [==============================] - 1s 52us/sample - loss: 0.0013 - acc: 0.9997\n",
      "Epoch 647/800\n",
      "23404/23404 [==============================] - 1s 52us/sample - loss: 5.6215e-04 - acc: 0.9999\n",
      "Epoch 648/800\n",
      "23404/23404 [==============================] - 1s 52us/sample - loss: 3.8291e-04 - acc: 0.9999\n",
      "Epoch 649/800\n",
      "23404/23404 [==============================] - 1s 52us/sample - loss: 2.3939e-04 - acc: 1.0000\n",
      "Epoch 650/800\n",
      "23404/23404 [==============================] - 1s 50us/sample - loss: 1.8145e-04 - acc: 1.0000\n",
      "Epoch 651/800\n",
      "23404/23404 [==============================] - 1s 51us/sample - loss: 7.6773e-04 - acc: 0.9998\n",
      "Epoch 652/800\n",
      "23404/23404 [==============================] - 1s 50us/sample - loss: 0.0231 - acc: 0.9932\n",
      "Epoch 653/800\n",
      "23404/23404 [==============================] - 1s 51us/sample - loss: 0.0135 - acc: 0.9954\n",
      "Epoch 654/800\n",
      "23404/23404 [==============================] - 1s 50us/sample - loss: 0.0075 - acc: 0.9975\n",
      "Epoch 655/800\n",
      "23404/23404 [==============================] - 1s 52us/sample - loss: 0.0031 - acc: 0.9991\n",
      "Epoch 656/800\n",
      "23404/23404 [==============================] - 1s 51us/sample - loss: 8.4737e-04 - acc: 0.9999\n",
      "Epoch 657/800\n",
      "23404/23404 [==============================] - 1s 50us/sample - loss: 0.0010 - acc: 0.9997\n",
      "Epoch 658/800\n",
      "23404/23404 [==============================] - 1s 52us/sample - loss: 0.0017 - acc: 0.9995\n",
      "Epoch 659/800\n",
      "23404/23404 [==============================] - 1s 51us/sample - loss: 0.0152 - acc: 0.9961\n",
      "Epoch 660/800\n",
      "23404/23404 [==============================] - 1s 52us/sample - loss: 0.0057 - acc: 0.9984\n",
      "Epoch 661/800\n",
      "23404/23404 [==============================] - 1s 52us/sample - loss: 0.0019 - acc: 0.9994\n",
      "Epoch 662/800\n",
      "23404/23404 [==============================] - 1s 52us/sample - loss: 0.0030 - acc: 0.9991\n",
      "Epoch 663/800\n",
      "23404/23404 [==============================] - 1s 51us/sample - loss: 0.0048 - acc: 0.9984\n",
      "Epoch 664/800\n",
      "23404/23404 [==============================] - 1s 53us/sample - loss: 0.0011 - acc: 0.9998\n",
      "Epoch 665/800\n",
      "23404/23404 [==============================] - 1s 52us/sample - loss: 0.0014 - acc: 0.9997\n",
      "Epoch 666/800\n",
      "23404/23404 [==============================] - 1s 52us/sample - loss: 0.0046 - acc: 0.9987\n",
      "Epoch 667/800\n",
      "23404/23404 [==============================] - 1s 52us/sample - loss: 0.0022 - acc: 0.9995\n",
      "Epoch 668/800\n",
      "23404/23404 [==============================] - 1s 52us/sample - loss: 0.0017 - acc: 0.9994\n",
      "Epoch 669/800\n",
      "23404/23404 [==============================] - 1s 51us/sample - loss: 0.0143 - acc: 0.9956\n",
      "Epoch 670/800\n",
      "23404/23404 [==============================] - 1s 50us/sample - loss: 0.0049 - acc: 0.9985\n",
      "Epoch 671/800\n",
      "23404/23404 [==============================] - 1s 53us/sample - loss: 0.0057 - acc: 0.9982\n",
      "Epoch 672/800\n",
      "23404/23404 [==============================] - 1s 52us/sample - loss: 0.0024 - acc: 0.9993\n",
      "Epoch 673/800\n",
      "23404/23404 [==============================] - 1s 52us/sample - loss: 0.0041 - acc: 0.9985\n",
      "Epoch 674/800\n",
      "23404/23404 [==============================] - 1s 53us/sample - loss: 0.0054 - acc: 0.9985\n",
      "Epoch 675/800\n",
      "23404/23404 [==============================] - 1s 53us/sample - loss: 0.0057 - acc: 0.9984\n",
      "Epoch 676/800\n",
      "23404/23404 [==============================] - 1s 52us/sample - loss: 0.0093 - acc: 0.9974\n",
      "Epoch 677/800\n",
      "23404/23404 [==============================] - 1s 52us/sample - loss: 0.0077 - acc: 0.9975\n",
      "Epoch 678/800\n",
      "23404/23404 [==============================] - 1s 51us/sample - loss: 0.0041 - acc: 0.9987\n",
      "Epoch 679/800\n",
      "23404/23404 [==============================] - 1s 51us/sample - loss: 0.0089 - acc: 0.9973\n",
      "Epoch 680/800\n",
      "23404/23404 [==============================] - 1s 51us/sample - loss: 6.1003e-04 - acc: 1.0000\n",
      "Epoch 681/800\n",
      "23404/23404 [==============================] - 1s 53us/sample - loss: 0.0012 - acc: 0.9997\n",
      "Epoch 682/800\n",
      "23404/23404 [==============================] - 1s 54us/sample - loss: 4.0603e-04 - acc: 0.9999\n",
      "Epoch 683/800\n",
      "23404/23404 [==============================] - 1s 51us/sample - loss: 0.0010 - acc: 0.9998\n",
      "Epoch 684/800\n",
      "23404/23404 [==============================] - 1s 53us/sample - loss: 3.6199e-04 - acc: 1.0000\n",
      "Epoch 685/800\n",
      "23404/23404 [==============================] - 1s 52us/sample - loss: 6.0543e-04 - acc: 0.9999\n",
      "Epoch 686/800\n",
      "23404/23404 [==============================] - 1s 53us/sample - loss: 0.0086 - acc: 0.9980\n",
      "Epoch 687/800\n",
      "23404/23404 [==============================] - 1s 51us/sample - loss: 0.0014 - acc: 0.9997\n",
      "Epoch 688/800\n",
      "23404/23404 [==============================] - 1s 52us/sample - loss: 0.0011 - acc: 0.9997\n",
      "Epoch 689/800\n",
      "23404/23404 [==============================] - 1s 52us/sample - loss: 0.0101 - acc: 0.9971\n",
      "Epoch 690/800\n",
      "23404/23404 [==============================] - 1s 53us/sample - loss: 0.0011 - acc: 0.9997\n",
      "Epoch 691/800\n",
      "23404/23404 [==============================] - 1s 51us/sample - loss: 0.0048 - acc: 0.9985\n",
      "Epoch 692/800\n",
      "23404/23404 [==============================] - 1s 52us/sample - loss: 9.0909e-04 - acc: 0.9997\n",
      "Epoch 693/800\n",
      "23404/23404 [==============================] - 1s 52us/sample - loss: 6.0932e-04 - acc: 0.9999\n",
      "Epoch 694/800\n",
      "23404/23404 [==============================] - 1s 52us/sample - loss: 0.0043 - acc: 0.9985\n",
      "Epoch 695/800\n",
      "23404/23404 [==============================] - 1s 52us/sample - loss: 0.0016 - acc: 0.9996\n",
      "Epoch 696/800\n",
      "23404/23404 [==============================] - 1s 52us/sample - loss: 0.0042 - acc: 0.9988\n",
      "Epoch 697/800\n",
      "23404/23404 [==============================] - 1s 53us/sample - loss: 0.0027 - acc: 0.9993\n",
      "Epoch 698/800\n",
      "23404/23404 [==============================] - 1s 54us/sample - loss: 0.0016 - acc: 0.9995\n",
      "Epoch 699/800\n",
      "23404/23404 [==============================] - 1s 51us/sample - loss: 3.3885e-04 - acc: 1.0000\n",
      "Epoch 700/800\n",
      "23404/23404 [==============================] - 1s 52us/sample - loss: 0.0019 - acc: 0.9994\n",
      "Epoch 701/800\n",
      "23404/23404 [==============================] - 1s 52us/sample - loss: 0.0156 - acc: 0.9956\n",
      "Epoch 702/800\n",
      "23404/23404 [==============================] - 1s 54us/sample - loss: 0.0233 - acc: 0.9944\n",
      "Epoch 703/800\n",
      "23404/23404 [==============================] - 1s 53us/sample - loss: 0.0071 - acc: 0.9976\n",
      "Epoch 704/800\n",
      "23404/23404 [==============================] - 1s 53us/sample - loss: 0.0022 - acc: 0.9993\n",
      "Epoch 705/800\n",
      "23404/23404 [==============================] - 1s 52us/sample - loss: 5.9739e-04 - acc: 0.9999\n",
      "Epoch 706/800\n",
      "23404/23404 [==============================] - 1s 53us/sample - loss: 0.0063 - acc: 0.9979\n",
      "Epoch 707/800\n",
      "23404/23404 [==============================] - 1s 53us/sample - loss: 0.0027 - acc: 0.9991\n",
      "Epoch 708/800\n",
      "23404/23404 [==============================] - 1s 51us/sample - loss: 0.0036 - acc: 0.9989\n",
      "Epoch 709/800\n",
      "23404/23404 [==============================] - 1s 52us/sample - loss: 0.0063 - acc: 0.9982\n",
      "Epoch 710/800\n",
      "23404/23404 [==============================] - 1s 52us/sample - loss: 0.0027 - acc: 0.9993\n",
      "Epoch 711/800\n",
      "23404/23404 [==============================] - 1s 52us/sample - loss: 5.1443e-04 - acc: 1.0000\n",
      "Epoch 712/800\n",
      "23404/23404 [==============================] - 1s 52us/sample - loss: 7.4358e-04 - acc: 0.9998\n",
      "Epoch 713/800\n",
      "23404/23404 [==============================] - 1s 51us/sample - loss: 0.0099 - acc: 0.9964\n",
      "Epoch 714/800\n",
      "23404/23404 [==============================] - 1s 53us/sample - loss: 0.0115 - acc: 0.9967\n",
      "Epoch 715/800\n",
      "23404/23404 [==============================] - 1s 54us/sample - loss: 0.0055 - acc: 0.9984\n",
      "Epoch 716/800\n",
      "23404/23404 [==============================] - 1s 52us/sample - loss: 0.0019 - acc: 0.9993\n",
      "Epoch 717/800\n",
      "23404/23404 [==============================] - 1s 52us/sample - loss: 0.0012 - acc: 0.9998\n",
      "Epoch 718/800\n",
      "23404/23404 [==============================] - 1s 51us/sample - loss: 3.9762e-04 - acc: 1.0000\n",
      "Epoch 719/800\n",
      "23404/23404 [==============================] - 1s 52us/sample - loss: 3.2834e-04 - acc: 1.0000\n",
      "Epoch 720/800\n",
      "23404/23404 [==============================] - 1s 52us/sample - loss: 3.2160e-04 - acc: 0.9999\n",
      "Epoch 721/800\n",
      "23404/23404 [==============================] - 1s 52us/sample - loss: 0.0090 - acc: 0.9973\n",
      "Epoch 722/800\n",
      "23404/23404 [==============================] - 1s 51us/sample - loss: 0.0019 - acc: 0.9994\n",
      "Epoch 723/800\n",
      "23404/23404 [==============================] - 1s 55us/sample - loss: 0.0045 - acc: 0.9987\n",
      "Epoch 724/800\n",
      "23404/23404 [==============================] - 1s 53us/sample - loss: 0.0088 - acc: 0.9974\n",
      "Epoch 725/800\n",
      "23404/23404 [==============================] - 1s 53us/sample - loss: 0.0016 - acc: 0.9996\n",
      "Epoch 726/800\n",
      "23404/23404 [==============================] - 1s 52us/sample - loss: 0.0016 - acc: 0.9995\n",
      "Epoch 727/800\n",
      "23404/23404 [==============================] - 1s 53us/sample - loss: 0.0027 - acc: 0.9994\n",
      "Epoch 728/800\n",
      "23404/23404 [==============================] - 1s 52us/sample - loss: 6.0153e-04 - acc: 0.9998\n",
      "Epoch 729/800\n",
      "23404/23404 [==============================] - 1s 51us/sample - loss: 3.3296e-04 - acc: 1.0000\n",
      "Epoch 730/800\n",
      "23404/23404 [==============================] - 1s 53us/sample - loss: 0.0021 - acc: 0.9994\n",
      "Epoch 731/800\n",
      "23404/23404 [==============================] - 1s 53us/sample - loss: 0.0016 - acc: 0.9995\n",
      "Epoch 732/800\n",
      "23404/23404 [==============================] - 1s 53us/sample - loss: 7.7582e-04 - acc: 0.9997\n",
      "Epoch 733/800\n",
      "23404/23404 [==============================] - 1s 53us/sample - loss: 0.0020 - acc: 0.9994\n",
      "Epoch 734/800\n",
      "23404/23404 [==============================] - 1s 52us/sample - loss: 0.0097 - acc: 0.9974\n",
      "Epoch 735/800\n",
      "23404/23404 [==============================] - 1s 52us/sample - loss: 0.0049 - acc: 0.9988\n",
      "Epoch 736/800\n",
      "23404/23404 [==============================] - 1s 52us/sample - loss: 0.0157 - acc: 0.9951\n",
      "Epoch 737/800\n",
      "23404/23404 [==============================] - 1s 52us/sample - loss: 0.0061 - acc: 0.9988\n",
      "Epoch 738/800\n",
      "23404/23404 [==============================] - 1s 51us/sample - loss: 0.0052 - acc: 0.9982\n",
      "Epoch 739/800\n",
      "23404/23404 [==============================] - 1s 52us/sample - loss: 0.0044 - acc: 0.9987\n",
      "Epoch 740/800\n",
      "23404/23404 [==============================] - 1s 52us/sample - loss: 0.0018 - acc: 0.9994\n",
      "Epoch 741/800\n",
      "23404/23404 [==============================] - 1s 51us/sample - loss: 5.3525e-04 - acc: 0.9999\n",
      "Epoch 742/800\n",
      "23404/23404 [==============================] - 1s 52us/sample - loss: 0.0014 - acc: 0.9996\n",
      "Epoch 743/800\n",
      "23404/23404 [==============================] - 1s 52us/sample - loss: 0.0113 - acc: 0.9964\n",
      "Epoch 744/800\n",
      "23404/23404 [==============================] - 1s 52us/sample - loss: 0.0020 - acc: 0.9995\n",
      "Epoch 745/800\n",
      "23404/23404 [==============================] - 1s 52us/sample - loss: 0.0026 - acc: 0.9991\n",
      "Epoch 746/800\n",
      "23404/23404 [==============================] - 1s 51us/sample - loss: 0.0015 - acc: 0.9994\n",
      "Epoch 747/800\n",
      "23404/23404 [==============================] - 1s 52us/sample - loss: 0.0042 - acc: 0.9989\n",
      "Epoch 748/800\n",
      "23404/23404 [==============================] - 1s 52us/sample - loss: 0.0036 - acc: 0.9987\n",
      "Epoch 749/800\n",
      "23404/23404 [==============================] - 1s 54us/sample - loss: 7.1109e-04 - acc: 0.9998\n",
      "Epoch 750/800\n",
      "23404/23404 [==============================] - 1s 51us/sample - loss: 0.0014 - acc: 0.9996\n",
      "Epoch 751/800\n",
      "23404/23404 [==============================] - 1s 50us/sample - loss: 6.0849e-04 - acc: 0.9999\n",
      "Epoch 752/800\n",
      "23404/23404 [==============================] - 1s 52us/sample - loss: 0.0015 - acc: 0.9996\n",
      "Epoch 753/800\n",
      "23404/23404 [==============================] - 1s 51us/sample - loss: 2.9259e-04 - acc: 1.0000\n",
      "Epoch 754/800\n",
      "23404/23404 [==============================] - 1s 53us/sample - loss: 0.0020 - acc: 0.9995\n",
      "Epoch 755/800\n",
      "23404/23404 [==============================] - 1s 52us/sample - loss: 0.0041 - acc: 0.9990\n",
      "Epoch 756/800\n",
      "23404/23404 [==============================] - 1s 52us/sample - loss: 0.0038 - acc: 0.9987\n",
      "Epoch 757/800\n",
      "23404/23404 [==============================] - 1s 52us/sample - loss: 0.0023 - acc: 0.9993\n",
      "Epoch 758/800\n",
      "23404/23404 [==============================] - 1s 51us/sample - loss: 0.0078 - acc: 0.9979\n",
      "Epoch 759/800\n",
      "23404/23404 [==============================] - 1s 52us/sample - loss: 0.0022 - acc: 0.9991\n",
      "Epoch 760/800\n",
      "23404/23404 [==============================] - 1s 52us/sample - loss: 0.0028 - acc: 0.9989\n",
      "Epoch 761/800\n",
      "23404/23404 [==============================] - 1s 52us/sample - loss: 0.0011 - acc: 0.9997\n",
      "Epoch 762/800\n",
      "23404/23404 [==============================] - 1s 52us/sample - loss: 0.0029 - acc: 0.9990\n",
      "Epoch 763/800\n",
      "23404/23404 [==============================] - 1s 51us/sample - loss: 0.0095 - acc: 0.9968\n",
      "Epoch 764/800\n",
      "23404/23404 [==============================] - 1s 54us/sample - loss: 8.5757e-04 - acc: 0.9999\n",
      "Epoch 765/800\n",
      "23404/23404 [==============================] - 1s 53us/sample - loss: 6.3152e-04 - acc: 0.9998\n",
      "Epoch 766/800\n",
      "23404/23404 [==============================] - 1s 52us/sample - loss: 6.2831e-04 - acc: 0.9998\n",
      "Epoch 767/800\n",
      "23404/23404 [==============================] - 1s 52us/sample - loss: 0.0033 - acc: 0.9988\n",
      "Epoch 768/800\n",
      "23404/23404 [==============================] - 1s 51us/sample - loss: 0.0059 - acc: 0.9982\n",
      "Epoch 769/800\n",
      "23404/23404 [==============================] - 1s 52us/sample - loss: 0.0037 - acc: 0.9990\n",
      "Epoch 770/800\n",
      "23404/23404 [==============================] - 1s 51us/sample - loss: 0.0085 - acc: 0.9978\n",
      "Epoch 771/800\n",
      "23404/23404 [==============================] - 1s 53us/sample - loss: 0.0011 - acc: 0.9997\n",
      "Epoch 772/800\n",
      "23404/23404 [==============================] - 1s 53us/sample - loss: 0.0015 - acc: 0.9994\n",
      "Epoch 773/800\n",
      "23404/23404 [==============================] - 1s 52us/sample - loss: 0.0191 - acc: 0.9947\n",
      "Epoch 774/800\n",
      "23404/23404 [==============================] - 1s 53us/sample - loss: 0.0025 - acc: 0.9995\n",
      "Epoch 775/800\n",
      "23404/23404 [==============================] - 1s 52us/sample - loss: 0.0017 - acc: 0.9996\n",
      "Epoch 776/800\n",
      "23404/23404 [==============================] - 1s 52us/sample - loss: 0.0038 - acc: 0.9988\n",
      "Epoch 777/800\n",
      "23404/23404 [==============================] - 1s 52us/sample - loss: 0.0015 - acc: 0.9997\n",
      "Epoch 778/800\n",
      "23404/23404 [==============================] - 1s 51us/sample - loss: 0.0026 - acc: 0.9993\n",
      "Epoch 779/800\n",
      "23404/23404 [==============================] - 1s 54us/sample - loss: 0.0031 - acc: 0.9991\n",
      "Epoch 780/800\n",
      "23404/23404 [==============================] - 1s 52us/sample - loss: 0.0011 - acc: 0.9997\n",
      "Epoch 781/800\n",
      "23404/23404 [==============================] - 1s 52us/sample - loss: 0.0051 - acc: 0.9985\n",
      "Epoch 782/800\n",
      "23404/23404 [==============================] - 1s 52us/sample - loss: 0.0051 - acc: 0.9987\n",
      "Epoch 783/800\n",
      "23404/23404 [==============================] - 1s 52us/sample - loss: 0.0088 - acc: 0.9970\n",
      "Epoch 784/800\n",
      "23404/23404 [==============================] - 1s 52us/sample - loss: 0.0011 - acc: 0.9996\n",
      "Epoch 785/800\n",
      "23404/23404 [==============================] - 1s 51us/sample - loss: 7.6539e-04 - acc: 0.9997\n",
      "Epoch 786/800\n",
      "23404/23404 [==============================] - 1s 52us/sample - loss: 0.0085 - acc: 0.9980\n",
      "Epoch 787/800\n",
      "23404/23404 [==============================] - 1s 52us/sample - loss: 4.1829e-04 - acc: 1.0000\n",
      "Epoch 788/800\n",
      "23404/23404 [==============================] - 1s 56us/sample - loss: 0.0055 - acc: 0.9984\n",
      "Epoch 789/800\n",
      "23404/23404 [==============================] - 1s 55us/sample - loss: 9.0429e-04 - acc: 0.9998\n",
      "Epoch 790/800\n",
      "23404/23404 [==============================] - 1s 55us/sample - loss: 0.0025 - acc: 0.9992\n",
      "Epoch 791/800\n",
      "23404/23404 [==============================] - 1s 56us/sample - loss: 0.0040 - acc: 0.9988\n",
      "Epoch 792/800\n",
      "23404/23404 [==============================] - 1s 52us/sample - loss: 3.7074e-04 - acc: 1.0000\n",
      "Epoch 793/800\n",
      "23404/23404 [==============================] - 1s 54us/sample - loss: 2.1745e-04 - acc: 1.0000\n",
      "Epoch 794/800\n",
      "23404/23404 [==============================] - 1s 53us/sample - loss: 7.2823e-04 - acc: 0.9997\n",
      "Epoch 795/800\n",
      "23404/23404 [==============================] - 1s 52us/sample - loss: 6.6241e-04 - acc: 0.9999\n",
      "Epoch 796/800\n",
      "23404/23404 [==============================] - 1s 52us/sample - loss: 9.6292e-04 - acc: 0.9999\n",
      "Epoch 797/800\n",
      "23404/23404 [==============================] - 1s 52us/sample - loss: 1.6102e-04 - acc: 1.0000\n",
      "Epoch 798/800\n",
      "23404/23404 [==============================] - 1s 52us/sample - loss: 3.1033e-04 - acc: 1.0000\n",
      "Epoch 799/800\n",
      "23404/23404 [==============================] - 1s 53us/sample - loss: 2.3597e-04 - acc: 0.9999\n",
      "Epoch 800/800\n",
      "23404/23404 [==============================] - 1s 52us/sample - loss: 3.9194e-04 - acc: 0.9999\n",
      "Training finished. Duration:\n",
      "0:16:30.863396\n",
      "\n",
      "\n"
     ]
    }
   ],
   "source": [
    "#Train ANN\n",
    "\n",
    "start = timer() #Stoppe Trainingszeit    \n",
    "model.fit(x=train_data,y=train_labels,batch_size=70,epochs=800)\n",
    "end = timer() #Ende Training\n",
    "train_duration_ann = timedelta(seconds=end-start)\n",
    "print(\"Training finished. Duration:\")\n",
    "print(train_duration_ann)\n",
    "print(\"\\n\")"
   ]
  },
  {
   "cell_type": "code",
   "execution_count": 121,
   "metadata": {
    "colab": {
     "base_uri": "https://localhost:8080/",
     "height": 34
    },
    "colab_type": "code",
    "id": "TA8W0_P8f0MB",
    "outputId": "67192c3c-d57b-4f02-e45c-7e616ce3a049"
   },
   "outputs": [
    {
     "name": "stdout",
     "output_type": "stream",
     "text": [
      "23404/23404 [==============================] - 2s 80us/sample - loss: 0.0084 - acc: 0.9973\n"
     ]
    }
   ],
   "source": [
    "resultsTrainAnn = model.evaluate(x=train_data,y=train_labels)\n",
    "\n",
    "result_train_ann = {}\n",
    "for name,result in zip(model.metrics_names,resultsTrainAnn):\n",
    "    result_train_ann[name] = result"
   ]
  },
  {
   "cell_type": "code",
   "execution_count": 122,
   "metadata": {
    "colab": {
     "base_uri": "https://localhost:8080/",
     "height": 51
    },
    "colab_type": "code",
    "id": "r0iCuroado_v",
    "outputId": "9e8f09ff-94d1-4949-f671-9f937f311968"
   },
   "outputs": [
    {
     "name": "stdout",
     "output_type": "stream",
     "text": [
      "5851/5851 [==============================] - 0s 75us/sample - loss: 0.0435 - acc: 0.9932\n",
      "Test Duration for ANN:  0:00:00.446194\n"
     ]
    }
   ],
   "source": [
    "start = timer()\n",
    "resultsAnn = model.evaluate(x=test_data,y=test_labels)\n",
    "end = timer()\n",
    "test_duration_ann = timedelta(seconds = end-start)\n",
    "print(\"Test Duration for ANN: \",test_duration_ann)\n",
    "\n",
    "result_test_ann = {}\n",
    "for name,result in zip(model.metrics_names,resultsAnn):\n",
    "    result_test_ann[name] = result"
   ]
  },
  {
   "cell_type": "code",
   "execution_count": 0,
   "metadata": {
    "colab": {},
    "colab_type": "code",
    "id": "PcQU7WSQkbj8"
   },
   "outputs": [],
   "source": [
    "# Protokolliere Ergebnisse des Neuronalen Netzes\n",
    "results.loc['ANN','Runtime Training':'Score Test-Set'] = train_duration_ann,test_duration_ann,result_train_ann['acc'],result_test_ann['acc']"
   ]
  },
  {
   "cell_type": "markdown",
   "metadata": {
    "colab_type": "text",
    "id": "Ec1GDGCjlyYo"
   },
   "source": [
    "### 6 Auswertung der Ergebnisse\n",
    "\n",
    "Im Folgenden Kapitel erfolgt eine Übersicht über alle gesammelten Ergebnisse der Klassifikationsverfahren.\n",
    "Die am Anfang initialiserte Tabelle ist komplett befüllt und die Ergebnisse können mit einander verglichen werden. Außerdem werden die Ergebnisse in einer weiteren Datei gesichert.\n",
    "\n",
    "Auch hier kommen wieder Methoden der Visualisierung für die Scores und Laufzeiten zum Einsatz. Diese bilden die Basis zu Bewertung der Klassifikatoren"
   ]
  },
  {
   "cell_type": "code",
   "execution_count": 124,
   "metadata": {
    "colab": {
     "base_uri": "https://localhost:8080/",
     "height": 388
    },
    "colab_type": "code",
    "id": "JtuHd0Qano-q",
    "outputId": "82f2a39b-27e4-460a-f232-783ac3c8ddfc"
   },
   "outputs": [
    {
     "data": {
      "text/html": [
       "<div>\n",
       "<style scoped>\n",
       "    .dataframe tbody tr th:only-of-type {\n",
       "        vertical-align: middle;\n",
       "    }\n",
       "\n",
       "    .dataframe tbody tr th {\n",
       "        vertical-align: top;\n",
       "    }\n",
       "\n",
       "    .dataframe thead th {\n",
       "        text-align: right;\n",
       "    }\n",
       "</style>\n",
       "<table border=\"1\" class=\"dataframe\">\n",
       "  <thead>\n",
       "    <tr style=\"text-align: right;\">\n",
       "      <th></th>\n",
       "      <th>Runtime Training</th>\n",
       "      <th>Runtime Prediction</th>\n",
       "      <th>Score Trainings-Set</th>\n",
       "      <th>Score Test-Set</th>\n",
       "      <th>Runtime Training without Outliers</th>\n",
       "      <th>Runtime Prediction without Outliers</th>\n",
       "      <th>Score Trainings-Set without Outliers</th>\n",
       "      <th>Score Test-Set without Outliers</th>\n",
       "      <th>Runtime Training PCA Features</th>\n",
       "      <th>Runtime Prediction PCA Features</th>\n",
       "      <th>Score Trainings-Set PCA Features</th>\n",
       "      <th>Score Test-Set PCA Features</th>\n",
       "      <th>Runtime Training KBest Features</th>\n",
       "      <th>Runtime Prediction KBest Features</th>\n",
       "      <th>Score Trainings-Set KBest Features</th>\n",
       "      <th>Score Test-Set KBest Features</th>\n",
       "    </tr>\n",
       "  </thead>\n",
       "  <tbody>\n",
       "    <tr>\n",
       "      <th>1-NN</th>\n",
       "      <td>0:00:00.053410</td>\n",
       "      <td>0:00:00.955113</td>\n",
       "      <td>1</td>\n",
       "      <td>0.975142</td>\n",
       "      <td>0:00:00.046426</td>\n",
       "      <td>0:00:00.927025</td>\n",
       "      <td>1</td>\n",
       "      <td>0.975867</td>\n",
       "      <td>0:00:00.025105</td>\n",
       "      <td>0:00:00.765180</td>\n",
       "      <td>1</td>\n",
       "      <td>0.980735</td>\n",
       "      <td>0:00:00.035764</td>\n",
       "      <td>0:00:00.786717</td>\n",
       "      <td>1</td>\n",
       "      <td>0.998343</td>\n",
       "    </tr>\n",
       "    <tr>\n",
       "      <th>K-NN</th>\n",
       "      <td>0:00:00.056642</td>\n",
       "      <td>0:00:09.869611</td>\n",
       "      <td>0.989286</td>\n",
       "      <td>0.979803</td>\n",
       "      <td>0:00:00.043800</td>\n",
       "      <td>0:00:03.761823</td>\n",
       "      <td>0.994643</td>\n",
       "      <td>0.978767</td>\n",
       "      <td>0:00:00.020597</td>\n",
       "      <td>0:00:01.491627</td>\n",
       "      <td>0.994133</td>\n",
       "      <td>0.98146</td>\n",
       "      <td>0:00:00.033750</td>\n",
       "      <td>0:00:01.119489</td>\n",
       "      <td>0.998929</td>\n",
       "      <td>0.997618</td>\n",
       "    </tr>\n",
       "    <tr>\n",
       "      <th>Bayes</th>\n",
       "      <td>0:00:00.033778</td>\n",
       "      <td>0:00:00.179122</td>\n",
       "      <td>0.705918</td>\n",
       "      <td>0.698809</td>\n",
       "      <td>0:00:00.020578</td>\n",
       "      <td>0:00:00.167061</td>\n",
       "      <td>0.859079</td>\n",
       "      <td>0.854065</td>\n",
       "      <td>0:00:00.016644</td>\n",
       "      <td>0:00:00.026949</td>\n",
       "      <td>0.78051</td>\n",
       "      <td>0.77276</td>\n",
       "      <td>0:00:00.018869</td>\n",
       "      <td>0:00:00.030698</td>\n",
       "      <td>0.827092</td>\n",
       "      <td>0.826411</td>\n",
       "    </tr>\n",
       "    <tr>\n",
       "      <th>Decision Tree</th>\n",
       "      <td>0:00:02.125919</td>\n",
       "      <td>0:00:00.005740</td>\n",
       "      <td>1</td>\n",
       "      <td>0.981564</td>\n",
       "      <td>0:00:01.947541</td>\n",
       "      <td>0:00:00.004834</td>\n",
       "      <td>0.998032</td>\n",
       "      <td>0.980839</td>\n",
       "      <td>0:00:00.914355</td>\n",
       "      <td>0:00:00.004235</td>\n",
       "      <td>1</td>\n",
       "      <td>0.978146</td>\n",
       "      <td>0:00:00.964574</td>\n",
       "      <td>0:00:00.004302</td>\n",
       "      <td>1</td>\n",
       "      <td>0.984153</td>\n",
       "    </tr>\n",
       "    <tr>\n",
       "      <th>Random Forrest</th>\n",
       "      <td>0:00:07.801740</td>\n",
       "      <td>0:00:00.325690</td>\n",
       "      <td>1</td>\n",
       "      <td>0.998239</td>\n",
       "      <td>0:00:08.708004</td>\n",
       "      <td>0:00:00.341515</td>\n",
       "      <td>0.999945</td>\n",
       "      <td>0.996996</td>\n",
       "      <td>0:00:07.547263</td>\n",
       "      <td>0:00:00.344194</td>\n",
       "      <td>1</td>\n",
       "      <td>0.992336</td>\n",
       "      <td>0:00:06.574279</td>\n",
       "      <td>0:00:00.403455</td>\n",
       "      <td>1</td>\n",
       "      <td>0.996789</td>\n",
       "    </tr>\n",
       "    <tr>\n",
       "      <th>SVM</th>\n",
       "      <td>0:00:07.757429</td>\n",
       "      <td>0:00:07.853223</td>\n",
       "      <td>0.999847</td>\n",
       "      <td>0.993889</td>\n",
       "      <td>0:00:05.046071</td>\n",
       "      <td>0:00:06.542725</td>\n",
       "      <td>1</td>\n",
       "      <td>0.990782</td>\n",
       "      <td>0:00:04.121934</td>\n",
       "      <td>0:00:03.771420</td>\n",
       "      <td>0.999592</td>\n",
       "      <td>0.995236</td>\n",
       "      <td>0:00:05.749654</td>\n",
       "      <td>0:00:02.577181</td>\n",
       "      <td>0.999949</td>\n",
       "      <td>0.999171</td>\n",
       "    </tr>\n",
       "    <tr>\n",
       "      <th>ANN</th>\n",
       "      <td>0:16:30.863396</td>\n",
       "      <td>0:00:00.446194</td>\n",
       "      <td>0.997265</td>\n",
       "      <td>0.993164</td>\n",
       "      <td>NaN</td>\n",
       "      <td>NaN</td>\n",
       "      <td>NaN</td>\n",
       "      <td>NaN</td>\n",
       "      <td>NaN</td>\n",
       "      <td>NaN</td>\n",
       "      <td>NaN</td>\n",
       "      <td>NaN</td>\n",
       "      <td>NaN</td>\n",
       "      <td>NaN</td>\n",
       "      <td>NaN</td>\n",
       "      <td>NaN</td>\n",
       "    </tr>\n",
       "  </tbody>\n",
       "</table>\n",
       "</div>"
      ],
      "text/plain": [
       "               Runtime Training  ... Score Test-Set KBest Features\n",
       "1-NN             0:00:00.053410  ...                      0.998343\n",
       "K-NN             0:00:00.056642  ...                      0.997618\n",
       "Bayes            0:00:00.033778  ...                      0.826411\n",
       "Decision Tree    0:00:02.125919  ...                      0.984153\n",
       "Random Forrest   0:00:07.801740  ...                      0.996789\n",
       "SVM              0:00:07.757429  ...                      0.999171\n",
       "ANN              0:16:30.863396  ...                           NaN\n",
       "\n",
       "[7 rows x 16 columns]"
      ]
     },
     "execution_count": 124,
     "metadata": {
      "tags": []
     },
     "output_type": "execute_result"
    }
   ],
   "source": [
    "results"
   ]
  },
  {
   "cell_type": "code",
   "execution_count": 0,
   "metadata": {
    "colab": {},
    "colab_type": "code",
    "id": "kl2nVHzRno-r"
   },
   "outputs": [],
   "source": [
    "#Schreibe Ergebnisse in eine csv Datei\n",
    "results.to_csv(path_or_buf='results_table.csv',encoding='utf-8')"
   ]
  },
  {
   "cell_type": "code",
   "execution_count": 0,
   "metadata": {
    "colab": {},
    "colab_type": "code",
    "id": "_kj1ZbNVJPV3"
   },
   "outputs": [],
   "source": [
    "#Mache aus dem Index eine Spalte\n",
    "#Dient zur Vorbereitung für die Visualisierung\n",
    "results['Classifier'] = results.index"
   ]
  },
  {
   "cell_type": "code",
   "execution_count": 150,
   "metadata": {
    "colab": {
     "base_uri": "https://localhost:8080/",
     "height": 513
    },
    "colab_type": "code",
    "id": "LZFXoMBO-dlD",
    "outputId": "68cf355f-0c67-40ed-85ca-4892b2038425"
   },
   "outputs": [
    {
     "data": {
      "image/png": "[encoded data removed]",
      "text/plain": [
       "<Figure size 1080x576 with 1 Axes>"
      ]
     },
     "metadata": {
      "tags": []
     },
     "output_type": "display_data"
    }
   ],
   "source": [
    "#Visualisierung der Scores in einem Bar-Chart für jeden Klassifikator und für jeden jeweils verwendeten Datensatz\n",
    "plot_res = pd.melt(results, id_vars=['Classifier'], value_vars=['Score Test-Set', 'Score Test-Set without Outliers','Score Test-Set PCA Features','Score Test-Set KBest Features'])\n",
    "\n",
    "#Ansicht über alle Classifier. Start bei 0.6 Score bis 1.0\n",
    "plt.figure(figsize=(15,8))\n",
    "plt.ylim(0.6,1.01)\n",
    "sns.barplot(x=plot_res['Classifier'],y=plot_res['value'],hue=plot_res['variable'],palette='magma')\n",
    "plt.legend(loc='lower center')\n",
    "plt.title('Test Scores over all Classifiers')\n",
    "plt.savefig('result_bar_plot_all.png')"
   ]
  },
  {
   "cell_type": "code",
   "execution_count": 149,
   "metadata": {
    "colab": {
     "base_uri": "https://localhost:8080/",
     "height": 513
    },
    "colab_type": "code",
    "id": "VoczeiC2JZpe",
    "outputId": "7afe05fe-b99d-42e7-90d0-dddb59b39962"
   },
   "outputs": [
    {
     "data": {
      "image/png": "[encoded data removed]",
      "text/plain": [
       "<Figure size 1080x576 with 1 Axes>"
      ]
     },
     "metadata": {
      "tags": []
     },
     "output_type": "display_data"
    }
   ],
   "source": [
    "#Reinzoomen in die Graphik, da die Bereiche nah bei einander liegen\n",
    "plt.figure(figsize=(15,8))\n",
    "plt.ylim(0.92,1.01)\n",
    "sns.barplot(x=plot_res['Classifier'],y=plot_res['value'],hue=plot_res['variable'],palette='magma')\n",
    "plt.legend(loc='lower center')\n",
    "plt.title('Test Scores over all Classifiers')\n",
    "plt.savefig('result_bar_plot_detail.png')"
   ]
  },
  {
   "cell_type": "code",
   "execution_count": 129,
   "metadata": {
    "colab": {
     "base_uri": "https://localhost:8080/",
     "height": 204
    },
    "colab_type": "code",
    "id": "x3oaxzhk36Ap",
    "outputId": "d1a49e47-065d-47f0-cdf6-0b52adcae03c"
   },
   "outputs": [
    {
     "data": {
      "text/plain": [
       "Index(['Runtime Training', 'Runtime Prediction', 'Score Trainings-Set',\n",
       "       'Score Test-Set', 'Runtime Training without Outliers',\n",
       "       'Runtime Prediction without Outliers',\n",
       "       'Score Trainings-Set without Outliers',\n",
       "       'Score Test-Set without Outliers', 'Runtime Training PCA Features',\n",
       "       'Runtime Prediction PCA Features', 'Score Trainings-Set PCA Features',\n",
       "       'Score Test-Set PCA Features', 'Runtime Training KBest Features',\n",
       "       'Runtime Prediction KBest Features',\n",
       "       'Score Trainings-Set KBest Features', 'Score Test-Set KBest Features',\n",
       "       'Classifier'],\n",
       "      dtype='object')"
      ]
     },
     "execution_count": 129,
     "metadata": {
      "tags": []
     },
     "output_type": "execute_result"
    }
   ],
   "source": [
    "results.columns"
   ]
  },
  {
   "cell_type": "code",
   "execution_count": 0,
   "metadata": {
    "colab": {},
    "colab_type": "code",
    "id": "I4mhNIsS36Aq"
   },
   "outputs": [],
   "source": [
    "#Vorbereitung für die Visualisierung der Trainingszeiten für die Klassifikatoren je Datensatz\n",
    "res = results.iloc[results.index != 'ANN'] #Ohne ANN da dieser Ausreißer bei Laufzeit und Verzerrt Grafik\n",
    "plot_time = pd.melt(res, id_vars=['Classifier'], value_vars=['Runtime Training', 'Runtime Training without Outliers','Runtime Training PCA Features','Runtime Training KBest Features'])"
   ]
  },
  {
   "cell_type": "code",
   "execution_count": 131,
   "metadata": {
    "colab": {
     "base_uri": "https://localhost:8080/",
     "height": 793
    },
    "colab_type": "code",
    "id": "ehHK0Adz36As",
    "outputId": "f4190f23-cb94-449d-895d-52ba3e2d654e"
   },
   "outputs": [
    {
     "data": {
      "text/html": [
       "<div>\n",
       "<style scoped>\n",
       "    .dataframe tbody tr th:only-of-type {\n",
       "        vertical-align: middle;\n",
       "    }\n",
       "\n",
       "    .dataframe tbody tr th {\n",
       "        vertical-align: top;\n",
       "    }\n",
       "\n",
       "    .dataframe thead th {\n",
       "        text-align: right;\n",
       "    }\n",
       "</style>\n",
       "<table border=\"1\" class=\"dataframe\">\n",
       "  <thead>\n",
       "    <tr style=\"text-align: right;\">\n",
       "      <th></th>\n",
       "      <th>Classifier</th>\n",
       "      <th>variable</th>\n",
       "      <th>value</th>\n",
       "      <th>second</th>\n",
       "    </tr>\n",
       "  </thead>\n",
       "  <tbody>\n",
       "    <tr>\n",
       "      <th>0</th>\n",
       "      <td>1-NN</td>\n",
       "      <td>Runtime Training</td>\n",
       "      <td>00:00:00.053410</td>\n",
       "      <td>0.053410</td>\n",
       "    </tr>\n",
       "    <tr>\n",
       "      <th>1</th>\n",
       "      <td>K-NN</td>\n",
       "      <td>Runtime Training</td>\n",
       "      <td>00:00:00.056642</td>\n",
       "      <td>0.056642</td>\n",
       "    </tr>\n",
       "    <tr>\n",
       "      <th>2</th>\n",
       "      <td>Bayes</td>\n",
       "      <td>Runtime Training</td>\n",
       "      <td>00:00:00.033778</td>\n",
       "      <td>0.033778</td>\n",
       "    </tr>\n",
       "    <tr>\n",
       "      <th>3</th>\n",
       "      <td>Decision Tree</td>\n",
       "      <td>Runtime Training</td>\n",
       "      <td>00:00:02.125919</td>\n",
       "      <td>2.125919</td>\n",
       "    </tr>\n",
       "    <tr>\n",
       "      <th>4</th>\n",
       "      <td>Random Forrest</td>\n",
       "      <td>Runtime Training</td>\n",
       "      <td>00:00:07.801740</td>\n",
       "      <td>7.801740</td>\n",
       "    </tr>\n",
       "    <tr>\n",
       "      <th>5</th>\n",
       "      <td>SVM</td>\n",
       "      <td>Runtime Training</td>\n",
       "      <td>00:00:07.757429</td>\n",
       "      <td>7.757429</td>\n",
       "    </tr>\n",
       "    <tr>\n",
       "      <th>6</th>\n",
       "      <td>1-NN</td>\n",
       "      <td>Runtime Training without Outliers</td>\n",
       "      <td>00:00:00.046426</td>\n",
       "      <td>0.046426</td>\n",
       "    </tr>\n",
       "    <tr>\n",
       "      <th>7</th>\n",
       "      <td>K-NN</td>\n",
       "      <td>Runtime Training without Outliers</td>\n",
       "      <td>00:00:00.043800</td>\n",
       "      <td>0.043800</td>\n",
       "    </tr>\n",
       "    <tr>\n",
       "      <th>8</th>\n",
       "      <td>Bayes</td>\n",
       "      <td>Runtime Training without Outliers</td>\n",
       "      <td>00:00:00.020578</td>\n",
       "      <td>0.020578</td>\n",
       "    </tr>\n",
       "    <tr>\n",
       "      <th>9</th>\n",
       "      <td>Decision Tree</td>\n",
       "      <td>Runtime Training without Outliers</td>\n",
       "      <td>00:00:01.947541</td>\n",
       "      <td>1.947541</td>\n",
       "    </tr>\n",
       "    <tr>\n",
       "      <th>10</th>\n",
       "      <td>Random Forrest</td>\n",
       "      <td>Runtime Training without Outliers</td>\n",
       "      <td>00:00:08.708004</td>\n",
       "      <td>8.708004</td>\n",
       "    </tr>\n",
       "    <tr>\n",
       "      <th>11</th>\n",
       "      <td>SVM</td>\n",
       "      <td>Runtime Training without Outliers</td>\n",
       "      <td>00:00:05.046071</td>\n",
       "      <td>5.046071</td>\n",
       "    </tr>\n",
       "    <tr>\n",
       "      <th>12</th>\n",
       "      <td>1-NN</td>\n",
       "      <td>Runtime Training PCA Features</td>\n",
       "      <td>00:00:00.025105</td>\n",
       "      <td>0.025105</td>\n",
       "    </tr>\n",
       "    <tr>\n",
       "      <th>13</th>\n",
       "      <td>K-NN</td>\n",
       "      <td>Runtime Training PCA Features</td>\n",
       "      <td>00:00:00.020597</td>\n",
       "      <td>0.020597</td>\n",
       "    </tr>\n",
       "    <tr>\n",
       "      <th>14</th>\n",
       "      <td>Bayes</td>\n",
       "      <td>Runtime Training PCA Features</td>\n",
       "      <td>00:00:00.016644</td>\n",
       "      <td>0.016644</td>\n",
       "    </tr>\n",
       "    <tr>\n",
       "      <th>15</th>\n",
       "      <td>Decision Tree</td>\n",
       "      <td>Runtime Training PCA Features</td>\n",
       "      <td>00:00:00.914355</td>\n",
       "      <td>0.914355</td>\n",
       "    </tr>\n",
       "    <tr>\n",
       "      <th>16</th>\n",
       "      <td>Random Forrest</td>\n",
       "      <td>Runtime Training PCA Features</td>\n",
       "      <td>00:00:07.547263</td>\n",
       "      <td>7.547263</td>\n",
       "    </tr>\n",
       "    <tr>\n",
       "      <th>17</th>\n",
       "      <td>SVM</td>\n",
       "      <td>Runtime Training PCA Features</td>\n",
       "      <td>00:00:04.121934</td>\n",
       "      <td>4.121934</td>\n",
       "    </tr>\n",
       "    <tr>\n",
       "      <th>18</th>\n",
       "      <td>1-NN</td>\n",
       "      <td>Runtime Training KBest Features</td>\n",
       "      <td>00:00:00.035764</td>\n",
       "      <td>0.035764</td>\n",
       "    </tr>\n",
       "    <tr>\n",
       "      <th>19</th>\n",
       "      <td>K-NN</td>\n",
       "      <td>Runtime Training KBest Features</td>\n",
       "      <td>00:00:00.033750</td>\n",
       "      <td>0.033750</td>\n",
       "    </tr>\n",
       "    <tr>\n",
       "      <th>20</th>\n",
       "      <td>Bayes</td>\n",
       "      <td>Runtime Training KBest Features</td>\n",
       "      <td>00:00:00.018869</td>\n",
       "      <td>0.018869</td>\n",
       "    </tr>\n",
       "    <tr>\n",
       "      <th>21</th>\n",
       "      <td>Decision Tree</td>\n",
       "      <td>Runtime Training KBest Features</td>\n",
       "      <td>00:00:00.964574</td>\n",
       "      <td>0.964574</td>\n",
       "    </tr>\n",
       "    <tr>\n",
       "      <th>22</th>\n",
       "      <td>Random Forrest</td>\n",
       "      <td>Runtime Training KBest Features</td>\n",
       "      <td>00:00:06.574279</td>\n",
       "      <td>6.574279</td>\n",
       "    </tr>\n",
       "    <tr>\n",
       "      <th>23</th>\n",
       "      <td>SVM</td>\n",
       "      <td>Runtime Training KBest Features</td>\n",
       "      <td>00:00:05.749654</td>\n",
       "      <td>5.749654</td>\n",
       "    </tr>\n",
       "  </tbody>\n",
       "</table>\n",
       "</div>"
      ],
      "text/plain": [
       "        Classifier                           variable           value    second\n",
       "0             1-NN                   Runtime Training 00:00:00.053410  0.053410\n",
       "1             K-NN                   Runtime Training 00:00:00.056642  0.056642\n",
       "2            Bayes                   Runtime Training 00:00:00.033778  0.033778\n",
       "3    Decision Tree                   Runtime Training 00:00:02.125919  2.125919\n",
       "4   Random Forrest                   Runtime Training 00:00:07.801740  7.801740\n",
       "5              SVM                   Runtime Training 00:00:07.757429  7.757429\n",
       "6             1-NN  Runtime Training without Outliers 00:00:00.046426  0.046426\n",
       "7             K-NN  Runtime Training without Outliers 00:00:00.043800  0.043800\n",
       "8            Bayes  Runtime Training without Outliers 00:00:00.020578  0.020578\n",
       "9    Decision Tree  Runtime Training without Outliers 00:00:01.947541  1.947541\n",
       "10  Random Forrest  Runtime Training without Outliers 00:00:08.708004  8.708004\n",
       "11             SVM  Runtime Training without Outliers 00:00:05.046071  5.046071\n",
       "12            1-NN      Runtime Training PCA Features 00:00:00.025105  0.025105\n",
       "13            K-NN      Runtime Training PCA Features 00:00:00.020597  0.020597\n",
       "14           Bayes      Runtime Training PCA Features 00:00:00.016644  0.016644\n",
       "15   Decision Tree      Runtime Training PCA Features 00:00:00.914355  0.914355\n",
       "16  Random Forrest      Runtime Training PCA Features 00:00:07.547263  7.547263\n",
       "17             SVM      Runtime Training PCA Features 00:00:04.121934  4.121934\n",
       "18            1-NN    Runtime Training KBest Features 00:00:00.035764  0.035764\n",
       "19            K-NN    Runtime Training KBest Features 00:00:00.033750  0.033750\n",
       "20           Bayes    Runtime Training KBest Features 00:00:00.018869  0.018869\n",
       "21   Decision Tree    Runtime Training KBest Features 00:00:00.964574  0.964574\n",
       "22  Random Forrest    Runtime Training KBest Features 00:00:06.574279  6.574279\n",
       "23             SVM    Runtime Training KBest Features 00:00:05.749654  5.749654"
      ]
     },
     "execution_count": 131,
     "metadata": {
      "tags": []
     },
     "output_type": "execute_result"
    }
   ],
   "source": [
    "plot_time['second'] = plot_time['value'].dt.total_seconds() #wandle Timedelta in Sekunden um\n",
    "plot_time"
   ]
  },
  {
   "cell_type": "code",
   "execution_count": 132,
   "metadata": {
    "colab": {
     "base_uri": "https://localhost:8080/",
     "height": 513
    },
    "colab_type": "code",
    "id": "uc6mb_9u36Aw",
    "outputId": "2318272f-75b6-4c1c-df06-bbada94a4a76"
   },
   "outputs": [
    {
     "data": {
      "image/png": "[encoded data removed]",
      "text/plain": [
       "<Figure size 1080x576 with 1 Axes>"
      ]
     },
     "metadata": {
      "tags": []
     },
     "output_type": "display_data"
    }
   ],
   "source": [
    "#Visualisiere Laufzeiten in einem Bar-Plot\n",
    "# ANN wurde nicht mit aufgenommen, da deutlich länger als die anderen. Würde die Graphik verzerren.\n",
    "plt.figure(figsize=(15,8))\n",
    "sns.barplot(x=plot_time['Classifier'],y=plot_time['second'],hue=plot_time['variable'],palette='Blues')\n",
    "plt.legend(loc='upper left')\n",
    "plt.title('Train Time over all Classifiers')\n",
    "plt.savefig('time_bar_plot_all.png')"
   ]
  },
  {
   "cell_type": "code",
   "execution_count": 0,
   "metadata": {
    "colab": {},
    "colab_type": "code",
    "id": "fgN0alUo36Ay"
   },
   "outputs": [],
   "source": [
    "#Funktion um Transposed Confusion matrices in ein csv zu laden. Für ML-ModelExplorer\n",
    "def writeToCSV(filename, confMatrices, in_labels_crisp, transposed = False):\n",
    "    \n",
    "    labels = np.unique(in_labels_crisp)\n",
    "    header = ','.join(map(str, labels))\n",
    "\n",
    "    cm_first = confMatrices[0]\n",
    "    print(cm_first.shape)\n",
    "\n",
    "    if(transposed):\n",
    "        cm_first = cm_first.T\n",
    "    \n",
    "    cm_all = cm_first\n",
    "    \n",
    "    for i in range(1,len(confMatrices)):\n",
    "        cm = confMatrices[i]\n",
    "        \n",
    "        if(transposed):\n",
    "            cm = cm.T\n",
    "    \n",
    "        print(cm.shape)\n",
    "        print(cm_all.shape)\n",
    "\n",
    "        cm_all = np.append(cm_all, cm, axis=0)\n",
    "    \n",
    "    cm_orientation = \"\"\n",
    "    if(transposed):\n",
    "        cm_orientation = \"_labels_in_columns\" \n",
    "    else:\n",
    "        cm_orientation = \"_labels_in_rows\"\n",
    "    \n",
    "    createdFilename = filename + cm_orientation + \".csv\"\n",
    "    np.savetxt(createdFilename, cm_all, header = header, comments = \"\", delimiter=\",\", fmt=\"%d\")"
   ]
  },
  {
   "cell_type": "code",
   "execution_count": 153,
   "metadata": {
    "colab": {
     "base_uri": "https://localhost:8080/",
     "height": 204
    },
    "colab_type": "code",
    "id": "1R7rjDuQ36Az",
    "outputId": "302fa5dd-1504-4ba8-c09e-71d58fd85df5"
   },
   "outputs": [
    {
     "name": "stdout",
     "output_type": "stream",
     "text": [
      "(11, 11)\n",
      "(11, 11)\n",
      "(11, 11)\n",
      "(11, 11)\n",
      "(22, 11)\n",
      "(11, 11)\n",
      "(33, 11)\n",
      "(11, 11)\n",
      "(44, 11)\n",
      "(11, 11)\n",
      "(55, 11)\n"
     ]
    }
   ],
   "source": [
    "#Hier werden nur die Chi CMs verwendet, damit alles überschaubar bleibt.\n",
    "#Diese werden transposed in ein csv geladen.\n",
    "confusion_matrix_list = [cm_onn_chi,cm_knn_chi,cm_gnb_chi,cm_dt_chi,cm_rf_chi,cm_svm_chi]\n",
    "writeToCSV(filename='chi_cm',confMatrices=confusion_matrix_list,in_labels_crisp=[1,2,3,4,5,6,7,8,9,10,11],transposed=True)"
   ]
  },
  {
   "cell_type": "markdown",
   "metadata": {
    "colab_type": "text",
    "id": "ChHAuz9sSdPS"
   },
   "source": [
    "**Ausblick: Betrachtung von Klassifikatoren im Ensemble**\n",
    "Man sollte einzelne Klassifikatoren nicht nur einzeln betrachten.\n",
    "Eine Möglichkeit wäre verschiedene Klassifikatoren, die für die Fehlerklassen unterschiedlich gut performen. Anbei ein Bespiel bezüglich der KNN und Random Forest Klassifikatoren mit den KBest Features. \n",
    "\n",
    "\n",
    "![image.png](data:image/png;base64,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)\n",
    "\n"
   ]
  },
  {
   "cell_type": "code",
   "execution_count": 0,
   "metadata": {
    "colab": {},
    "colab_type": "code",
    "id": "sHkusjZG36A2"
   },
   "outputs": [],
   "source": [
    "from sklearn.ensemble import VotingClassifier\n",
    "\n",
    "estimators=[('knn', knn_chi), ('rf', rf_chi)]\n",
    "#create our voting classifier, inputting our models\n",
    "ensemble = VotingClassifier(estimators, voting='soft')\n",
    "\n",
    "#fit model to training data\n",
    "ensemble.fit(df_data_train_norm_chi, df_labels_train_chi)\n",
    "#test our model on the test data\n",
    "ens_score = ensemble.score(df_data_test_norm_chi, df_labels_test_chi)"
   ]
  },
  {
   "cell_type": "code",
   "execution_count": 136,
   "metadata": {
    "colab": {
     "base_uri": "https://localhost:8080/",
     "height": 85
    },
    "colab_type": "code",
    "id": "HBdnCsvWQuS_",
    "outputId": "1aa77e10-2461-4897-fb3f-bbf0269a9b32"
   },
   "outputs": [
    {
     "name": "stdout",
     "output_type": "stream",
     "text": [
      "Test Score of KNN Classifier: 0.9976178146038323\n",
      "Test Score of RF Classifier: 0.9967892283790782\n",
      "-----------\n",
      "Test Score of KNN and RF Ensemble: 0.998342827550492\n"
     ]
    }
   ],
   "source": [
    "print('Test Score of KNN Classifier:', res_list_knn_chi[-1])\n",
    "print('Test Score of RF Classifier:', res_list_rf_chi[-1])\n",
    "print('-----------')\n",
    "print('Test Score of KNN and RF Ensemble:', ens_score)"
   ]
  },
  {
   "cell_type": "markdown",
   "metadata": {
    "colab_type": "text",
    "id": "3QovBtX0tTWo"
   },
   "source": [
    "### Abschließende Validierung einem Blind Test Set\n",
    "\n",
    "Die Daten in diesem Testset sind völlig unbekannt und wurden weder in Training, noch in der Evaluierungsphase verwendet.\n",
    "Hiermit ist eine abschließende Validierung der Modelle notwendig.\n",
    "\n",
    "Da nicht immer alle Klassifikatoren verwendet werden können, wird das Augenmerk auf dem Random Forest Klassifikator liegen,\n",
    "da diese Arbeit gezeigt hat, dass es sich für diesen Anwendugsfall um einen geeigneten ML Algorithmus hinsichtlich Interpretierbarkeit, Schnelligkeit und Genauigkeit handelt.\n"
   ]
  },
  {
   "cell_type": "code",
   "execution_count": 137,
   "metadata": {
    "colab": {
     "base_uri": "https://localhost:8080/",
     "height": 224
    },
    "colab_type": "code",
    "id": "_Oy2byD0tU4O",
    "outputId": "ab89d196-5498-4f68-9006-57e54c307f70"
   },
   "outputs": [
    {
     "data": {
      "text/html": [
       "<div>\n",
       "<style scoped>\n",
       "    .dataframe tbody tr th:only-of-type {\n",
       "        vertical-align: middle;\n",
       "    }\n",
       "\n",
       "    .dataframe tbody tr th {\n",
       "        vertical-align: top;\n",
       "    }\n",
       "\n",
       "    .dataframe thead th {\n",
       "        text-align: right;\n",
       "    }\n",
       "</style>\n",
       "<table border=\"1\" class=\"dataframe\">\n",
       "  <thead>\n",
       "    <tr style=\"text-align: right;\">\n",
       "      <th></th>\n",
       "      <th>V1</th>\n",
       "      <th>V2</th>\n",
       "      <th>V3</th>\n",
       "      <th>V4</th>\n",
       "      <th>V5</th>\n",
       "      <th>V6</th>\n",
       "      <th>V7</th>\n",
       "      <th>V8</th>\n",
       "      <th>V9</th>\n",
       "      <th>V10</th>\n",
       "      <th>V11</th>\n",
       "      <th>V12</th>\n",
       "      <th>V13</th>\n",
       "      <th>V14</th>\n",
       "      <th>V15</th>\n",
       "      <th>V16</th>\n",
       "      <th>V17</th>\n",
       "      <th>V18</th>\n",
       "      <th>V19</th>\n",
       "      <th>V20</th>\n",
       "      <th>V21</th>\n",
       "      <th>V22</th>\n",
       "      <th>V23</th>\n",
       "      <th>V24</th>\n",
       "      <th>V25</th>\n",
       "      <th>V26</th>\n",
       "      <th>V27</th>\n",
       "      <th>V28</th>\n",
       "      <th>V29</th>\n",
       "      <th>V30</th>\n",
       "      <th>V31</th>\n",
       "      <th>V32</th>\n",
       "      <th>V33</th>\n",
       "      <th>V34</th>\n",
       "      <th>V35</th>\n",
       "      <th>V36</th>\n",
       "      <th>V37</th>\n",
       "      <th>V38</th>\n",
       "      <th>V39</th>\n",
       "      <th>V40</th>\n",
       "      <th>V41</th>\n",
       "      <th>V42</th>\n",
       "      <th>V43</th>\n",
       "      <th>V44</th>\n",
       "      <th>V45</th>\n",
       "      <th>V46</th>\n",
       "      <th>V47</th>\n",
       "      <th>V48</th>\n",
       "    </tr>\n",
       "  </thead>\n",
       "  <tbody>\n",
       "    <tr>\n",
       "      <th>0</th>\n",
       "      <td>0.596555</td>\n",
       "      <td>0.545580</td>\n",
       "      <td>0.644594</td>\n",
       "      <td>0.897992</td>\n",
       "      <td>0.910292</td>\n",
       "      <td>0.780635</td>\n",
       "      <td>0.770564</td>\n",
       "      <td>0.770443</td>\n",
       "      <td>0.770561</td>\n",
       "      <td>0.700778</td>\n",
       "      <td>0.693698</td>\n",
       "      <td>0.698672</td>\n",
       "      <td>0.000908</td>\n",
       "      <td>0.004276</td>\n",
       "      <td>0.015185</td>\n",
       "      <td>0.000743</td>\n",
       "      <td>0.001364</td>\n",
       "      <td>0.002336</td>\n",
       "      <td>0.668044</td>\n",
       "      <td>0.668087</td>\n",
       "      <td>0.668549</td>\n",
       "      <td>0.666720</td>\n",
       "      <td>0.666807</td>\n",
       "      <td>0.667214</td>\n",
       "      <td>0.358303</td>\n",
       "      <td>0.528819</td>\n",
       "      <td>0.580782</td>\n",
       "      <td>0.393953</td>\n",
       "      <td>0.526221</td>\n",
       "      <td>0.560762</td>\n",
       "      <td>0.391227</td>\n",
       "      <td>0.398235</td>\n",
       "      <td>0.402070</td>\n",
       "      <td>0.294882</td>\n",
       "      <td>0.312715</td>\n",
       "      <td>0.306997</td>\n",
       "      <td>0.000215</td>\n",
       "      <td>0.182351</td>\n",
       "      <td>0.137755</td>\n",
       "      <td>0.000128</td>\n",
       "      <td>0.037935</td>\n",
       "      <td>0.045566</td>\n",
       "      <td>0.397644</td>\n",
       "      <td>0.395150</td>\n",
       "      <td>0.369501</td>\n",
       "      <td>0.301408</td>\n",
       "      <td>0.313869</td>\n",
       "      <td>0.290055</td>\n",
       "    </tr>\n",
       "    <tr>\n",
       "      <th>1</th>\n",
       "      <td>0.594448</td>\n",
       "      <td>0.540655</td>\n",
       "      <td>0.624649</td>\n",
       "      <td>0.897182</td>\n",
       "      <td>0.904911</td>\n",
       "      <td>0.774430</td>\n",
       "      <td>0.695995</td>\n",
       "      <td>0.696091</td>\n",
       "      <td>0.697172</td>\n",
       "      <td>0.500235</td>\n",
       "      <td>0.495280</td>\n",
       "      <td>0.499047</td>\n",
       "      <td>0.022750</td>\n",
       "      <td>0.023200</td>\n",
       "      <td>0.083910</td>\n",
       "      <td>0.015172</td>\n",
       "      <td>0.017316</td>\n",
       "      <td>0.057183</td>\n",
       "      <td>0.443909</td>\n",
       "      <td>0.443937</td>\n",
       "      <td>0.443669</td>\n",
       "      <td>0.447100</td>\n",
       "      <td>0.447096</td>\n",
       "      <td>0.446780</td>\n",
       "      <td>0.358770</td>\n",
       "      <td>0.479431</td>\n",
       "      <td>0.484719</td>\n",
       "      <td>0.394668</td>\n",
       "      <td>0.541670</td>\n",
       "      <td>0.519061</td>\n",
       "      <td>0.373451</td>\n",
       "      <td>0.381305</td>\n",
       "      <td>0.386396</td>\n",
       "      <td>0.248550</td>\n",
       "      <td>0.266618</td>\n",
       "      <td>0.259403</td>\n",
       "      <td>0.000132</td>\n",
       "      <td>0.004095</td>\n",
       "      <td>0.005208</td>\n",
       "      <td>0.000068</td>\n",
       "      <td>0.015568</td>\n",
       "      <td>0.098015</td>\n",
       "      <td>0.269514</td>\n",
       "      <td>0.272468</td>\n",
       "      <td>0.243402</td>\n",
       "      <td>0.288732</td>\n",
       "      <td>0.300730</td>\n",
       "      <td>0.277624</td>\n",
       "    </tr>\n",
       "    <tr>\n",
       "      <th>2</th>\n",
       "      <td>0.596317</td>\n",
       "      <td>0.539017</td>\n",
       "      <td>0.642806</td>\n",
       "      <td>0.897748</td>\n",
       "      <td>0.902964</td>\n",
       "      <td>0.779303</td>\n",
       "      <td>0.746195</td>\n",
       "      <td>0.746392</td>\n",
       "      <td>0.746601</td>\n",
       "      <td>0.577017</td>\n",
       "      <td>0.571342</td>\n",
       "      <td>0.575491</td>\n",
       "      <td>0.021219</td>\n",
       "      <td>0.023229</td>\n",
       "      <td>0.049782</td>\n",
       "      <td>0.013999</td>\n",
       "      <td>0.019331</td>\n",
       "      <td>0.033515</td>\n",
       "      <td>0.355421</td>\n",
       "      <td>0.355444</td>\n",
       "      <td>0.355430</td>\n",
       "      <td>0.358768</td>\n",
       "      <td>0.358754</td>\n",
       "      <td>0.358695</td>\n",
       "      <td>0.358629</td>\n",
       "      <td>0.480097</td>\n",
       "      <td>0.523069</td>\n",
       "      <td>0.395365</td>\n",
       "      <td>0.521555</td>\n",
       "      <td>0.546683</td>\n",
       "      <td>0.430554</td>\n",
       "      <td>0.437915</td>\n",
       "      <td>0.441966</td>\n",
       "      <td>0.277480</td>\n",
       "      <td>0.295817</td>\n",
       "      <td>0.290252</td>\n",
       "      <td>0.000141</td>\n",
       "      <td>0.005972</td>\n",
       "      <td>0.022539</td>\n",
       "      <td>0.000060</td>\n",
       "      <td>0.036624</td>\n",
       "      <td>0.023458</td>\n",
       "      <td>0.319588</td>\n",
       "      <td>0.320970</td>\n",
       "      <td>0.293255</td>\n",
       "      <td>0.373239</td>\n",
       "      <td>0.388321</td>\n",
       "      <td>0.357735</td>\n",
       "    </tr>\n",
       "    <tr>\n",
       "      <th>3</th>\n",
       "      <td>0.596267</td>\n",
       "      <td>0.545528</td>\n",
       "      <td>0.656096</td>\n",
       "      <td>0.898326</td>\n",
       "      <td>0.912340</td>\n",
       "      <td>0.749006</td>\n",
       "      <td>0.495102</td>\n",
       "      <td>0.494884</td>\n",
       "      <td>0.494534</td>\n",
       "      <td>0.541364</td>\n",
       "      <td>0.535821</td>\n",
       "      <td>0.540704</td>\n",
       "      <td>0.022286</td>\n",
       "      <td>0.021361</td>\n",
       "      <td>0.088232</td>\n",
       "      <td>0.013521</td>\n",
       "      <td>0.017897</td>\n",
       "      <td>0.057943</td>\n",
       "      <td>0.394468</td>\n",
       "      <td>0.394429</td>\n",
       "      <td>0.394316</td>\n",
       "      <td>0.396697</td>\n",
       "      <td>0.396751</td>\n",
       "      <td>0.396273</td>\n",
       "      <td>0.357874</td>\n",
       "      <td>0.482665</td>\n",
       "      <td>0.471828</td>\n",
       "      <td>0.393557</td>\n",
       "      <td>0.535130</td>\n",
       "      <td>0.493628</td>\n",
       "      <td>0.301179</td>\n",
       "      <td>0.309441</td>\n",
       "      <td>0.312458</td>\n",
       "      <td>0.303458</td>\n",
       "      <td>0.321160</td>\n",
       "      <td>0.317095</td>\n",
       "      <td>0.000139</td>\n",
       "      <td>0.000881</td>\n",
       "      <td>0.019250</td>\n",
       "      <td>0.000068</td>\n",
       "      <td>0.011273</td>\n",
       "      <td>0.050699</td>\n",
       "      <td>0.321060</td>\n",
       "      <td>0.320970</td>\n",
       "      <td>0.297654</td>\n",
       "      <td>0.414085</td>\n",
       "      <td>0.430657</td>\n",
       "      <td>0.407459</td>\n",
       "    </tr>\n",
       "    <tr>\n",
       "      <th>4</th>\n",
       "      <td>0.595894</td>\n",
       "      <td>0.542316</td>\n",
       "      <td>0.639160</td>\n",
       "      <td>0.898075</td>\n",
       "      <td>0.910140</td>\n",
       "      <td>0.782203</td>\n",
       "      <td>0.242813</td>\n",
       "      <td>0.242667</td>\n",
       "      <td>0.243184</td>\n",
       "      <td>0.040393</td>\n",
       "      <td>0.039887</td>\n",
       "      <td>0.040171</td>\n",
       "      <td>0.007585</td>\n",
       "      <td>0.011184</td>\n",
       "      <td>0.036751</td>\n",
       "      <td>0.004398</td>\n",
       "      <td>0.006421</td>\n",
       "      <td>0.027723</td>\n",
       "      <td>0.554075</td>\n",
       "      <td>0.554047</td>\n",
       "      <td>0.554301</td>\n",
       "      <td>0.557069</td>\n",
       "      <td>0.557142</td>\n",
       "      <td>0.557347</td>\n",
       "      <td>0.358384</td>\n",
       "      <td>0.458521</td>\n",
       "      <td>0.500325</td>\n",
       "      <td>0.394131</td>\n",
       "      <td>0.519319</td>\n",
       "      <td>0.558001</td>\n",
       "      <td>0.277448</td>\n",
       "      <td>0.286220</td>\n",
       "      <td>0.291315</td>\n",
       "      <td>0.249340</td>\n",
       "      <td>0.267321</td>\n",
       "      <td>0.261475</td>\n",
       "      <td>0.000063</td>\n",
       "      <td>0.044437</td>\n",
       "      <td>0.051628</td>\n",
       "      <td>0.000055</td>\n",
       "      <td>0.016125</td>\n",
       "      <td>0.096385</td>\n",
       "      <td>0.372607</td>\n",
       "      <td>0.370899</td>\n",
       "      <td>0.343109</td>\n",
       "      <td>0.315493</td>\n",
       "      <td>0.328467</td>\n",
       "      <td>0.305249</td>\n",
       "    </tr>\n",
       "  </tbody>\n",
       "</table>\n",
       "</div>"
      ],
      "text/plain": [
       "         V1        V2        V3  ...       V46       V47       V48\n",
       "0  0.596555  0.545580  0.644594  ...  0.301408  0.313869  0.290055\n",
       "1  0.594448  0.540655  0.624649  ...  0.288732  0.300730  0.277624\n",
       "2  0.596317  0.539017  0.642806  ...  0.373239  0.388321  0.357735\n",
       "3  0.596267  0.545528  0.656096  ...  0.414085  0.430657  0.407459\n",
       "4  0.595894  0.542316  0.639160  ...  0.315493  0.328467  0.305249\n",
       "\n",
       "[5 rows x 48 columns]"
      ]
     },
     "execution_count": 137,
     "metadata": {
      "tags": []
     },
     "output_type": "execute_result"
    }
   ],
   "source": [
    "#Einlesen des blind test sets.\n",
    "blind_test_set = pd.read_csv('dc_motor_test_set.csv')\n",
    "\n",
    "#Aufteilung der Daten in Features und Klassenlabel\n",
    "blind_test_labels = blind_test_set.pop('class')\n",
    "\n",
    "#Wie die anderen Datensätze auch, muss der Blind Test Datensastz ebenfalls normalisiert werden. \n",
    "#Verwendet werden die gleichen Parameter.\n",
    "\n",
    "blind_test_set_norm = pd.DataFrame(scaler.transform(blind_test_set),columns=blind_test_set.columns,index=blind_test_labels.index)\n",
    "\n",
    "blind_test_set_norm.head()"
   ]
  },
  {
   "cell_type": "code",
   "execution_count": 138,
   "metadata": {
    "colab": {
     "base_uri": "https://localhost:8080/",
     "height": 34
    },
    "colab_type": "code",
    "id": "CL4wYt9W4xIU",
    "outputId": "17c27299-19a6-4a1e-d4e0-98d6f17d37e5"
   },
   "outputs": [
    {
     "data": {
      "text/plain": [
       "array([ 4,  9,  5, 10, 11,  1,  6,  7,  8,  2,  3])"
      ]
     },
     "execution_count": 138,
     "metadata": {
      "tags": []
     },
     "output_type": "execute_result"
    }
   ],
   "source": [
    "#Check ob auch die gleichen Klassen darin enthalten sind.\n",
    "blind_test_labels.unique()"
   ]
  },
  {
   "cell_type": "code",
   "execution_count": 139,
   "metadata": {
    "colab": {
     "base_uri": "https://localhost:8080/",
     "height": 493
    },
    "colab_type": "code",
    "id": "Ce9LADymt98g",
    "outputId": "0eb8afb7-8293-450a-abdc-de4d366332a0"
   },
   "outputs": [
    {
     "name": "stdout",
     "output_type": "stream",
     "text": [
      "             0         1         2   ...        10        11        12\n",
      "0     -0.344221 -0.302036  0.005804  ...  0.015973 -0.083531  0.122085\n",
      "1      0.168432  0.051185  0.160687  ...  0.023446 -0.001376 -0.027990\n",
      "2      0.395753 -0.099880  0.139324  ...  0.008550 -0.012667 -0.019933\n",
      "3      0.292819  0.256800 -0.140348  ... -0.013801  0.011697 -0.030435\n",
      "4     -0.135780  1.157349  0.168815  ...  0.058450 -0.035192  0.004048\n",
      "...         ...       ...       ...  ...       ...       ...       ...\n",
      "29249  1.135825 -0.015123  0.085590  ...  0.022514  0.011165 -0.018930\n",
      "29250 -0.123803 -0.604424 -0.024192  ...  0.010643 -0.016803 -0.059472\n",
      "29251 -0.357486  0.126260  0.199389  ... -0.040258 -0.008895  0.194073\n",
      "29252  0.484146 -0.447871 -0.091971  ...  0.072667 -0.001156 -0.037393\n",
      "29253  0.337413 -0.144708  0.103789  ... -0.015457  0.006754 -0.030242\n",
      "\n",
      "[29254 rows x 13 columns]\n",
      "             V7        V8        V9  ...       V36       V43       V45\n",
      "0      0.770564  0.770443  0.770561  ...  0.306997  0.397644  0.369501\n",
      "1      0.695995  0.696091  0.697172  ...  0.259403  0.269514  0.243402\n",
      "2      0.746195  0.746392  0.746601  ...  0.290252  0.319588  0.293255\n",
      "3      0.495102  0.494884  0.494534  ...  0.317095  0.321060  0.297654\n",
      "4      0.242813  0.242667  0.243184  ...  0.261475  0.372607  0.343109\n",
      "...         ...       ...       ...  ...       ...       ...       ...\n",
      "29249  0.699193  0.699071  0.699079  ...  0.299368  0.462445  0.434018\n",
      "29250  0.885335  0.885028  0.885737  ...  0.307992  0.316642  0.291789\n",
      "29251  0.669731  0.669642  0.669787  ...  0.307097  0.397644  0.369501\n",
      "29252  0.818820  0.818586  0.819534  ...  0.419335  0.341679  0.310850\n",
      "29253  0.763775  0.763893  0.765308  ...  0.337573  0.275405  0.252199\n",
      "\n",
      "[29254 rows x 20 columns]\n"
     ]
    }
   ],
   "source": [
    "#Umwandlung des blind test sets bezüglich PCA und Chi², damit die Modelle getestet werden können.\n",
    "#Für den Test ohne Outlier, ist keine Umwandlung nötig, da dort nur Feature Vektoren für die Modellbildung entfernt wurden.\n",
    "\n",
    "#1. PCA Transformation auf normalisierten Datensatz\n",
    "blind_test_set_norm_pca = pd.DataFrame(pca99.transform(blind_test_set_norm),index=blind_test_labels.index)\n",
    "print(blind_test_set_norm_pca)\n",
    "\n",
    "#2. Chi² Tranformationa auf normalisierten Datensatz\n",
    "blind_test_set_norm_chi = blind_test_set_norm[selected_features]\n",
    "print(blind_test_set_norm_chi)"
   ]
  },
  {
   "cell_type": "code",
   "execution_count": 140,
   "metadata": {
    "colab": {
     "base_uri": "https://localhost:8080/",
     "height": 85
    },
    "colab_type": "code",
    "id": "twV3iX9kuVGe",
    "outputId": "e4223597-88cc-4386-f1c3-c54637060bdc"
   },
   "outputs": [
    {
     "name": "stdout",
     "output_type": "stream",
     "text": [
      "Blind Test Score for RF:  0.9761400150406782\n",
      "Blind Test Score for RF Z:  0.9732002461201887\n",
      "Blind Test Score for RF PCA:  0.6763861352293703\n",
      "Blind Test Score for RF Chi²:  0.9683462090654269\n"
     ]
    }
   ],
   "source": [
    "#Berechne den Score für diesen blind test Datensatz für die Random Forest Klassifikatoren\n",
    "#Dieser Klassifikator hat sich, auf Grund der Ergebnisse und der Vor- bzw. Nachteile als passender Klassikator für dieses Problem erwiesen.\n",
    "#Die Validierung auf dem Blind Test Set wird für alle vier Möglichkeiten durchgeführt.\n",
    "\n",
    "print('Blind Test Score for RF: ',rf.score(blind_test_set_norm,blind_test_labels))\n",
    "print('Blind Test Score for RF Z: ',rf_z.score(blind_test_set_norm,blind_test_labels))\n",
    "\n",
    "print('Blind Test Score for RF PCA: ',rf_pca.score(blind_test_set_norm_pca,blind_test_labels))\n",
    "print('Blind Test Score for RF Chi²: ',rf_chi.score(blind_test_set_norm_chi,blind_test_labels))"
   ]
  },
  {
   "cell_type": "code",
   "execution_count": 154,
   "metadata": {
    "colab": {
     "base_uri": "https://localhost:8080/",
     "height": 51
    },
    "colab_type": "code",
    "id": "xudL5qExs_fR",
    "outputId": "558fdfb9-3832-4158-ee75-343f06ecc23d"
   },
   "outputs": [
    {
     "name": "stdout",
     "output_type": "stream",
     "text": [
      "29254/29254 [==============================] - 2s 75us/sample - loss: 0.0211 - acc: 0.9960\n"
     ]
    },
    {
     "data": {
      "text/plain": [
       "[0.021084320465824247, 0.9959664]"
      ]
     },
     "execution_count": 154,
     "metadata": {
      "tags": []
     },
     "output_type": "execute_result"
    }
   ],
   "source": [
    "#Obwohl der Random Forest als bester Klassifikator ausgewählt wurde, wird das ANN noch validiert.\n",
    "#Trotz der langen Trainingslaufzeit ist es sinnvoll auch diesen zu betrachten. Wenn das Modell einmal trainiert wurde,\n",
    "#kann es auch Zeit unkritisch für neue Klassifikationen genutzt werden -- Hier für das Blind Test Set \n",
    "labels_onehot_blind = encoder(blind_test_labels)\n",
    "\n",
    "model.evaluate(x=blind_test_set_norm,y=labels_onehot_blind)"
   ]
  }
 ],
 "metadata": {
  "accelerator": "GPU",
  "colab": {
   "collapsed_sections": [],
   "name": "mldl_project_dc_motor.ipynb",
   "provenance": [],
   "toc_visible": true
  },
  "kernelspec": {
   "display_name": "Python 3",
   "language": "python",
   "name": "python3"
  },
  "language_info": {
   "codemirror_mode": {
    "name": "ipython",
    "version": 3
   },
   "file_extension": ".py",
   "mimetype": "text/x-python",
   "name": "python",
   "nbconvert_exporter": "python",
   "pygments_lexer": "ipython3",
   "version": "3.7.0"
  }
 },
 "nbformat": 4,
 "nbformat_minor": 1
}
